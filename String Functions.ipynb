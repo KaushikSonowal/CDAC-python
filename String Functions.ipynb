{
 "cells": [
  {
   "cell_type": "markdown",
   "id": "49ce26ae-7fb9-4667-bc99-93778df2aa46",
   "metadata": {},
   "source": [
    "## string functions\n",
    "### 5. lstrip()"
   ]
  },
  {
   "cell_type": "code",
   "execution_count": 1,
   "id": "ec472150-82b7-4ac3-a006-3211e125c568",
   "metadata": {},
   "outputs": [
    {
     "name": "stdout",
     "output_type": "stream",
     "text": [
      "       Param Supercomputer\n"
     ]
    }
   ],
   "source": [
    "string = '       Param Supercomputer'\n",
    "print(string)"
   ]
  },
  {
   "cell_type": "code",
   "execution_count": 2,
   "id": "1651a06d-02ae-4563-9833-3df82fc2aa71",
   "metadata": {},
   "outputs": [
    {
     "data": {
      "text/plain": [
       "'Param Supercomputer'"
      ]
     },
     "execution_count": 2,
     "metadata": {},
     "output_type": "execute_result"
    }
   ],
   "source": [
    "string1 = string.lstrip()\n",
    "string1"
   ]
  },
  {
   "cell_type": "code",
   "execution_count": 3,
   "id": "d54021e5-2976-4b28-b8d4-3d724d6615d0",
   "metadata": {},
   "outputs": [
    {
     "data": {
      "text/plain": [
       "'Param Supercomputer          '"
      ]
     },
     "execution_count": 3,
     "metadata": {},
     "output_type": "execute_result"
    }
   ],
   "source": [
    "string = '       Param Supercomputer          '\n",
    "string2 = string.lstrip()\n",
    "string2"
   ]
  },
  {
   "cell_type": "markdown",
   "id": "1207cb1b-364e-4881-a649-c6b7283080e3",
   "metadata": {},
   "source": [
    "### 6. rstrip()"
   ]
  },
  {
   "cell_type": "code",
   "execution_count": 4,
   "id": "5802e05f-b36c-4f07-9d21-db5ff5e4baae",
   "metadata": {},
   "outputs": [
    {
     "data": {
      "text/plain": [
       "'       Param Supercomputer'"
      ]
     },
     "execution_count": 4,
     "metadata": {},
     "output_type": "execute_result"
    }
   ],
   "source": [
    "string = '       Param Supercomputer          '\n",
    "string.rstrip()"
   ]
  },
  {
   "cell_type": "markdown",
   "id": "7ca9e114-710e-448b-9264-efbbc982c0ad",
   "metadata": {},
   "source": [
    "### 7. strip()"
   ]
  },
  {
   "cell_type": "code",
   "execution_count": 5,
   "id": "a572e971-421b-4c40-ad32-2e7e64efaed3",
   "metadata": {},
   "outputs": [
    {
     "data": {
      "text/plain": [
       "'Param Supercomputer'"
      ]
     },
     "execution_count": 5,
     "metadata": {},
     "output_type": "execute_result"
    }
   ],
   "source": [
    "string = '       Param Supercomputer          '\n",
    "string.strip()"
   ]
  },
  {
   "cell_type": "markdown",
   "id": "686b8b24-14bc-4168-b6fa-3c290f64aa46",
   "metadata": {},
   "source": [
    "### 8. swapcase()"
   ]
  },
  {
   "cell_type": "code",
   "execution_count": 6,
   "id": "7dd75026-6980-4141-8187-77a177e095e2",
   "metadata": {},
   "outputs": [
    {
     "data": {
      "text/plain": [
       "'tHIS iS mY cLASS'"
      ]
     },
     "execution_count": 6,
     "metadata": {},
     "output_type": "execute_result"
    }
   ],
   "source": [
    "'This Is My Class'.swapcase()"
   ]
  },
  {
   "cell_type": "code",
   "execution_count": 7,
   "id": "0900dd94-e102-4763-ae78-48938db7b711",
   "metadata": {},
   "outputs": [
    {
     "data": {
      "text/plain": [
       "'This Is My Class'"
      ]
     },
     "execution_count": 7,
     "metadata": {},
     "output_type": "execute_result"
    }
   ],
   "source": [
    "'this is my class'.title()"
   ]
  },
  {
   "cell_type": "code",
   "execution_count": 8,
   "id": "8391bae2-2896-4763-a58d-4c17080fd5fd",
   "metadata": {},
   "outputs": [
    {
     "data": {
      "text/plain": [
       "'tHIS iS mY cLASS'"
      ]
     },
     "execution_count": 8,
     "metadata": {},
     "output_type": "execute_result"
    }
   ],
   "source": [
    "'this is my class'.title().swapcase()"
   ]
  },
  {
   "cell_type": "code",
   "execution_count": 9,
   "id": "fe57fd37-e9b4-4a17-906a-fdb8b3704c61",
   "metadata": {},
   "outputs": [
    {
     "data": {
      "text/plain": [
       "'This Is My Class'"
      ]
     },
     "execution_count": 9,
     "metadata": {},
     "output_type": "execute_result"
    }
   ],
   "source": [
    "string = 'this is my class'\n",
    "string1 = string.title()\n",
    "string1"
   ]
  },
  {
   "cell_type": "code",
   "execution_count": 10,
   "id": "02f20cf0-0be4-48b0-8994-f1c2e65150b1",
   "metadata": {},
   "outputs": [
    {
     "data": {
      "text/plain": [
       "'tHIS iS mY cLASS'"
      ]
     },
     "execution_count": 10,
     "metadata": {},
     "output_type": "execute_result"
    }
   ],
   "source": [
    "string = 'this is my class'\n",
    "string1 = string.title()\n",
    "string2 = string1.swapcase()\n",
    "string2"
   ]
  },
  {
   "cell_type": "markdown",
   "id": "dfadb89d-c070-4aeb-b463-7fdfc81257ad",
   "metadata": {},
   "source": [
    "### 9. replace()"
   ]
  },
  {
   "cell_type": "code",
   "execution_count": 11,
   "id": "d258c3e1-30a5-46ee-b30f-ed3e4162a490",
   "metadata": {},
   "outputs": [],
   "source": [
    "s = 'PARAM is a series of Indian supercomputers designed and assembled by the Centre for Development of Advanced Computing (C-DAC) in Pune.'"
   ]
  },
  {
   "cell_type": "code",
   "execution_count": 12,
   "id": "5ed1331a-0182-4d20-8c00-2d82cb5f277b",
   "metadata": {},
   "outputs": [
    {
     "data": {
      "text/plain": [
       "'HPC_Course is a series of Indian supercomputers designed and assembled by the Centre for Development of Advanced Computing (C-DAC) in Pune.'"
      ]
     },
     "execution_count": 12,
     "metadata": {},
     "output_type": "execute_result"
    }
   ],
   "source": [
    "s.replace('PARAM', 'HPC_Course')"
   ]
  },
  {
   "cell_type": "code",
   "execution_count": 13,
   "id": "aa0725a1-cb57-4480-8b79-38a10ceec083",
   "metadata": {},
   "outputs": [
    {
     "data": {
      "text/plain": [
       "'PARAM is a series of Indian supercomputers designed and assembled by the Centre for Development of Advanced Computing (C-DAC) in Pune.'"
      ]
     },
     "execution_count": 13,
     "metadata": {},
     "output_type": "execute_result"
    }
   ],
   "source": [
    "s.replace('param', 'HPC_Course')"
   ]
  },
  {
   "cell_type": "markdown",
   "id": "5016f76c-5260-4b49-8194-3f3c16b0689b",
   "metadata": {},
   "source": [
    "### 10. count()"
   ]
  },
  {
   "cell_type": "code",
   "execution_count": 14,
   "id": "608d319e-1844-4230-9d23-13bfc5721a8e",
   "metadata": {},
   "outputs": [
    {
     "name": "stdout",
     "output_type": "stream",
     "text": [
      "C-DAC was created in November 1987, originally as the Centre for Development of Advanced Computing Technology (C-DACT). This was in response to issues purchasing supercomputers from foreign sources. The Indian Government decided to try and develop indigenous computing technology.\n"
     ]
    },
    {
     "data": {
      "text/plain": [
       "2"
      ]
     },
     "execution_count": 14,
     "metadata": {},
     "output_type": "execute_result"
    }
   ],
   "source": [
    "string = 'C-DAC was created in November 1987, originally as the Centre for Development of Advanced Computing Technology (C-DACT). This was in response to issues purchasing supercomputers from foreign sources. The Indian Government decided to try and develop indigenous computing technology.'\n",
    "print(string)\n",
    "string.count('is')"
   ]
  },
  {
   "cell_type": "code",
   "execution_count": 15,
   "id": "575f8b01-9129-4bfb-8361-fbc7627f4b4d",
   "metadata": {},
   "outputs": [
    {
     "data": {
      "text/plain": [
       "1"
      ]
     },
     "execution_count": 15,
     "metadata": {},
     "output_type": "execute_result"
    }
   ],
   "source": [
    "string.count('of')"
   ]
  },
  {
   "cell_type": "markdown",
   "id": "17433b85-6c70-41f5-9c8a-2b9b4b98a6ac",
   "metadata": {},
   "source": [
    "### 11. index()\n",
    "    \n",
    "    -first occurence of string"
   ]
  },
  {
   "cell_type": "code",
   "execution_count": 16,
   "id": "0e645564-6f40-4ac2-b634-213fb1508d6e",
   "metadata": {},
   "outputs": [],
   "source": [
    "string = 'Param Supercomputer'"
   ]
  },
  {
   "cell_type": "code",
   "execution_count": 17,
   "id": "d2dce6d6-f415-4679-b3dd-c6ee34e0cf89",
   "metadata": {},
   "outputs": [
    {
     "data": {
      "text/plain": [
       "6"
      ]
     },
     "execution_count": 17,
     "metadata": {},
     "output_type": "execute_result"
    }
   ],
   "source": [
    "string.index('S')"
   ]
  },
  {
   "cell_type": "code",
   "execution_count": 18,
   "id": "a0ab532e-554f-4ae6-af9a-872c75ed134a",
   "metadata": {},
   "outputs": [
    {
     "data": {
      "text/plain": [
       "6"
      ]
     },
     "execution_count": 18,
     "metadata": {},
     "output_type": "execute_result"
    }
   ],
   "source": [
    "string.index('Super')"
   ]
  },
  {
   "cell_type": "code",
   "execution_count": 19,
   "id": "359f2e10-c33f-4714-a6db-30c430afe9bd",
   "metadata": {},
   "outputs": [
    {
     "data": {
      "text/plain": [
       "5"
      ]
     },
     "execution_count": 19,
     "metadata": {},
     "output_type": "execute_result"
    }
   ],
   "source": [
    "string.index(' ')"
   ]
  },
  {
   "cell_type": "code",
   "execution_count": 20,
   "id": "98695b3d-b613-4803-9e41-52144c0aa459",
   "metadata": {},
   "outputs": [
    {
     "ename": "ValueError",
     "evalue": "substring not found",
     "output_type": "error",
     "traceback": [
      "\u001b[0;31m---------------------------------------------------------------------------\u001b[0m",
      "\u001b[0;31mValueError\u001b[0m                                Traceback (most recent call last)",
      "Cell \u001b[0;32mIn[20], line 1\u001b[0m\n\u001b[0;32m----> 1\u001b[0m \u001b[43mstring\u001b[49m\u001b[38;5;241;43m.\u001b[39;49m\u001b[43mindex\u001b[49m\u001b[43m(\u001b[49m\u001b[38;5;124;43m'\u001b[39;49m\u001b[38;5;124;43mZ\u001b[39;49m\u001b[38;5;124;43m'\u001b[39;49m\u001b[43m)\u001b[49m\n",
      "\u001b[0;31mValueError\u001b[0m: substring not found"
     ]
    }
   ],
   "source": [
    "string.index('Z')"
   ]
  },
  {
   "cell_type": "markdown",
   "id": "24c9359a-0059-46a0-b54a-dae64116435a",
   "metadata": {},
   "source": [
    "### 12. find()"
   ]
  },
  {
   "cell_type": "code",
   "execution_count": 21,
   "id": "f7596b0d-d506-4234-bd3f-c02ef2acf13c",
   "metadata": {},
   "outputs": [
    {
     "data": {
      "text/plain": [
       "6"
      ]
     },
     "execution_count": 21,
     "metadata": {},
     "output_type": "execute_result"
    }
   ],
   "source": [
    "string.find('Super')"
   ]
  },
  {
   "cell_type": "code",
   "execution_count": 22,
   "id": "6faa7112-39ba-4ed7-a3a3-7f08eb3de1a1",
   "metadata": {},
   "outputs": [
    {
     "data": {
      "text/plain": [
       "-1"
      ]
     },
     "execution_count": 22,
     "metadata": {},
     "output_type": "execute_result"
    }
   ],
   "source": [
    "string.find('abc')"
   ]
  },
  {
   "cell_type": "markdown",
   "id": "569957ea-4f10-44b5-b740-842c5b5e649c",
   "metadata": {},
   "source": [
    "### 13. split()\n",
    "    \n",
    "    -it returns list\n",
    "\n"
   ]
  },
  {
   "cell_type": "code",
   "execution_count": 24,
   "id": "359a69e8-5604-4a68-aee7-c81e5b4d4daa",
   "metadata": {},
   "outputs": [],
   "source": [
    "string = 'PARAM is a series of Indian supercomputers designed and assembled by the Centre for Development of Advanced Computing (C-DAC) in Pune.'"
   ]
  },
  {
   "cell_type": "code",
   "execution_count": 25,
   "id": "2afb00a5-d94a-4f97-a9c0-f6d83d6eb113",
   "metadata": {},
   "outputs": [
    {
     "name": "stdout",
     "output_type": "stream",
     "text": [
      "['PARAM', 'is', 'a', 'series', 'of', 'Indian', 'supercomputers', 'designed', 'and', 'assembled', 'by', 'the', 'Centre', 'for', 'Development', 'of', 'Advanced', 'Computing', '(C-DAC)', 'in', 'Pune.']\n"
     ]
    }
   ],
   "source": [
    "print(string.split())"
   ]
  },
  {
   "cell_type": "code",
   "execution_count": 26,
   "id": "cfb6f0e9-04b7-4aa6-9beb-af16488ec171",
   "metadata": {},
   "outputs": [
    {
     "name": "stdout",
     "output_type": "stream",
     "text": [
      "['PARAM', 'is', 'a', 'series', 'of', 'Indian', 'supercomputers', 'designed', 'and', 'assembled', 'by', 'the', 'Centre', 'for', 'Development', 'of', 'Advanced', 'Computing', '(C-DAC)', 'in', 'Pune.']\n"
     ]
    }
   ],
   "source": [
    "print(string.split(' '))"
   ]
  },
  {
   "cell_type": "code",
   "execution_count": 27,
   "id": "fbee2835-64aa-48bc-a87f-7641306b1c71",
   "metadata": {},
   "outputs": [
    {
     "name": "stdout",
     "output_type": "stream",
     "text": [
      "['PARAM is a series of ', ' supercomputers designed and assembled by the Centre for Development of Advanced Computing (C-DAC) in Pune.']\n"
     ]
    }
   ],
   "source": [
    "print(string.split('Indian'))"
   ]
  },
  {
   "cell_type": "code",
   "execution_count": 28,
   "id": "9d8c6344-aeb1-4f77-a9ad-f04a3ce56ffe",
   "metadata": {},
   "outputs": [
    {
     "data": {
      "text/plain": [
       "['This', 'is', 'my', 'class']"
      ]
     },
     "execution_count": 28,
     "metadata": {},
     "output_type": "execute_result"
    }
   ],
   "source": [
    "string = 'This is my class'\n",
    "string.split()"
   ]
  },
  {
   "cell_type": "code",
   "execution_count": 29,
   "id": "938bf736-b7f8-4d32-ad5a-08744af86932",
   "metadata": {},
   "outputs": [],
   "source": [
    "string = 'PARAM is a series of Indian supercomputers designed and assembled by the Centre for Development of Advanced Computing (C-DAC) in Pune.'"
   ]
  },
  {
   "cell_type": "code",
   "execution_count": 30,
   "id": "5ed88020-06dc-40b1-bfbc-3dcd006c6eb0",
   "metadata": {},
   "outputs": [
    {
     "name": "stdout",
     "output_type": "stream",
     "text": [
      "['PARAM', 'is', 'a', 'series', 'of', 'Indian', 'supercomputers', 'designed', 'and', 'assembled', 'by', 'the', 'Centre', 'for', 'Development', 'of', 'Advanced', 'Computing', '(C-DAC)', 'in', 'Pune.']\n"
     ]
    }
   ],
   "source": [
    "string_list = string.split()\n",
    "print(string_list)"
   ]
  },
  {
   "cell_type": "code",
   "execution_count": 31,
   "id": "07dddf9d-c2c6-4fb1-9e24-028bfaa4ba24",
   "metadata": {},
   "outputs": [
    {
     "name": "stdout",
     "output_type": "stream",
     "text": [
      "PARAM\n",
      "is\n",
      "a\n",
      "series\n",
      "of\n",
      "Indian\n",
      "supercomputers\n",
      "designed\n",
      "and\n",
      "assembled\n",
      "by\n",
      "the\n",
      "Centre\n",
      "for\n",
      "Development\n",
      "of\n",
      "Advanced\n",
      "Computing\n",
      "(C-DAC)\n",
      "in\n",
      "Pune.\n"
     ]
    }
   ],
   "source": [
    "string_list = string.split()\n",
    "for word in string_list:\n",
    "    print(word)"
   ]
  },
  {
   "cell_type": "code",
   "execution_count": 32,
   "id": "483558df-53a5-4ce8-b152-42791c29d07b",
   "metadata": {},
   "outputs": [
    {
     "name": "stdout",
     "output_type": "stream",
     "text": [
      "\"PARAM\" is repeated 1 times.\n",
      "\"is\" is repeated 1 times.\n",
      "\"a\" is repeated 5 times.\n",
      "\"series\" is repeated 1 times.\n",
      "\"of\" is repeated 2 times.\n",
      "\"Indian\" is repeated 1 times.\n",
      "\"supercomputers\" is repeated 1 times.\n",
      "\"designed\" is repeated 1 times.\n",
      "\"and\" is repeated 1 times.\n",
      "\"assembled\" is repeated 1 times.\n",
      "\"by\" is repeated 1 times.\n",
      "\"the\" is repeated 1 times.\n",
      "\"Centre\" is repeated 1 times.\n",
      "\"for\" is repeated 1 times.\n",
      "\"Development\" is repeated 1 times.\n",
      "\"of\" is repeated 2 times.\n",
      "\"Advanced\" is repeated 1 times.\n",
      "\"Computing\" is repeated 1 times.\n",
      "\"(C-DAC)\" is repeated 1 times.\n",
      "\"in\" is repeated 2 times.\n",
      "\"Pune.\" is repeated 1 times.\n"
     ]
    }
   ],
   "source": [
    "string_list = string.split()\n",
    "for word in string_list:\n",
    "    print(f'\"{word}\" is repeated {string.count(word)} times.')"
   ]
  },
  {
   "cell_type": "code",
   "execution_count": 33,
   "id": "e4cb0464-d112-4cf2-93a9-cff2b9724ef9",
   "metadata": {},
   "outputs": [
    {
     "name": "stdout",
     "output_type": "stream",
     "text": [
      "\"PARAM\" is repeated 1 times.\n",
      "\"is\" is repeated 1 times.\n",
      "\"a\" is repeated 1 times.\n",
      "\"series\" is repeated 1 times.\n",
      "\"of\" is repeated 2 times.\n",
      "\"Indian\" is repeated 1 times.\n",
      "\"supercomputers\" is repeated 1 times.\n",
      "\"designed\" is repeated 1 times.\n",
      "\"and\" is repeated 1 times.\n",
      "\"assembled\" is repeated 1 times.\n",
      "\"by\" is repeated 1 times.\n",
      "\"the\" is repeated 1 times.\n",
      "\"Centre\" is repeated 1 times.\n",
      "\"for\" is repeated 1 times.\n",
      "\"Development\" is repeated 1 times.\n",
      "\"of\" is repeated 2 times.\n",
      "\"Advanced\" is repeated 1 times.\n",
      "\"Computing\" is repeated 1 times.\n",
      "\"(C-DAC)\" is repeated 1 times.\n",
      "\"in\" is repeated 1 times.\n",
      "\"Pune.\" is repeated 1 times.\n"
     ]
    }
   ],
   "source": [
    "string_list = string.split()\n",
    "for word in string_list:\n",
    "    print(f'\"{word}\" is repeated {string_list.count(word)} times.')"
   ]
  },
  {
   "cell_type": "markdown",
   "id": "ab780e82-71bf-4f8a-a48d-cb857ac0e4bc",
   "metadata": {},
   "source": [
    "### 14. join()"
   ]
  },
  {
   "cell_type": "code",
   "execution_count": 34,
   "id": "8f0c524a-417a-40d8-bb32-ed91a224c0eb",
   "metadata": {},
   "outputs": [
    {
     "data": {
      "text/plain": [
       "'Kamakhya---Dispur---Dibrugarh---Rangiya'"
      ]
     },
     "execution_count": 34,
     "metadata": {},
     "output_type": "execute_result"
    }
   ],
   "source": [
    "cities = ['Kamakhya', 'Dispur', 'Dibrugarh', 'Rangiya']\n",
    "'---'.join(cities)"
   ]
  },
  {
   "cell_type": "code",
   "execution_count": 35,
   "id": "67f08c08-904a-4f3e-932c-2f0d09cd37e1",
   "metadata": {},
   "outputs": [
    {
     "data": {
      "text/plain": [
       "'Kamakhya Dispur Dibrugarh Rangiya'"
      ]
     },
     "execution_count": 35,
     "metadata": {},
     "output_type": "execute_result"
    }
   ],
   "source": [
    "' '.join(cities)"
   ]
  },
  {
   "cell_type": "code",
   "execution_count": 36,
   "id": "1d86cace-4207-4679-909e-b5a11fc94af4",
   "metadata": {},
   "outputs": [
    {
     "data": {
      "text/plain": [
       "'Kamakhya,Dispur,Dibrugarh,Rangiya'"
      ]
     },
     "execution_count": 36,
     "metadata": {},
     "output_type": "execute_result"
    }
   ],
   "source": [
    "','.join(cities)"
   ]
  },
  {
   "cell_type": "code",
   "execution_count": 37,
   "id": "3acfbab3-63c8-4d91-8c4a-d4256ede2548",
   "metadata": {},
   "outputs": [
    {
     "data": {
      "text/plain": [
       "'Kamakhya, Dispur, Dibrugarh, Rangiya'"
      ]
     },
     "execution_count": 37,
     "metadata": {},
     "output_type": "execute_result"
    }
   ],
   "source": [
    "', '.join(cities)"
   ]
  },
  {
   "cell_type": "code",
   "execution_count": 38,
   "id": "5f489863-7180-4812-9e53-e8f7ac022629",
   "metadata": {},
   "outputs": [
    {
     "data": {
      "text/plain": [
       "['G', 'u', 'w', 'a', 'h', 'a', 't', 'i']"
      ]
     },
     "execution_count": 38,
     "metadata": {},
     "output_type": "execute_result"
    }
   ],
   "source": [
    "string = 'Guwahati'\n",
    "list(string)"
   ]
  },
  {
   "cell_type": "code",
   "execution_count": 39,
   "id": "f4e98d86-df85-4a64-a1f1-aa5bba5f1678",
   "metadata": {},
   "outputs": [
    {
     "name": "stdout",
     "output_type": "stream",
     "text": [
      "['G', 'u', 'w', 'a', 'h', 'a', 't', 'i', ' ', 'i', 's', ' ', 'm', 'y', ' ', 'f', 'a', 'v', ' ', 'c', 'i', 't', 'y']\n"
     ]
    }
   ],
   "source": [
    "string = 'Guwahati is my fav city'\n",
    "print(list(string))"
   ]
  },
  {
   "cell_type": "code",
   "execution_count": 40,
   "id": "1a88fb21-77a5-4691-9d9d-bde65a4662d6",
   "metadata": {},
   "outputs": [
    {
     "data": {
      "text/plain": [
       "'Guwahati is my fav city'"
      ]
     },
     "execution_count": 40,
     "metadata": {},
     "output_type": "execute_result"
    }
   ],
   "source": [
    "string = 'Guwahati is my fav city'\n",
    "''.join(list(string))"
   ]
  },
  {
   "cell_type": "code",
   "execution_count": 41,
   "id": "4c361713-3bf1-40a7-9d8a-c0788b2c3282",
   "metadata": {},
   "outputs": [
    {
     "data": {
      "text/plain": [
       "'G*u*w*a*h*a*t*i* *i*s* *m*y* *f*a*v* *c*i*t*y'"
      ]
     },
     "execution_count": 41,
     "metadata": {},
     "output_type": "execute_result"
    }
   ],
   "source": [
    "string = 'Guwahati is my fav city'\n",
    "'*'.join(list(string))"
   ]
  },
  {
   "cell_type": "markdown",
   "id": "2e525983-0178-420b-a8ca-9f94e33b3886",
   "metadata": {},
   "source": [
    "### 15. endswith()"
   ]
  },
  {
   "cell_type": "code",
   "execution_count": 42,
   "id": "daaff06f-3dec-413b-b9af-f526c3d23352",
   "metadata": {},
   "outputs": [
    {
     "data": {
      "text/plain": [
       "True"
      ]
     },
     "execution_count": 42,
     "metadata": {},
     "output_type": "execute_result"
    }
   ],
   "source": [
    "string = 'Param'\n",
    "string.endswith('m')"
   ]
  },
  {
   "cell_type": "code",
   "execution_count": 43,
   "id": "dea67905-e4b4-454a-925e-575299e3d63d",
   "metadata": {},
   "outputs": [
    {
     "data": {
      "text/plain": [
       "False"
      ]
     },
     "execution_count": 43,
     "metadata": {},
     "output_type": "execute_result"
    }
   ],
   "source": [
    "string = 'Param'\n",
    "string.endswith('y')"
   ]
  },
  {
   "cell_type": "code",
   "execution_count": 44,
   "id": "7a0e7121-033d-45d4-8c7a-75cc87759ebb",
   "metadata": {},
   "outputs": [
    {
     "data": {
      "text/plain": [
       "True"
      ]
     },
     "execution_count": 44,
     "metadata": {},
     "output_type": "execute_result"
    }
   ],
   "source": [
    "string = 'Param'\n",
    "string.endswith('ram')"
   ]
  },
  {
   "cell_type": "code",
   "execution_count": 53,
   "id": "7bfe3df6-c1d0-4895-9bc0-f3cfe49c9d07",
   "metadata": {},
   "outputs": [
    {
     "data": {
      "text/plain": [
       "['Day - 02',\n",
       " 'temp',\n",
       " '.commandline.py.swp',\n",
       " '.ipynb_checkpoints',\n",
       " 'Day - 01',\n",
       " 'commandline.py',\n",
       " 'identation.py',\n",
       " 'Day - 03',\n",
       " 'Assignments',\n",
       " 'syllabus.txt',\n",
       " '.git',\n",
       " 'first.py',\n",
       " 'Tutorial jupyter notebook.ipynb']"
      ]
     },
     "execution_count": 53,
     "metadata": {},
     "output_type": "execute_result"
    }
   ],
   "source": [
    "import os\n",
    "path = '/home/cdac/git_python/cbp_python'\n",
    "os.listdir(path)"
   ]
  },
  {
   "cell_type": "code",
   "execution_count": 54,
   "id": "d907068c-f86b-4b9b-a633-c71af910c995",
   "metadata": {},
   "outputs": [
    {
     "data": {
      "text/plain": [
       "['Day - 02',\n",
       " 'temp',\n",
       " '.commandline.py.swp',\n",
       " '.ipynb_checkpoints',\n",
       " 'Day - 01',\n",
       " 'commandline.py',\n",
       " 'identation.py',\n",
       " 'Day - 03',\n",
       " 'Assignments',\n",
       " 'syllabus.txt',\n",
       " '.git',\n",
       " 'first.py',\n",
       " 'Tutorial jupyter notebook.ipynb']"
      ]
     },
     "execution_count": 54,
     "metadata": {},
     "output_type": "execute_result"
    }
   ],
   "source": [
    "import os\n",
    "path = '/home/cdac/git_python/cbp_python'\n",
    "list_dir = os.listdir(path)\n",
    "list_dir"
   ]
  },
  {
   "cell_type": "code",
   "execution_count": 55,
   "id": "227a48bd-e7c3-4cfc-8871-2ef46f67ecc4",
   "metadata": {},
   "outputs": [
    {
     "name": "stdout",
     "output_type": "stream",
     "text": [
      "syllabus.txt\n"
     ]
    }
   ],
   "source": [
    "import os\n",
    "path = '/home/cdac/git_python/cbp_python'\n",
    "list_dir = os.listdir(path)\n",
    "for name in list_dir:\n",
    "    if name.endswith('.txt'):\n",
    "        print(name)"
   ]
  },
  {
   "cell_type": "code",
   "execution_count": 57,
   "id": "c4eae446-9aea-4582-952e-ccc1919886ef",
   "metadata": {},
   "outputs": [
    {
     "name": "stdout",
     "output_type": "stream",
     "text": [
      "Pictures\n",
      ".local\n",
      "Music\n",
      ".bash_logout\n",
      ".ipynb_checkpoints\n",
      ".ssh\n",
      ".lesshst\n",
      "PYTHON_lab_assignments\n",
      "Downloads\n",
      "snap\n",
      ".bash_history\n",
      "Desktop\n",
      ".sudo_as_admin_successful\n",
      ".gnupg\n",
      "Documents\n",
      "Videos\n",
      "indentation.py\n",
      ".jupyter\n",
      "Public\n",
      ".cache\n",
      ".python_history\n",
      "Templates\n",
      ".config\n",
      "git_python\n",
      "first.py\n",
      ".viminfo\n",
      ".bashrc\n",
      ".ipython\n",
      ".profile\n"
     ]
    }
   ],
   "source": [
    "import os\n",
    "path = '/home/cdac'\n",
    "list_dir = os.listdir(path)\n",
    "for name in list_dir:\n",
    "#     if name.endswith('.txt'):\n",
    "        print(name)"
   ]
  },
  {
   "cell_type": "code",
   "execution_count": 58,
   "id": "3e06793f-3127-48c1-8aa1-92afb723b901",
   "metadata": {},
   "outputs": [],
   "source": [
    "import os\n",
    "path = '/home/cdac'\n",
    "list_dir = os.listdir(path)\n",
    "for name in list_dir:\n",
    "    if name.endswith('.c'):\n",
    "        print(name)"
   ]
  },
  {
   "cell_type": "code",
   "execution_count": 60,
   "id": "31505dc7-c149-4163-ad55-d53bb00056a3",
   "metadata": {},
   "outputs": [
    {
     "name": "stdout",
     "output_type": "stream",
     "text": [
      "Data Types & Conditional Statements.ipynb\n",
      "3. Slicing.ipynb\n",
      "String Functions.ipynb\n",
      "Tuple.ipynb\n",
      "1. List Functions.ipynb\n",
      "for while.ipynb\n",
      "List.ipynb\n",
      "1. Set.ipynb\n",
      "String.ipynb\n",
      "2. Indexing.ipynb\n",
      "Math & Random.ipynb\n",
      "Assignment1.ipynb\n",
      "LIst Comprehension.ipynb\n"
     ]
    }
   ],
   "source": [
    "import os\n",
    "path = '/home/cdac/PYTHON_lab_assignments'\n",
    "list_dir = os.listdir(path)\n",
    "for name in list_dir:\n",
    "    if name.endswith('.ipynb'):\n",
    "        print(name)"
   ]
  },
  {
   "cell_type": "markdown",
   "id": "e80d4fe6-c6b7-4b37-abd0-120b4462e5fd",
   "metadata": {},
   "source": [
    "### 16. startswith()"
   ]
  },
  {
   "cell_type": "code",
   "execution_count": 61,
   "id": "3cceece2-eb36-43e6-b2fc-7dcd7a643e74",
   "metadata": {},
   "outputs": [
    {
     "data": {
      "text/plain": [
       "True"
      ]
     },
     "execution_count": 61,
     "metadata": {},
     "output_type": "execute_result"
    }
   ],
   "source": [
    "string = 'This is my class'\n",
    "string.startswith('T')"
   ]
  },
  {
   "cell_type": "code",
   "execution_count": 62,
   "id": "04d5debc-f17b-4d16-bda9-43f34944ffbe",
   "metadata": {},
   "outputs": [
    {
     "data": {
      "text/plain": [
       "True"
      ]
     },
     "execution_count": 62,
     "metadata": {},
     "output_type": "execute_result"
    }
   ],
   "source": [
    "string = 'This is my class'\n",
    "string.startswith('Th')"
   ]
  },
  {
   "cell_type": "code",
   "execution_count": 63,
   "id": "0733b401-21e6-40c5-9264-a696a32a4b30",
   "metadata": {},
   "outputs": [
    {
     "data": {
      "text/plain": [
       "True"
      ]
     },
     "execution_count": 63,
     "metadata": {},
     "output_type": "execute_result"
    }
   ],
   "source": [
    "string = 'This is my class'\n",
    "string.startswith('T')"
   ]
  },
  {
   "cell_type": "code",
   "execution_count": 64,
   "id": "006de58f-07e8-43e4-8e6e-9d6348d161b9",
   "metadata": {},
   "outputs": [
    {
     "data": {
      "text/plain": [
       "True"
      ]
     },
     "execution_count": 64,
     "metadata": {},
     "output_type": "execute_result"
    }
   ],
   "source": [
    "string = 'This is my class'\n",
    "string.startswith('Thi')"
   ]
  },
  {
   "cell_type": "code",
   "execution_count": 65,
   "id": "53b617b7-7e28-4684-9860-8a080ee45e33",
   "metadata": {},
   "outputs": [
    {
     "data": {
      "text/plain": [
       "True"
      ]
     },
     "execution_count": 65,
     "metadata": {},
     "output_type": "execute_result"
    }
   ],
   "source": [
    "string = 'This is my class'\n",
    "string.startswith('This')"
   ]
  },
  {
   "cell_type": "code",
   "execution_count": 66,
   "id": "85c8bb87-cc82-45b9-a45a-8ce447ca9fde",
   "metadata": {},
   "outputs": [
    {
     "data": {
      "text/plain": [
       "False"
      ]
     },
     "execution_count": 66,
     "metadata": {},
     "output_type": "execute_result"
    }
   ],
   "source": [
    "string = 'This is my class'\n",
    "string.startswith('Tihi')"
   ]
  },
  {
   "cell_type": "code",
   "execution_count": 67,
   "id": "96449f55-0cf8-4d00-be3e-7b027cbbb42c",
   "metadata": {},
   "outputs": [
    {
     "data": {
      "text/plain": [
       "False"
      ]
     },
     "execution_count": 67,
     "metadata": {},
     "output_type": "execute_result"
    }
   ],
   "source": [
    "string = 'This is my class'\n",
    "string.startswith('is')"
   ]
  },
  {
   "cell_type": "markdown",
   "id": "59149e12-9b17-49d0-8479-3915af215899",
   "metadata": {},
   "source": [
    "### 17. isalnum()\n",
    "\n",
    "    - alphabets  \n",
    "    - numbers"
   ]
  },
  {
   "cell_type": "code",
   "execution_count": 68,
   "id": "d4a699e4-1e70-468a-950d-c6c79764fefb",
   "metadata": {},
   "outputs": [],
   "source": [
    "string = 'Python123'"
   ]
  },
  {
   "cell_type": "code",
   "execution_count": 69,
   "id": "e717cebf-adb3-4841-82f7-1fcaabbd6d74",
   "metadata": {},
   "outputs": [
    {
     "data": {
      "text/plain": [
       "True"
      ]
     },
     "execution_count": 69,
     "metadata": {},
     "output_type": "execute_result"
    }
   ],
   "source": [
    "string.isalnum()"
   ]
  },
  {
   "cell_type": "code",
   "execution_count": 70,
   "id": "06e6b15c-f334-42a6-af52-f1ac2b44cc63",
   "metadata": {},
   "outputs": [
    {
     "data": {
      "text/plain": [
       "False"
      ]
     },
     "execution_count": 70,
     "metadata": {},
     "output_type": "execute_result"
    }
   ],
   "source": [
    "string = 'Python 123'\n",
    "string.isalnum()"
   ]
  },
  {
   "cell_type": "code",
   "execution_count": 71,
   "id": "a54b62ef-bdfb-4e95-bae1-0012aafc8006",
   "metadata": {},
   "outputs": [
    {
     "data": {
      "text/plain": [
       "False"
      ]
     },
     "execution_count": 71,
     "metadata": {},
     "output_type": "execute_result"
    }
   ],
   "source": [
    "string = 'Python$123'\n",
    "string.isalnum()"
   ]
  },
  {
   "cell_type": "code",
   "execution_count": 72,
   "id": "2f0a795f-4d01-459b-8dd2-645b9412118e",
   "metadata": {},
   "outputs": [
    {
     "data": {
      "text/plain": [
       "True"
      ]
     },
     "execution_count": 72,
     "metadata": {},
     "output_type": "execute_result"
    }
   ],
   "source": [
    "string = '123'\n",
    "string.isalnum()"
   ]
  },
  {
   "cell_type": "code",
   "execution_count": 73,
   "id": "f087ce9b-3003-47c5-9ead-3fcc58c77ca4",
   "metadata": {},
   "outputs": [
    {
     "data": {
      "text/plain": [
       "True"
      ]
     },
     "execution_count": 73,
     "metadata": {},
     "output_type": "execute_result"
    }
   ],
   "source": [
    "string = 'Python'\n",
    "string.isalnum()"
   ]
  },
  {
   "cell_type": "code",
   "execution_count": 74,
   "id": "5217dc38-7dfe-40bf-a7a3-bb09db802a6c",
   "metadata": {},
   "outputs": [
    {
     "data": {
      "text/plain": [
       "False"
      ]
     },
     "execution_count": 74,
     "metadata": {},
     "output_type": "execute_result"
    }
   ],
   "source": [
    "string = ''\n",
    "string.isalnum()"
   ]
  },
  {
   "cell_type": "markdown",
   "id": "e8673bdc-c136-4720-bc08-efd073e0a2de",
   "metadata": {},
   "source": [
    "### 18. isalpha()\n",
    "\n",
    "    - only alphabets\n",
    "\n"
   ]
  },
  {
   "cell_type": "code",
   "execution_count": 75,
   "id": "82c8eede-b054-448a-b560-d1122b707aee",
   "metadata": {},
   "outputs": [
    {
     "data": {
      "text/plain": [
       "True"
      ]
     },
     "execution_count": 75,
     "metadata": {},
     "output_type": "execute_result"
    }
   ],
   "source": [
    "string = 'Python'\n",
    "string.isalpha()"
   ]
  },
  {
   "cell_type": "code",
   "execution_count": 76,
   "id": "698bc50e-6152-45c5-b485-86fca70c3d62",
   "metadata": {},
   "outputs": [
    {
     "data": {
      "text/plain": [
       "False"
      ]
     },
     "execution_count": 76,
     "metadata": {},
     "output_type": "execute_result"
    }
   ],
   "source": [
    "string = 'Python123'\n",
    "string.isalpha()"
   ]
  },
  {
   "cell_type": "code",
   "execution_count": 77,
   "id": "ec5bb685-8988-4e66-8078-987b1455841e",
   "metadata": {},
   "outputs": [
    {
     "data": {
      "text/plain": [
       "True"
      ]
     },
     "execution_count": 77,
     "metadata": {},
     "output_type": "execute_result"
    }
   ],
   "source": [
    "string = 'Python'\n",
    "string.isalnum()"
   ]
  },
  {
   "cell_type": "code",
   "execution_count": 78,
   "id": "50e29588-7acf-45e0-82c5-250f109a8b61",
   "metadata": {},
   "outputs": [
    {
     "data": {
      "text/plain": [
       "False"
      ]
     },
     "execution_count": 78,
     "metadata": {},
     "output_type": "execute_result"
    }
   ],
   "source": [
    "string = '12345'\n",
    "string.isalpha()"
   ]
  },
  {
   "cell_type": "markdown",
   "id": "2ee69870-57e0-415c-bfcf-bce01414590f",
   "metadata": {},
   "source": [
    "### 19. isdecimal()\n",
    "\n",
    "    - only digits\n",
    "\n",
    " "
   ]
  },
  {
   "cell_type": "code",
   "execution_count": 79,
   "id": "35303539-405f-4f30-a869-fed21da33cd9",
   "metadata": {},
   "outputs": [
    {
     "data": {
      "text/plain": [
       "False"
      ]
     },
     "execution_count": 79,
     "metadata": {},
     "output_type": "execute_result"
    }
   ],
   "source": [
    "string = 'Python123'\n",
    "string.isdecimal()"
   ]
  },
  {
   "cell_type": "code",
   "execution_count": 80,
   "id": "e6a64079-34b1-40ac-8745-6bb9a9471b35",
   "metadata": {},
   "outputs": [
    {
     "data": {
      "text/plain": [
       "True"
      ]
     },
     "execution_count": 80,
     "metadata": {},
     "output_type": "execute_result"
    }
   ],
   "source": [
    "string = '123456'\n",
    "string.isdecimal()"
   ]
  },
  {
   "cell_type": "code",
   "execution_count": 81,
   "id": "e9d7b437-56eb-4796-9edf-ac32b6d940d9",
   "metadata": {},
   "outputs": [
    {
     "data": {
      "text/plain": [
       "False"
      ]
     },
     "execution_count": 81,
     "metadata": {},
     "output_type": "execute_result"
    }
   ],
   "source": [
    "string = '1 2 3 4 5 6'\n",
    "string.isdecimal()"
   ]
  },
  {
   "cell_type": "code",
   "execution_count": 82,
   "id": "1b5c6d82-dad3-4fc0-922f-372399a616f9",
   "metadata": {},
   "outputs": [
    {
     "data": {
      "text/plain": [
       "False"
      ]
     },
     "execution_count": 82,
     "metadata": {},
     "output_type": "execute_result"
    }
   ],
   "source": [
    "string = '1, 2, 3, 4, 5, 6'\n",
    "string.isdecimal()"
   ]
  },
  {
   "cell_type": "markdown",
   "id": "c4bfe0e3-bbc9-49ff-8a5a-ddf54e11d051",
   "metadata": {},
   "source": [
    "### 20. isdigit()\n",
    "\n",
    "    - digits\n",
    "    - superscript\n",
    "    - subscript\n",
    "\n"
   ]
  },
  {
   "cell_type": "code",
   "execution_count": 83,
   "id": "f2d732cf-c8a9-4137-8bbb-8075a512c5d5",
   "metadata": {},
   "outputs": [
    {
     "data": {
      "text/plain": [
       "True"
      ]
     },
     "execution_count": 83,
     "metadata": {},
     "output_type": "execute_result"
    }
   ],
   "source": [
    "string = '123456'\n",
    "string.isdigit()"
   ]
  },
  {
   "cell_type": "code",
   "execution_count": 84,
   "id": "e1085756-381d-4bb5-85c5-d9ab2c55a810",
   "metadata": {},
   "outputs": [
    {
     "data": {
      "text/plain": [
       "False"
      ]
     },
     "execution_count": 84,
     "metadata": {},
     "output_type": "execute_result"
    }
   ],
   "source": [
    "string = '123a456'\n",
    "string.isdigit()"
   ]
  },
  {
   "cell_type": "code",
   "execution_count": 85,
   "id": "da59cb8b-ee43-4c5c-9052-468973bd642b",
   "metadata": {},
   "outputs": [
    {
     "name": "stdout",
     "output_type": "stream",
     "text": [
      "1 True\n",
      "********************\n",
      "b False\n",
      "********************\n",
      "123 True\n",
      "********************\n",
      "² True\n",
      "********************\n",
      "³ True\n",
      "********************\n",
      "¹ True\n",
      "********************\n",
      "₀ True\n",
      "********************\n",
      "⅐ False\n",
      "********************\n",
      "₀ True\n",
      "********************\n",
      "⅑ False\n",
      "********************\n",
      "⅒ False\n",
      "********************\n",
      "⅓ False\n",
      "********************\n",
      "⅔ False\n",
      "********************\n",
      "₀ True\n",
      "********************\n"
     ]
    }
   ],
   "source": [
    "codes = ['1', 'b', '123',\n",
    "         '\\u00B2', '\\u00B3', '\\u00B9', '\\u2080', \n",
    "         '\\u2150', '\\u2080', '\\u2151', '\\u2152',\n",
    "         '\\u2153', '\\u2154', '\\u2080']\n",
    "for i in codes:\n",
    "    print(i, i.isdigit())\n",
    "    print('********************')"
   ]
  },
  {
   "cell_type": "markdown",
   "id": "05f3b896-3735-4cae-be7f-9c5299e246c6",
   "metadata": {},
   "source": [
    "### 21. isnumeric()\n",
    "\n",
    "    - digits\n",
    "    - superscript\n",
    "    - subscript\n",
    "    - vulgar fractions (⅑,⅓)\n",
    "\n"
   ]
  },
  {
   "cell_type": "code",
   "execution_count": 86,
   "id": "36842dfe-0e88-4832-8ce0-2d21d73008b9",
   "metadata": {},
   "outputs": [
    {
     "name": "stdout",
     "output_type": "stream",
     "text": [
      "1 True\n",
      "********************\n",
      "b False\n",
      "********************\n",
      "123 True\n",
      "********************\n",
      "² True\n",
      "********************\n",
      "³ True\n",
      "********************\n",
      "¹ True\n",
      "********************\n",
      "₀ True\n",
      "********************\n",
      "⅐ True\n",
      "********************\n",
      "₀ True\n",
      "********************\n",
      "⅑ True\n",
      "********************\n",
      "⅒ True\n",
      "********************\n",
      "⅓ True\n",
      "********************\n",
      "⅔ True\n",
      "********************\n",
      "₀ True\n",
      "********************\n"
     ]
    }
   ],
   "source": [
    "codes = ['1', 'b', '123',\n",
    "         '\\u00B2', '\\u00B3', '\\u00B9', '\\u2080', \n",
    "         '\\u2150', '\\u2080', '\\u2151', '\\u2152',\n",
    "         '\\u2153', '\\u2154', '\\u2080']\n",
    "for i in codes:\n",
    "    print(i, i.isnumeric())\n",
    "    print('********************')"
   ]
  },
  {
   "cell_type": "markdown",
   "id": "2138176b-7868-4293-9d29-5b72ce84b26d",
   "metadata": {},
   "source": [
    "#### 22. islower()"
   ]
  },
  {
   "cell_type": "code",
   "execution_count": 87,
   "id": "e6c7e999-451f-4cec-bc0e-7e0c5318ac01",
   "metadata": {},
   "outputs": [
    {
     "data": {
      "text/plain": [
       "False"
      ]
     },
     "execution_count": 87,
     "metadata": {},
     "output_type": "execute_result"
    }
   ],
   "source": [
    "'Python'.islower()"
   ]
  },
  {
   "cell_type": "code",
   "execution_count": 88,
   "id": "8be74e99-3dd2-40fc-a54f-697d6f14a1fe",
   "metadata": {},
   "outputs": [
    {
     "data": {
      "text/plain": [
       "True"
      ]
     },
     "execution_count": 88,
     "metadata": {},
     "output_type": "execute_result"
    }
   ],
   "source": [
    "'python'.islower()"
   ]
  },
  {
   "cell_type": "code",
   "execution_count": 89,
   "id": "331de40d-fc34-4d47-94ef-34d3a59c05da",
   "metadata": {},
   "outputs": [
    {
     "data": {
      "text/plain": [
       "True"
      ]
     },
     "execution_count": 89,
     "metadata": {},
     "output_type": "execute_result"
    }
   ],
   "source": [
    "'pyt hon'.islower()"
   ]
  },
  {
   "cell_type": "code",
   "execution_count": 90,
   "id": "839c578f-2e51-485c-ac43-477bc3065ce0",
   "metadata": {},
   "outputs": [
    {
     "data": {
      "text/plain": [
       "True"
      ]
     },
     "execution_count": 90,
     "metadata": {},
     "output_type": "execute_result"
    }
   ],
   "source": [
    "'pyt-hon'.islower()"
   ]
  },
  {
   "cell_type": "code",
   "execution_count": 91,
   "id": "5f22a70b-5fb4-4573-9009-e2cde54088e5",
   "metadata": {},
   "outputs": [
    {
     "data": {
      "text/plain": [
       "False"
      ]
     },
     "execution_count": 91,
     "metadata": {},
     "output_type": "execute_result"
    }
   ],
   "source": [
    "'pyt-hOn'.islower()"
   ]
  },
  {
   "cell_type": "code",
   "execution_count": 92,
   "id": "aafc4df4-1de2-41e4-b6af-c4f12164ff97",
   "metadata": {},
   "outputs": [
    {
     "data": {
      "text/plain": [
       "True"
      ]
     },
     "execution_count": 92,
     "metadata": {},
     "output_type": "execute_result"
    }
   ],
   "source": [
    "'pyt9hon'.islower()"
   ]
  },
  {
   "cell_type": "code",
   "execution_count": 93,
   "id": "4ab783e5-abec-45cf-aec3-8202f8886aed",
   "metadata": {},
   "outputs": [
    {
     "data": {
      "text/plain": [
       "False"
      ]
     },
     "execution_count": 93,
     "metadata": {},
     "output_type": "execute_result"
    }
   ],
   "source": [
    "'99867'.islower()"
   ]
  },
  {
   "cell_type": "code",
   "execution_count": 94,
   "id": "d030a906-c662-4bcd-89c3-53806cc40e9d",
   "metadata": {},
   "outputs": [
    {
     "data": {
      "text/plain": [
       "False"
      ]
     },
     "execution_count": 94,
     "metadata": {},
     "output_type": "execute_result"
    }
   ],
   "source": [
    "'99867'.islower()"
   ]
  },
  {
   "cell_type": "markdown",
   "id": "715336a1-5801-468b-8b7c-510b4cef525d",
   "metadata": {},
   "source": [
    "### 23. isupper()"
   ]
  },
  {
   "cell_type": "code",
   "execution_count": 95,
   "id": "a5a94b0a-dc70-4b90-98e5-82abce3015be",
   "metadata": {},
   "outputs": [
    {
     "data": {
      "text/plain": [
       "True"
      ]
     },
     "execution_count": 95,
     "metadata": {},
     "output_type": "execute_result"
    }
   ],
   "source": [
    "'PYTHON'.isupper()"
   ]
  },
  {
   "cell_type": "code",
   "execution_count": 96,
   "id": "b6efecd3-3285-482d-9897-e53883404e92",
   "metadata": {},
   "outputs": [
    {
     "data": {
      "text/plain": [
       "True"
      ]
     },
     "execution_count": 96,
     "metadata": {},
     "output_type": "execute_result"
    }
   ],
   "source": [
    "'Python'.upper().isupper()"
   ]
  },
  {
   "cell_type": "code",
   "execution_count": 97,
   "id": "09bea3f0-b9e1-42b0-a308-228e0cf232de",
   "metadata": {},
   "outputs": [
    {
     "data": {
      "text/plain": [
       "'PYTHON'"
      ]
     },
     "execution_count": 97,
     "metadata": {},
     "output_type": "execute_result"
    }
   ],
   "source": [
    "'Python'.upper()"
   ]
  },
  {
   "cell_type": "code",
   "execution_count": 98,
   "id": "6dc26f08-04b7-45de-a31b-291613a73eec",
   "metadata": {},
   "outputs": [
    {
     "data": {
      "text/plain": [
       "True"
      ]
     },
     "execution_count": 98,
     "metadata": {},
     "output_type": "execute_result"
    }
   ],
   "source": [
    "'python'.upper().isupper()"
   ]
  },
  {
   "cell_type": "code",
   "execution_count": 99,
   "id": "c09333ce-3e29-4574-8c4c-47ab1473d9eb",
   "metadata": {},
   "outputs": [
    {
     "data": {
      "text/plain": [
       "True"
      ]
     },
     "execution_count": 99,
     "metadata": {},
     "output_type": "execute_result"
    }
   ],
   "source": [
    "'pyt hon'.upper().isupper()"
   ]
  },
  {
   "cell_type": "code",
   "execution_count": 100,
   "id": "33d13f98-9276-4f41-98cc-cc18a2579ec4",
   "metadata": {},
   "outputs": [
    {
     "data": {
      "text/plain": [
       "True"
      ]
     },
     "execution_count": 100,
     "metadata": {},
     "output_type": "execute_result"
    }
   ],
   "source": [
    "'pyt9090hon'.upper().isupper()"
   ]
  },
  {
   "cell_type": "code",
   "execution_count": 101,
   "id": "351f035b-5f20-4fbf-95c5-ea150ec903ca",
   "metadata": {},
   "outputs": [
    {
     "data": {
      "text/plain": [
       "False"
      ]
     },
     "execution_count": 101,
     "metadata": {},
     "output_type": "execute_result"
    }
   ],
   "source": [
    "'python'.isupper()"
   ]
  },
  {
   "cell_type": "markdown",
   "id": "c48bca5c-1446-4fb9-b690-36b2c7eca55c",
   "metadata": {},
   "source": [
    "### 24. istitle()"
   ]
  },
  {
   "cell_type": "code",
   "execution_count": 102,
   "id": "aaf6f14f-592f-4174-8edf-e84a6f481566",
   "metadata": {},
   "outputs": [
    {
     "data": {
      "text/plain": [
       "True"
      ]
     },
     "execution_count": 102,
     "metadata": {},
     "output_type": "execute_result"
    }
   ],
   "source": [
    "string = 'Cdac Silchar'\n",
    "string.istitle()"
   ]
  },
  {
   "cell_type": "code",
   "execution_count": 103,
   "id": "8948dcfc-5ba7-4c5c-92cf-3234ce8d39ff",
   "metadata": {},
   "outputs": [
    {
     "data": {
      "text/plain": [
       "False"
      ]
     },
     "execution_count": 103,
     "metadata": {},
     "output_type": "execute_result"
    }
   ],
   "source": [
    "string = 'Cdac silchar'\n",
    "string.istitle()"
   ]
  },
  {
   "cell_type": "code",
   "execution_count": 104,
   "id": "419eed87-ffbc-4954-9f90-e6b77be6fa57",
   "metadata": {},
   "outputs": [
    {
     "data": {
      "text/plain": [
       "True"
      ]
     },
     "execution_count": 104,
     "metadata": {},
     "output_type": "execute_result"
    }
   ],
   "source": [
    "string = 'cdac silchar'\n",
    "string.title().istitle()"
   ]
  },
  {
   "cell_type": "code",
   "execution_count": 106,
   "id": "84273d01-d1f7-4976-9b62-dd393d8d2bba",
   "metadata": {},
   "outputs": [
    {
     "data": {
      "text/plain": [
       "'Cdac Silchar'"
      ]
     },
     "execution_count": 106,
     "metadata": {},
     "output_type": "execute_result"
    }
   ],
   "source": [
    "string.title()"
   ]
  },
  {
   "cell_type": "code",
   "execution_count": 107,
   "id": "2c4fd738-bd83-4ae9-b6b7-ca3807cf40cb",
   "metadata": {},
   "outputs": [
    {
     "data": {
      "text/plain": [
       "False"
      ]
     },
     "execution_count": 107,
     "metadata": {},
     "output_type": "execute_result"
    }
   ],
   "source": [
    "''.istitle()"
   ]
  },
  {
   "cell_type": "code",
   "execution_count": null,
   "id": "05b1850c-767e-45cf-a110-809d3b8cde20",
   "metadata": {},
   "outputs": [],
   "source": []
  }
 ],
 "metadata": {
  "kernelspec": {
   "display_name": "Python 3 (ipykernel)",
   "language": "python",
   "name": "python3"
  },
  "language_info": {
   "codemirror_mode": {
    "name": "ipython",
    "version": 3
   },
   "file_extension": ".py",
   "mimetype": "text/x-python",
   "name": "python",
   "nbconvert_exporter": "python",
   "pygments_lexer": "ipython3",
   "version": "3.10.12"
  }
 },
 "nbformat": 4,
 "nbformat_minor": 5
}
