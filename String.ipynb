{
 "cells": [
  {
   "cell_type": "markdown",
   "id": "5b655b81-982b-462c-8585-993bb8b57e49",
   "metadata": {},
   "source": [
    "## Definition"
   ]
  },
  {
   "cell_type": "code",
   "execution_count": null,
   "id": "3b11b760-b798-4564-bd09-9ea79503e70d",
   "metadata": {},
   "outputs": [],
   "source": [
    "- collection of characters enclosed with single quotes or double quotes or triple single quotes\n",
    "- immutable\n",
    "- ordered\n",
    "- can contain duplicates\n",
    "- no single quote/quotes within single quotes\n",
    "- no double quote/quotes within double quotes"
   ]
  },
  {
   "cell_type": "code",
   "execution_count": 1,
   "id": "5f781a9f-9b88-48de-8c10-b655bf33ad67",
   "metadata": {},
   "outputs": [
    {
     "data": {
      "text/plain": [
       "'This is a string'"
      ]
     },
     "execution_count": 1,
     "metadata": {},
     "output_type": "execute_result"
    }
   ],
   "source": [
    "string = \"This is a string\"\n",
    "string"
   ]
  },
  {
   "cell_type": "code",
   "execution_count": 2,
   "id": "9d8ddbe9-e618-41aa-8aac-b39344a1b3a4",
   "metadata": {},
   "outputs": [
    {
     "data": {
      "text/plain": [
       "'This is a string'"
      ]
     },
     "execution_count": 2,
     "metadata": {},
     "output_type": "execute_result"
    }
   ],
   "source": [
    "string = 'This is a string'\n",
    "string"
   ]
  },
  {
   "cell_type": "code",
   "execution_count": 3,
   "id": "4b05a0d3-c6fb-4bad-ba82-968feaac0004",
   "metadata": {},
   "outputs": [
    {
     "data": {
      "text/plain": [
       "'This is a string'"
      ]
     },
     "execution_count": 3,
     "metadata": {},
     "output_type": "execute_result"
    }
   ],
   "source": [
    "string = '''This is a string'''\n",
    "string"
   ]
  },
  {
   "cell_type": "code",
   "execution_count": 4,
   "id": "d95179e8-ddae-4bbe-9147-dd53b0c92af9",
   "metadata": {},
   "outputs": [
    {
     "data": {
      "text/plain": [
       "'This is a \\n            string'"
      ]
     },
     "execution_count": 4,
     "metadata": {},
     "output_type": "execute_result"
    }
   ],
   "source": [
    "string = '''This is a \n",
    "            string'''\n",
    "string"
   ]
  },
  {
   "cell_type": "code",
   "execution_count": 5,
   "id": "2e68b8af-cdb9-48ca-901a-14ac66da259e",
   "metadata": {},
   "outputs": [
    {
     "name": "stdout",
     "output_type": "stream",
     "text": [
      "This is my \n",
      "string\n"
     ]
    }
   ],
   "source": [
    "string = '''This is my \n",
    "string'''\n",
    "print(string)"
   ]
  },
  {
   "cell_type": "code",
   "execution_count": 6,
   "id": "8b40691e-e760-4490-9ce3-e34bbfdd1440",
   "metadata": {},
   "outputs": [
    {
     "data": {
      "text/plain": [
       "'this\"is my\"class'"
      ]
     },
     "execution_count": 6,
     "metadata": {},
     "output_type": "execute_result"
    }
   ],
   "source": [
    "string = 'this\"is my\"class'\n",
    "string"
   ]
  },
  {
   "cell_type": "code",
   "execution_count": 7,
   "id": "55e4b8f5-ca7a-4257-be1f-251ba57c47a2",
   "metadata": {},
   "outputs": [
    {
     "data": {
      "text/plain": [
       "\"this'is my'class\""
      ]
     },
     "execution_count": 7,
     "metadata": {},
     "output_type": "execute_result"
    }
   ],
   "source": [
    "string = \"this'is my'class\"\n",
    "string"
   ]
  },
  {
   "cell_type": "code",
   "execution_count": 8,
   "id": "4400e809-ca3b-4867-a36f-9eca7cb77d14",
   "metadata": {},
   "outputs": [
    {
     "name": "stdout",
     "output_type": "stream",
     "text": [
      "this\"is my\"class\n"
     ]
    }
   ],
   "source": [
    "string = 'this\"is my\"class'\n",
    "print(string)"
   ]
  },
  {
   "cell_type": "code",
   "execution_count": 9,
   "id": "722510d5-6c56-48c4-8477-2b01f268f77e",
   "metadata": {},
   "outputs": [
    {
     "name": "stdout",
     "output_type": "stream",
     "text": [
      "this'is my'class\n"
     ]
    }
   ],
   "source": [
    "string = \"this'is my'class\"\n",
    "print(string)"
   ]
  },
  {
   "cell_type": "code",
   "execution_count": 10,
   "id": "dac6548c-fa06-430c-8cda-0dd8c344ce9d",
   "metadata": {},
   "outputs": [
    {
     "name": "stdout",
     "output_type": "stream",
     "text": [
      "It's my class\n"
     ]
    }
   ],
   "source": [
    "string = \"It's my class\"\n",
    "print(string)"
   ]
  },
  {
   "cell_type": "markdown",
   "id": "bfc8322e-2290-4a61-84e2-78b1385564ba",
   "metadata": {},
   "source": [
    "### empty string/null string"
   ]
  },
  {
   "cell_type": "code",
   "execution_count": 19,
   "id": "ea55ddb9-6ec1-4e78-8221-47735e130e28",
   "metadata": {},
   "outputs": [
    {
     "name": "stdout",
     "output_type": "stream",
     "text": [
      "\n"
     ]
    },
    {
     "data": {
      "text/plain": [
       "str"
      ]
     },
     "execution_count": 19,
     "metadata": {},
     "output_type": "execute_result"
    }
   ],
   "source": [
    "string = str()\n",
    "print(string)\n",
    "type(string)"
   ]
  },
  {
   "cell_type": "code",
   "execution_count": null,
   "id": "81ae3c13-2a80-4323-a92a-e0ea294dacf3",
   "metadata": {},
   "outputs": [],
   "source": [
    "string = ''\n",
    "string = \"\""
   ]
  },
  {
   "cell_type": "code",
   "execution_count": null,
   "id": "7d84e68d-5744-4de2-9310-c9be2ca48c45",
   "metadata": {},
   "outputs": [],
   "source": [
    "string = ' '"
   ]
  },
  {
   "cell_type": "markdown",
   "id": "bbc8be3c-f1d5-4544-936e-b3fc425cfe2e",
   "metadata": {},
   "source": [
    "### white spaces"
   ]
  },
  {
   "cell_type": "code",
   "execution_count": null,
   "id": "c3c6e399-dcc7-45ee-a414-b50b08b42f2b",
   "metadata": {},
   "outputs": [],
   "source": [
    "- new line -> '\\n'\n",
    "- one or more spaces -> ' '\n",
    "- tab -> '\\t'"
   ]
  },
  {
   "cell_type": "markdown",
   "id": "0c0753be-20de-412e-b979-7c060a09fcff",
   "metadata": {},
   "source": [
    "### escape characters"
   ]
  },
  {
   "cell_type": "code",
   "execution_count": null,
   "id": "881c9069-057d-40a2-b1df-5f98a2748999",
   "metadata": {},
   "outputs": [],
   "source": [
    "\\t\n",
    "\\n\n",
    "\\r -> return carriage"
   ]
  },
  {
   "cell_type": "code",
   "execution_count": 2,
   "id": "4a0602a1-ef91-4628-bf98-7d09f4f0034d",
   "metadata": {},
   "outputs": [
    {
     "name": "stdout",
     "output_type": "stream",
     "text": [
      "Its's my class\n"
     ]
    }
   ],
   "source": [
    "string = 'Its\\'s my class'\n",
    "print(string)"
   ]
  },
  {
   "cell_type": "code",
   "execution_count": 3,
   "id": "9ab88563-fd21-4f0f-8ab7-29a416866d5c",
   "metadata": {},
   "outputs": [
    {
     "name": "stdout",
     "output_type": "stream",
     "text": [
      "Indian supercomputer name begins with \"Param\" like Paramshavak.\n"
     ]
    }
   ],
   "source": [
    "string = \"Indian supercomputer name begins with \\\"Param\\\" like Paramshavak.\"\n",
    "print(string)"
   ]
  },
  {
   "cell_type": "code",
   "execution_count": 4,
   "id": "85928ced-d0cc-4097-acbf-a377de0eaa0f",
   "metadata": {},
   "outputs": [
    {
     "data": {
      "text/plain": [
       "'abcd\\txyz'"
      ]
     },
     "execution_count": 4,
     "metadata": {},
     "output_type": "execute_result"
    }
   ],
   "source": [
    "string = 'abcd\\txyz'\n",
    "string"
   ]
  },
  {
   "cell_type": "code",
   "execution_count": 5,
   "id": "c85f07fc-d3ed-4e85-98e7-ad6e1cb21354",
   "metadata": {},
   "outputs": [
    {
     "name": "stdout",
     "output_type": "stream",
     "text": [
      "abc\n",
      "xyz\n"
     ]
    }
   ],
   "source": [
    "string = 'abc\\nxyz'\n",
    "print(string)"
   ]
  },
  {
   "cell_type": "code",
   "execution_count": 6,
   "id": "e7a56892-b779-4585-95f1-9da0d4fa4110",
   "metadata": {},
   "outputs": [
    {
     "name": "stdout",
     "output_type": "stream",
     "text": [
      "bbb4567\n"
     ]
    }
   ],
   "source": [
    "string = '1234567\\rbbb'\n",
    "print(string)"
   ]
  },
  {
   "cell_type": "code",
   "execution_count": 7,
   "id": "a08c872f-3bc1-4702-b8cd-83087fd136b2",
   "metadata": {},
   "outputs": [
    {
     "name": "stdout",
     "output_type": "stream",
     "text": [
      "bbb4567\n"
     ]
    }
   ],
   "source": [
    "string = '1234567\\rbbb'\n",
    "print(string)"
   ]
  },
  {
   "cell_type": "markdown",
   "id": "5933c3b2-1f0a-4746-adad-a693da035a27",
   "metadata": {},
   "source": [
    "### iterator over string"
   ]
  },
  {
   "cell_type": "code",
   "execution_count": 9,
   "id": "8f0cfbe8-ba3a-4403-b744-fbeb61d96712",
   "metadata": {},
   "outputs": [
    {
     "name": "stdout",
     "output_type": "stream",
     "text": [
      "1-2-3-4-5-6-7-8-9-0-a-b-c-d-e-f-g-h-"
     ]
    }
   ],
   "source": [
    "string = '1234567890abcdefgh'\n",
    "for i in string:\n",
    "    print(i, end = '-')"
   ]
  },
  {
   "cell_type": "code",
   "execution_count": 10,
   "id": "0601fa1f-cfbb-4693-ac0f-733d9f6cf852",
   "metadata": {},
   "outputs": [
    {
     "name": "stdout",
     "output_type": "stream",
     "text": [
      "1-2-3-4-5-6-7-8-9-0-a-b-c-d-e-f-g-h-"
     ]
    }
   ],
   "source": [
    "string = '1234567890abcdefgh'\n",
    "for i in range(len(string)):\n",
    "    print(string[i], end = '-')"
   ]
  },
  {
   "cell_type": "markdown",
   "id": "a5119c61-68a7-4885-bfdc-1ac36d16d405",
   "metadata": {},
   "source": [
    "### String formatting"
   ]
  },
  {
   "cell_type": "code",
   "execution_count": null,
   "id": "bd69b1bf-66bb-489c-9937-c0300edd64a6",
   "metadata": {},
   "outputs": [],
   "source": [
    "1. .format()\n",
    "2. f''\n",
    "3. format specifier"
   ]
  },
  {
   "cell_type": "markdown",
   "id": "d5e6c901-36b6-4210-8d41-79e144d370f8",
   "metadata": {},
   "source": [
    "#### format()"
   ]
  },
  {
   "cell_type": "code",
   "execution_count": 26,
   "id": "efdcb8a0-e9b1-4e6a-ad02-4edcff48ded6",
   "metadata": {},
   "outputs": [
    {
     "name": "stdout",
     "output_type": "stream",
     "text": [
      "Age = 22 Marks = 89\n"
     ]
    }
   ],
   "source": [
    "age = 22\n",
    "marks = 89\n",
    "print('Age =', age, 'Marks =', marks)"
   ]
  },
  {
   "cell_type": "code",
   "execution_count": 27,
   "id": "948f7757-f74d-4299-9b8e-e03362732ff7",
   "metadata": {},
   "outputs": [
    {
     "name": "stdout",
     "output_type": "stream",
     "text": [
      "Age = 22, Marks = 89\n"
     ]
    }
   ],
   "source": [
    "print('Age = {}, Marks = {}'.format(age, marks))"
   ]
  },
  {
   "cell_type": "code",
   "execution_count": 28,
   "id": "2c173a57-646f-4612-bcb5-cdb6c5355ef8",
   "metadata": {},
   "outputs": [
    {
     "name": "stdout",
     "output_type": "stream",
     "text": [
      "Age = 22, Marks = 89, 22, [1, 2, 3, 4]\n"
     ]
    }
   ],
   "source": [
    "print('Age = {}, Marks = {}, {}, {}'.format(age, marks, age, [1, 2, 3, 4]))"
   ]
  },
  {
   "cell_type": "markdown",
   "id": "7d86e25f-ace0-4e3a-a785-be57ce11e754",
   "metadata": {},
   "source": [
    "#### f-string"
   ]
  },
  {
   "cell_type": "code",
   "execution_count": 29,
   "id": "ce4c5627-cfd6-42d1-8446-66a44adce6da",
   "metadata": {},
   "outputs": [
    {
     "name": "stdout",
     "output_type": "stream",
     "text": [
      "Age = 22, Marks = 89, 999, CBP\n"
     ]
    }
   ],
   "source": [
    "print(f'Age = {age}, Marks = {marks}, {999}, {\"CBP\"}')"
   ]
  },
  {
   "cell_type": "markdown",
   "id": "16494506-859b-44bc-85db-51290558818e",
   "metadata": {},
   "source": [
    "### format specifier"
   ]
  },
  {
   "cell_type": "code",
   "execution_count": null,
   "id": "edebcf46-92d9-4e91-821a-eac5ae9f5b2c",
   "metadata": {},
   "outputs": [],
   "source": [
    "int   - %d\n",
    "float - %f\n",
    "str   - %s"
   ]
  },
  {
   "cell_type": "code",
   "execution_count": 31,
   "id": "dd89b48e-e4fc-4072-9a3d-2e6836eaa529",
   "metadata": {},
   "outputs": [
    {
     "name": "stdout",
     "output_type": "stream",
     "text": [
      "Age = 22, Marks = 89\n"
     ]
    }
   ],
   "source": [
    "print('Age = %d, Marks = %d'%(age, marks))"
   ]
  },
  {
   "cell_type": "code",
   "execution_count": 32,
   "id": "3a2e84df-58a2-4223-a1f8-182544c86765",
   "metadata": {},
   "outputs": [
    {
     "name": "stdout",
     "output_type": "stream",
     "text": [
      "Name = ABC, percentage = 89.890000\n"
     ]
    }
   ],
   "source": [
    "name = 'ABC'\n",
    "percentage = 89.89\n",
    "print('Name = %s, percentage = %f'%(name, percentage))"
   ]
  },
  {
   "cell_type": "markdown",
   "id": "c02e56ef-1b51-4386-b489-dca3173735da",
   "metadata": {},
   "source": [
    "### raw string"
   ]
  },
  {
   "cell_type": "code",
   "execution_count": 47,
   "id": "86ef445b-de30-4794-8262-65dce0c25005",
   "metadata": {},
   "outputs": [
    {
     "name": "stdout",
     "output_type": "stream",
     "text": [
      "hello\n",
      "world\n"
     ]
    }
   ],
   "source": [
    "abc = 'hello\\nworld'\n",
    "print(abc)"
   ]
  },
  {
   "cell_type": "code",
   "execution_count": 48,
   "id": "e2a7126b-1099-4713-a018-39f45844f3bf",
   "metadata": {},
   "outputs": [
    {
     "name": "stdout",
     "output_type": "stream",
     "text": [
      "hello\\nworld\n"
     ]
    }
   ],
   "source": [
    "abc = r'hello\\nworld'\n",
    "print(abc)"
   ]
  },
  {
   "cell_type": "code",
   "execution_count": 49,
   "id": "a88712cf-37ab-4cbf-9d99-5e1613c2b19a",
   "metadata": {},
   "outputs": [
    {
     "name": "stdout",
     "output_type": "stream",
     "text": [
      "hello\tworld\n"
     ]
    }
   ],
   "source": [
    "string = 'hello\\tworld'\n",
    "print(string)"
   ]
  },
  {
   "cell_type": "code",
   "execution_count": 50,
   "id": "8fb7a16e-1da9-4ff9-998d-78c432db1f61",
   "metadata": {},
   "outputs": [
    {
     "name": "stdout",
     "output_type": "stream",
     "text": [
      "hello\\tworld\n"
     ]
    }
   ],
   "source": [
    "string = r'hello\\tworld'\n",
    "print(string)"
   ]
  },
  {
   "cell_type": "markdown",
   "id": "362baea4-201a-45fa-a825-529e091cff54",
   "metadata": {},
   "source": [
    "### Type casting"
   ]
  },
  {
   "cell_type": "code",
   "execution_count": 33,
   "id": "8ae197c6-57ef-483c-8e5a-11c415c506bc",
   "metadata": {},
   "outputs": [
    {
     "data": {
      "text/plain": [
       "1"
      ]
     },
     "execution_count": 33,
     "metadata": {},
     "output_type": "execute_result"
    }
   ],
   "source": [
    "st = '1'\n",
    "int(st)"
   ]
  },
  {
   "cell_type": "code",
   "execution_count": 34,
   "id": "597819c4-759e-4a9e-bb6a-b11f55dc9c44",
   "metadata": {},
   "outputs": [
    {
     "data": {
      "text/plain": [
       "1234"
      ]
     },
     "execution_count": 34,
     "metadata": {},
     "output_type": "execute_result"
    }
   ],
   "source": [
    "st = '1234'\n",
    "int(st)"
   ]
  },
  {
   "cell_type": "code",
   "execution_count": 36,
   "id": "98a7455c-d76a-46c9-912c-07fa62210a79",
   "metadata": {},
   "outputs": [
    {
     "data": {
      "text/plain": [
       "7.89123"
      ]
     },
     "execution_count": 36,
     "metadata": {},
     "output_type": "execute_result"
    }
   ],
   "source": [
    "st = '7.89123'\n",
    "float(st)"
   ]
  },
  {
   "cell_type": "code",
   "execution_count": 51,
   "id": "806336b0-0086-40cc-aa24-389085f453ab",
   "metadata": {},
   "outputs": [
    {
     "ename": "ValueError",
     "evalue": "invalid literal for int() with base 10: '7.89123'",
     "output_type": "error",
     "traceback": [
      "\u001b[0;31m---------------------------------------------------------------------------\u001b[0m",
      "\u001b[0;31mValueError\u001b[0m                                Traceback (most recent call last)",
      "Cell \u001b[0;32mIn[51], line 2\u001b[0m\n\u001b[1;32m      1\u001b[0m st \u001b[38;5;241m=\u001b[39m \u001b[38;5;124m'\u001b[39m\u001b[38;5;124m7.89123\u001b[39m\u001b[38;5;124m'\u001b[39m\n\u001b[0;32m----> 2\u001b[0m \u001b[38;5;28;43mint\u001b[39;49m\u001b[43m(\u001b[49m\u001b[43mst\u001b[49m\u001b[43m)\u001b[49m\n",
      "\u001b[0;31mValueError\u001b[0m: invalid literal for int() with base 10: '7.89123'"
     ]
    }
   ],
   "source": [
    "st = '7.89123'\n",
    "int(st)"
   ]
  },
  {
   "cell_type": "code",
   "execution_count": 37,
   "id": "ba609230-3d4e-484b-9dc7-b999e12fbd66",
   "metadata": {},
   "outputs": [
    {
     "data": {
      "text/plain": [
       "7"
      ]
     },
     "execution_count": 37,
     "metadata": {},
     "output_type": "execute_result"
    }
   ],
   "source": [
    "st ='7.89123'\n",
    "int(float(st))"
   ]
  },
  {
   "cell_type": "code",
   "execution_count": 38,
   "id": "89f409e5-5fed-4a09-a6e5-5262309fbec8",
   "metadata": {},
   "outputs": [
    {
     "data": {
      "text/plain": [
       "'123'"
      ]
     },
     "execution_count": 38,
     "metadata": {},
     "output_type": "execute_result"
    }
   ],
   "source": [
    "num = 123\n",
    "str(num)"
   ]
  },
  {
   "cell_type": "code",
   "execution_count": 39,
   "id": "3dbff9a4-6bfb-4591-9e84-8e75491ecbd7",
   "metadata": {},
   "outputs": [
    {
     "data": {
      "text/plain": [
       "'3.1345'"
      ]
     },
     "execution_count": 39,
     "metadata": {},
     "output_type": "execute_result"
    }
   ],
   "source": [
    "num = 3.1345\n",
    "str(num)"
   ]
  },
  {
   "cell_type": "markdown",
   "id": "c9600422-55f6-4ad5-bd2b-eb68ed4881e5",
   "metadata": {},
   "source": [
    "### concatenation"
   ]
  },
  {
   "cell_type": "code",
   "execution_count": 40,
   "id": "23f749f5-79bb-45ee-b802-cf10a81fbf09",
   "metadata": {},
   "outputs": [
    {
     "data": {
      "text/plain": [
       "'ABC123'"
      ]
     },
     "execution_count": 40,
     "metadata": {},
     "output_type": "execute_result"
    }
   ],
   "source": [
    "str1 = 'ABC'\n",
    "str2 = '123'\n",
    "str3 = str1 + str2\n",
    "str3"
   ]
  },
  {
   "cell_type": "code",
   "execution_count": 41,
   "id": "39b75beb-8714-4126-a688-73f587827051",
   "metadata": {},
   "outputs": [
    {
     "data": {
      "text/plain": [
       "'123ABC'"
      ]
     },
     "execution_count": 41,
     "metadata": {},
     "output_type": "execute_result"
    }
   ],
   "source": [
    "str1 = 'ABC'\n",
    "str2 = '123'\n",
    "str3 = str2 + str1\n",
    "str3"
   ]
  },
  {
   "cell_type": "code",
   "execution_count": 44,
   "id": "d58d05ea-4088-4d8d-bcc5-d93d7f5aae5a",
   "metadata": {},
   "outputs": [
    {
     "name": "stdout",
     "output_type": "stream",
     "text": [
      "127186363470064\n",
      "127185885824688\n"
     ]
    },
    {
     "data": {
      "text/plain": [
       "'ABC123'"
      ]
     },
     "execution_count": 44,
     "metadata": {},
     "output_type": "execute_result"
    }
   ],
   "source": [
    "str1 = 'ABC'\n",
    "str2 = '123'\n",
    "print(id(str1))\n",
    "str1 = str1 + str2\n",
    "print(id(str1))\n",
    "str1"
   ]
  },
  {
   "cell_type": "code",
   "execution_count": 45,
   "id": "b297a2f4-559e-4e20-a05d-9cc603e6547d",
   "metadata": {},
   "outputs": [
    {
     "data": {
      "text/plain": [
       "'strstrstrstr'"
      ]
     },
     "execution_count": 45,
     "metadata": {},
     "output_type": "execute_result"
    }
   ],
   "source": [
    "string = 'str' * 4\n",
    "string"
   ]
  },
  {
   "cell_type": "code",
   "execution_count": 46,
   "id": "629912e9-296a-4c60-8f6c-4c42954c36ca",
   "metadata": {},
   "outputs": [
    {
     "name": "stdout",
     "output_type": "stream",
     "text": [
      "strstrstrstr\n"
     ]
    }
   ],
   "source": [
    "string = 'str' * 4\n",
    "print(string)"
   ]
  },
  {
   "cell_type": "code",
   "execution_count": 52,
   "id": "a3f290b1-d383-46d4-823e-b38e101d09ae",
   "metadata": {},
   "outputs": [
    {
     "data": {
      "text/plain": [
       "'****'"
      ]
     },
     "execution_count": 52,
     "metadata": {},
     "output_type": "execute_result"
    }
   ],
   "source": [
    "string = '*' * 4\n",
    "string"
   ]
  },
  {
   "cell_type": "code",
   "execution_count": 53,
   "id": "9a859044-adc3-4503-9a2b-9c4357955942",
   "metadata": {},
   "outputs": [
    {
     "name": "stdout",
     "output_type": "stream",
     "text": [
      "\n",
      "*\n",
      "**\n",
      "***\n",
      "****\n",
      "*****\n",
      "******\n"
     ]
    }
   ],
   "source": [
    "for i in range(7):\n",
    "    for j in range(i):\n",
    "        print('*', end = '')\n",
    "    print()"
   ]
  },
  {
   "cell_type": "code",
   "execution_count": 54,
   "id": "da4a0e94-59c4-40cf-84d6-4e0c5009a5f3",
   "metadata": {},
   "outputs": [
    {
     "name": "stdout",
     "output_type": "stream",
     "text": [
      "\n",
      "*\n",
      "**\n",
      "***\n",
      "****\n",
      "*****\n",
      "******\n"
     ]
    }
   ],
   "source": [
    "for i in range(7):\n",
    "    print('*'*i, end = '')\n",
    "    print()"
   ]
  },
  {
   "cell_type": "code",
   "execution_count": 55,
   "id": "19655ae4-61ea-45ae-9e1d-a0587343f777",
   "metadata": {},
   "outputs": [
    {
     "data": {
      "text/plain": [
       "[1, 3]"
      ]
     },
     "execution_count": 55,
     "metadata": {},
     "output_type": "execute_result"
    }
   ],
   "source": [
    "a = [1,2,3]\n",
    "del a[1]\n",
    "a"
   ]
  },
  {
   "cell_type": "code",
   "execution_count": 1,
   "id": "946ba7d7-1227-4d8e-b406-9ee176f774a7",
   "metadata": {},
   "outputs": [
    {
     "ename": "TypeError",
     "evalue": "'str' object doesn't support item deletion",
     "output_type": "error",
     "traceback": [
      "\u001b[0;31m---------------------------------------------------------------------------\u001b[0m",
      "\u001b[0;31mTypeError\u001b[0m                                 Traceback (most recent call last)",
      "Cell \u001b[0;32mIn[1], line 2\u001b[0m\n\u001b[1;32m      1\u001b[0m a \u001b[38;5;241m=\u001b[39m \u001b[38;5;124m'\u001b[39m\u001b[38;5;124mabcdefg\u001b[39m\u001b[38;5;124m'\u001b[39m\n\u001b[0;32m----> 2\u001b[0m \u001b[38;5;28;01mdel\u001b[39;00m a[\u001b[38;5;241m1\u001b[39m]\n\u001b[1;32m      3\u001b[0m a\n",
      "\u001b[0;31mTypeError\u001b[0m: 'str' object doesn't support item deletion"
     ]
    }
   ],
   "source": [
    "a = 'abcdefg'\n",
    "del a[1]\n",
    "a"
   ]
  },
  {
   "cell_type": "markdown",
   "id": "db5333a8-79ac-4fcb-972a-663cc9c0cff9",
   "metadata": {},
   "source": [
    "### enumerate()"
   ]
  },
  {
   "cell_type": "code",
   "execution_count": 56,
   "id": "ffa1e8df-cf9c-4b16-9132-cd162e83a228",
   "metadata": {},
   "outputs": [
    {
     "name": "stdout",
     "output_type": "stream",
     "text": [
      "Character a is present as index 0\n",
      "Character b is present as index 1\n",
      "Character c is present as index 2\n",
      "Character d is present as index 3\n",
      "Character e is present as index 4\n",
      "Character f is present as index 5\n",
      "Character g is present as index 6\n",
      "Character h is present as index 7\n"
     ]
    }
   ],
   "source": [
    "string = 'abcdefgh'\n",
    "for i, v in enumerate(string):\n",
    "    print(f'Character {v} is present as index {i}')"
   ]
  },
  {
   "cell_type": "markdown",
   "id": "06ac8c65-192e-43ba-baf1-e42f44f5c79a",
   "metadata": {},
   "source": [
    "## Indexing\n",
    "\n",
    "#### postive"
   ]
  },
  {
   "cell_type": "code",
   "execution_count": 57,
   "id": "c30e7ac7-2f41-48e2-9548-dda6a0cf2b22",
   "metadata": {},
   "outputs": [
    {
     "name": "stdout",
     "output_type": "stream",
     "text": [
      "0 1 2 3 4 5 6 7 8 9 "
     ]
    }
   ],
   "source": [
    "string = '0123456789'\n",
    "for i in range(len(string)):\n",
    "    print(string[i], end = ' ')"
   ]
  },
  {
   "cell_type": "markdown",
   "id": "bc295187-f5ee-43c9-a0e8-50f16a8cacb5",
   "metadata": {},
   "source": [
    "#### negative"
   ]
  },
  {
   "cell_type": "code",
   "execution_count": 2,
   "id": "af0e46d3-fd3e-4544-8d44-4fc756e82799",
   "metadata": {},
   "outputs": [
    {
     "name": "stdout",
     "output_type": "stream",
     "text": [
      "9 8 7 6 5 4 3 2 1 0 "
     ]
    }
   ],
   "source": [
    "string = '0123456789'\n",
    "for i in range(-1, -len(string)-1, -1):\n",
    "    print(string[i], end = ' ')"
   ]
  },
  {
   "cell_type": "code",
   "execution_count": 3,
   "id": "c300833e-87cc-4921-aef4-2a5a274c0f71",
   "metadata": {},
   "outputs": [
    {
     "name": "stdout",
     "output_type": "stream",
     "text": [
      "9 8 7 6 5 4 3 2 1 0 "
     ]
    }
   ],
   "source": [
    "string = '0123456789'\n",
    "for i in range(-1, -len(string)-1, -1):\n",
    "    print(string[i], end = ' ')"
   ]
  },
  {
   "cell_type": "code",
   "execution_count": 4,
   "id": "bc2dd7fe-122b-4499-9ca7-b6980849c257",
   "metadata": {},
   "outputs": [
    {
     "data": {
      "text/plain": [
       "'0'"
      ]
     },
     "execution_count": 4,
     "metadata": {},
     "output_type": "execute_result"
    }
   ],
   "source": [
    "string[-10]"
   ]
  },
  {
   "cell_type": "markdown",
   "id": "60c154f3-0966-4751-9e1b-265200b1cbae",
   "metadata": {},
   "source": [
    "### Slicing"
   ]
  },
  {
   "cell_type": "code",
   "execution_count": null,
   "id": "05baa3c2-4691-4d79-ad65-22b015b0c881",
   "metadata": {},
   "outputs": [],
   "source": [
    "string[ start_index : end_index : step_size]\n",
    "start_index-> default = 0\n",
    "end_index-> default = length of object\n",
    "step_size-> default = 1"
   ]
  },
  {
   "cell_type": "code",
   "execution_count": 5,
   "id": "2db17a54-2495-4ce9-9a5c-fb7e7b9c40d3",
   "metadata": {},
   "outputs": [
    {
     "data": {
      "text/plain": [
       "'34567'"
      ]
     },
     "execution_count": 5,
     "metadata": {},
     "output_type": "execute_result"
    }
   ],
   "source": [
    "string = '0123456789'\n",
    "string[3:8:]"
   ]
  },
  {
   "cell_type": "code",
   "execution_count": 6,
   "id": "e4815081-35b0-45ea-b311-bf1c7af59eba",
   "metadata": {},
   "outputs": [
    {
     "data": {
      "text/plain": [
       "64"
      ]
     },
     "execution_count": 6,
     "metadata": {},
     "output_type": "execute_result"
    }
   ],
   "source": [
    "string = \"Indian supercomputer names begins with \\\"Param\\\" like Paramshavak.\"\n",
    "len(string)"
   ]
  },
  {
   "cell_type": "code",
   "execution_count": 7,
   "id": "871747bc-ab9b-4969-a998-e3f2d1a2ac16",
   "metadata": {},
   "outputs": [
    {
     "data": {
      "text/plain": [
       "'aucu eestPmi'"
      ]
     },
     "execution_count": 7,
     "metadata": {},
     "output_type": "execute_result"
    }
   ],
   "source": [
    "string[4:50:4]"
   ]
  },
  {
   "cell_type": "code",
   "execution_count": 8,
   "id": "de699a51-b57f-4778-a80b-067672545a72",
   "metadata": {},
   "outputs": [
    {
     "data": {
      "text/plain": [
       "'.kavahsmaraP ekil \"maraP\" htiw snigeb seman retupmocrepus naidnI'"
      ]
     },
     "execution_count": 8,
     "metadata": {},
     "output_type": "execute_result"
    }
   ],
   "source": [
    "string[::-1]"
   ]
  },
  {
   "cell_type": "code",
   "execution_count": 9,
   "id": "16bf46d0-1a53-4490-8b06-e1c0bd36d2dc",
   "metadata": {},
   "outputs": [
    {
     "data": {
      "text/plain": [
       "'\"r\"t ibenep'"
      ]
     },
     "execution_count": 9,
     "metadata": {},
     "output_type": "execute_result"
    }
   ],
   "source": [
    "string[45:13:-3]"
   ]
  },
  {
   "cell_type": "markdown",
   "id": "88dc4fcc-5a0c-4724-bd31-4b1de772b600",
   "metadata": {},
   "source": [
    "### string functions"
   ]
  },
  {
   "cell_type": "code",
   "execution_count": 11,
   "id": "a70f17e5-b5b4-428c-8b4e-aa778cc620a2",
   "metadata": {},
   "outputs": [
    {
     "name": "stdout",
     "output_type": "stream",
     "text": [
      "Guwahati is the largest city of the Indian state of Assam and also the largest metropolis in northeastern India.\n"
     ]
    }
   ],
   "source": [
    "string = 'Guwahati is the largest city of the Indian state of \\\n",
    "Assam and also the largest metropolis in northeastern India.'\n",
    "print(string)"
   ]
  },
  {
   "cell_type": "markdown",
   "id": "08bfc847-acb7-46b1-9670-04081940c13c",
   "metadata": {},
   "source": [
    "### capitalize()\n",
    "\n",
    "######          -capitalize first chharacter of whole string\n",
    "######         -rest of the characters converted to lower case if they are in upper case"
   ]
  },
  {
   "cell_type": "code",
   "execution_count": 12,
   "id": "220c037d-fa3c-4852-98d4-7ec54b771b6b",
   "metadata": {},
   "outputs": [
    {
     "data": {
      "text/plain": [
       "'Guwahati is the largest city of the indian state of assam and also the largest metropolis in northeastern india.'"
      ]
     },
     "execution_count": 12,
     "metadata": {},
     "output_type": "execute_result"
    }
   ],
   "source": [
    "string.capitalize()"
   ]
  },
  {
   "cell_type": "markdown",
   "id": "7f96ac84-a786-406d-9f1b-9d6fddbba8e4",
   "metadata": {},
   "source": [
    "### title()\n",
    "\n",
    "###### -changes first character to capital for each word in string separated by space\n",
    "###### -rest of the characters converted to lower case if they are in upper case"
   ]
  },
  {
   "cell_type": "code",
   "execution_count": 13,
   "id": "e35f22ac-672b-4aa3-95a6-04f4a87928df",
   "metadata": {},
   "outputs": [
    {
     "data": {
      "text/plain": [
       "'Guwahati Is The Largest City Of The Indian State Of Assam And Also The Largest Metropolis In Northeastern India.'"
      ]
     },
     "execution_count": 13,
     "metadata": {},
     "output_type": "execute_result"
    }
   ],
   "source": [
    "string.title()"
   ]
  },
  {
   "cell_type": "code",
   "execution_count": 14,
   "id": "fd2e2876-a01e-4f7e-b3e2-4baeaf7d3dcc",
   "metadata": {},
   "outputs": [
    {
     "data": {
      "text/plain": [
       "'Abcc Asbh'"
      ]
     },
     "execution_count": 14,
     "metadata": {},
     "output_type": "execute_result"
    }
   ],
   "source": [
    "'ABcc asbh'.title()"
   ]
  },
  {
   "cell_type": "markdown",
   "id": "2fc5b09c-39f8-45f4-b5a0-33dfb249fa44",
   "metadata": {},
   "source": [
    "### upper()"
   ]
  },
  {
   "cell_type": "code",
   "execution_count": 15,
   "id": "68522950-39a6-4fa4-9579-fa4cae5e5a63",
   "metadata": {},
   "outputs": [
    {
     "data": {
      "text/plain": [
       "'GUWAHATI IS THE LARGEST CITY OF THE INDIAN STATE OF ASSAM AND ALSO THE LARGEST METROPOLIS IN NORTHEASTERN INDIA.'"
      ]
     },
     "execution_count": 15,
     "metadata": {},
     "output_type": "execute_result"
    }
   ],
   "source": [
    "string.upper()"
   ]
  },
  {
   "cell_type": "code",
   "execution_count": 16,
   "id": "362e9b74-eac2-422b-8f34-91cd600aa4b8",
   "metadata": {},
   "outputs": [
    {
     "data": {
      "text/plain": [
       "'ABCEFGHIJ'"
      ]
     },
     "execution_count": 16,
     "metadata": {},
     "output_type": "execute_result"
    }
   ],
   "source": [
    "abc = 'ABCefghIJ'\n",
    "abc.upper()"
   ]
  },
  {
   "cell_type": "markdown",
   "id": "d41b7fdb-b05a-46de-abba-e22739023777",
   "metadata": {},
   "source": [
    "### lower()"
   ]
  },
  {
   "cell_type": "code",
   "execution_count": 17,
   "id": "cafd0d21-82c3-4ab5-b055-f9ab450283cf",
   "metadata": {},
   "outputs": [
    {
     "data": {
      "text/plain": [
       "'guwahati is the largest city of the indian state of assam and also the largest metropolis in northeastern india.'"
      ]
     },
     "execution_count": 17,
     "metadata": {},
     "output_type": "execute_result"
    }
   ],
   "source": [
    "string.lower()"
   ]
  },
  {
   "cell_type": "code",
   "execution_count": 18,
   "id": "625addbd-3916-4d88-a414-45537687ecc0",
   "metadata": {},
   "outputs": [
    {
     "data": {
      "text/plain": [
       "'efghijklm'"
      ]
     },
     "execution_count": 18,
     "metadata": {},
     "output_type": "execute_result"
    }
   ],
   "source": [
    "xyz = 'EFGHIJKLM'\n",
    "xyz.lower()"
   ]
  }
 ],
 "metadata": {
  "kernelspec": {
   "display_name": "Python 3 (ipykernel)",
   "language": "python",
   "name": "python3"
  },
  "language_info": {
   "codemirror_mode": {
    "name": "ipython",
    "version": 3
   },
   "file_extension": ".py",
   "mimetype": "text/x-python",
   "name": "python",
   "nbconvert_exporter": "python",
   "pygments_lexer": "ipython3",
   "version": "3.10.12"
  }
 },
 "nbformat": 4,
 "nbformat_minor": 5
}
