{
 "cells": [
  {
   "cell_type": "markdown",
   "id": "c9d1b244-b1ba-45b5-91d3-e8f3ebb012b4",
   "metadata": {},
   "source": [
    "## Slicing\n",
    "\n",
    "to fetch more than one elements from list..(contigious)\n",
    "\n",
    "## list1[start_index : end_index]\n",
    "\n",
    "end_index is excluded if start_index is not mentioned default = 0 if end_index is not mentioned default = length of list"
   ]
  },
  {
   "cell_type": "code",
   "execution_count": 1,
   "id": "7e98e590-a3c7-469a-86e6-a0a29f304950",
   "metadata": {},
   "outputs": [
    {
     "data": {
      "text/plain": [
       "1"
      ]
     },
     "execution_count": 1,
     "metadata": {},
     "output_type": "execute_result"
    }
   ],
   "source": [
    "list1 = [1,2,3,4,5,6,7]\n",
    "list1[0]"
   ]
  },
  {
   "cell_type": "code",
   "execution_count": 2,
   "id": "4705a873-a4e1-4e39-87d5-baa165490c89",
   "metadata": {},
   "outputs": [
    {
     "data": {
      "text/plain": [
       "[0, 1, 2, 3, 4]"
      ]
     },
     "execution_count": 2,
     "metadata": {},
     "output_type": "execute_result"
    }
   ],
   "source": [
    "list1 = [0, 1, 2, 3, 4, 5, 6, 7]\n",
    "list1[ 0 : 5  ]"
   ]
  },
  {
   "cell_type": "code",
   "execution_count": 3,
   "id": "b0d91a39-a56b-4746-9914-d81a0a065c1f",
   "metadata": {},
   "outputs": [
    {
     "data": {
      "text/plain": [
       "[3, 4, 5]"
      ]
     },
     "execution_count": 3,
     "metadata": {},
     "output_type": "execute_result"
    }
   ],
   "source": [
    "list1[3:6]"
   ]
  },
  {
   "cell_type": "code",
   "execution_count": 4,
   "id": "6814e3ec-446c-44eb-94a2-adb693f08ec9",
   "metadata": {},
   "outputs": [
    {
     "data": {
      "text/plain": [
       "[0, 1, 2, 3, 4, 5, 6, 7]"
      ]
     },
     "execution_count": 4,
     "metadata": {},
     "output_type": "execute_result"
    }
   ],
   "source": [
    "list1[:len(list1)]"
   ]
  },
  {
   "cell_type": "code",
   "execution_count": 5,
   "id": "fbcd73d9-b379-4100-8307-e1b319445047",
   "metadata": {},
   "outputs": [
    {
     "data": {
      "text/plain": [
       "[0, 1, 2, 3, 4, 5, 6, 7]"
      ]
     },
     "execution_count": 5,
     "metadata": {},
     "output_type": "execute_result"
    }
   ],
   "source": [
    "list1[:8]"
   ]
  },
  {
   "cell_type": "code",
   "execution_count": 6,
   "id": "eddadb20-1478-4a74-b715-02c9439f6be9",
   "metadata": {},
   "outputs": [
    {
     "data": {
      "text/plain": [
       "[0, 1, 2, 3, 4, 5, 6, 7]"
      ]
     },
     "execution_count": 6,
     "metadata": {},
     "output_type": "execute_result"
    }
   ],
   "source": [
    "list1[0:]"
   ]
  },
  {
   "cell_type": "code",
   "execution_count": 7,
   "id": "d997340d-27ea-45c2-9db7-025ff7f6f9a9",
   "metadata": {},
   "outputs": [
    {
     "data": {
      "text/plain": [
       "[3, 4, 5, 6, 7]"
      ]
     },
     "execution_count": 7,
     "metadata": {},
     "output_type": "execute_result"
    }
   ],
   "source": [
    "list1[3:]"
   ]
  },
  {
   "cell_type": "code",
   "execution_count": 8,
   "id": "fec2d600-250f-4e69-a737-8e1efa67e584",
   "metadata": {},
   "outputs": [
    {
     "data": {
      "text/plain": [
       "[0, 1, 2, 3, 4, 5, 6, 7]"
      ]
     },
     "execution_count": 8,
     "metadata": {},
     "output_type": "execute_result"
    }
   ],
   "source": [
    "list1[:]"
   ]
  },
  {
   "cell_type": "markdown",
   "id": "a0c74ace-ab5d-4bdf-ac0e-b4b25ff18072",
   "metadata": {},
   "source": [
    "### list1[ start_index : end_index : step_size ]\n",
    "\n",
    "if step_size is not mentioned dafult = 1"
   ]
  },
  {
   "cell_type": "code",
   "execution_count": null,
   "id": "ae18f939-25f9-48d6-8593-30c5aafd56db",
   "metadata": {},
   "outputs": [],
   "source": [
    "list1 = [0, 1, 2, 3, 4, 5, 6, 7]"
   ]
  },
  {
   "cell_type": "code",
   "execution_count": 9,
   "id": "5f67c90e-5333-47e1-9253-96a60d4eab53",
   "metadata": {},
   "outputs": [
    {
     "data": {
      "text/plain": [
       "[1, 3, 5]"
      ]
     },
     "execution_count": 9,
     "metadata": {},
     "output_type": "execute_result"
    }
   ],
   "source": [
    "list1[ 1 : 7 : 2]"
   ]
  },
  {
   "cell_type": "code",
   "execution_count": 10,
   "id": "8e3d4965-8cef-418d-90cd-2dd3fb653540",
   "metadata": {},
   "outputs": [
    {
     "data": {
      "text/plain": [
       "[1, 2, 3, 4, 5, 6]"
      ]
     },
     "execution_count": 10,
     "metadata": {},
     "output_type": "execute_result"
    }
   ],
   "source": [
    "list1[ 1 : 7 : 1]"
   ]
  },
  {
   "cell_type": "code",
   "execution_count": 11,
   "id": "0fb23fa5-ac2e-46eb-8414-96e02f96ca97",
   "metadata": {},
   "outputs": [
    {
     "ename": "ValueError",
     "evalue": "slice step cannot be zero",
     "output_type": "error",
     "traceback": [
      "\u001b[0;31m---------------------------------------------------------------------------\u001b[0m",
      "\u001b[0;31mValueError\u001b[0m                                Traceback (most recent call last)",
      "Cell \u001b[0;32mIn[11], line 1\u001b[0m\n\u001b[0;32m----> 1\u001b[0m \u001b[43mlist1\u001b[49m\u001b[43m[\u001b[49m\u001b[43m \u001b[49m\u001b[38;5;241;43m1\u001b[39;49m\u001b[43m \u001b[49m\u001b[43m:\u001b[49m\u001b[43m \u001b[49m\u001b[38;5;241;43m7\u001b[39;49m\u001b[43m \u001b[49m\u001b[43m:\u001b[49m\u001b[43m \u001b[49m\u001b[38;5;241;43m0\u001b[39;49m\u001b[43m]\u001b[49m\n",
      "\u001b[0;31mValueError\u001b[0m: slice step cannot be zero"
     ]
    }
   ],
   "source": [
    "list1[ 1 : 7 : 0]"
   ]
  },
  {
   "cell_type": "code",
   "execution_count": 12,
   "id": "6dc6f3c0-617c-4d66-95b6-0145038591b5",
   "metadata": {},
   "outputs": [
    {
     "name": "stdout",
     "output_type": "stream",
     "text": [
      "[0, 1, 2, 3, 4, 5, 6, 7, 8, 9, 10, 11, 12, 13, 14, 15, 16, 17, 18, 19, 20, 21, 22, 23, 24, 25, 26, 27, 28, 29]\n"
     ]
    }
   ],
   "source": [
    "array = []\n",
    "for i in range(30):\n",
    "    array.append(i)\n",
    "print(array)"
   ]
  },
  {
   "cell_type": "code",
   "execution_count": 13,
   "id": "42af558c-848a-4714-8e72-ca55ca26e705",
   "metadata": {},
   "outputs": [
    {
     "data": {
      "text/plain": [
       "[3, 7, 11, 15, 19, 23]"
      ]
     },
     "execution_count": 13,
     "metadata": {},
     "output_type": "execute_result"
    }
   ],
   "source": [
    "array[3:26:4]"
   ]
  },
  {
   "cell_type": "code",
   "execution_count": 14,
   "id": "9c4f8e65-df6e-47e4-8033-3437d24eeb7b",
   "metadata": {},
   "outputs": [
    {
     "data": {
      "text/plain": [
       "[0, 5, 10, 15, 20, 25]"
      ]
     },
     "execution_count": 14,
     "metadata": {},
     "output_type": "execute_result"
    }
   ],
   "source": [
    "array[::5]"
   ]
  },
  {
   "cell_type": "code",
   "execution_count": 15,
   "id": "6ba10a5f-d400-4380-985c-da19fbe153d7",
   "metadata": {},
   "outputs": [
    {
     "data": {
      "text/plain": [
       "[0, 5, 10, 15, 20, 25]"
      ]
     },
     "execution_count": 15,
     "metadata": {},
     "output_type": "execute_result"
    }
   ],
   "source": [
    "array[0:len(array):5]"
   ]
  },
  {
   "cell_type": "code",
   "execution_count": 16,
   "id": "7181faa6-2fd8-4cab-b6b4-5e1c9eda0738",
   "metadata": {},
   "outputs": [
    {
     "data": {
      "text/plain": [
       "[10, 9, 8, 7, 6, 5, 4, 3]"
      ]
     },
     "execution_count": 16,
     "metadata": {},
     "output_type": "execute_result"
    }
   ],
   "source": [
    "array[10:2:-1]"
   ]
  },
  {
   "cell_type": "code",
   "execution_count": 17,
   "id": "41cac5a5-0142-4f83-9882-a72e2417dbbb",
   "metadata": {},
   "outputs": [
    {
     "data": {
      "text/plain": [
       "[25, 21, 17, 13, 9]"
      ]
     },
     "execution_count": 17,
     "metadata": {},
     "output_type": "execute_result"
    }
   ],
   "source": [
    "array[25:7:-4]"
   ]
  },
  {
   "cell_type": "code",
   "execution_count": 18,
   "id": "3b2ca984-1b37-406d-8c5b-d292a0246c0c",
   "metadata": {},
   "outputs": [
    {
     "name": "stdout",
     "output_type": "stream",
     "text": [
      "[29, 28, 27, 26, 25, 24, 23, 22, 21, 20, 19, 18, 17, 16, 15, 14, 13, 12, 11, 10, 9, 8, 7, 6, 5, 4, 3, 2, 1, 0]\n"
     ]
    }
   ],
   "source": [
    "print(array[::-1])"
   ]
  },
  {
   "cell_type": "code",
   "execution_count": 19,
   "id": "ab4c34c7-4cb7-401b-bacb-ed53305dd789",
   "metadata": {},
   "outputs": [
    {
     "data": {
      "text/plain": [
       "[25, 21, 17, 13, 9]"
      ]
     },
     "execution_count": 19,
     "metadata": {},
     "output_type": "execute_result"
    }
   ],
   "source": [
    "array[25:7:-4]"
   ]
  },
  {
   "cell_type": "code",
   "execution_count": 20,
   "id": "6ef5d98b-fa89-4ca7-9a1d-beceee6486d7",
   "metadata": {},
   "outputs": [
    {
     "name": "stdout",
     "output_type": "stream",
     "text": [
      "[0, 1, 2, 3, 4, 5, 6, 7, 8, 9, 10, 11, 12, 13, 14, 15, 16, 17, 18, 19, 20, 21, 22, 23, 24, 25, 26, 27, 28, 29]\n"
     ]
    }
   ],
   "source": [
    "print(array)"
   ]
  },
  {
   "cell_type": "code",
   "execution_count": 21,
   "id": "ca2bd63f-ed0a-4bd9-9058-1165773d6557",
   "metadata": {},
   "outputs": [
    {
     "name": "stdout",
     "output_type": "stream",
     "text": [
      "[0, 1, 2, 3, 4, 5, 6, 7, 8, 9, 10, 11, 12, 13, 14, 15, 16, 17, 18, 19, 20, 21, 22, 23, 24, 25, 26, 27, 28, 29]\n",
      "[0, 1, 2, 3, 4, 5, 6, 7, 8, 9, 10, 11, 12, 13, 14, 15, 16, 17, 18, 19, 20, 21, 22, 23, 24, 25, 26, 27, 28, 29]\n",
      "[29, 28, 27, 26, 25, 24, 23, 22, 21, 20, 19, 18, 17, 16, 15, 14, 13, 12, 11, 10, 9, 8, 7, 6, 5, 4, 3, 2, 1, 0]\n"
     ]
    }
   ],
   "source": [
    "print(array)\n",
    "sorted_array = array[::-1]\n",
    "print(array)\n",
    "print(sorted_array)"
   ]
  },
  {
   "cell_type": "code",
   "execution_count": 22,
   "id": "a967acc5-96b4-42b2-bc0c-868389f603a3",
   "metadata": {},
   "outputs": [
    {
     "data": {
      "text/plain": [
       "[]"
      ]
     },
     "execution_count": 22,
     "metadata": {},
     "output_type": "execute_result"
    }
   ],
   "source": [
    "array[0:10:-1]"
   ]
  },
  {
   "cell_type": "code",
   "execution_count": 23,
   "id": "83fe7258-f697-4e74-9958-f7b1a8833bf6",
   "metadata": {},
   "outputs": [
    {
     "data": {
      "text/plain": [
       "[]"
      ]
     },
     "execution_count": 23,
     "metadata": {},
     "output_type": "execute_result"
    }
   ],
   "source": [
    "array[27:3:3]"
   ]
  },
  {
   "cell_type": "code",
   "execution_count": null,
   "id": "d53c54dc-4b72-4838-9bbb-99bc801f24e8",
   "metadata": {},
   "outputs": [],
   "source": []
  }
 ],
 "metadata": {
  "kernelspec": {
   "display_name": "Python 3 (ipykernel)",
   "language": "python",
   "name": "python3"
  },
  "language_info": {
   "codemirror_mode": {
    "name": "ipython",
    "version": 3
   },
   "file_extension": ".py",
   "mimetype": "text/x-python",
   "name": "python",
   "nbconvert_exporter": "python",
   "pygments_lexer": "ipython3",
   "version": "3.10.12"
  }
 },
 "nbformat": 4,
 "nbformat_minor": 5
}
