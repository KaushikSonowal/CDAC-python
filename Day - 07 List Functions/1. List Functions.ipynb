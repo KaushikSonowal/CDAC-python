{
 "cells": [
  {
   "cell_type": "code",
   "execution_count": null,
   "id": "0b8dfb9c-1f83-4896-8cbe-1a4b7fc8fd3a",
   "metadata": {},
   "outputs": [],
   "source": [
    "# sort()\n",
    "# reverse()\n",
    "# sorted()\n",
    "# reversed()\n",
    "# index()\n",
    "# count()\n",
    "# copy()\n",
    "# nested list"
   ]
  },
  {
   "cell_type": "markdown",
   "id": "e5ca4e32-5495-4b1d-a661-407c90a896ca",
   "metadata": {},
   "source": [
    "## listObj.sort()"
   ]
  },
  {
   "cell_type": "markdown",
   "id": "e75eb0fb-8734-44f4-b64a-22365cc567fa",
   "metadata": {},
   "source": [
    "### Ascending"
   ]
  },
  {
   "cell_type": "code",
   "execution_count": 6,
   "id": "84b4d3d0-a723-4910-98fc-cad7ffcfc33e",
   "metadata": {},
   "outputs": [
    {
     "data": {
      "text/plain": [
       "[99, 94, 71, 91, 23, 77, 38, 68, 86, 50, 5, 47, 27, 70, 60, 78, 61, 33, 25, 60]"
      ]
     },
     "execution_count": 6,
     "metadata": {},
     "output_type": "execute_result"
    }
   ],
   "source": [
    "import random\n",
    "array = []\n",
    "for i in range(20):\n",
    "    array.append(random.randint(0,100))\n",
    "array    "
   ]
  },
  {
   "cell_type": "code",
   "execution_count": 7,
   "id": "de30f0fd-028c-4cac-835e-440604964217",
   "metadata": {},
   "outputs": [
    {
     "data": {
      "text/plain": [
       "[5, 23, 25, 27, 33, 38, 47, 50, 60, 60, 61, 68, 70, 71, 77, 78, 86, 91, 94, 99]"
      ]
     },
     "execution_count": 7,
     "metadata": {},
     "output_type": "execute_result"
    }
   ],
   "source": [
    "array.sort()\n",
    "array"
   ]
  },
  {
   "cell_type": "markdown",
   "id": "b0912b29-60c4-4b9e-83dd-af5119f1e56e",
   "metadata": {},
   "source": [
    "### Descending"
   ]
  },
  {
   "cell_type": "code",
   "execution_count": 8,
   "id": "7555034d-abc9-477d-a788-905d90ef9b88",
   "metadata": {},
   "outputs": [
    {
     "data": {
      "text/plain": [
       "[88, 55, 51, 38, 55, 93, 15, 74, 86, 4, 40, 92, 98, 100, 15, 15, 20, 18, 4, 24]"
      ]
     },
     "execution_count": 8,
     "metadata": {},
     "output_type": "execute_result"
    }
   ],
   "source": [
    "array = []\n",
    "for i in range(20):\n",
    "    array.append(random.randint(0,100))\n",
    "array"
   ]
  },
  {
   "cell_type": "code",
   "execution_count": 9,
   "id": "70e37277-3f2e-4d09-8f9a-94d6be300218",
   "metadata": {},
   "outputs": [
    {
     "data": {
      "text/plain": [
       "[100, 98, 93, 92, 88, 86, 74, 55, 55, 51, 40, 38, 24, 20, 18, 15, 15, 15, 4, 4]"
      ]
     },
     "execution_count": 9,
     "metadata": {},
     "output_type": "execute_result"
    }
   ],
   "source": [
    "array.sort(reverse=True)\n",
    "array"
   ]
  },
  {
   "cell_type": "code",
   "execution_count": 10,
   "id": "7f140b5f-e08c-4fd3-8a39-c12ab4f7c71b",
   "metadata": {},
   "outputs": [
    {
     "data": {
      "text/plain": [
       "[58, 34, 67, 35, 88, 20, 27, 85, 5, 81, 46, 89, 69, 11, 73, 87, 35, 24, 51, 68]"
      ]
     },
     "execution_count": 10,
     "metadata": {},
     "output_type": "execute_result"
    }
   ],
   "source": [
    "array = []\n",
    "for i in range(20):\n",
    "    array.append(random.randint(0,100))\n",
    "array"
   ]
  },
  {
   "cell_type": "code",
   "execution_count": 11,
   "id": "7b7f7d0b-4dc4-407c-a2af-cb1103096a39",
   "metadata": {},
   "outputs": [
    {
     "data": {
      "text/plain": [
       "[5, 11, 20, 24, 27, 34, 35, 35, 46, 51, 58, 67, 68, 69, 73, 81, 85, 87, 88, 89]"
      ]
     },
     "execution_count": 11,
     "metadata": {},
     "output_type": "execute_result"
    }
   ],
   "source": [
    "array.sort(reverse=False)\n",
    "array"
   ]
  },
  {
   "cell_type": "markdown",
   "id": "95507732-2cd8-447e-93d2-30390d3f6276",
   "metadata": {},
   "source": [
    "## listObj.reverse()"
   ]
  },
  {
   "cell_type": "code",
   "execution_count": 12,
   "id": "b18f3a71-1c7f-4889-bb1f-06eadfb682d2",
   "metadata": {},
   "outputs": [
    {
     "data": {
      "text/plain": [
       "[0, 1, 2, 3, 4, 5, 6, 7, 8, 9, 10, 11, 12, 13, 14]"
      ]
     },
     "execution_count": 12,
     "metadata": {},
     "output_type": "execute_result"
    }
   ],
   "source": [
    "array1 = []\n",
    "for i in range(15):\n",
    "    array1.append(i)\n",
    "array1"
   ]
  },
  {
   "cell_type": "code",
   "execution_count": 13,
   "id": "523e853e-2275-477c-b5cb-0fdf9ad4c78c",
   "metadata": {},
   "outputs": [
    {
     "data": {
      "text/plain": [
       "[14, 13, 12, 11, 10, 9, 8, 7, 6, 5, 4, 3, 2, 1, 0]"
      ]
     },
     "execution_count": 13,
     "metadata": {},
     "output_type": "execute_result"
    }
   ],
   "source": [
    "array1.reverse()\n",
    "array1"
   ]
  },
  {
   "cell_type": "code",
   "execution_count": 14,
   "id": "a2200fe9-5507-48c6-8402-30d352622d23",
   "metadata": {},
   "outputs": [
    {
     "data": {
      "text/plain": [
       "['Dibrugarh', 'Guwahati', 'Mumbai', 'Delhi']"
      ]
     },
     "execution_count": 14,
     "metadata": {},
     "output_type": "execute_result"
    }
   ],
   "source": [
    "cities = ['Delhi', 'Mumbai', 'Guwahati', 'Dibrugarh']\n",
    "cities.reverse()\n",
    "cities"
   ]
  },
  {
   "cell_type": "code",
   "execution_count": 15,
   "id": "09a6e1d0-e6de-4c15-956a-96649dd99344",
   "metadata": {},
   "outputs": [
    {
     "name": "stdout",
     "output_type": "stream",
     "text": [
      "abcd\n"
     ]
    }
   ],
   "source": [
    "print('abcd')"
   ]
  },
  {
   "cell_type": "code",
   "execution_count": 16,
   "id": "343e4699-b268-4237-a57b-9d2d3e7a4e67",
   "metadata": {},
   "outputs": [
    {
     "name": "stdout",
     "output_type": "stream",
     "text": [
      "['Dibrugarh', 'Guwahati', 'Mumbai', 'Delhi']\n"
     ]
    }
   ],
   "source": [
    "print(cities)"
   ]
  },
  {
   "cell_type": "markdown",
   "id": "64278222-dc90-46f2-8407-db96c2cf7179",
   "metadata": {},
   "source": [
    "### sorted()"
   ]
  },
  {
   "cell_type": "code",
   "execution_count": 17,
   "id": "36b3e535-106a-4b20-8e60-7d90e854d54f",
   "metadata": {},
   "outputs": [
    {
     "name": "stdout",
     "output_type": "stream",
     "text": [
      "[25, 75, 40, 35, 53, 20, 52, 65, 44, 24, 39, 91, 96, 31]\n",
      "[20, 24, 25, 31, 35, 39, 40, 44, 52, 53, 65, 75, 91, 96]\n"
     ]
    }
   ],
   "source": [
    "array = []\n",
    "for i in range(14):\n",
    "    array.append(random.randint(0,100))\n",
    "print(array)\n",
    "array_sorted = sorted(array)\n",
    "print(array_sorted)"
   ]
  },
  {
   "cell_type": "code",
   "execution_count": 18,
   "id": "ed17c425-1047-45cb-8288-bcc6434fe195",
   "metadata": {},
   "outputs": [
    {
     "name": "stdout",
     "output_type": "stream",
     "text": [
      "[51, 84, 81, 45, 59, 65, 65, 75, 68, 52, 34, 46, 37, 93]\n",
      "[93, 84, 81, 75, 68, 65, 65, 59, 52, 51, 46, 45, 37, 34]\n"
     ]
    }
   ],
   "source": [
    "array = []\n",
    "for i in range(14):\n",
    "    array.append(random.randint(0,100))\n",
    "print(array)\n",
    "array_sorted = sorted(array, reverse=True)\n",
    "print(array_sorted)"
   ]
  },
  {
   "cell_type": "code",
   "execution_count": 19,
   "id": "3a531d83-f642-4b0b-95b7-96fad1d87a00",
   "metadata": {},
   "outputs": [
    {
     "name": "stdout",
     "output_type": "stream",
     "text": [
      "[39, 13, 43, 41, 93, 98, 47, 60, 86, 18, 9, 37, 46, 84]\n",
      "[9, 13, 18, 37, 39, 41, 43, 46, 47, 60, 84, 86, 93, 98]\n"
     ]
    }
   ],
   "source": [
    "array = []\n",
    "for i in range(14):\n",
    "    array.append(random.randint(0,100))\n",
    "print(array)\n",
    "array_sorted = sorted(array, reverse=False)\n",
    "print(array_sorted)"
   ]
  },
  {
   "cell_type": "markdown",
   "id": "24398bb1-e4d8-43c0-9869-d5ca6c50add5",
   "metadata": {},
   "source": [
    "### reversed()"
   ]
  },
  {
   "cell_type": "code",
   "execution_count": 20,
   "id": "5989340e-3387-4d33-84c6-5bbdaa31fb48",
   "metadata": {},
   "outputs": [
    {
     "data": {
      "text/plain": [
       "[336, 914, 120, 815, 421, 922, 107, 790, 148]"
      ]
     },
     "execution_count": 20,
     "metadata": {},
     "output_type": "execute_result"
    }
   ],
   "source": [
    "array = []\n",
    "for i in range(9):\n",
    "    array.append(random.randint(100,999))\n",
    "array"
   ]
  },
  {
   "cell_type": "code",
   "execution_count": 21,
   "id": "7cbd17b7-ede7-4e60-8c8c-ca27d59068d9",
   "metadata": {},
   "outputs": [
    {
     "data": {
      "text/plain": [
       "[148, 790, 107, 922, 421, 815, 120, 914, 336]"
      ]
     },
     "execution_count": 21,
     "metadata": {},
     "output_type": "execute_result"
    }
   ],
   "source": [
    "array2 = reversed(array)\n",
    "array2 = list(array2)\n",
    "array2"
   ]
  },
  {
   "cell_type": "code",
   "execution_count": 22,
   "id": "7add6a4f-c1cc-45ea-b47a-65c4159a23db",
   "metadata": {},
   "outputs": [
    {
     "name": "stdout",
     "output_type": "stream",
     "text": [
      "[0, 1, 2, 3, 4, 5, 6, 7, 8, 9]\n"
     ]
    },
    {
     "data": {
      "text/plain": [
       "[9, 8, 7, 6, 5, 4, 3, 2, 1, 0]"
      ]
     },
     "execution_count": 22,
     "metadata": {},
     "output_type": "execute_result"
    }
   ],
   "source": [
    "array = []\n",
    "for i in range(10):\n",
    "    array.append(i)\n",
    "print(array)\n",
    "array2 = list(reversed(array))\n",
    "array2"
   ]
  },
  {
   "cell_type": "markdown",
   "id": "0e5aa682-a54d-4fae-9a79-46eecd2ea8e5",
   "metadata": {},
   "source": [
    "### max()"
   ]
  },
  {
   "cell_type": "code",
   "execution_count": 23,
   "id": "fb1d7b80-88cf-44ba-b229-f7db2cb6ea7d",
   "metadata": {},
   "outputs": [
    {
     "name": "stdout",
     "output_type": "stream",
     "text": [
      "[37, 31, 7, 32, 79, 67, 79, 9, 1, 25, 3, 99, 92, 74]\n"
     ]
    }
   ],
   "source": [
    "array = []\n",
    "for i in range(14):\n",
    "    array.append(random.randint(0,100))\n",
    "print(array)"
   ]
  },
  {
   "cell_type": "code",
   "execution_count": 24,
   "id": "bc90c4af-32c4-41be-bf97-221a5b077def",
   "metadata": {},
   "outputs": [
    {
     "data": {
      "text/plain": [
       "99"
      ]
     },
     "execution_count": 24,
     "metadata": {},
     "output_type": "execute_result"
    }
   ],
   "source": [
    "max_number = max(array)\n",
    "max_number"
   ]
  },
  {
   "cell_type": "markdown",
   "id": "e38ea5bd-af33-4061-8e47-178b92ef3ac3",
   "metadata": {},
   "source": [
    "### min()"
   ]
  },
  {
   "cell_type": "code",
   "execution_count": 25,
   "id": "d5f215a4-667b-4a44-a967-cca42edc41e8",
   "metadata": {},
   "outputs": [
    {
     "data": {
      "text/plain": [
       "1"
      ]
     },
     "execution_count": 25,
     "metadata": {},
     "output_type": "execute_result"
    }
   ],
   "source": [
    "min_number = min(array)\n",
    "min_number"
   ]
  },
  {
   "cell_type": "markdown",
   "id": "8d014012-8d21-4fd0-9121-918bb6486a32",
   "metadata": {},
   "source": [
    "### sum()"
   ]
  },
  {
   "cell_type": "code",
   "execution_count": 26,
   "id": "b9654f0a-581e-4a55-8f65-7a9e3f298a32",
   "metadata": {},
   "outputs": [
    {
     "data": {
      "text/plain": [
       "635"
      ]
     },
     "execution_count": 26,
     "metadata": {},
     "output_type": "execute_result"
    }
   ],
   "source": [
    "sum_of_list = sum(array)\n",
    "sum_of_list"
   ]
  },
  {
   "cell_type": "markdown",
   "id": "cd500eab-bd6a-4937-b1df-3242d54f7e25",
   "metadata": {},
   "source": [
    "### listObj.index()"
   ]
  },
  {
   "cell_type": "code",
   "execution_count": null,
   "id": "6de33307-1c9c-4428-b540-307dd631a352",
   "metadata": {},
   "outputs": [],
   "source": [
    "returns the index of first occurence of an element"
   ]
  },
  {
   "cell_type": "code",
   "execution_count": 22,
   "id": "f943b258-0a3f-460c-a86a-77d43c9a5f5a",
   "metadata": {},
   "outputs": [
    {
     "data": {
      "text/plain": [
       "['Delhi', 'Mumbai', 'Guwahati', 'Dibrugarh']"
      ]
     },
     "execution_count": 22,
     "metadata": {},
     "output_type": "execute_result"
    }
   ],
   "source": [
    "cities = ['Delhi', 'Mumbai', 'Guwahati', 'Dibrugarh']\n",
    "cities"
   ]
  },
  {
   "cell_type": "code",
   "execution_count": 23,
   "id": "e1a90316-9ff7-46f3-8ece-b913b9df8245",
   "metadata": {},
   "outputs": [
    {
     "data": {
      "text/plain": [
       "0"
      ]
     },
     "execution_count": 23,
     "metadata": {},
     "output_type": "execute_result"
    }
   ],
   "source": [
    "cities.index('Delhi')"
   ]
  },
  {
   "cell_type": "code",
   "execution_count": 24,
   "id": "85343d18-2c7a-426b-80c4-491fedbaccde",
   "metadata": {},
   "outputs": [
    {
     "data": {
      "text/plain": [
       "3"
      ]
     },
     "execution_count": 24,
     "metadata": {},
     "output_type": "execute_result"
    }
   ],
   "source": [
    "cities.index('Dibrugarh')"
   ]
  },
  {
   "cell_type": "code",
   "execution_count": 25,
   "id": "198aa0a4-c460-487b-8c61-95d38f25696e",
   "metadata": {},
   "outputs": [
    {
     "ename": "ValueError",
     "evalue": "'Dudhnoi' is not in list",
     "output_type": "error",
     "traceback": [
      "\u001b[0;31m---------------------------------------------------------------------------\u001b[0m",
      "\u001b[0;31mValueError\u001b[0m                                Traceback (most recent call last)",
      "Cell \u001b[0;32mIn[25], line 1\u001b[0m\n\u001b[0;32m----> 1\u001b[0m \u001b[43mcities\u001b[49m\u001b[38;5;241;43m.\u001b[39;49m\u001b[43mindex\u001b[49m\u001b[43m(\u001b[49m\u001b[38;5;124;43m'\u001b[39;49m\u001b[38;5;124;43mDudhnoi\u001b[39;49m\u001b[38;5;124;43m'\u001b[39;49m\u001b[43m)\u001b[49m\n",
      "\u001b[0;31mValueError\u001b[0m: 'Dudhnoi' is not in list"
     ]
    }
   ],
   "source": [
    "cities.index('Dudhnoi')"
   ]
  },
  {
   "cell_type": "code",
   "execution_count": 26,
   "id": "a8f9d145-ea03-4615-ba26-ff8dd18206f0",
   "metadata": {},
   "outputs": [
    {
     "data": {
      "text/plain": [
       "[1, 4, 1, 0, 1, 1, 2, 3, 1, 4, 3, 3]"
      ]
     },
     "execution_count": 26,
     "metadata": {},
     "output_type": "execute_result"
    }
   ],
   "source": [
    "list1 = [1, 4, 1, 0, 1, 1, 2, 3, 1, 4, 3, 3]\n",
    "list1"
   ]
  },
  {
   "cell_type": "code",
   "execution_count": 27,
   "id": "b4328c89-879a-4408-931f-4710aa1209e3",
   "metadata": {},
   "outputs": [
    {
     "data": {
      "text/plain": [
       "7"
      ]
     },
     "execution_count": 27,
     "metadata": {},
     "output_type": "execute_result"
    }
   ],
   "source": [
    "list1.index(3)"
   ]
  },
  {
   "cell_type": "markdown",
   "id": "9c6d523d-e5da-499b-9371-9b896543363c",
   "metadata": {},
   "source": [
    "### listObj.count()"
   ]
  },
  {
   "cell_type": "code",
   "execution_count": 28,
   "id": "8e6f4d79-a27a-42c9-8530-af187110c614",
   "metadata": {},
   "outputs": [
    {
     "data": {
      "text/plain": [
       "[3, 5, 2, 0, 1, 3, 4, 5, 2, 4, 1, 5]"
      ]
     },
     "execution_count": 28,
     "metadata": {},
     "output_type": "execute_result"
    }
   ],
   "source": [
    "numbers = []\n",
    "for i in range(12):\n",
    "    numbers.append(random.randint(0,5))\n",
    "numbers"
   ]
  },
  {
   "cell_type": "code",
   "execution_count": 29,
   "id": "fb36349e-6e26-4a96-8479-ee5eb09b8cab",
   "metadata": {},
   "outputs": [
    {
     "data": {
      "text/plain": [
       "1"
      ]
     },
     "execution_count": 29,
     "metadata": {},
     "output_type": "execute_result"
    }
   ],
   "source": [
    "count_of_num = numbers.count(0)\n",
    "count_of_num"
   ]
  },
  {
   "cell_type": "code",
   "execution_count": 30,
   "id": "72eda667-711e-4947-bacf-0e943a79141e",
   "metadata": {},
   "outputs": [
    {
     "data": {
      "text/plain": [
       "2"
      ]
     },
     "execution_count": 30,
     "metadata": {},
     "output_type": "execute_result"
    }
   ],
   "source": [
    "count_of_num = numbers.count(4)\n",
    "count_of_num"
   ]
  },
  {
   "cell_type": "code",
   "execution_count": 31,
   "id": "99e3662a-8a03-402b-905a-368553a83f06",
   "metadata": {},
   "outputs": [
    {
     "data": {
      "text/plain": [
       "2"
      ]
     },
     "execution_count": 31,
     "metadata": {},
     "output_type": "execute_result"
    }
   ],
   "source": [
    "numbers.count(3)"
   ]
  },
  {
   "cell_type": "code",
   "execution_count": 32,
   "id": "ff2ac826-7b64-42a7-9146-32143b485aeb",
   "metadata": {},
   "outputs": [
    {
     "data": {
      "text/plain": [
       "3"
      ]
     },
     "execution_count": 32,
     "metadata": {},
     "output_type": "execute_result"
    }
   ],
   "source": [
    "numbers.count(5)"
   ]
  },
  {
   "cell_type": "markdown",
   "id": "637cbfc4-ca03-48d2-9199-2002ce295dc1",
   "metadata": {},
   "source": [
    "### listObj.copy()"
   ]
  },
  {
   "cell_type": "code",
   "execution_count": 33,
   "id": "7d8dc067-cf04-47c1-90b3-41068e8d4c6a",
   "metadata": {},
   "outputs": [
    {
     "data": {
      "text/plain": [
       "['param', 192.56, 999, (1, 1, 1)]"
      ]
     },
     "execution_count": 33,
     "metadata": {},
     "output_type": "execute_result"
    }
   ],
   "source": [
    "list1 = ['param', 192.56, 999, (1,1,1)]\n",
    "list1"
   ]
  },
  {
   "cell_type": "code",
   "execution_count": 34,
   "id": "8664ff7c-2018-404f-bef1-2b39224b8f39",
   "metadata": {},
   "outputs": [
    {
     "data": {
      "text/plain": [
       "['param', 192.56, 999, (1, 1, 1)]"
      ]
     },
     "execution_count": 34,
     "metadata": {},
     "output_type": "execute_result"
    }
   ],
   "source": [
    "list2 = list1\n",
    "list2"
   ]
  },
  {
   "cell_type": "code",
   "execution_count": 35,
   "id": "7fc53904-b126-48c4-9af1-81e4fce41345",
   "metadata": {},
   "outputs": [
    {
     "name": "stdout",
     "output_type": "stream",
     "text": [
      "131933179884928\n",
      "131933179884928\n"
     ]
    }
   ],
   "source": [
    "print(id(list1))\n",
    "print(id(list2))"
   ]
  },
  {
   "cell_type": "code",
   "execution_count": 36,
   "id": "398a2e17-5934-4b39-a3a9-11abe909a897",
   "metadata": {},
   "outputs": [
    {
     "name": "stdout",
     "output_type": "stream",
     "text": [
      "['param', 192.56, 999, (1, 1, 1), 'Guwahati']\n",
      "['param', 192.56, 999, (1, 1, 1), 'Guwahati']\n"
     ]
    }
   ],
   "source": [
    "list1.append('Guwahati')\n",
    "print(list1)\n",
    "print(list2)"
   ]
  },
  {
   "cell_type": "code",
   "execution_count": 37,
   "id": "15ea37db-1fa0-4af9-9e59-435b9193b71c",
   "metadata": {},
   "outputs": [
    {
     "data": {
      "text/plain": [
       "['param', 192.56, 999, (1, 1, 1), 'Guwahati']"
      ]
     },
     "execution_count": 37,
     "metadata": {},
     "output_type": "execute_result"
    }
   ],
   "source": [
    "list3 = list1.copy() #shallow copy\n",
    "list3"
   ]
  },
  {
   "cell_type": "code",
   "execution_count": 38,
   "id": "64fabce6-cbdf-480c-86bf-66141375dcf7",
   "metadata": {},
   "outputs": [
    {
     "name": "stdout",
     "output_type": "stream",
     "text": [
      "131933179884928\n",
      "131933179747072\n"
     ]
    }
   ],
   "source": [
    "print(id(list1))\n",
    "print(id(list3))"
   ]
  },
  {
   "cell_type": "code",
   "execution_count": 39,
   "id": "f7a54a72-d083-4c55-9d94-1df07b75bdf7",
   "metadata": {},
   "outputs": [
    {
     "data": {
      "text/plain": [
       "[[1, 2, 3], [4, 5, 6], [7, 8, 9]]"
      ]
     },
     "execution_count": 39,
     "metadata": {},
     "output_type": "execute_result"
    }
   ],
   "source": [
    "list1 = [\n",
    "            [1,2,3],\n",
    "            [4,5,6],\n",
    "            [7,8,9]\n",
    "        ]\n",
    "list1"
   ]
  },
  {
   "cell_type": "code",
   "execution_count": null,
   "id": "91a61640-54f9-4997-b364-a445ccbdb912",
   "metadata": {},
   "outputs": [],
   "source": []
  }
 ],
 "metadata": {
  "kernelspec": {
   "display_name": "Python 3 (ipykernel)",
   "language": "python",
   "name": "python3"
  },
  "language_info": {
   "codemirror_mode": {
    "name": "ipython",
    "version": 3
   },
   "file_extension": ".py",
   "mimetype": "text/x-python",
   "name": "python",
   "nbconvert_exporter": "python",
   "pygments_lexer": "ipython3",
   "version": "3.10.12"
  }
 },
 "nbformat": 4,
 "nbformat_minor": 5
}
