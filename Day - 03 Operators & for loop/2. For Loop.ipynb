{
 "cells": [
  {
   "cell_type": "markdown",
   "id": "ba895b45-7e49-4674-bf83-dc7bb9dfa858",
   "metadata": {},
   "source": [
    "### for loop"
   ]
  },
  {
   "cell_type": "code",
   "execution_count": null,
   "id": "1ce870ff-ca7c-4953-9ef0-baf9b1439abe",
   "metadata": {},
   "outputs": [],
   "source": [
    "syntax:\n",
    "\n",
    "for var in iterable_object:\n",
    "    body of for loop\n",
    "    body of for loop\n",
    "    body of for loop\n",
    "    body of for loop"
   ]
  },
  {
   "cell_type": "code",
   "execution_count": null,
   "id": "f2f2177b-4ffb-4284-87af-1917a7883caf",
   "metadata": {},
   "outputs": [],
   "source": [
    "for i in 'abcdefgh':\n",
    "    print(i)"
   ]
  },
  {
   "cell_type": "code",
   "execution_count": null,
   "id": "3ba93d43-39d3-4001-9456-b129e8b83b59",
   "metadata": {},
   "outputs": [],
   "source": [
    "for i in 'abcdefgh':\n",
    "    print(i, end = ' ')"
   ]
  },
  {
   "cell_type": "markdown",
   "id": "d67930d1-b5e3-41c3-9d22-e75f1a913665",
   "metadata": {},
   "source": [
    "### pass"
   ]
  },
  {
   "cell_type": "code",
   "execution_count": null,
   "id": "77217e4d-679d-494f-9c65-dfc9f1d62f3c",
   "metadata": {},
   "outputs": [],
   "source": [
    "for i in 'abcdefgh':\n",
    "    pass"
   ]
  },
  {
   "cell_type": "code",
   "execution_count": null,
   "id": "b8621095-9178-4884-9bbe-b6ad2a714451",
   "metadata": {},
   "outputs": [],
   "source": [
    "def fun():\n",
    "    pass"
   ]
  },
  {
   "cell_type": "markdown",
   "id": "16de6886-19b8-42b9-a4f1-b4c7006779c7",
   "metadata": {},
   "source": [
    "### range()\n"
   ]
  },
  {
   "cell_type": "code",
   "execution_count": null,
   "id": "69ac25b5-4a87-4439-b38d-34c5e6adbd45",
   "metadata": {},
   "outputs": [],
   "source": [
    "range(10) -> 0 to 9\n",
    "range(3, 10) -> 3 to 9\n",
    "range(2, 20, 4) -> 2 to 19 and third arg 4 is step_size "
   ]
  },
  {
   "cell_type": "code",
   "execution_count": 1,
   "id": "d02c4e47-8732-4883-95e0-775b80d97adb",
   "metadata": {},
   "outputs": [
    {
     "name": "stdout",
     "output_type": "stream",
     "text": [
      "0 1 2 3 4 5 6 7 8 9 "
     ]
    }
   ],
   "source": [
    "for i in range(10):\n",
    "    print(i, end = ' ')"
   ]
  },
  {
   "cell_type": "code",
   "execution_count": null,
   "id": "3b9f2212-706c-44f8-8d15-979eb2a65755",
   "metadata": {},
   "outputs": [],
   "source": [
    "for xyz in range(3,23):\n",
    "    print(xyz, end = ' ')"
   ]
  },
  {
   "cell_type": "code",
   "execution_count": null,
   "id": "d0db3f94-4f76-48d4-baac-bb49ed42503e",
   "metadata": {},
   "outputs": [],
   "source": [
    "for i in range(6):\n",
    "    for j in range(6):\n",
    "        print(i,j, sep = ' ')"
   ]
  },
  {
   "cell_type": "code",
   "execution_count": null,
   "id": "99dbe068-549e-4517-a44b-4e2aeebea903",
   "metadata": {},
   "outputs": [],
   "source": [
    "for i in range(6):\n",
    "    for j in range(6):\n",
    "        print(j,i, sep = ' ')"
   ]
  },
  {
   "cell_type": "code",
   "execution_count": 2,
   "id": "cfc819bb-459d-4b19-bf10-ea808522f8c6",
   "metadata": {},
   "outputs": [
    {
     "name": "stdout",
     "output_type": "stream",
     "text": [
      "(00),(01),(02),(03),(04),(05),\n",
      "(10),(11),(12),(13),(14),(15),\n",
      "(20),(21),(22),(23),(24),(25),\n",
      "(30),(31),(32),(33),(34),(35),\n",
      "(40),(41),(42),(43),(44),(45),\n",
      "(50),(51),(52),(53),(54),(55),\n"
     ]
    }
   ],
   "source": [
    "for i in range(6):\n",
    "    for j in range(6):\n",
    "        print('(', i, j, ')', end = ',', sep = '')\n",
    "    print()"
   ]
  },
  {
   "cell_type": "code",
   "execution_count": 3,
   "id": "266112d5-9137-49fd-aa1b-b416fcc3d73d",
   "metadata": {},
   "outputs": [
    {
     "name": "stdout",
     "output_type": "stream",
     "text": [
      "2 4 6 8 10 12 14 16 18 20 22 24 26 28 30 32 34 36 38 40 42 44 46 48 50 "
     ]
    }
   ],
   "source": [
    "for i in range(1,51):\n",
    "    if i%2 == 0:\n",
    "        print(i, end = ' ')"
   ]
  },
  {
   "cell_type": "code",
   "execution_count": 4,
   "id": "c52877e9-d09f-4ebc-a5f7-9246b657e180",
   "metadata": {},
   "outputs": [
    {
     "name": "stdout",
     "output_type": "stream",
     "text": [
      "1 3 5 7 9 11 13 15 17 19 21 23 25 27 29 31 33 35 37 39 41 43 45 47 49 "
     ]
    }
   ],
   "source": [
    "for i in range(1,51):\n",
    "    if i%2 != 0:\n",
    "        print(i, end = ' ')"
   ]
  },
  {
   "cell_type": "code",
   "execution_count": 5,
   "id": "099728e5-7642-43f3-8096-f797ea83b6bd",
   "metadata": {},
   "outputs": [
    {
     "name": "stdout",
     "output_type": "stream",
     "text": [
      "7 14 21 28 35 42 49 56 63 70 77 84 91 98 "
     ]
    }
   ],
   "source": [
    "for i in range(1,100):\n",
    "    if i%7 == 0:\n",
    "        print(i, end = ' ')"
   ]
  },
  {
   "cell_type": "code",
   "execution_count": 6,
   "id": "931b881f-f388-4405-9474-b40af1ee3e71",
   "metadata": {},
   "outputs": [
    {
     "name": "stdout",
     "output_type": "stream",
     "text": [
      "7 14 21 28 35 42 49 56 63 70 77 84 91 98 "
     ]
    }
   ],
   "source": [
    "for i in range(1,101):\n",
    "    if i%7 == 0:\n",
    "        print(i, end = ' ')"
   ]
  },
  {
   "cell_type": "code",
   "execution_count": 7,
   "id": "5638d99c-9533-4e64-9130-ab16dc8f606f",
   "metadata": {},
   "outputs": [
    {
     "name": "stdout",
     "output_type": "stream",
     "text": [
      "1 3 5 7 9 11 13 15 17 19 "
     ]
    }
   ],
   "source": [
    "for i in range(1,20,2):\n",
    "    print(i, end = ' ')"
   ]
  },
  {
   "cell_type": "code",
   "execution_count": 8,
   "id": "75b3278d-266e-4dda-807f-b2f00bfdc7d0",
   "metadata": {},
   "outputs": [
    {
     "name": "stdout",
     "output_type": "stream",
     "text": [
      "1 5 9 13 17 "
     ]
    }
   ],
   "source": [
    "for i in range(1,20,4):\n",
    "    print(i, end = ' ')"
   ]
  },
  {
   "cell_type": "code",
   "execution_count": 9,
   "id": "5a372199-a429-47ad-a1b7-d442f3073ccf",
   "metadata": {},
   "outputs": [
    {
     "name": "stdout",
     "output_type": "stream",
     "text": [
      "0 0 0 0 0 0 0 \n",
      "1 1 1 1 1 1 1 \n",
      "2 2 2 2 2 2 2 \n",
      "3 3 3 3 3 3 3 \n",
      "4 4 4 4 4 4 4 \n",
      "5 5 5 5 5 5 5 \n",
      "6 6 6 6 6 6 6 \n"
     ]
    }
   ],
   "source": [
    "n = 7\n",
    "for i in range(n):\n",
    "    for j in range(n):\n",
    "        print(i, end = ' ')\n",
    "    print()"
   ]
  },
  {
   "cell_type": "code",
   "execution_count": 10,
   "id": "0956270f-1b6c-4c81-b240-7aef555af882",
   "metadata": {},
   "outputs": [
    {
     "name": "stdout",
     "output_type": "stream",
     "text": [
      "0 1 2 3 4 5 6 \n",
      "0 1 2 3 4 5 6 \n",
      "0 1 2 3 4 5 6 \n",
      "0 1 2 3 4 5 6 \n",
      "0 1 2 3 4 5 6 \n",
      "0 1 2 3 4 5 6 \n",
      "0 1 2 3 4 5 6 \n"
     ]
    }
   ],
   "source": [
    "n = 7\n",
    "for i in range(n):\n",
    "    for j in range(n):\n",
    "        print(j, end = ' ')\n",
    "    print()"
   ]
  },
  {
   "cell_type": "code",
   "execution_count": 11,
   "id": "8d19aaa3-4018-4a64-b539-88e17d9dcf65",
   "metadata": {},
   "outputs": [
    {
     "name": "stdout",
     "output_type": "stream",
     "text": [
      "\n",
      "1 \n",
      "2 2 \n",
      "3 3 3 \n",
      "4 4 4 4 \n",
      "5 5 5 5 5 \n",
      "6 6 6 6 6 6 \n"
     ]
    }
   ],
   "source": [
    "n = 7\n",
    "for i in range(n):\n",
    "    for j in range(i):\n",
    "        print(i, end = ' ')\n",
    "    print()"
   ]
  },
  {
   "cell_type": "code",
   "execution_count": 12,
   "id": "aa127f68-285d-4f6c-81ee-13e3f2145981",
   "metadata": {},
   "outputs": [
    {
     "name": "stdout",
     "output_type": "stream",
     "text": [
      "\n",
      "0 \n",
      "0 1 \n",
      "0 1 2 \n",
      "0 1 2 3 \n",
      "0 1 2 3 4 \n",
      "0 1 2 3 4 5 \n"
     ]
    }
   ],
   "source": [
    "n = 7\n",
    "for i in range(n):\n",
    "    for j in range(i):\n",
    "        print(j, end = ' ')\n",
    "    print()"
   ]
  },
  {
   "cell_type": "code",
   "execution_count": 13,
   "id": "23971eda-9042-4a4e-96b2-aefe4bad85e2",
   "metadata": {},
   "outputs": [
    {
     "name": "stdout",
     "output_type": "stream",
     "text": [
      "\n",
      "* \n",
      "* * \n",
      "* * * \n",
      "* * * * \n",
      "* * * * * \n",
      "* * * * * * \n"
     ]
    }
   ],
   "source": [
    "n = 7\n",
    "for i in range(n):\n",
    "    for j in range(i):\n",
    "        print('*', end = ' ')\n",
    "    print()"
   ]
  },
  {
   "cell_type": "markdown",
   "id": "65e58de6-034b-403a-9577-2ce109e9a68c",
   "metadata": {},
   "source": [
    "### enumerate()"
   ]
  },
  {
   "cell_type": "code",
   "execution_count": 14,
   "id": "a7fcc168-3459-450d-be23-b5ec2d1e48d2",
   "metadata": {},
   "outputs": [
    {
     "data": {
      "text/plain": [
       "['00', '11', '22', '33', '44', '55', '66', '77', '88', '99']"
      ]
     },
     "execution_count": 14,
     "metadata": {},
     "output_type": "execute_result"
    }
   ],
   "source": [
    "list1 = ['00', '11', '22', '33', '44', '55', '66', '77', '88', '99']\n",
    "list1"
   ]
  },
  {
   "cell_type": "code",
   "execution_count": 16,
   "id": "0a07760e-34db-4bf1-9135-323522ad2e4c",
   "metadata": {},
   "outputs": [
    {
     "name": "stdout",
     "output_type": "stream",
     "text": [
      "00 11 22 33 44 55 66 77 88 99 "
     ]
    }
   ],
   "source": [
    "for i in range(len(list1)):\n",
    "    print(list1[i], end = ' ')"
   ]
  },
  {
   "cell_type": "code",
   "execution_count": 17,
   "id": "3a99692b-791c-4b2a-9abb-fc653e29d369",
   "metadata": {},
   "outputs": [
    {
     "name": "stdout",
     "output_type": "stream",
     "text": [
      "0 00\n",
      "1 11\n",
      "2 22\n",
      "3 33\n",
      "4 44\n",
      "5 55\n",
      "6 66\n",
      "7 77\n",
      "8 88\n",
      "9 99\n"
     ]
    }
   ],
   "source": [
    "for index, value in enumerate(list1):\n",
    "    print(index, value)"
   ]
  },
  {
   "cell_type": "code",
   "execution_count": 18,
   "id": "1a1c0e97-5a9c-475c-af8a-15b1551a194e",
   "metadata": {},
   "outputs": [
    {
     "name": "stdout",
     "output_type": "stream",
     "text": [
      "0 a\n",
      "1 b\n",
      "2 c\n",
      "3 d\n",
      "4 e\n",
      "5 f\n",
      "6 g\n",
      "7 h\n"
     ]
    }
   ],
   "source": [
    "for a, b in enumerate('abcdefgh'):\n",
    "    print(a, b)"
   ]
  },
  {
   "cell_type": "code",
   "execution_count": 19,
   "id": "07e6ace1-f063-4282-a895-4c5377ad11da",
   "metadata": {},
   "outputs": [
    {
     "name": "stdout",
     "output_type": "stream",
     "text": [
      "(0, 'a')\n",
      "(1, 'b')\n",
      "(2, 'c')\n",
      "(3, 'd')\n",
      "(4, 'e')\n",
      "(5, 'f')\n",
      "(6, 'g')\n",
      "(7, 'h')\n"
     ]
    }
   ],
   "source": [
    "for var in enumerate('abcdefgh'):\n",
    "    print(var)"
   ]
  },
  {
   "cell_type": "code",
   "execution_count": 20,
   "id": "0f1cd5f3-9ac8-412a-82e1-ec2545102fef",
   "metadata": {},
   "outputs": [
    {
     "name": "stdout",
     "output_type": "stream",
     "text": [
      "(0, '00') <class 'tuple'>\n",
      "(1, '11') <class 'tuple'>\n",
      "(2, '22') <class 'tuple'>\n",
      "(3, '33') <class 'tuple'>\n",
      "(4, '44') <class 'tuple'>\n",
      "(5, '55') <class 'tuple'>\n",
      "(6, '66') <class 'tuple'>\n",
      "(7, '77') <class 'tuple'>\n",
      "(8, '88') <class 'tuple'>\n",
      "(9, '99') <class 'tuple'>\n"
     ]
    }
   ],
   "source": [
    "for var in enumerate(list1):\n",
    "    print(var, type(var))"
   ]
  },
  {
   "cell_type": "code",
   "execution_count": 21,
   "id": "9303145b-2bc3-44ac-a038-f58d3d4b2fff",
   "metadata": {},
   "outputs": [
    {
     "name": "stdout",
     "output_type": "stream",
     "text": [
      "(0, '00') <class 'str'>\n",
      "(1, '11') <class 'str'>\n",
      "(2, '22') <class 'str'>\n",
      "(3, '33') <class 'str'>\n",
      "(4, '44') <class 'str'>\n",
      "(5, '55') <class 'str'>\n",
      "(6, '66') <class 'str'>\n",
      "(7, '77') <class 'str'>\n",
      "(8, '88') <class 'str'>\n",
      "(9, '99') <class 'str'>\n"
     ]
    }
   ],
   "source": [
    "for var in enumerate(list1):\n",
    "    print(var, type(var[1]))"
   ]
  },
  {
   "cell_type": "code",
   "execution_count": 22,
   "id": "130560b8-e7c8-4744-a261-b17b472e667f",
   "metadata": {},
   "outputs": [
    {
     "name": "stdout",
     "output_type": "stream",
     "text": [
      "0 11\n",
      "1 22\n",
      "2 33\n",
      "3 44\n"
     ]
    }
   ],
   "source": [
    "list1 = [11,22,33,44]\n",
    "for a,b in enumerate(list1):\n",
    "    print(a, b)"
   ]
  },
  {
   "cell_type": "code",
   "execution_count": 23,
   "id": "6e2ed2a7-3036-411f-941e-dc14849c6827",
   "metadata": {},
   "outputs": [
    {
     "name": "stdout",
     "output_type": "stream",
     "text": [
      "0 11\n",
      "1 22\n",
      "2 33\n",
      "3 44\n"
     ]
    }
   ],
   "source": [
    "list1 = [11,22,33,44]\n",
    "for index, value in enumerate(list1):\n",
    "    print(index, value)"
   ]
  },
  {
   "cell_type": "code",
   "execution_count": 24,
   "id": "a02257d9-ed3f-464d-907c-e26753ede15e",
   "metadata": {},
   "outputs": [
    {
     "name": "stdout",
     "output_type": "stream",
     "text": [
      "(0, 11)\n",
      "(1, 22)\n",
      "(2, 33)\n",
      "(3, 44)\n"
     ]
    }
   ],
   "source": [
    "list1 = [11,22,33,44]\n",
    "for item in enumerate(list1):\n",
    "    print(item)"
   ]
  },
  {
   "cell_type": "code",
   "execution_count": 25,
   "id": "a24f73c1-4316-47ff-890a-a29ca6e26985",
   "metadata": {},
   "outputs": [
    {
     "name": "stdout",
     "output_type": "stream",
     "text": [
      "<class 'tuple'>\n",
      "<class 'tuple'>\n",
      "<class 'tuple'>\n",
      "<class 'tuple'>\n"
     ]
    }
   ],
   "source": [
    "list1 = [11,22,33,44]\n",
    "for item in enumerate(list1):\n",
    "    print(type(item))"
   ]
  },
  {
   "cell_type": "code",
   "execution_count": 26,
   "id": "170ba1b6-9070-4690-870a-ae5751cf3111",
   "metadata": {},
   "outputs": [],
   "source": [
    "def mfun():\n",
    "    return 111, 222, 333, 444, 555"
   ]
  },
  {
   "cell_type": "code",
   "execution_count": 27,
   "id": "58b9812e-db0b-425d-9d4f-b14ddf97a9f1",
   "metadata": {},
   "outputs": [
    {
     "data": {
      "text/plain": [
       "(111, 222, 333, 444, 555)"
      ]
     },
     "execution_count": 27,
     "metadata": {},
     "output_type": "execute_result"
    }
   ],
   "source": [
    "mfun()"
   ]
  },
  {
   "cell_type": "code",
   "execution_count": null,
   "id": "d328b85d-fc7e-49ec-9c07-2befad7b3863",
   "metadata": {},
   "outputs": [],
   "source": []
  }
 ],
 "metadata": {
  "kernelspec": {
   "display_name": "Python 3 (ipykernel)",
   "language": "python",
   "name": "python3"
  },
  "language_info": {
   "codemirror_mode": {
    "name": "ipython",
    "version": 3
   },
   "file_extension": ".py",
   "mimetype": "text/x-python",
   "name": "python",
   "nbconvert_exporter": "python",
   "pygments_lexer": "ipython3",
   "version": "3.10.12"
  }
 },
 "nbformat": 4,
 "nbformat_minor": 5
}
