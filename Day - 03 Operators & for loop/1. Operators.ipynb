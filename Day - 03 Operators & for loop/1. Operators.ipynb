{
 "cells": [
  {
   "cell_type": "markdown",
   "id": "f7650e4c-e4b5-48d2-b7aa-7f83cbcb53cf",
   "metadata": {},
   "source": [
    "### 5. Bitwise\n",
    "\n",
    "    1. &\n",
    "    2. |\n",
    "    3. ~"
   ]
  },
  {
   "cell_type": "code",
   "execution_count": 1,
   "id": "1e10343a-1718-40e9-a6e1-49748b84d5b9",
   "metadata": {},
   "outputs": [
    {
     "name": "stdout",
     "output_type": "stream",
     "text": [
      "4\n"
     ]
    }
   ],
   "source": [
    "print(4 & 6)"
   ]
  },
  {
   "cell_type": "code",
   "execution_count": 2,
   "id": "4c956029-31d8-4f25-83ee-b6a7ee526c26",
   "metadata": {},
   "outputs": [
    {
     "name": "stdout",
     "output_type": "stream",
     "text": [
      "0\n"
     ]
    }
   ],
   "source": [
    "print(4 & 3)"
   ]
  },
  {
   "cell_type": "code",
   "execution_count": 3,
   "id": "81bc247a-3a91-4bd7-add2-5e25932b6258",
   "metadata": {},
   "outputs": [
    {
     "name": "stdout",
     "output_type": "stream",
     "text": [
      "7\n"
     ]
    }
   ],
   "source": [
    "print(4 | 3)"
   ]
  },
  {
   "cell_type": "code",
   "execution_count": 4,
   "id": "9e732656-a0ea-4078-83e0-452f83e3c5c3",
   "metadata": {},
   "outputs": [
    {
     "name": "stdout",
     "output_type": "stream",
     "text": [
      "-5\n"
     ]
    }
   ],
   "source": [
    "print(~4)"
   ]
  },
  {
   "cell_type": "markdown",
   "id": "77c37ee0-fce2-47d1-bf99-57299aa25e7e",
   "metadata": {},
   "source": [
    "### 6. Membership Operator"
   ]
  },
  {
   "cell_type": "code",
   "execution_count": null,
   "id": "f2e1671e-3368-4429-bead-490b30a56460",
   "metadata": {},
   "outputs": [],
   "source": [
    "in , not in"
   ]
  },
  {
   "cell_type": "code",
   "execution_count": 5,
   "id": "d4daed82-dada-4b21-be30-b2e05c1e9c36",
   "metadata": {},
   "outputs": [
    {
     "name": "stdout",
     "output_type": "stream",
     "text": [
      "Yes\n"
     ]
    }
   ],
   "source": [
    "string = 'C-DAC Silchar'\n",
    "if '-' in string:\n",
    "    print('Yes')\n",
    "else:\n",
    "    print('No')"
   ]
  },
  {
   "cell_type": "code",
   "execution_count": 6,
   "id": "18a4eb46-665f-4465-b773-0f25f74a82e2",
   "metadata": {},
   "outputs": [
    {
     "name": "stdout",
     "output_type": "stream",
     "text": [
      "No\n"
     ]
    }
   ],
   "source": [
    "string = 'C-DAC Silchar'\n",
    "if 'Z' in string:\n",
    "    print('Yes')\n",
    "else:\n",
    "    print('No')"
   ]
  },
  {
   "cell_type": "code",
   "execution_count": 7,
   "id": "e0bf5a38-02a2-4a54-a9ee-331c1e91eecd",
   "metadata": {},
   "outputs": [
    {
     "name": "stdout",
     "output_type": "stream",
     "text": [
      "Yes\n"
     ]
    }
   ],
   "source": [
    "string = 'C-DAC Silchar'\n",
    "if 'i' in string:\n",
    "    print('Yes')\n",
    "else:\n",
    "    print('No')"
   ]
  },
  {
   "cell_type": "code",
   "execution_count": 8,
   "id": "81ba8640-97c5-41c5-91c6-43f8f3e385ea",
   "metadata": {},
   "outputs": [
    {
     "name": "stdout",
     "output_type": "stream",
     "text": [
      "False\n"
     ]
    }
   ],
   "source": [
    "list1 = [1, 2, 44, 55,77]\n",
    "print(33 in list1)"
   ]
  },
  {
   "cell_type": "code",
   "execution_count": 9,
   "id": "09e34c18-6f02-4337-94fe-9e7b77ac4f6f",
   "metadata": {},
   "outputs": [
    {
     "name": "stdout",
     "output_type": "stream",
     "text": [
      "Yes\n"
     ]
    }
   ],
   "source": [
    "string = 'C-DAC Silchar'\n",
    "if 'Z' not in string:\n",
    "    print('Yes')\n",
    "else:\n",
    "    print('No')"
   ]
  },
  {
   "cell_type": "markdown",
   "id": "cf63fed9-105b-4d17-81d5-cb6e49097be5",
   "metadata": {},
   "source": [
    "### 7. Identity"
   ]
  },
  {
   "cell_type": "code",
   "execution_count": null,
   "id": "4bff4fdf-5d74-4193-9e7d-9babcfefdd2a",
   "metadata": {},
   "outputs": [],
   "source": [
    "is -> compares value of two objects"
   ]
  },
  {
   "cell_type": "code",
   "execution_count": 10,
   "id": "b07909d2-0a8c-4f0e-b887-d8c4fa3e51b4",
   "metadata": {},
   "outputs": [
    {
     "name": "stdout",
     "output_type": "stream",
     "text": [
      "Yes\n"
     ]
    }
   ],
   "source": [
    "str1 = 'Python'\n",
    "str2 = 'Python'\n",
    "if str1 is str2:\n",
    "    print('Yes')\n",
    "else:\n",
    "    print('No')"
   ]
  },
  {
   "cell_type": "code",
   "execution_count": 11,
   "id": "ff002fe4-3aa9-49e7-93a3-9f743f7dc40c",
   "metadata": {},
   "outputs": [
    {
     "name": "stdout",
     "output_type": "stream",
     "text": [
      "No\n"
     ]
    }
   ],
   "source": [
    "str1 = 'Python'\n",
    "str2 = 'python' # 'p' is in lower case\n",
    "if str1 is str2:\n",
    "    print('Yes')\n",
    "else:\n",
    "    print('No')"
   ]
  },
  {
   "cell_type": "code",
   "execution_count": null,
   "id": "6332382b-c72a-4185-b0fa-fd28a3b76bc8",
   "metadata": {},
   "outputs": [],
   "source": []
  }
 ],
 "metadata": {
  "kernelspec": {
   "display_name": "Python 3 (ipykernel)",
   "language": "python",
   "name": "python3"
  },
  "language_info": {
   "codemirror_mode": {
    "name": "ipython",
    "version": 3
   },
   "file_extension": ".py",
   "mimetype": "text/x-python",
   "name": "python",
   "nbconvert_exporter": "python",
   "pygments_lexer": "ipython3",
   "version": "3.10.12"
  }
 },
 "nbformat": 4,
 "nbformat_minor": 5
}
