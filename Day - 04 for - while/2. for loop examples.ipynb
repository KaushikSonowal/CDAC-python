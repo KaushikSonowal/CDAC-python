{
 "cells": [
  {
   "cell_type": "code",
   "execution_count": 1,
   "id": "7e2ab499-1655-4b3e-90b2-4f9814b632ee",
   "metadata": {},
   "outputs": [
    {
     "name": "stdout",
     "output_type": "stream",
     "text": [
      "              \n",
      "            * \n",
      "          * * \n",
      "        * * * \n",
      "      * * * * \n",
      "    * * * * * \n",
      "  * * * * * * \n"
     ]
    }
   ],
   "source": [
    "n = 7\n",
    "for i in range(n):\n",
    "    for j in range(n - i):\n",
    "        print(' ', end = ' ')\n",
    "    for j in range(i):\n",
    "        print('*', end = ' ')\n",
    "    print()"
   ]
  },
  {
   "cell_type": "code",
   "execution_count": 2,
   "id": "a15bcb0b-dc13-4f97-a231-09b7908e9d90",
   "metadata": {},
   "outputs": [
    {
     "name": "stdout",
     "output_type": "stream",
     "text": [
      "              \n",
      "             *  \n",
      "           *   *  \n",
      "         *   *   *  \n",
      "       *   *   *   *  \n",
      "     *   *   *   *   *  \n",
      "   *   *   *   *   *   *  \n"
     ]
    }
   ],
   "source": [
    "n = 7\n",
    "for i in range(n):\n",
    "    for j in range(n - i):\n",
    "        print(' ', end = ' ')\n",
    "    for j in range(i):\n",
    "        print(' * ', end = ' ')\n",
    "    print()"
   ]
  },
  {
   "cell_type": "code",
   "execution_count": null,
   "id": "983bc156-2ead-4141-8a67-9190656e6882",
   "metadata": {},
   "outputs": [],
   "source": [
    "# Q10 Write progrom for following output.\n",
    "\n",
    "P \n",
    "y y \n",
    "t t t \n",
    "h h h h \n",
    "o o o o o \n",
    "n n n n n n "
   ]
  },
  {
   "cell_type": "code",
   "execution_count": 4,
   "id": "6d4f4bb8-cf57-4b34-b5a6-8a44df79b44b",
   "metadata": {},
   "outputs": [
    {
     "name": "stdout",
     "output_type": "stream",
     "text": [
      "P y t h o n \n",
      "P y t h o n "
     ]
    }
   ],
   "source": [
    "string = 'Python'\n",
    "length = 0\n",
    "for i in string:\n",
    "    length += 1\n",
    "\n",
    "for i in range(length):\n",
    "    print(string[i], end = ' ')\n",
    "    \n",
    "print()\n",
    "\n",
    "for char in string:\n",
    "    print(char, end = ' ')"
   ]
  },
  {
   "cell_type": "code",
   "execution_count": 5,
   "id": "f46bc25e-0bdd-4bcc-9c76-4dffbe3cd33c",
   "metadata": {},
   "outputs": [
    {
     "name": "stdout",
     "output_type": "stream",
     "text": [
      "P \n",
      "y y \n",
      "t t t \n",
      "h h h h \n",
      "o o o o o \n",
      "n n n n n n \n"
     ]
    }
   ],
   "source": [
    "string = 'Python'\n",
    "length = 0\n",
    "for i in string:\n",
    "    length += 1\n",
    "\n",
    "for i in range(length):\n",
    "    for j in range(i+1):\n",
    "        print(string[i], end = ' ')\n",
    "    print()"
   ]
  },
  {
   "cell_type": "code",
   "execution_count": 6,
   "id": "36760f5b-f36b-47a6-8a4b-44283ab9a93e",
   "metadata": {},
   "outputs": [
    {
     "name": "stdout",
     "output_type": "stream",
     "text": [
      "* * * * * * * \n",
      "* * * * * * \n",
      "* * * * * \n",
      "* * * * \n",
      "* * * \n",
      "* * \n",
      "* \n"
     ]
    }
   ],
   "source": [
    "n = 7\n",
    "for i in range(n):\n",
    "    for j in range(n - i):\n",
    "        print('*', end = ' ')\n",
    "#     for j in range(i):\n",
    "#         print('*', end = ' ')\n",
    "    print()"
   ]
  },
  {
   "cell_type": "code",
   "execution_count": null,
   "id": "be99f5c6-98ee-4049-b864-cf37ee20eedd",
   "metadata": {},
   "outputs": [],
   "source": [
    "# Q8 Write progrom for following output.\n",
    "A \n",
    "B C \n",
    "D E F \n",
    "G H I J \n",
    "K L M N O "
   ]
  },
  {
   "cell_type": "code",
   "execution_count": 7,
   "id": "4cff8235-3aa3-43ec-af00-84248954b685",
   "metadata": {},
   "outputs": [
    {
     "name": "stdout",
     "output_type": "stream",
     "text": [
      "\n",
      "A \n",
      "B C \n",
      "D E F \n",
      "G H I J \n",
      "K L M N O \n"
     ]
    }
   ],
   "source": [
    "string = 'ABCDEFGHIJKLMNO'\n",
    "index = 0\n",
    "n = 5\n",
    "for i in range(5+1):\n",
    "    for j in range(i):\n",
    "        print(string[index], end = ' ')\n",
    "        index += 1\n",
    "    print()"
   ]
  },
  {
   "cell_type": "code",
   "execution_count": 8,
   "id": "75dffec4-4c1c-4dff-a033-65ea18249014",
   "metadata": {},
   "outputs": [
    {
     "name": "stdout",
     "output_type": "stream",
     "text": [
      "\n",
      "0 \n",
      "1 2 \n",
      "3 4 5 \n",
      "6 7 8 9 \n",
      "10 11 12 13 14 \n"
     ]
    }
   ],
   "source": [
    "# string = 'ABCDEFGHIJKLMNO'\n",
    "index = 0\n",
    "n = 5\n",
    "for i in range(5+1):\n",
    "    for j in range(i):\n",
    "        print(index, end = ' ')\n",
    "        index += 1\n",
    "    print()"
   ]
  },
  {
   "cell_type": "markdown",
   "id": "2b400e32-343a-4c96-a4a3-9fdf6eb8df5d",
   "metadata": {},
   "source": [
    "### break\n",
    "\n",
    "    -breaks execution of remaining all iterations\n"
   ]
  },
  {
   "cell_type": "code",
   "execution_count": 9,
   "id": "50c07219-69ff-4f3a-b27f-86c9e49074b5",
   "metadata": {},
   "outputs": [],
   "source": [
    "for i in range(7):\n",
    "    break"
   ]
  },
  {
   "cell_type": "code",
   "execution_count": 10,
   "id": "a4172194-1584-4125-b90b-3825bb09570c",
   "metadata": {},
   "outputs": [
    {
     "name": "stdout",
     "output_type": "stream",
     "text": [
      "5 "
     ]
    }
   ],
   "source": [
    "for i in range(7):\n",
    "    if i == 5:\n",
    "        print(i, end = ' ')\n",
    "        break"
   ]
  },
  {
   "cell_type": "code",
   "execution_count": 11,
   "id": "79498e0e-c423-4bbb-a506-80d60031e801",
   "metadata": {},
   "outputs": [
    {
     "name": "stdout",
     "output_type": "stream",
     "text": [
      "0\n",
      "1\n",
      "2\n",
      "3\n",
      "4\n",
      "We are breaking loop here for i = 5\n"
     ]
    }
   ],
   "source": [
    "for i in range(100):\n",
    "    if i == 5:\n",
    "        print('We are breaking loop here for i =', i)\n",
    "        break\n",
    "    else:\n",
    "        print(i)"
   ]
  },
  {
   "cell_type": "code",
   "execution_count": 12,
   "id": "612c6304-0b18-464a-ba69-7e69dae66df3",
   "metadata": {},
   "outputs": [
    {
     "name": "stdout",
     "output_type": "stream",
     "text": [
      "0\n",
      "1\n",
      "2\n",
      "3\n",
      "4\n",
      "5\n",
      "6\n",
      "We are breaking loop here for i = 7\n"
     ]
    }
   ],
   "source": [
    "for i in range(1000):\n",
    "    if i != 7:\n",
    "        print(i)\n",
    "    else:\n",
    "        print('We are breaking loop here for i =', i)\n",
    "        break"
   ]
  },
  {
   "cell_type": "markdown",
   "id": "cdfd4012-06cb-45af-bfd5-51b5c224ce7a",
   "metadata": {},
   "source": [
    "### continue\n",
    " \n",
    " -it will stop execution of current iteration from where the 'continue' appears, and will continue execution of remaining iterations\n"
   ]
  },
  {
   "cell_type": "code",
   "execution_count": 13,
   "id": "7742f98c-9289-4eb4-b6cd-e84396c131cc",
   "metadata": {},
   "outputs": [
    {
     "name": "stdout",
     "output_type": "stream",
     "text": [
      "0\n",
      "**********\n",
      "1\n",
      "**********\n",
      "2\n",
      "**********\n",
      "3\n",
      "**********\n",
      "4\n",
      "**********\n",
      "5\n",
      "**********\n",
      "6\n",
      "**********\n",
      "8\n",
      "**********\n",
      "9\n",
      "**********\n"
     ]
    }
   ],
   "source": [
    "for i in range(10):\n",
    "    if i == 7:\n",
    "        continue\n",
    "        print('something will happen here i =', i)\n",
    "    else:\n",
    "        print(i)\n",
    "    print('**********')"
   ]
  },
  {
   "cell_type": "code",
   "execution_count": 14,
   "id": "0b1d349a-b8de-4f55-b585-2bf6752415c1",
   "metadata": {},
   "outputs": [
    {
     "name": "stdout",
     "output_type": "stream",
     "text": [
      "0\n",
      "**********\n",
      "1\n",
      "**********\n",
      "2\n",
      "**********\n",
      "3\n",
      "**********\n",
      "4\n",
      "**********\n",
      "5\n",
      "**********\n",
      "6\n",
      "**********\n",
      "**********\n",
      "8\n",
      "**********\n",
      "9\n",
      "**********\n"
     ]
    }
   ],
   "source": [
    "for i in range(10):\n",
    "    if i == 7:\n",
    "        pass\n",
    "    else:\n",
    "        print(i)\n",
    "    print('**********')"
   ]
  },
  {
   "cell_type": "code",
   "execution_count": 15,
   "id": "edcdd741-eae3-4361-aab5-b3338e225620",
   "metadata": {},
   "outputs": [
    {
     "name": "stdout",
     "output_type": "stream",
     "text": [
      "0 2 4 6 8 10 12 14 16 18 20 22 24 26 28 "
     ]
    }
   ],
   "source": [
    "for i in range(30):\n",
    "    if i%2 == 0:\n",
    "        print(i, end = ' ')\n",
    "    else:\n",
    "        continue"
   ]
  },
  {
   "cell_type": "code",
   "execution_count": 16,
   "id": "37cf5990-dbc9-4dd0-9534-e0429dfb1707",
   "metadata": {},
   "outputs": [
    {
     "name": "stdout",
     "output_type": "stream",
     "text": [
      "0 *, 2 *, 4 *, 6 *, 8 *, 10 *, 12 *, 14 *, 16 *, 18 *, 20 *, 22 *, 24 *, 26 *, 28 *, "
     ]
    }
   ],
   "source": [
    "for i in range(30):\n",
    "    if i%2 == 0:\n",
    "        print(i, end = ' ')\n",
    "    else:\n",
    "#         continue\n",
    "        print('*, ', end = '')"
   ]
  },
  {
   "cell_type": "code",
   "execution_count": 17,
   "id": "97d00b8d-fc12-4576-90c6-1cf7f706c53f",
   "metadata": {},
   "outputs": [
    {
     "name": "stdout",
     "output_type": "stream",
     "text": [
      "1 3 5 7 9 11 13 15 17 19 21 23 25 27 29 "
     ]
    }
   ],
   "source": [
    "for i in range(30):\n",
    "    if i%2 == 0:\n",
    "        continue\n",
    "    else:\n",
    "        print(i, end = ' ')"
   ]
  },
  {
   "cell_type": "code",
   "execution_count": 18,
   "id": "55117d6f-6a9d-4ac7-89c2-e86dea096b70",
   "metadata": {},
   "outputs": [
    {
     "name": "stdout",
     "output_type": "stream",
     "text": [
      "0\n"
     ]
    }
   ],
   "source": [
    "for i in range(10):\n",
    "    print(i)\n",
    "    break"
   ]
  },
  {
   "cell_type": "code",
   "execution_count": 19,
   "id": "6ff7ae83-d75a-4496-8283-ce402ff6a9dc",
   "metadata": {},
   "outputs": [],
   "source": [
    "for i in range(10):\n",
    "    break\n",
    "    print(i)"
   ]
  },
  {
   "cell_type": "markdown",
   "id": "3875767d-755f-4398-96ad-9ada53bbc39f",
   "metadata": {},
   "source": [
    "### for loop with else\n"
   ]
  },
  {
   "cell_type": "code",
   "execution_count": 20,
   "id": "cac0c492-0d7c-4d3c-8742-569c8d2645dc",
   "metadata": {},
   "outputs": [
    {
     "name": "stdout",
     "output_type": "stream",
     "text": [
      "0 1 2 3 4 \n",
      "We are in else part\n"
     ]
    }
   ],
   "source": [
    "for i in range(5):\n",
    "    print(i, end = ' ')    \n",
    "else:\n",
    "    print('\\nWe are in else part')"
   ]
  },
  {
   "cell_type": "code",
   "execution_count": 21,
   "id": "47e74be8-c79b-4738-8438-bff5691b2c1f",
   "metadata": {},
   "outputs": [
    {
     "name": "stdout",
     "output_type": "stream",
     "text": [
      "0 1 2 3 "
     ]
    }
   ],
   "source": [
    "for i in range(5):\n",
    "    print(i, end = ' ')\n",
    "    if i == 3:\n",
    "        break\n",
    "    \n",
    "else:\n",
    "    print('\\nWe are in else part')"
   ]
  },
  {
   "cell_type": "code",
   "execution_count": 22,
   "id": "d43fbb33-6a26-49ab-9a9d-dd85b79953b6",
   "metadata": {},
   "outputs": [
    {
     "name": "stdout",
     "output_type": "stream",
     "text": [
      "0 1 2 3 4 5 6 7 8 9 \n",
      "We are in else part\n"
     ]
    }
   ],
   "source": [
    "for i in range(10):\n",
    "    print(i, end = ' ')\n",
    "else:\n",
    "    print('\\nWe are in else part')"
   ]
  },
  {
   "cell_type": "code",
   "execution_count": 23,
   "id": "794a23fd-e3e4-499f-91a4-904a968c4cc0",
   "metadata": {},
   "outputs": [
    {
     "name": "stdout",
     "output_type": "stream",
     "text": [
      "0 1 2 3 4 5 7 8 9 \n",
      "We are in else part\n"
     ]
    }
   ],
   "source": [
    "for i in range(10):\n",
    "    if i == 6:\n",
    "        continue\n",
    "    print(i, end = ' ')\n",
    "else:\n",
    "    print('\\nWe are in else part')"
   ]
  },
  {
   "cell_type": "code",
   "execution_count": null,
   "id": "f2f3450e-1e6b-40af-b99c-6e3f3d610950",
   "metadata": {},
   "outputs": [],
   "source": [
    "n = 8"
   ]
  }
 ],
 "metadata": {
  "kernelspec": {
   "display_name": "Python 3 (ipykernel)",
   "language": "python",
   "name": "python3"
  },
  "language_info": {
   "codemirror_mode": {
    "name": "ipython",
    "version": 3
   },
   "file_extension": ".py",
   "mimetype": "text/x-python",
   "name": "python",
   "nbconvert_exporter": "python",
   "pygments_lexer": "ipython3",
   "version": "3.10.12"
  }
 },
 "nbformat": 4,
 "nbformat_minor": 5
}
