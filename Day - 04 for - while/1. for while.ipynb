{
 "cells": [
  {
   "cell_type": "markdown",
   "id": "be502a7d-87ae-42b2-882a-17e4ab5222d2",
   "metadata": {},
   "source": [
    "## More examples on break and continue"
   ]
  },
  {
   "cell_type": "code",
   "execution_count": 1,
   "id": "c08332d3-a422-4176-8573-b9ed93a37b16",
   "metadata": {},
   "outputs": [
    {
     "name": "stdout",
     "output_type": "stream",
     "text": [
      "i i a e o o i "
     ]
    }
   ],
   "source": [
    "# print vowels only\n",
    "string = 'This is a very common string'\n",
    "for i in string:\n",
    "    if i in 'aeiouAEIOU':\n",
    "        print(i, end = ' ') \n",
    "        continue    \n",
    "    "
   ]
  },
  {
   "cell_type": "code",
   "execution_count": 1,
   "id": "03da625a-9de8-449b-9557-5e07267188cc",
   "metadata": {},
   "outputs": [
    {
     "name": "stdout",
     "output_type": "stream",
     "text": [
      "i Vowel found\n",
      "i Vowel found\n",
      "a Vowel found\n",
      "e Vowel found\n",
      "o Vowel found\n",
      "o Vowel found\n",
      "i Vowel found\n"
     ]
    }
   ],
   "source": [
    "# print vowels only\n",
    "string = 'This is a very common string'\n",
    "for i in string:\n",
    "    if i in 'aeiouAEIOU':\n",
    "        print(i, end = ' ')\n",
    "    else:\n",
    "        continue\n",
    "    print('Vowel found')"
   ]
  },
  {
   "cell_type": "code",
   "execution_count": 2,
   "id": "f652d178-94b7-492e-990b-191b6d1aefef",
   "metadata": {},
   "outputs": [
    {
     "name": "stdout",
     "output_type": "stream",
     "text": [
      "i Vowel found\n",
      "i Vowel found\n",
      "a Vowel found\n",
      "e Vowel found\n",
      "o Vowel found\n",
      "o Vowel found\n",
      "i Vowel found\n"
     ]
    }
   ],
   "source": [
    "# print vowels only\n",
    "string = 'This is a very common string'\n",
    "for i in string:\n",
    "    if i not in 'aeiouAEIOU':\n",
    "        continue\n",
    "    print(i, 'Vowel found')"
   ]
  },
  {
   "cell_type": "code",
   "execution_count": 2,
   "id": "dc6a5e03-233a-4a00-be20-f5fc4f99d331",
   "metadata": {},
   "outputs": [
    {
     "name": "stdout",
     "output_type": "stream",
     "text": [
      "T h s   s     v r y   c m m n   s t r n g "
     ]
    }
   ],
   "source": [
    "# print vowels only\n",
    "string = 'This is a very common string'\n",
    "for i in string:\n",
    "    if i not in 'aeiouAEIOU':\n",
    "        print(i, end = ' ')\n",
    "    else:\n",
    "        continue\n",
    "        print(i, 'Vowel found')"
   ]
  },
  {
   "cell_type": "markdown",
   "id": "985da6b2-7aa5-4fad-9a4e-3c21382cd3bd",
   "metadata": {},
   "source": [
    "## while loop\n"
   ]
  },
  {
   "cell_type": "code",
   "execution_count": null,
   "id": "5e909173-5371-4d5c-8b19-da49d0d72351",
   "metadata": {},
   "outputs": [],
   "source": [
    "syntax:\n",
    "\n",
    "while condition:\n",
    "    pass"
   ]
  },
  {
   "cell_type": "code",
   "execution_count": 3,
   "id": "0748826d-1c53-449f-b0d3-2c8776b32f93",
   "metadata": {},
   "outputs": [
    {
     "name": "stdout",
     "output_type": "stream",
     "text": [
      "count =  0\n",
      "count =  1\n",
      "count =  2\n",
      "count =  3\n",
      "count =  4\n",
      "count =  5\n",
      "count =  6\n",
      "count =  7\n",
      "count =  8\n",
      "count =  9\n"
     ]
    }
   ],
   "source": [
    "count = 0\n",
    "while count < 10:\n",
    "    print('count = ', count)\n",
    "    count += 1"
   ]
  },
  {
   "cell_type": "code",
   "execution_count": 4,
   "id": "854ef308-b66f-4391-a3f3-9aec0fd1dc6e",
   "metadata": {},
   "outputs": [
    {
     "name": "stdout",
     "output_type": "stream",
     "text": [
      "*******\n",
      "*******\n",
      "*******\n",
      "*******\n",
      "*******\n",
      "*******\n",
      "*******\n"
     ]
    }
   ],
   "source": [
    "i = 0\n",
    "while i < 7:\n",
    "    j = 0\n",
    "    while j < 7:\n",
    "        print('*', end = '')\n",
    "        j += 1\n",
    "    i += 1\n",
    "    print()"
   ]
  },
  {
   "cell_type": "code",
   "execution_count": 5,
   "id": "117f2b4b-8495-4d29-b964-905afa328f9c",
   "metadata": {},
   "outputs": [
    {
     "name": "stdout",
     "output_type": "stream",
     "text": [
      "*******\n"
     ]
    }
   ],
   "source": [
    "i = 0\n",
    "while i < 7:\n",
    "    j = 0\n",
    "    while j < 7:\n",
    "        print('*', end = '')\n",
    "        j += 1\n",
    "        i += 1\n",
    "    print()"
   ]
  },
  {
   "cell_type": "code",
   "execution_count": 6,
   "id": "9dd58dfa-074f-4b75-a9b5-1b9318bc114d",
   "metadata": {},
   "outputs": [
    {
     "name": "stdout",
     "output_type": "stream",
     "text": [
      "\n",
      "*\n",
      "**\n",
      "***\n",
      "****\n",
      "*****\n",
      "******\n"
     ]
    }
   ],
   "source": [
    "i = 0\n",
    "while i < 7:\n",
    "    j = 0\n",
    "    while j < i:\n",
    "        print('*', end = '')\n",
    "        j += 1\n",
    "    i += 1\n",
    "    print()"
   ]
  },
  {
   "cell_type": "code",
   "execution_count": 7,
   "id": "7ca2dead-2cf2-4e36-b82f-2a5219c3865f",
   "metadata": {},
   "outputs": [
    {
     "name": "stdout",
     "output_type": "stream",
     "text": [
      "\n",
      "*\n",
      "**\n",
      "***\n",
      "****\n",
      "*****\n",
      "******\n",
      "*******\n",
      "********\n"
     ]
    }
   ],
   "source": [
    "i = 0\n",
    "while i < 9:\n",
    "    j = 0\n",
    "    while j < i:\n",
    "        print('*', end = '')\n",
    "        j += 1\n",
    "    i += 1\n",
    "    print()"
   ]
  },
  {
   "cell_type": "code",
   "execution_count": 8,
   "id": "da47d04f-2a4c-4aee-b670-c35f5a2a5b73",
   "metadata": {},
   "outputs": [
    {
     "name": "stdout",
     "output_type": "stream",
     "text": [
      "count =  0\n",
      "count =  1\n",
      "count =  2\n",
      "count =  3\n",
      "count =  4\n",
      "count =  5\n",
      "count =  6\n",
      "count =  7\n",
      "count =  8\n",
      "count =  9\n"
     ]
    }
   ],
   "source": [
    "count = 0\n",
    "while count < 10:\n",
    "    print('count = ', count)\n",
    "    count += 1"
   ]
  },
  {
   "cell_type": "code",
   "execution_count": 1,
   "id": "d8403973-fd53-49d7-8c02-bbacbcbe32b7",
   "metadata": {},
   "outputs": [
    {
     "name": "stdout",
     "output_type": "stream",
     "text": [
      "count = 9\n",
      "count = 8\n",
      "count = 7\n",
      "count = 6\n",
      "count = 5\n",
      "count = 4\n",
      "count = 3\n",
      "count = 2\n",
      "count = 1\n",
      "count = 0\n"
     ]
    }
   ],
   "source": [
    "# print 0 to 9 in reverse order\n",
    "count = 9\n",
    "while count >= 0:\n",
    "    print('count =', count)\n",
    "    count -= 1"
   ]
  },
  {
   "cell_type": "code",
   "execution_count": 9,
   "id": "152229ca-65e9-4a95-87d4-1777810c2279",
   "metadata": {},
   "outputs": [
    {
     "name": "stdout",
     "output_type": "stream",
     "text": [
      "9\n",
      "8\n",
      "7\n",
      "6\n",
      "5\n",
      "4\n",
      "3\n",
      "2\n",
      "1\n",
      "0\n"
     ]
    }
   ],
   "source": [
    "count = 9\n",
    "while count >= 0:\n",
    "    print(count)\n",
    "    count -= 1"
   ]
  },
  {
   "cell_type": "code",
   "execution_count": 11,
   "id": "13ec00be-b630-4bea-a3dc-9acff0366ac7",
   "metadata": {},
   "outputs": [
    {
     "name": "stdout",
     "output_type": "stream",
     "text": [
      "Number is prime\n",
      "Number is prime\n",
      "Number is prime\n",
      "Number is prime\n",
      "Number is prime\n",
      "Number is not prime\n",
      "Number is prime\n",
      "Number is prime\n",
      "Number is prime\n",
      "Number is prime\n",
      "Number is prime\n",
      "Number is not prime\n",
      "Number is prime\n",
      "Number is prime\n",
      "Number is prime\n",
      "Number is prime\n",
      "Number is prime\n",
      "Number is prime\n",
      "Number is prime\n",
      "Number is prime\n",
      "Number is prime\n",
      "Number is prime\n",
      "Number is prime\n",
      "Number is prime\n",
      "Number is prime\n",
      "Number is prime\n",
      "Number is prime\n",
      "Number is prime\n",
      "Number is prime\n",
      "Number is prime\n",
      "Number is prime\n",
      "Number is prime\n",
      "Number is prime\n",
      "Number is prime\n",
      "Number is prime\n",
      "Number is prime\n",
      "Number is prime\n",
      "Number is prime\n",
      "Number is prime\n",
      "Number is prime\n",
      "Number is prime\n",
      "Number is prime\n",
      "Number is prime\n",
      "Number is prime\n",
      "Number is prime\n",
      "Number is prime\n",
      "Number is prime\n",
      "Number is prime\n",
      "Number is prime\n",
      "Number is prime\n",
      "Number is prime\n",
      "Number is prime\n",
      "Number is prime\n",
      "Number is prime\n",
      "Number is prime\n",
      "Number is prime\n",
      "Number is prime\n",
      "Number is prime\n",
      "Number is prime\n",
      "Number is prime\n",
      "Number is prime\n",
      "Number is prime\n",
      "Number is prime\n",
      "Number is prime\n",
      "Number is prime\n",
      "Number is prime\n",
      "Number is prime\n",
      "Number is prime\n",
      "Number is prime\n",
      "Number is prime\n",
      "Number is prime\n",
      "Number is prime\n",
      "Number is prime\n",
      "Number is prime\n",
      "Number is prime\n",
      "Number is prime\n",
      "Number is prime\n",
      "Number is prime\n",
      "Number is prime\n",
      "Number is prime\n",
      "Number is prime\n",
      "Number is prime\n",
      "Number is prime\n",
      "Number is prime\n",
      "Number is prime\n",
      "Number is prime\n",
      "Number is prime\n",
      "Number is prime\n",
      "Number is prime\n"
     ]
    }
   ],
   "source": [
    "num = 91\n",
    "for i in range(2, num):\n",
    "    if num%i == 0:\n",
    "        print('Number is not prime')\n",
    "    else:\n",
    "        print('Number is prime')"
   ]
  },
  {
   "cell_type": "code",
   "execution_count": 12,
   "id": "9c026e4c-af37-4756-93a4-76f7bcc4346d",
   "metadata": {},
   "outputs": [
    {
     "name": "stdout",
     "output_type": "stream",
     "text": [
      "Number is not prime\n",
      "Number is not prime\n",
      "Number is prime\n",
      "Number is prime\n"
     ]
    }
   ],
   "source": [
    "num = 6\n",
    "for i in range(2, num):\n",
    "    if num%i == 0:\n",
    "        print('Number is not prime')\n",
    "    else:\n",
    "        print('Number is prime')"
   ]
  },
  {
   "cell_type": "code",
   "execution_count": 13,
   "id": "d9c3560c-7fd3-4617-9f41-1f3e1c353b34",
   "metadata": {},
   "outputs": [
    {
     "name": "stdout",
     "output_type": "stream",
     "text": [
      "Number is not prime\n"
     ]
    }
   ],
   "source": [
    "num = 6\n",
    "for i in range(2, num):\n",
    "    if num%i == 0:\n",
    "        print('Number is not prime')\n",
    "        break\n",
    "    else:\n",
    "        print('Number is prime')"
   ]
  },
  {
   "cell_type": "code",
   "execution_count": 14,
   "id": "4755c9e5-c323-4251-9876-dcc114a11e29",
   "metadata": {},
   "outputs": [
    {
     "name": "stdout",
     "output_type": "stream",
     "text": [
      "Number is not prime\n",
      "Number is prime\n"
     ]
    }
   ],
   "source": [
    "num = 4\n",
    "for i in range(2, num):\n",
    "    if num%i == 0:\n",
    "        print('Number is not prime')\n",
    "    else:\n",
    "        print('Number is prime')"
   ]
  },
  {
   "cell_type": "code",
   "execution_count": 16,
   "id": "d6760751-b2d2-4c43-b4cc-0f3761f0698a",
   "metadata": {},
   "outputs": [
    {
     "name": "stdout",
     "output_type": "stream",
     "text": [
      "Number is not prime\n"
     ]
    }
   ],
   "source": []
  },
  {
   "cell_type": "code",
   "execution_count": 17,
   "id": "d2860de7-d8cd-4db5-be0f-dea6784593ee",
   "metadata": {},
   "outputs": [
    {
     "name": "stdout",
     "output_type": "stream",
     "text": [
      "Number is not prime\n"
     ]
    }
   ],
   "source": [
    "num = 4\n",
    "for i in range(2, num):\n",
    "    if num%i == 0:\n",
    "        print('Number is not prime')\n",
    "        break\n",
    "    else:\n",
    "        print('Number is prime')"
   ]
  },
  {
   "cell_type": "code",
   "execution_count": 18,
   "id": "7f671060-5d1d-4588-b64c-f48d7b23d2e0",
   "metadata": {},
   "outputs": [
    {
     "name": "stdout",
     "output_type": "stream",
     "text": [
      "Number is prime\n",
      "Number is not prime\n"
     ]
    }
   ],
   "source": [
    "num = 99\n",
    "for i in range(2, num):\n",
    "    if num%i == 0:\n",
    "        print('Number is not prime')\n",
    "        break\n",
    "    else:\n",
    "        print('Number is prime')"
   ]
  },
  {
   "cell_type": "code",
   "execution_count": 19,
   "id": "9b215306-6f40-4ebe-97a4-ee276d3732e4",
   "metadata": {},
   "outputs": [
    {
     "name": "stdout",
     "output_type": "stream",
     "text": [
      "Number is prime\n",
      "Number is not prime\n"
     ]
    }
   ],
   "source": [
    "num = 99\n",
    "flag = True\n",
    "for i in range(2, num):\n",
    "    if num%i == 0:\n",
    "        print('Number is not prime')\n",
    "        break\n",
    "    else:\n",
    "        print('Number is prime')"
   ]
  },
  {
   "cell_type": "code",
   "execution_count": 23,
   "id": "63d8a4eb-b70d-4941-84d3-6b0dd8d21f55",
   "metadata": {},
   "outputs": [
    {
     "name": "stdout",
     "output_type": "stream",
     "text": [
      "Number is not prime\n"
     ]
    }
   ],
   "source": [
    "num = 8\n",
    "flag = True\n",
    "for i in range(2, num):\n",
    "    if num%i == 0:\n",
    "        print('Number is not prime')\n",
    "        flag = False\n",
    "        break\n",
    "    else:\n",
    "        flag = True\n",
    "    if flag == True:    \n",
    "        print('Number is prime')"
   ]
  },
  {
   "cell_type": "code",
   "execution_count": 29,
   "id": "e82432cf-41c0-4f53-8ac5-2ad644f888d7",
   "metadata": {},
   "outputs": [
    {
     "name": "stdout",
     "output_type": "stream",
     "text": [
      "Number is prime\n"
     ]
    }
   ],
   "source": [
    "num = 5\n",
    "flag = True\n",
    "for i in range(2, num):\n",
    "    if num%i == 0:\n",
    "        flag = False\n",
    "        break\n",
    "    else:\n",
    "        flag = True\n",
    "if flag == True:    \n",
    "    print('Number is prime')\n",
    "else:\n",
    "    print('Number is not prime')"
   ]
  },
  {
   "cell_type": "code",
   "execution_count": 30,
   "id": "bc82c772-749e-4c3d-b465-1940df6407a9",
   "metadata": {},
   "outputs": [
    {
     "name": "stdout",
     "output_type": "stream",
     "text": [
      "Number is prime\n"
     ]
    }
   ],
   "source": [
    "num = 5\n",
    "flag = True\n",
    "for i in range(2, num):\n",
    "    if num%i == 0:\n",
    "        flag = False\n",
    "        break\n",
    "    else:\n",
    "        flag = True\n",
    "#if flag == True: \n",
    "if flag:    \n",
    "    print('Number is prime')\n",
    "else:\n",
    "    print('Number is not prime')"
   ]
  },
  {
   "cell_type": "code",
   "execution_count": 31,
   "id": "1174490a-c0aa-4292-9d73-cf3ce8d78079",
   "metadata": {},
   "outputs": [
    {
     "name": "stdout",
     "output_type": "stream",
     "text": [
      "97 is not prime\n"
     ]
    }
   ],
   "source": [
    "num = 97\n",
    "for i in range(2, num):\n",
    "    if num%i == 0:\n",
    "        print(num, 'is prime')\n",
    "        break\n",
    "else:\n",
    "        print(num, 'is not prime')"
   ]
  },
  {
   "cell_type": "code",
   "execution_count": 32,
   "id": "77473363-f0fe-47c2-8cd1-e5600a0c1a91",
   "metadata": {},
   "outputs": [
    {
     "name": "stdout",
     "output_type": "stream",
     "text": [
      "77 is prime\n"
     ]
    }
   ],
   "source": [
    "num = 77\n",
    "for i in range(2, num):\n",
    "    if num%i == 0:\n",
    "        print(num, 'is prime')\n",
    "        break\n",
    "else:\n",
    "        print(num, 'is not prime')"
   ]
  },
  {
   "cell_type": "code",
   "execution_count": 33,
   "id": "7bbad735-3ae6-46e3-ae6c-b925b52ceb2b",
   "metadata": {},
   "outputs": [
    {
     "name": "stdout",
     "output_type": "stream",
     "text": [
      "7 is not prime\n"
     ]
    }
   ],
   "source": [
    "num = 7\n",
    "for i in range(2, num):\n",
    "    if num%i == 0:\n",
    "        print(num, 'is prime')\n",
    "        break\n",
    "else:\n",
    "        print(num, 'is not prime')"
   ]
  },
  {
   "cell_type": "code",
   "execution_count": 35,
   "id": "932f2100-3f34-4f7e-a02d-485e19f18c03",
   "metadata": {},
   "outputs": [
    {
     "name": "stdout",
     "output_type": "stream",
     "text": [
      "7 is prime\n"
     ]
    }
   ],
   "source": [
    "num = 7\n",
    "for i in range(2, num):\n",
    "    if num%i == 0:\n",
    "        print(num, 'is not prime')\n",
    "        break\n",
    "else:\n",
    "        print(num, 'is prime')"
   ]
  },
  {
   "cell_type": "code",
   "execution_count": 36,
   "id": "2cecb356-0bb2-4b6e-b258-ba98a6d64311",
   "metadata": {},
   "outputs": [
    {
     "name": "stdout",
     "output_type": "stream",
     "text": [
      "Number is prime\n"
     ]
    }
   ],
   "source": [
    "num = 97\n",
    "flag = True\n",
    "for i in range(2, num):\n",
    "    if num%i == 0:\n",
    "        flag = False\n",
    "        break\n",
    "    else:\n",
    "        flag = True \n",
    "if flag:    \n",
    "    print('Number is prime')\n",
    "else:\n",
    "    print('Number is not prime')"
   ]
  },
  {
   "cell_type": "code",
   "execution_count": 44,
   "id": "19a56870-9cae-4876-9127-6b9f3cf64797",
   "metadata": {},
   "outputs": [
    {
     "name": "stdout",
     "output_type": "stream",
     "text": [
      "8 is not prime\n"
     ]
    }
   ],
   "source": [
    "num = 8\n",
    "flag = True\n",
    "for i in range(2, num//2):\n",
    "    if num%i == 0:\n",
    "        flag = False\n",
    "        break\n",
    "    else:\n",
    "        flag = True\n",
    "if flag:    \n",
    "    print(num, 'is prime')\n",
    "else:\n",
    "    print(num, 'is not prime')"
   ]
  },
  {
   "cell_type": "code",
   "execution_count": 42,
   "id": "671a2fdf-6ccf-405e-bce5-8e55c2411df4",
   "metadata": {},
   "outputs": [
    {
     "name": "stdout",
     "output_type": "stream",
     "text": [
      "4 is prime\n"
     ]
    }
   ],
   "source": [
    "num = 4\n",
    "flag = True\n",
    "for i in range(2, num//2):\n",
    "    if num%i == 0:\n",
    "        flag = False\n",
    "        break\n",
    "    else:\n",
    "        flag = True\n",
    "if flag:    \n",
    "    print(num, 'is prime')\n",
    "else:\n",
    "    print(num, 'is not prime')"
   ]
  },
  {
   "cell_type": "code",
   "execution_count": 45,
   "id": "800d424e-a35b-414f-adb1-41eba40216b0",
   "metadata": {},
   "outputs": [
    {
     "name": "stdout",
     "output_type": "stream",
     "text": [
      "2 is prime\n"
     ]
    }
   ],
   "source": [
    "num = 2\n",
    "flag = True\n",
    "for i in range(2, num//2):\n",
    "    if num%i == 0:\n",
    "        flag = False\n",
    "        break\n",
    "    else:\n",
    "        flag = True\n",
    "if flag:    \n",
    "    print(num, 'is prime')\n",
    "else:\n",
    "    print(num, 'is not prime')"
   ]
  },
  {
   "cell_type": "code",
   "execution_count": 48,
   "id": "a9871414-743a-4c4d-830d-6e43fb40e0fe",
   "metadata": {},
   "outputs": [
    {
     "name": "stdout",
     "output_type": "stream",
     "text": [
      "4 is not prime\n"
     ]
    }
   ],
   "source": [
    "num = 4\n",
    "flag = True\n",
    "for i in range(2, num//2 + 1):\n",
    "    if num%i == 0:\n",
    "        flag = False\n",
    "        break\n",
    "    else:\n",
    "        flag = True\n",
    "if flag:    \n",
    "    print(num, 'is prime')\n",
    "else:\n",
    "    print(num, 'is not prime')"
   ]
  },
  {
   "cell_type": "code",
   "execution_count": 50,
   "id": "aabfc2ad-7ea6-4fed-afbe-cd726574a63a",
   "metadata": {},
   "outputs": [
    {
     "ename": "IndentationError",
     "evalue": "unindent does not match any outer indentation level (<tokenize>, line 9)",
     "output_type": "error",
     "traceback": [
      "\u001b[0;36m  File \u001b[0;32m<tokenize>:9\u001b[0;36m\u001b[0m\n\u001b[0;31m    if flag:\u001b[0m\n\u001b[0m    ^\u001b[0m\n\u001b[0;31mIndentationError\u001b[0m\u001b[0;31m:\u001b[0m unindent does not match any outer indentation level\n"
     ]
    }
   ],
   "source": [
    "num = 4\n",
    "flag = True\n",
    "for i in range(2, num//2):\n",
    "    if num%i == 0\n",
    "        flag = False\n",
    "        break\n",
    "else:\n",
    "        flag = True\n",
    "    if flag:\n",
    "        print(num, 'is prime')\n",
    "    else:\n",
    "        print(num, 'is not prime')"
   ]
  },
  {
   "cell_type": "code",
   "execution_count": 52,
   "id": "9fb9bab9-d857-4b91-bf20-c7e82dde2026",
   "metadata": {},
   "outputs": [
    {
     "ename": "IndentationError",
     "evalue": "unindent does not match any outer indentation level (<tokenize>, line 11)",
     "output_type": "error",
     "traceback": [
      "\u001b[0;36m  File \u001b[0;32m<tokenize>:11\u001b[0;36m\u001b[0m\n\u001b[0;31m    else:\u001b[0m\n\u001b[0m    ^\u001b[0m\n\u001b[0;31mIndentationError\u001b[0m\u001b[0;31m:\u001b[0m unindent does not match any outer indentation level\n"
     ]
    }
   ],
   "source": [
    "num = 4\n",
    "flag = True\n",
    "for i in range(2, num//2):\n",
    "    if num%i == 0\n",
    "        flag = False\n",
    "        break\n",
    "else:\n",
    "        flag = True\n",
    "if flag:\n",
    "        print(num, 'is prime')\n",
    "    else:\n",
    "        print(num, 'is not prime')"
   ]
  },
  {
   "cell_type": "code",
   "execution_count": 63,
   "id": "d6525059-1328-4217-b53d-ad9b41f16b45",
   "metadata": {},
   "outputs": [
    {
     "name": "stdout",
     "output_type": "stream",
     "text": [
      "4 is not prime\n"
     ]
    }
   ],
   "source": [
    "num = 4\n",
    "flag = True\n",
    "for i in range(2, num//2 + 1):\n",
    "    if num%i == 0:\n",
    "        flag = False\n",
    "        break\n",
    "else:\n",
    "        flag = True\n",
    "if flag:\n",
    "        print(num, 'is prime')\n",
    "else:\n",
    "        print(num, 'is not prime')"
   ]
  },
  {
   "cell_type": "code",
   "execution_count": 64,
   "id": "d93984b5-7acb-4650-8381-a9995cdd24e6",
   "metadata": {},
   "outputs": [
    {
     "name": "stdout",
     "output_type": "stream",
     "text": [
      "7 is prime\n"
     ]
    }
   ],
   "source": [
    "num = 7\n",
    "flag = True\n",
    "for i in range(2, num//2 + 1):\n",
    "    if num%i == 0:\n",
    "        flag = False\n",
    "        break\n",
    "else:\n",
    "        flag = True\n",
    "if flag:\n",
    "        print(num, 'is prime')\n",
    "else:\n",
    "        print(num, 'is not prime')"
   ]
  },
  {
   "cell_type": "code",
   "execution_count": 3,
   "id": "e3e21a9d-e838-4351-8329-bacb7e6996fd",
   "metadata": {},
   "outputs": [
    {
     "name": "stdout",
     "output_type": "stream",
     "text": [
      "4 is not prime\n"
     ]
    }
   ],
   "source": [
    "num = 4\n",
    "flag = True\n",
    "for i in range(2, num//2 + 1):\n",
    "    if num%i == 0:        \n",
    "        flag = False\n",
    "        break\n",
    "    else:\n",
    "        flag = True\n",
    "if flag:\n",
    "    print(num, 'is prime')\n",
    "else:\n",
    "    print(num, 'is not prime')"
   ]
  },
  {
   "cell_type": "code",
   "execution_count": null,
   "id": "f2b096ab-5324-4191-870d-8572cbf5668d",
   "metadata": {},
   "outputs": [],
   "source": []
  }
 ],
 "metadata": {
  "kernelspec": {
   "display_name": "Python 3 (ipykernel)",
   "language": "python",
   "name": "python3"
  },
  "language_info": {
   "codemirror_mode": {
    "name": "ipython",
    "version": 3
   },
   "file_extension": ".py",
   "mimetype": "text/x-python",
   "name": "python",
   "nbconvert_exporter": "python",
   "pygments_lexer": "ipython3",
   "version": "3.10.12"
  }
 },
 "nbformat": 4,
 "nbformat_minor": 5
}
