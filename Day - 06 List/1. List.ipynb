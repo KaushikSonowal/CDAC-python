{
 "cells": [
  {
   "cell_type": "markdown",
   "id": "3865374e-3e0f-4db9-8fbe-0896389073ec",
   "metadata": {},
   "source": [
    "## List"
   ]
  },
  {
   "cell_type": "markdown",
   "id": "396d38f3-33d0-4277-b6ec-f29cd4f0bf9e",
   "metadata": {},
   "source": [
    "### 1. Definition"
   ]
  },
  {
   "cell_type": "markdown",
   "id": "1c322a0a-77e6-4a5c-b1d6-1da9cf251c7f",
   "metadata": {},
   "source": [
    "- collection of items\n",
    "- can accomodate heterogenous datatypes\n",
    "- list is ordered\n",
    "- list can contain duplicates\n",
    "- lists are mutable (can change)"
   ]
  },
  {
   "cell_type": "code",
   "execution_count": 1,
   "id": "6e22b322-3c1a-4aa7-ae77-fa2483d66ca3",
   "metadata": {},
   "outputs": [
    {
     "name": "stdout",
     "output_type": "stream",
     "text": [
      "[1, 56, 34, 90]\n"
     ]
    }
   ],
   "source": [
    "list1 = [1, 56, 34, 90]\n",
    "print(list1)"
   ]
  },
  {
   "cell_type": "code",
   "execution_count": 2,
   "id": "da8ae4f5-d3af-444a-bd09-8d732c603657",
   "metadata": {},
   "outputs": [
    {
     "data": {
      "text/plain": [
       "[1, 56, 34, 90]"
      ]
     },
     "execution_count": 2,
     "metadata": {},
     "output_type": "execute_result"
    }
   ],
   "source": [
    "list1 = [1, 56, 34, 90]\n",
    "list1"
   ]
  },
  {
   "cell_type": "code",
   "execution_count": 3,
   "id": "93c03420-1278-477f-82b0-10ec029a8c09",
   "metadata": {},
   "outputs": [
    {
     "name": "stdout",
     "output_type": "stream",
     "text": [
      "list data\n"
     ]
    }
   ],
   "source": [
    "list1 = [1, 56, 34, 90]\n",
    "list1\n",
    "print('list data')"
   ]
  },
  {
   "cell_type": "code",
   "execution_count": 4,
   "id": "7b73e5df-3279-4e29-87ea-452a684fdd5d",
   "metadata": {},
   "outputs": [
    {
     "data": {
      "text/plain": [
       "[1, 2, 'CBP', 77.88, [22, 66, 88], (1, 3)]"
      ]
     },
     "execution_count": 4,
     "metadata": {},
     "output_type": "execute_result"
    }
   ],
   "source": [
    "list2 = [1 ,2, 'CBP', 77.88, [22,66,88], (1,3)]\n",
    "list2"
   ]
  },
  {
   "cell_type": "code",
   "execution_count": 5,
   "id": "68491b56-481f-4e72-82ef-4f4195561f9d",
   "metadata": {},
   "outputs": [
    {
     "name": "stdout",
     "output_type": "stream",
     "text": [
      "1\n",
      "2\n",
      "CBP\n",
      "77.88\n",
      "[22, 66, 88]\n",
      "(1, 3)\n"
     ]
    }
   ],
   "source": [
    "list2 = [1 ,2, 'CBP', 77.88, [22,66,88], (1,3)]\n",
    "for item in list2:\n",
    "    print(item)"
   ]
  },
  {
   "cell_type": "code",
   "execution_count": 6,
   "id": "7adb9919-17dd-4af3-ad8f-bf0f5b1defb8",
   "metadata": {},
   "outputs": [
    {
     "name": "stdout",
     "output_type": "stream",
     "text": [
      "1\n",
      "2\n",
      "CBP\n",
      "77.88\n",
      "[22, 66, 88]\n",
      "(1, 3)\n"
     ]
    }
   ],
   "source": [
    "list2 = [1 ,2, 'CBP', 77.88, [22,66,88], (1,3)]\n",
    "for index in range(len(list2)):\n",
    "    print(list2[index])"
   ]
  },
  {
   "cell_type": "code",
   "execution_count": 7,
   "id": "343a7e77-7b99-4951-ab98-62ed377e984a",
   "metadata": {},
   "outputs": [
    {
     "name": "stdout",
     "output_type": "stream",
     "text": [
      "0 -> 1\n",
      "1 -> 2\n",
      "2 -> CBP\n",
      "3 -> 77.88\n",
      "4 -> [22, 66, 88]\n",
      "5 -> (1, 3)\n"
     ]
    }
   ],
   "source": [
    "list2 = [1 ,2, 'CBP', 77.88, [22,66,88], (1,3)]\n",
    "for index in range(len(list2)):\n",
    "    print(index, '->',list2[index])"
   ]
  },
  {
   "cell_type": "code",
   "execution_count": 8,
   "id": "f5c2e85b-a68e-4d30-b76d-dc0fc20132cb",
   "metadata": {},
   "outputs": [
    {
     "name": "stdout",
     "output_type": "stream",
     "text": [
      "0 -> 1 -> <class 'int'>\n",
      "1 -> 2 -> <class 'int'>\n",
      "2 -> CBP -> <class 'str'>\n",
      "3 -> 77.88 -> <class 'float'>\n",
      "4 -> [22, 66, 88] -> <class 'list'>\n",
      "5 -> (1, 3) -> <class 'tuple'>\n"
     ]
    }
   ],
   "source": [
    "list2 = [1, 2, 'CBP', 77.88, [22,66,88], (1,3)]\n",
    "for index in range(len(list2)):\n",
    "    print(index, '->',list2[index], '->', type(list2[index]))"
   ]
  },
  {
   "cell_type": "code",
   "execution_count": null,
   "id": "5fec4083-696f-40ee-998f-de6b0f9c700f",
   "metadata": {},
   "outputs": [],
   "source": [
    "0 -> 1 ->            <class 'int'>\n",
    "1 -> 2 ->            <class 'int'>\n",
    "2 -> CBP ->          <class 'str'>\n",
    "3 -> 77.88 ->        <class 'float'>\n",
    "4 -> [22, 66, 88] -> <class 'list'>\n",
    "5 -> (1, 3) ->       <class 'tuple'>"
   ]
  },
  {
   "cell_type": "code",
   "execution_count": 10,
   "id": "60b8329e-6083-4e3a-9b3b-1bcebe139f6d",
   "metadata": {},
   "outputs": [
    {
     "name": "stdout",
     "output_type": "stream",
     "text": [
      "0 -> 11 -> <class 'int'>\n",
      "1 -> 22 -> <class 'int'>\n",
      "2 -> 33 -> <class 'int'>\n",
      "3 -> 44 -> <class 'int'>\n",
      "4 -> 55 -> <class 'int'>\n",
      "5 -> 66 -> <class 'int'>\n",
      "6 -> 77 -> <class 'int'>\n"
     ]
    }
   ],
   "source": [
    "list3 = [11,22,33,44,55,66,77]\n",
    "for item in range(len(list3)):\n",
    "    print(item, '->',list3[item], '->', type(list3[item]))\n"
   ]
  },
  {
   "cell_type": "code",
   "execution_count": 11,
   "id": "0bb8d832-fb5c-4110-ad6d-72ab2281f934",
   "metadata": {},
   "outputs": [
    {
     "name": "stdout",
     "output_type": "stream",
     "text": [
      "[2, 2, 2, 2, 2, 2, 2]\n"
     ]
    }
   ],
   "source": [
    "list4 = [2,2,2,2,2,2,2]\n",
    "print(list4)"
   ]
  },
  {
   "cell_type": "code",
   "execution_count": 12,
   "id": "d725dc04-9a9c-4dd2-8da7-2b95fd666d37",
   "metadata": {},
   "outputs": [
    {
     "name": "stdout",
     "output_type": "stream",
     "text": [
      "2 2 2 2 2 2 2 "
     ]
    }
   ],
   "source": [
    "list4 = [2,2,2,2,2,2,2]\n",
    "for item in list4:\n",
    "    print(item, end = ' ')"
   ]
  },
  {
   "cell_type": "code",
   "execution_count": 13,
   "id": "0256f038-087a-4cdd-a57f-b07e15f6c1af",
   "metadata": {},
   "outputs": [
    {
     "name": "stdout",
     "output_type": "stream",
     "text": [
      "1 2 44 2 1 "
     ]
    }
   ],
   "source": [
    "list4 = [1,2,44,2,1]\n",
    "for item in list4:\n",
    "    print(item, end = ' ')"
   ]
  },
  {
   "cell_type": "code",
   "execution_count": 14,
   "id": "f4a1e436-d50a-4b68-84ed-51b05aeb0334",
   "metadata": {},
   "outputs": [
    {
     "data": {
      "text/plain": [
       "[1, 2, 3, 44, 5, 6]"
      ]
     },
     "execution_count": 14,
     "metadata": {},
     "output_type": "execute_result"
    }
   ],
   "source": [
    "list5 = [1,2,3,4,5,6]\n",
    "list5[3] = 44\n",
    "list5"
   ]
  },
  {
   "cell_type": "code",
   "execution_count": 15,
   "id": "0ef3ad2c-b3c7-4ad9-b8c0-575227719cfc",
   "metadata": {},
   "outputs": [
    {
     "ename": "TypeError",
     "evalue": "'tuple' object does not support item assignment",
     "output_type": "error",
     "traceback": [
      "\u001b[0;31m---------------------------------------------------------------------------\u001b[0m",
      "\u001b[0;31mTypeError\u001b[0m                                 Traceback (most recent call last)",
      "Cell \u001b[0;32mIn[15], line 2\u001b[0m\n\u001b[1;32m      1\u001b[0m tup5 \u001b[38;5;241m=\u001b[39m (\u001b[38;5;241m1\u001b[39m,\u001b[38;5;241m2\u001b[39m,\u001b[38;5;241m3\u001b[39m,\u001b[38;5;241m4\u001b[39m,\u001b[38;5;241m5\u001b[39m,\u001b[38;5;241m6\u001b[39m)\n\u001b[0;32m----> 2\u001b[0m \u001b[43mtup5\u001b[49m\u001b[43m[\u001b[49m\u001b[38;5;241;43m3\u001b[39;49m\u001b[43m]\u001b[49m \u001b[38;5;241m=\u001b[39m \u001b[38;5;241m44\u001b[39m\n\u001b[1;32m      3\u001b[0m tup5\n",
      "\u001b[0;31mTypeError\u001b[0m: 'tuple' object does not support item assignment"
     ]
    }
   ],
   "source": [
    "tup5 = (1,2,3,4,5,6)\n",
    "tup5[3] = 44\n",
    "tup5\n"
   ]
  },
  {
   "cell_type": "markdown",
   "id": "da1e0bb6-abb3-4887-b1d8-44e0b1a7bbc8",
   "metadata": {},
   "source": [
    "### 2. Initialize list"
   ]
  },
  {
   "cell_type": "code",
   "execution_count": 16,
   "id": "7417ba40-408f-4cfd-9865-89ae3ffe0f1f",
   "metadata": {},
   "outputs": [
    {
     "data": {
      "text/plain": [
       "[65]"
      ]
     },
     "execution_count": 16,
     "metadata": {},
     "output_type": "execute_result"
    }
   ],
   "source": [
    "list1 = [65]\n",
    "list1\n"
   ]
  },
  {
   "cell_type": "code",
   "execution_count": 17,
   "id": "e8b62e07-f772-440d-97f5-6e9031ae8364",
   "metadata": {},
   "outputs": [
    {
     "data": {
      "text/plain": [
       "[3, 5, 6]"
      ]
     },
     "execution_count": 17,
     "metadata": {},
     "output_type": "execute_result"
    }
   ],
   "source": [
    "list2 = [3,5,6]\n",
    "list2\n"
   ]
  },
  {
   "cell_type": "code",
   "execution_count": 18,
   "id": "b72ff890-ee74-41dc-aa4f-bd4f29530706",
   "metadata": {},
   "outputs": [
    {
     "data": {
      "text/plain": [
       "[]"
      ]
     },
     "execution_count": 18,
     "metadata": {},
     "output_type": "execute_result"
    }
   ],
   "source": [
    "# create empty list\n",
    "list1 = []\n",
    "list1"
   ]
  },
  {
   "cell_type": "code",
   "execution_count": 19,
   "id": "778cd568-7345-4171-89a2-7d2eb6f40634",
   "metadata": {},
   "outputs": [
    {
     "data": {
      "text/plain": [
       "list"
      ]
     },
     "execution_count": 19,
     "metadata": {},
     "output_type": "execute_result"
    }
   ],
   "source": [
    "list1 = []\n",
    "type(list1)"
   ]
  },
  {
   "cell_type": "code",
   "execution_count": 20,
   "id": "075a17ab-8543-4a13-aac8-cd2293dc1a93",
   "metadata": {},
   "outputs": [
    {
     "data": {
      "text/plain": [
       "[]"
      ]
     },
     "execution_count": 20,
     "metadata": {},
     "output_type": "execute_result"
    }
   ],
   "source": [
    "list1 = list()\n",
    "list1\n"
   ]
  },
  {
   "cell_type": "code",
   "execution_count": 21,
   "id": "53e27da0-3374-42dc-940b-00e686cc17dd",
   "metadata": {},
   "outputs": [
    {
     "data": {
      "text/plain": [
       "list"
      ]
     },
     "execution_count": 21,
     "metadata": {},
     "output_type": "execute_result"
    }
   ],
   "source": [
    "list1 = list()\n",
    "type(list1)"
   ]
  },
  {
   "cell_type": "markdown",
   "id": "119c8892-2e3a-4333-90c7-bfd99f865f71",
   "metadata": {},
   "source": [
    "\n",
    "## Add items\n",
    "### 1. append()\n",
    "\n"
   ]
  },
  {
   "cell_type": "code",
   "execution_count": 22,
   "id": "ac3019db-91d1-4ad1-b56b-9b4568eda96c",
   "metadata": {},
   "outputs": [
    {
     "data": {
      "text/plain": [
       "[45]"
      ]
     },
     "execution_count": 22,
     "metadata": {},
     "output_type": "execute_result"
    }
   ],
   "source": [
    "list1 = []\n",
    "list1.append(45)\n",
    "list1"
   ]
  },
  {
   "cell_type": "code",
   "execution_count": 23,
   "id": "bd02422c-19a6-441e-ae17-62a3157dae73",
   "metadata": {},
   "outputs": [
    {
     "data": {
      "text/plain": [
       "[11, 22, 33, 22]"
      ]
     },
     "execution_count": 23,
     "metadata": {},
     "output_type": "execute_result"
    }
   ],
   "source": [
    "list1 = [11,22,33]\n",
    "list1.append(22)\n",
    "list1\n"
   ]
  },
  {
   "cell_type": "code",
   "execution_count": 24,
   "id": "b96a9ab9-21e4-43cf-b4ec-0ef37944b59d",
   "metadata": {},
   "outputs": [
    {
     "data": {
      "text/plain": [
       "[55, 123, 7.89, 'abc']"
      ]
     },
     "execution_count": 24,
     "metadata": {},
     "output_type": "execute_result"
    }
   ],
   "source": [
    "list1 = [55,123,7.89]\n",
    "list1.append('abc')\n",
    "list1\n"
   ]
  },
  {
   "cell_type": "code",
   "execution_count": 25,
   "id": "cd56de79-44db-481a-82e5-e8ba551fc399",
   "metadata": {},
   "outputs": [
    {
     "data": {
      "text/plain": [
       "[55, 123, 7.89, ['A', 'B', 'C', 'D']]"
      ]
     },
     "execution_count": 25,
     "metadata": {},
     "output_type": "execute_result"
    }
   ],
   "source": [
    "list1 = [55,123,7.89]\n",
    "list1.append(['A', 'B', 'C', 'D'])\n",
    "list1\n"
   ]
  },
  {
   "cell_type": "code",
   "execution_count": 26,
   "id": "dd5b4a76-5969-4e69-b0bf-35c8d91d0778",
   "metadata": {},
   "outputs": [
    {
     "data": {
      "text/plain": [
       "['A', 'B', 'C', 'D']"
      ]
     },
     "execution_count": 26,
     "metadata": {},
     "output_type": "execute_result"
    }
   ],
   "source": [
    "list1[3]\n"
   ]
  },
  {
   "cell_type": "code",
   "execution_count": 27,
   "id": "466d98f7-2350-4ab3-baa3-dcabf5eb0221",
   "metadata": {},
   "outputs": [
    {
     "data": {
      "text/plain": [
       "'B'"
      ]
     },
     "execution_count": 27,
     "metadata": {},
     "output_type": "execute_result"
    }
   ],
   "source": [
    "list1[3][1]"
   ]
  },
  {
   "cell_type": "markdown",
   "id": "0be4c500-db08-4ad1-9557-8fd0c4759a68",
   "metadata": {},
   "source": [
    "### 2. extend()"
   ]
  },
  {
   "cell_type": "code",
   "execution_count": 28,
   "id": "26134756-c66b-4172-adc2-a9ef53e42df3",
   "metadata": {},
   "outputs": [
    {
     "data": {
      "text/plain": [
       "[1, 2, 'ABC', 'XYZ']"
      ]
     },
     "execution_count": 28,
     "metadata": {},
     "output_type": "execute_result"
    }
   ],
   "source": [
    "list1 = [1,2]\n",
    "list2 = ['ABC', 'XYZ']\n",
    "list1.extend(list2)\n",
    "list1\n"
   ]
  },
  {
   "cell_type": "code",
   "execution_count": 29,
   "id": "dc81266a-3e58-4247-9757-6edf99166084",
   "metadata": {},
   "outputs": [
    {
     "data": {
      "text/plain": [
       "['ABC', 'XYZ', 1, 2]"
      ]
     },
     "execution_count": 29,
     "metadata": {},
     "output_type": "execute_result"
    }
   ],
   "source": [
    "list1 = [1,2]\n",
    "list2 = ['ABC', 'XYZ']\n",
    "list2.extend(list1)\n",
    "list2\n"
   ]
  },
  {
   "cell_type": "code",
   "execution_count": 30,
   "id": "96f271bc-722e-459f-be11-590a727dae3d",
   "metadata": {},
   "outputs": [
    {
     "data": {
      "text/plain": [
       "[1, 2, 33, 44]"
      ]
     },
     "execution_count": 30,
     "metadata": {},
     "output_type": "execute_result"
    }
   ],
   "source": [
    "list1 = [1,2]\n",
    "list1.extend([33,44])\n",
    "list1"
   ]
  },
  {
   "cell_type": "code",
   "execution_count": 31,
   "id": "590d2421-93ce-4042-aa46-505ddab25b01",
   "metadata": {},
   "outputs": [
    {
     "ename": "TypeError",
     "evalue": "list.extend() takes exactly one argument (2 given)",
     "output_type": "error",
     "traceback": [
      "\u001b[0;31m---------------------------------------------------------------------------\u001b[0m",
      "\u001b[0;31mTypeError\u001b[0m                                 Traceback (most recent call last)",
      "Cell \u001b[0;32mIn[31], line 2\u001b[0m\n\u001b[1;32m      1\u001b[0m list1 \u001b[38;5;241m=\u001b[39m [\u001b[38;5;241m1\u001b[39m,\u001b[38;5;241m2\u001b[39m]\n\u001b[0;32m----> 2\u001b[0m \u001b[43mlist1\u001b[49m\u001b[38;5;241;43m.\u001b[39;49m\u001b[43mextend\u001b[49m\u001b[43m(\u001b[49m\u001b[38;5;241;43m33\u001b[39;49m\u001b[43m,\u001b[49m\u001b[38;5;241;43m44\u001b[39;49m\u001b[43m)\u001b[49m\n\u001b[1;32m      3\u001b[0m list1\n",
      "\u001b[0;31mTypeError\u001b[0m: list.extend() takes exactly one argument (2 given)"
     ]
    }
   ],
   "source": [
    "list1 = [1,2]\n",
    "list1.extend(33,44)\n",
    "list1"
   ]
  },
  {
   "cell_type": "code",
   "execution_count": 32,
   "id": "3b390afc-53ac-4c65-84ed-5c0b392ff6ab",
   "metadata": {},
   "outputs": [
    {
     "data": {
      "text/plain": [
       "[33, 'xyz']"
      ]
     },
     "execution_count": 32,
     "metadata": {},
     "output_type": "execute_result"
    }
   ],
   "source": [
    "list1 = []\n",
    "list2 = [33, 'xyz']\n",
    "list1.extend(list2)\n",
    "list1"
   ]
  },
  {
   "cell_type": "code",
   "execution_count": 33,
   "id": "80e374b1-12d0-4498-b51f-4a0c11160506",
   "metadata": {},
   "outputs": [
    {
     "data": {
      "text/plain": [
       "[33, 'xyz']"
      ]
     },
     "execution_count": 33,
     "metadata": {},
     "output_type": "execute_result"
    }
   ],
   "source": [
    "list1 = []\n",
    "list2 = [33, 'xyz']\n",
    "list2.extend(list1)\n",
    "list2\n"
   ]
  },
  {
   "cell_type": "code",
   "execution_count": null,
   "id": "821fdae5-9d11-40c7-b5d9-3cc89dfe9854",
   "metadata": {},
   "outputs": [],
   "source": [
    "list2 = [33, 'xyz']"
   ]
  },
  {
   "cell_type": "code",
   "execution_count": 34,
   "id": "2e7ac653-28eb-4a35-9ab8-fbf42e69b834",
   "metadata": {},
   "outputs": [
    {
     "data": {
      "text/plain": [
       "[33, 'xyz', []]"
      ]
     },
     "execution_count": 34,
     "metadata": {},
     "output_type": "execute_result"
    }
   ],
   "source": [
    "list2.append([])\n",
    "list2"
   ]
  },
  {
   "cell_type": "markdown",
   "id": "9dd3c220-3ef6-40af-8001-1d1a7216f89e",
   "metadata": {},
   "source": [
    "### 3. insert(index, item)"
   ]
  },
  {
   "cell_type": "code",
   "execution_count": 35,
   "id": "63e2ae03-4fcf-4e80-83af-a82a694cb4c5",
   "metadata": {},
   "outputs": [
    {
     "name": "stdout",
     "output_type": "stream",
     "text": [
      "[11, 22, 33, 44, 55, 66]\n",
      "[11, 22, 33, 'Guwahati', 44, 55, 66]\n"
     ]
    }
   ],
   "source": [
    "list1 = [11,22,33,44,55,66]\n",
    "print(list1)\n",
    "list1.insert(3,'Guwahati')\n",
    "print(list1)"
   ]
  },
  {
   "cell_type": "code",
   "execution_count": 36,
   "id": "1f2947a4-7b3e-42e8-916a-08f7474e9670",
   "metadata": {},
   "outputs": [
    {
     "data": {
      "text/plain": [
       "[{1, 4, 24, 88}]"
      ]
     },
     "execution_count": 36,
     "metadata": {},
     "output_type": "execute_result"
    }
   ],
   "source": [
    "list1 = []\n",
    "list1.insert(0, {1,4,88,24})\n",
    "list1"
   ]
  },
  {
   "cell_type": "code",
   "execution_count": 37,
   "id": "b2488f65-8402-4345-9c9b-9cf8552e6f80",
   "metadata": {},
   "outputs": [
    {
     "name": "stdout",
     "output_type": "stream",
     "text": [
      "0-> Mumbai\n",
      "1-> Delhi\n",
      "2-> Kolkata\n",
      "3-> Hyderabad\n"
     ]
    }
   ],
   "source": [
    "cities = [\"Mumbai\", 'Delhi', \"Kolkata\", 'Hyderabad']\n",
    "for i in range(len(cities)):\n",
    "    print(i, '-> ', cities[i], sep = '')"
   ]
  },
  {
   "cell_type": "code",
   "execution_count": 38,
   "id": "05a0036a-b493-4aff-8402-83b010ac0d24",
   "metadata": {},
   "outputs": [
    {
     "name": "stdout",
     "output_type": "stream",
     "text": [
      "0-> Mumbai\n",
      "1-> Delhi\n",
      "2-> Guwahati\n",
      "3-> Kolkata\n",
      "4-> Hyderabad\n"
     ]
    }
   ],
   "source": [
    "cities = [\"Mumbai\", 'Delhi', \"Kolkata\", 'Hyderabad']\n",
    "cities.insert(2, 'Guwahati')\n",
    "for i in range(len(cities)):\n",
    "    print(i, '-> ', cities[i], sep = '')"
   ]
  },
  {
   "cell_type": "markdown",
   "id": "db08dbb5-14b7-4703-a4f8-ac3ab1830761",
   "metadata": {},
   "source": [
    "## Remove Items\n",
    "### 1. remove(element)"
   ]
  },
  {
   "cell_type": "code",
   "execution_count": null,
   "id": "93f84a81-9f0b-4865-8d63-c24e1716371c",
   "metadata": {},
   "outputs": [],
   "source": [
    "list1.remove(element)\n",
    "it removes first occurence of an element"
   ]
  },
  {
   "cell_type": "code",
   "execution_count": 39,
   "id": "8c1aea0e-559c-4a4a-9db5-a8d77b5c7c66",
   "metadata": {},
   "outputs": [
    {
     "name": "stdout",
     "output_type": "stream",
     "text": [
      "Before remove\n",
      "['Mumbai', 'Delhi', 'Kolkata', 'Hyderabad']\n",
      "After remove\n",
      "['Mumbai', 'Delhi', 'Hyderabad']\n"
     ]
    }
   ],
   "source": [
    "cities = [\"Mumbai\", 'Delhi', \"Kolkata\", 'Hyderabad']\n",
    "print('Before remove')\n",
    "print(cities)\n",
    "cities.remove('Kolkata')\n",
    "print('After remove')\n",
    "print(cities)"
   ]
  },
  {
   "cell_type": "code",
   "execution_count": 40,
   "id": "898f8aae-9616-4656-a503-a6c72c5395d6",
   "metadata": {},
   "outputs": [
    {
     "data": {
      "text/plain": [
       "[44, 22, 11, 44, 67, 45, 89, 34]"
      ]
     },
     "execution_count": 40,
     "metadata": {},
     "output_type": "execute_result"
    }
   ],
   "source": [
    "list1 = [11,44,22,11,44,67,45,89,34]\n",
    "list1.remove(11)\n",
    "list1"
   ]
  },
  {
   "cell_type": "code",
   "execution_count": 41,
   "id": "405498c5-b34c-4519-9c77-ca0586983465",
   "metadata": {},
   "outputs": [
    {
     "data": {
      "text/plain": [
       "[11, 22, 11, 44, 67, 45, 89, 34]"
      ]
     },
     "execution_count": 41,
     "metadata": {},
     "output_type": "execute_result"
    }
   ],
   "source": [
    "list1 = [11,44,22,11,44,67,45,89,34]\n",
    "list1.remove(44)\n",
    "list1"
   ]
  },
  {
   "cell_type": "code",
   "execution_count": 42,
   "id": "6b0e8216-8b1c-4ece-88ea-f5d639d315a1",
   "metadata": {},
   "outputs": [
    {
     "data": {
      "text/plain": [
       "[11, 22, 33, 44, 55, 66, 77]"
      ]
     },
     "execution_count": 42,
     "metadata": {},
     "output_type": "execute_result"
    }
   ],
   "source": [
    "list1 = [11,22,33,44,55,66,77,3]\n",
    "list1.remove(3)\n",
    "list1"
   ]
  },
  {
   "cell_type": "markdown",
   "id": "e5d9ee4c-1374-4d86-b499-46bea29b7f97",
   "metadata": {},
   "source": [
    "### 2. pop(index)"
   ]
  },
  {
   "cell_type": "code",
   "execution_count": null,
   "id": "789f9ce6-e4b7-4a59-bdca-bc930b558129",
   "metadata": {},
   "outputs": [],
   "source": [
    "it removes element from specified index"
   ]
  },
  {
   "cell_type": "code",
   "execution_count": 43,
   "id": "15a8621f-4230-4e9c-b624-8539bb35a855",
   "metadata": {},
   "outputs": [
    {
     "data": {
      "text/plain": [
       "[11, 22, 33, 55, 66, 77, 3]"
      ]
     },
     "execution_count": 43,
     "metadata": {},
     "output_type": "execute_result"
    }
   ],
   "source": [
    "list1 = [11,22,33,44,55,66,77,3]\n",
    "list1.pop(3)\n",
    "list1"
   ]
  },
  {
   "cell_type": "code",
   "execution_count": 44,
   "id": "a5e2c54f-4a20-4bf2-8be7-3ea72bf7fbe5",
   "metadata": {},
   "outputs": [
    {
     "name": "stdout",
     "output_type": "stream",
     "text": [
      "[0, 1, 2, 3, 4, 5, 6, 7, 8, 9]\n"
     ]
    },
    {
     "data": {
      "text/plain": [
       "[0, 1, 2, 3, 4, 6, 7, 8, 9]"
      ]
     },
     "execution_count": 44,
     "metadata": {},
     "output_type": "execute_result"
    }
   ],
   "source": [
    "list1 = [0,1,2,3,4,5,6,7,8,9]\n",
    "print(list1)\n",
    "list1.pop(5)\n",
    "list1"
   ]
  },
  {
   "cell_type": "code",
   "execution_count": 45,
   "id": "b98d3cf1-a077-41aa-914b-613935674747",
   "metadata": {},
   "outputs": [
    {
     "name": "stdout",
     "output_type": "stream",
     "text": [
      "0 - 0\n",
      "1 - 1\n",
      "2 - 2\n",
      "3 - 3\n",
      "4 - 4\n",
      "5 - 5\n",
      "6 - 6\n",
      "7 - 7\n",
      "8 - 8\n",
      "9 - 9\n"
     ]
    }
   ],
   "source": [
    "list1 = [0,1,2,3,4,5,6,7,8,9]\n",
    "for i in range(len(list1)):\n",
    "    print(i, '-', list1[i])"
   ]
  },
  {
   "cell_type": "markdown",
   "id": "dfc7ac38-279d-4b37-9d0e-2322766fd2b1",
   "metadata": {},
   "source": [
    "### 3. clear()"
   ]
  },
  {
   "cell_type": "code",
   "execution_count": 46,
   "id": "ac3ed3cc-3f78-4bd1-9f33-5accd992ab31",
   "metadata": {},
   "outputs": [
    {
     "name": "stdout",
     "output_type": "stream",
     "text": [
      "['ABC', 123, 3.14, ['Mumbai', 'Delhi', 'Kolkata', 'Hyderabad']]\n",
      "[]\n"
     ]
    }
   ],
   "source": [
    "list1 = [ 'ABC',\n",
    "          123,\n",
    "          3.14, \n",
    "          [\"Mumbai\", 'Delhi', \"Kolkata\", 'Hyderabad']\n",
    "        ]\n",
    "print(list1)\n",
    "list1.clear()\n",
    "print(list1)"
   ]
  },
  {
   "cell_type": "markdown",
   "id": "f6bd85ba-bf69-4dec-bd6f-65ed03a94b89",
   "metadata": {},
   "source": [
    "### 4. del"
   ]
  },
  {
   "cell_type": "code",
   "execution_count": 47,
   "id": "a90bf991-61e1-4044-b07f-9d96948e36c6",
   "metadata": {},
   "outputs": [
    {
     "data": {
      "text/plain": [
       "[0, 1, 2, 4, 5, 6, 7, 8, 9]"
      ]
     },
     "execution_count": 47,
     "metadata": {},
     "output_type": "execute_result"
    }
   ],
   "source": [
    "list1 = [0,1,2,3,4,5,6,7,8,9]\n",
    "del list1[3]\n",
    "list1"
   ]
  },
  {
   "cell_type": "code",
   "execution_count": 48,
   "id": "fbdb975a-6e4c-4e11-a07d-d01a2cf678c6",
   "metadata": {},
   "outputs": [
    {
     "ename": "NameError",
     "evalue": "name 'list1' is not defined",
     "output_type": "error",
     "traceback": [
      "\u001b[0;31m---------------------------------------------------------------------------\u001b[0m",
      "\u001b[0;31mNameError\u001b[0m                                 Traceback (most recent call last)",
      "Cell \u001b[0;32mIn[48], line 3\u001b[0m\n\u001b[1;32m      1\u001b[0m list1 \u001b[38;5;241m=\u001b[39m [\u001b[38;5;241m0\u001b[39m,\u001b[38;5;241m1\u001b[39m,\u001b[38;5;241m2\u001b[39m,\u001b[38;5;241m3\u001b[39m,\u001b[38;5;241m4\u001b[39m,\u001b[38;5;241m5\u001b[39m,\u001b[38;5;241m6\u001b[39m,\u001b[38;5;241m7\u001b[39m,\u001b[38;5;241m8\u001b[39m,\u001b[38;5;241m9\u001b[39m]\n\u001b[1;32m      2\u001b[0m \u001b[38;5;28;01mdel\u001b[39;00m list1\n\u001b[0;32m----> 3\u001b[0m \u001b[43mlist1\u001b[49m\n",
      "\u001b[0;31mNameError\u001b[0m: name 'list1' is not defined"
     ]
    }
   ],
   "source": [
    "list1 = [0,1,2,3,4,5,6,7,8,9]\n",
    "del list1\n",
    "list1"
   ]
  },
  {
   "cell_type": "code",
   "execution_count": 1,
   "id": "bb103945-a17e-4bc4-a9cd-ab1a887f6f4d",
   "metadata": {},
   "outputs": [
    {
     "data": {
      "text/plain": [
       "[99, 88, 66, 55, 44, 33, 22, 11]"
      ]
     },
     "execution_count": 1,
     "metadata": {},
     "output_type": "execute_result"
    }
   ],
   "source": [
    "list1 = [11,44,22,99,55,88,33,66]\n",
    "sorted(list1, reverse=True)"
   ]
  },
  {
   "cell_type": "code",
   "execution_count": 2,
   "id": "48115d79-d076-4844-8421-bf1575fbff1d",
   "metadata": {},
   "outputs": [
    {
     "data": {
      "text/plain": [
       "<list_reverseiterator at 0x74ee61ab8c70>"
      ]
     },
     "execution_count": 2,
     "metadata": {},
     "output_type": "execute_result"
    }
   ],
   "source": [
    "list1 = [11,44,22,99,55,88,33,66]\n",
    "reversed(list1)"
   ]
  },
  {
   "cell_type": "code",
   "execution_count": null,
   "id": "104f601f-6053-4b58-9155-1a8a0b7c39d0",
   "metadata": {},
   "outputs": [],
   "source": []
  }
 ],
 "metadata": {
  "kernelspec": {
   "display_name": "Python 3 (ipykernel)",
   "language": "python",
   "name": "python3"
  },
  "language_info": {
   "codemirror_mode": {
    "name": "ipython",
    "version": 3
   },
   "file_extension": ".py",
   "mimetype": "text/x-python",
   "name": "python",
   "nbconvert_exporter": "python",
   "pygments_lexer": "ipython3",
   "version": "3.10.12"
  }
 },
 "nbformat": 4,
 "nbformat_minor": 5
}
