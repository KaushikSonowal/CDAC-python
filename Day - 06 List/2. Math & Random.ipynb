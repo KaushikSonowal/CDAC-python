{
 "cells": [
  {
   "cell_type": "markdown",
   "id": "360321a5-a0eb-4193-8898-afbc3d7c6688",
   "metadata": {},
   "source": [
    "## 1. Mathematical Functions"
   ]
  },
  {
   "cell_type": "code",
   "execution_count": 1,
   "id": "e4d65863-e22f-44b1-a85b-8a61ca7e7606",
   "metadata": {},
   "outputs": [
    {
     "data": {
      "text/plain": [
       "1.0"
      ]
     },
     "execution_count": 1,
     "metadata": {},
     "output_type": "execute_result"
    }
   ],
   "source": [
    "import math\n",
    "math.cos(0)"
   ]
  },
  {
   "cell_type": "code",
   "execution_count": 2,
   "id": "b4bb8e72-696e-4d70-b71b-791f05b9c52a",
   "metadata": {},
   "outputs": [
    {
     "data": {
      "text/plain": [
       "10.0"
      ]
     },
     "execution_count": 2,
     "metadata": {},
     "output_type": "execute_result"
    }
   ],
   "source": [
    "math.sqrt(100)"
   ]
  },
  {
   "cell_type": "code",
   "execution_count": 3,
   "id": "f1e5dbf4-7603-458a-a334-55ff357e6802",
   "metadata": {},
   "outputs": [],
   "source": [
    "ans = math.sqrt(345)"
   ]
  },
  {
   "cell_type": "code",
   "execution_count": 4,
   "id": "97d04e04-e006-4d13-bff7-a1f7ae8f8620",
   "metadata": {},
   "outputs": [
    {
     "data": {
      "text/plain": [
       "345.0"
      ]
     },
     "execution_count": 4,
     "metadata": {},
     "output_type": "execute_result"
    }
   ],
   "source": [
    "ans * ans"
   ]
  },
  {
   "cell_type": "code",
   "execution_count": 5,
   "id": "18761a4e-cb29-4411-beed-12dcd98c838a",
   "metadata": {},
   "outputs": [
    {
     "data": {
      "text/plain": [
       "2"
      ]
     },
     "execution_count": 5,
     "metadata": {},
     "output_type": "execute_result"
    }
   ],
   "source": [
    "math.ceil(6/4)"
   ]
  },
  {
   "cell_type": "code",
   "execution_count": 6,
   "id": "367067c0-5043-4ec9-9112-d17266a6f2dc",
   "metadata": {},
   "outputs": [
    {
     "data": {
      "text/plain": [
       "12"
      ]
     },
     "execution_count": 6,
     "metadata": {},
     "output_type": "execute_result"
    }
   ],
   "source": [
    "math.ceil(11.000001)"
   ]
  },
  {
   "cell_type": "code",
   "execution_count": 7,
   "id": "e89aea9a-f20a-4db2-9f6f-876c45bbf44b",
   "metadata": {},
   "outputs": [
    {
     "data": {
      "text/plain": [
       "1"
      ]
     },
     "execution_count": 7,
     "metadata": {},
     "output_type": "execute_result"
    }
   ],
   "source": [
    "math.floor(6/4)"
   ]
  },
  {
   "cell_type": "code",
   "execution_count": 8,
   "id": "e18643ad-ccca-486f-aed1-6cd80ae00a47",
   "metadata": {},
   "outputs": [
    {
     "data": {
      "text/plain": [
       "11"
      ]
     },
     "execution_count": 8,
     "metadata": {},
     "output_type": "execute_result"
    }
   ],
   "source": [
    "math.floor(11.99999999999)"
   ]
  },
  {
   "cell_type": "code",
   "execution_count": 9,
   "id": "9ba3f351-8e40-4bb5-9c1d-a3980cfbcecb",
   "metadata": {},
   "outputs": [
    {
     "data": {
      "text/plain": [
       "32.0"
      ]
     },
     "execution_count": 9,
     "metadata": {},
     "output_type": "execute_result"
    }
   ],
   "source": [
    "math.pow(2,5)"
   ]
  },
  {
   "cell_type": "code",
   "execution_count": 10,
   "id": "cfbacb45-79ab-4b1d-aec0-029193a0d9c6",
   "metadata": {},
   "outputs": [
    {
     "data": {
      "text/plain": [
       "10.0"
      ]
     },
     "execution_count": 10,
     "metadata": {},
     "output_type": "execute_result"
    }
   ],
   "source": [
    "math.log2(1024)"
   ]
  },
  {
   "cell_type": "code",
   "execution_count": 11,
   "id": "98afedfe-5423-4fd9-ae81-64b71274284e",
   "metadata": {},
   "outputs": [
    {
     "data": {
      "text/plain": [
       "1024.0"
      ]
     },
     "execution_count": 11,
     "metadata": {},
     "output_type": "execute_result"
    }
   ],
   "source": [
    "math.pow(2, 10)"
   ]
  },
  {
   "cell_type": "code",
   "execution_count": 12,
   "id": "c71418b8-8e86-444a-b5f4-7cc8cade0b11",
   "metadata": {},
   "outputs": [
    {
     "data": {
      "text/plain": [
       "float"
      ]
     },
     "execution_count": 12,
     "metadata": {},
     "output_type": "execute_result"
    }
   ],
   "source": [
    "type(math.pow(2, 10))"
   ]
  },
  {
   "cell_type": "markdown",
   "id": "7022ced6-5b39-4d40-9d9e-b726ef93073e",
   "metadata": {},
   "source": [
    "## 2. Mathematical Constants"
   ]
  },
  {
   "cell_type": "code",
   "execution_count": 13,
   "id": "57b86586-a881-47c3-a8d4-ef512a2c6e14",
   "metadata": {},
   "outputs": [
    {
     "data": {
      "text/plain": [
       "inf"
      ]
     },
     "execution_count": 13,
     "metadata": {},
     "output_type": "execute_result"
    }
   ],
   "source": [
    "math.inf"
   ]
  },
  {
   "cell_type": "code",
   "execution_count": 14,
   "id": "78780f55-28c4-4405-a8b7-c02196eb7b80",
   "metadata": {},
   "outputs": [
    {
     "data": {
      "text/plain": [
       "3.141592653589793"
      ]
     },
     "execution_count": 14,
     "metadata": {},
     "output_type": "execute_result"
    }
   ],
   "source": [
    "math.pi"
   ]
  },
  {
   "cell_type": "code",
   "execution_count": 15,
   "id": "b1f1cc5e-1fd3-4ffd-b9e8-0bad70809448",
   "metadata": {},
   "outputs": [
    {
     "data": {
      "text/plain": [
       "2.718281828459045"
      ]
     },
     "execution_count": 15,
     "metadata": {},
     "output_type": "execute_result"
    }
   ],
   "source": [
    "math.e"
   ]
  },
  {
   "cell_type": "code",
   "execution_count": 16,
   "id": "e5682b60-4906-449a-b258-eb63aed810c1",
   "metadata": {},
   "outputs": [
    {
     "data": {
      "text/plain": [
       "6.283185307179586"
      ]
     },
     "execution_count": 16,
     "metadata": {},
     "output_type": "execute_result"
    }
   ],
   "source": [
    "math.tau"
   ]
  },
  {
   "cell_type": "code",
   "execution_count": 17,
   "id": "9db38de6-70ca-4d3b-b8a9-56f5d99170df",
   "metadata": {},
   "outputs": [
    {
     "ename": "TypeError",
     "evalue": "'float' object is not callable",
     "output_type": "error",
     "traceback": [
      "\u001b[0;31m---------------------------------------------------------------------------\u001b[0m",
      "\u001b[0;31mTypeError\u001b[0m                                 Traceback (most recent call last)",
      "Cell \u001b[0;32mIn[17], line 2\u001b[0m\n\u001b[1;32m      1\u001b[0m \u001b[38;5;66;03m# tau is constant here, not a function\u001b[39;00m\n\u001b[0;32m----> 2\u001b[0m \u001b[43mmath\u001b[49m\u001b[38;5;241;43m.\u001b[39;49m\u001b[43mtau\u001b[49m\u001b[43m(\u001b[49m\u001b[43m)\u001b[49m\n",
      "\u001b[0;31mTypeError\u001b[0m: 'float' object is not callable"
     ]
    }
   ],
   "source": [
    "# tau is constant here, not a function\n",
    "math.tau()"
   ]
  },
  {
   "cell_type": "markdown",
   "id": "e46b79e5-7562-42e0-874f-c4a28ae7e679",
   "metadata": {},
   "source": [
    "## 3. Trigonometric Functions"
   ]
  },
  {
   "cell_type": "code",
   "execution_count": 18,
   "id": "2d3126f5-9f47-43c0-83da-669598d15cd1",
   "metadata": {},
   "outputs": [
    {
     "data": {
      "text/plain": [
       "1.0"
      ]
     },
     "execution_count": 18,
     "metadata": {},
     "output_type": "execute_result"
    }
   ],
   "source": [
    "math.sin(math.radians(90))"
   ]
  },
  {
   "cell_type": "code",
   "execution_count": 19,
   "id": "6bde39ad-0fe1-43ca-a245-8451a91f1818",
   "metadata": {},
   "outputs": [
    {
     "data": {
      "text/plain": [
       "1.6197751905438615"
      ]
     },
     "execution_count": 19,
     "metadata": {},
     "output_type": "execute_result"
    }
   ],
   "source": [
    "math.tan(45)"
   ]
  },
  {
   "cell_type": "code",
   "execution_count": 20,
   "id": "40f5e458-f036-4363-b7a3-8ec1687874b4",
   "metadata": {},
   "outputs": [
    {
     "data": {
      "text/plain": [
       "3.141592653589793"
      ]
     },
     "execution_count": 20,
     "metadata": {},
     "output_type": "execute_result"
    }
   ],
   "source": [
    "math.radians(180)"
   ]
  },
  {
   "cell_type": "code",
   "execution_count": 21,
   "id": "4093d55e-4dca-407c-967b-52647ab5b17f",
   "metadata": {},
   "outputs": [
    {
     "data": {
      "text/plain": [
       "3.141592653589793"
      ]
     },
     "execution_count": 21,
     "metadata": {},
     "output_type": "execute_result"
    }
   ],
   "source": [
    "my_pi = math.radians(180)\n",
    "my_pi"
   ]
  },
  {
   "cell_type": "code",
   "execution_count": 22,
   "id": "037e13f2-ffdf-41bd-8199-292fcbaabbc2",
   "metadata": {},
   "outputs": [
    {
     "data": {
      "text/plain": [
       "90.0"
      ]
     },
     "execution_count": 22,
     "metadata": {},
     "output_type": "execute_result"
    }
   ],
   "source": [
    "math.degrees(my_pi/2)"
   ]
  },
  {
   "cell_type": "code",
   "execution_count": 23,
   "id": "6fe6f2c9-c9ca-444f-9931-84621f0f9371",
   "metadata": {},
   "outputs": [
    {
     "data": {
      "text/plain": [
       "1.0"
      ]
     },
     "execution_count": 23,
     "metadata": {},
     "output_type": "execute_result"
    }
   ],
   "source": [
    "math.sin(my_pi/2)"
   ]
  },
  {
   "cell_type": "code",
   "execution_count": 24,
   "id": "435c649f-862b-4502-8194-c534bc78f8df",
   "metadata": {},
   "outputs": [
    {
     "data": {
      "text/plain": [
       "0.49999999999999994"
      ]
     },
     "execution_count": 24,
     "metadata": {},
     "output_type": "execute_result"
    }
   ],
   "source": [
    "math.sin(my_pi/6)"
   ]
  },
  {
   "cell_type": "code",
   "execution_count": 25,
   "id": "1beb0366-de1b-4eed-b1ec-b082e29d4667",
   "metadata": {},
   "outputs": [
    {
     "data": {
      "text/plain": [
       "0.9999999999999999"
      ]
     },
     "execution_count": 25,
     "metadata": {},
     "output_type": "execute_result"
    }
   ],
   "source": [
    "math.tan(math.radians(45))"
   ]
  },
  {
   "cell_type": "code",
   "execution_count": 26,
   "id": "e5c7c7ba-7c09-42bb-96fc-212bf4e6a925",
   "metadata": {},
   "outputs": [
    {
     "data": {
      "text/plain": [
       "1.0"
      ]
     },
     "execution_count": 26,
     "metadata": {},
     "output_type": "execute_result"
    }
   ],
   "source": [
    "math.cos(math.radians(0))"
   ]
  },
  {
   "cell_type": "markdown",
   "id": "aa77cd5c-1871-4033-b8ae-a1b809e1d0dc",
   "metadata": {},
   "source": [
    "## 4. Random Number Functions"
   ]
  },
  {
   "cell_type": "code",
   "execution_count": 27,
   "id": "f830e5a9-cad4-41a6-b1de-601f7c2a0eda",
   "metadata": {},
   "outputs": [],
   "source": [
    "import random"
   ]
  },
  {
   "cell_type": "code",
   "execution_count": null,
   "id": "01bbcaa9-378c-4800-9127-4424644d494b",
   "metadata": {},
   "outputs": [],
   "source": [
    "random.random() #gererates random values between 0 and 1."
   ]
  },
  {
   "cell_type": "code",
   "execution_count": 28,
   "id": "88f8587f-0fbd-4caa-8ec2-d5c20ff7e964",
   "metadata": {},
   "outputs": [
    {
     "data": {
      "text/plain": [
       "0.12009188470967025"
      ]
     },
     "execution_count": 28,
     "metadata": {},
     "output_type": "execute_result"
    }
   ],
   "source": [
    "random.random()"
   ]
  },
  {
   "cell_type": "code",
   "execution_count": 29,
   "id": "735cb2c3-2be1-4bdf-997f-22e106c10a82",
   "metadata": {},
   "outputs": [
    {
     "data": {
      "text/plain": [
       "0.7429551168738066"
      ]
     },
     "execution_count": 29,
     "metadata": {},
     "output_type": "execute_result"
    }
   ],
   "source": [
    "random.random()"
   ]
  },
  {
   "cell_type": "code",
   "execution_count": 30,
   "id": "d8485b41-db8d-4764-905f-5d396c8e879c",
   "metadata": {},
   "outputs": [
    {
     "data": {
      "text/plain": [
       "0.8189828821024918"
      ]
     },
     "execution_count": 30,
     "metadata": {},
     "output_type": "execute_result"
    }
   ],
   "source": [
    "random.random()"
   ]
  },
  {
   "cell_type": "code",
   "execution_count": 31,
   "id": "1f1bdcb9-b914-4ec2-8e82-83bebf9e544a",
   "metadata": {},
   "outputs": [
    {
     "name": "stdout",
     "output_type": "stream",
     "text": [
      "0.9408101533891738\n",
      "0.7621030052624899\n",
      "0.27547520272143977\n",
      "0.6809187430366869\n",
      "0.5006650459725276\n",
      "0.8972171639342266\n",
      "0.15162667081832792\n",
      "0.5874062479422014\n",
      "0.5209973680784129\n",
      "0.5687393256490008\n",
      "0.3295296284973084\n",
      "0.3473290531990466\n",
      "0.1892241932223977\n",
      "0.7620769117679592\n",
      "0.9958556467343622\n",
      "0.36765654854867924\n",
      "0.8845019042921642\n",
      "0.7678921749281354\n",
      "0.6185840959245436\n",
      "0.6828567316116965\n",
      "0.024448841777459096\n",
      "0.015868911440506506\n",
      "0.897209786335043\n",
      "0.22455479792860056\n",
      "0.9767565123461196\n",
      "0.002899697207702445\n",
      "0.5357233895737872\n",
      "0.8313577101226003\n",
      "0.4693907634728892\n",
      "0.16200011992457253\n",
      "0.6961091576131233\n",
      "0.030670000011370546\n",
      "0.501704714698889\n",
      "0.30853096960618764\n",
      "0.40528048694736796\n",
      "0.6064190553616265\n",
      "0.5752883583669015\n",
      "0.41587766292931705\n",
      "0.7853716041922789\n",
      "0.4908482523144593\n",
      "0.49880498760656933\n",
      "0.5369401340023319\n",
      "0.8176513211566978\n",
      "0.3630916812414916\n",
      "0.03630255181198394\n",
      "0.9436892054917557\n",
      "0.9479734249670506\n",
      "0.0455183490072939\n",
      "0.5479711046797804\n",
      "0.648087758638934\n",
      "0.8542620437185853\n",
      "0.6712525564434888\n",
      "0.5031723126940453\n",
      "0.07519398610485417\n",
      "0.6460438583042948\n",
      "0.9719111169842749\n",
      "0.3163469137426921\n",
      "0.6901034823654938\n",
      "0.5035028873641942\n",
      "0.3088018506449004\n",
      "0.9705056719316254\n",
      "0.07719261117477128\n",
      "0.39485775220361496\n",
      "0.31696086634287346\n",
      "0.8193180434613186\n",
      "0.7761046560588204\n",
      "0.2240330049141923\n",
      "0.15881604846621755\n",
      "0.10793590388531793\n",
      "0.017672744836440657\n",
      "0.7664679762792236\n",
      "0.6153609948091082\n",
      "0.33361381708735727\n",
      "0.6858501009665195\n",
      "0.14595644860218226\n",
      "0.5284489640156607\n",
      "0.6513625375377265\n",
      "0.5849964429933525\n",
      "0.1742893046742221\n",
      "0.19071412324615844\n",
      "0.7342235354634529\n",
      "0.1206781490046469\n",
      "0.4672091819023265\n",
      "0.7311362126681946\n",
      "0.16687080480958572\n",
      "0.5292355665184028\n",
      "0.07316706519122418\n",
      "0.4892712393979065\n",
      "0.055203489038177955\n",
      "0.5740702325190516\n",
      "0.5116272388401547\n",
      "0.7354263333017723\n",
      "0.8421568750586659\n",
      "0.21771287479886825\n",
      "0.3060709492662862\n",
      "0.25022397508310734\n",
      "0.5272983705702843\n",
      "0.8621475806072049\n",
      "0.5623386550356874\n",
      "0.35682175578633823\n"
     ]
    }
   ],
   "source": [
    "for i in range(100):\n",
    "    print(random.random())"
   ]
  },
  {
   "cell_type": "code",
   "execution_count": 32,
   "id": "1d808d5e-aca9-45ee-9632-f54a9bf11088",
   "metadata": {},
   "outputs": [
    {
     "data": {
      "text/plain": [
       "8"
      ]
     },
     "execution_count": 32,
     "metadata": {},
     "output_type": "execute_result"
    }
   ],
   "source": [
    "random.randint(0,10)"
   ]
  },
  {
   "cell_type": "code",
   "execution_count": 33,
   "id": "4b3f859e-cf4c-4365-839f-aeb19be5bd4c",
   "metadata": {},
   "outputs": [
    {
     "name": "stdout",
     "output_type": "stream",
     "text": [
      "1\n"
     ]
    }
   ],
   "source": [
    "print(random.randint(0,1))"
   ]
  },
  {
   "cell_type": "code",
   "execution_count": null,
   "id": "61fcdae6-31b7-4281-9f29-45355b47ed0c",
   "metadata": {},
   "outputs": [],
   "source": []
  }
 ],
 "metadata": {
  "kernelspec": {
   "display_name": "Python 3 (ipykernel)",
   "language": "python",
   "name": "python3"
  },
  "language_info": {
   "codemirror_mode": {
    "name": "ipython",
    "version": 3
   },
   "file_extension": ".py",
   "mimetype": "text/x-python",
   "name": "python",
   "nbconvert_exporter": "python",
   "pygments_lexer": "ipython3",
   "version": "3.10.12"
  }
 },
 "nbformat": 4,
 "nbformat_minor": 5
}
