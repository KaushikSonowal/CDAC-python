{
 "cells": [
  {
   "cell_type": "code",
   "execution_count": null,
   "id": "e6c360c4-ca25-4712-8c15-0a929c19e2b9",
   "metadata": {},
   "outputs": [],
   "source": [
    "1. Features of python\n",
    "    1. User friendly\n",
    "    2. Case sensitive\n",
    "    3. Free\n",
    "    3. Vast support of library\n",
    "    4. Dynamically typed language\n",
    "    5. Oject Oriented Programming"
   ]
  },
  {
   "cell_type": "code",
   "execution_count": null,
   "id": "4b6d3de9-261e-4392-a218-bf09719e7f78",
   "metadata": {},
   "outputs": [],
   "source": [
    "Invented by 'Guido van Rossum' in 1991."
   ]
  },
  {
   "cell_type": "code",
   "execution_count": null,
   "id": "d45cf135-6500-462f-824d-aa03ad5b5382",
   "metadata": {},
   "outputs": [],
   "source": [
    "Python versions\n",
    "    - Python 2.x\n",
    "    - Python 3.x\n",
    "    \n",
    "python3 --version\n",
    "Python 3.10.12\n",
    "python3 -V\n",
    "Python 3.10.12"
   ]
  },
  {
   "cell_type": "markdown",
   "id": "fb4f4471-fed6-4fca-9565-24dca4b30603",
   "metadata": {},
   "source": [
    "## Modes\n",
    "### Interactive Mode\n",
    "    - giving single line statement on python terminal\n",
    "### Script Mode\n",
    "    - writing all python statements in a file with .py extension\n",
    "\n",
    "\n",
    "## Installing Python and editors\n",
    "### Python Installation\n",
    "#### Visual Studio Code    "
   ]
  },
  {
   "cell_type": "code",
   "execution_count": null,
   "id": "52e19d1b-37d1-46d9-bdcd-39aa7c870e4a",
   "metadata": {},
   "outputs": [],
   "source": [
    "1. Download .deb from official site of VSCode.\n",
    "2. Install deb file using command '$ dpkg -i your_vscode_deb_file.deb'\n",
    "3. Install Python extension from Microsoft."
   ]
  },
  {
   "cell_type": "markdown",
   "id": "94c87737-04da-4f9b-b7e6-a2a120866b3f",
   "metadata": {},
   "source": [
    "## Sublime text 4\n",
    "### Jupyter Notebook"
   ]
  },
  {
   "cell_type": "code",
   "execution_count": null,
   "id": "909ffd14-73f4-4ba6-bbbd-3905511b5f8c",
   "metadata": {},
   "outputs": [],
   "source": [
    "1. Install jupyter using '$ pip install jupyter'\n",
    "2. Type 'jupyter-notebook' or 'jupyter notebook' command on terminal.\n",
    "3. Check default browser for jupyter."
   ]
  },
  {
   "cell_type": "markdown",
   "id": "ffa71682-41c8-4923-8317-c032beb9629f",
   "metadata": {},
   "source": [
    "### Comments"
   ]
  },
  {
   "cell_type": "code",
   "execution_count": 3,
   "id": "d92aefe6-60a3-41e3-9360-25f78c587637",
   "metadata": {},
   "outputs": [
    {
     "name": "stdout",
     "output_type": "stream",
     "text": [
      "ABC\n",
      "PQR\n"
     ]
    }
   ],
   "source": [
    "# single line comment\n",
    "print('ABC')\n",
    "#print('XYZ')\n",
    "print('PQR')"
   ]
  },
  {
   "cell_type": "code",
   "execution_count": null,
   "id": "35a24cab-a78e-4efc-b292-adc83b618003",
   "metadata": {},
   "outputs": [],
   "source": [
    "# multi line comment\n",
    "print('ABC')\n",
    "#print('XYZ')\n",
    "#print('PQR')"
   ]
  },
  {
   "cell_type": "code",
   "execution_count": 4,
   "id": "b2626544-6fe8-4b33-bc06-2a704be0ae42",
   "metadata": {},
   "outputs": [
    {
     "name": "stdout",
     "output_type": "stream",
     "text": [
      "\n",
      "this is new line\n",
      "second line\n",
      "\n"
     ]
    }
   ],
   "source": [
    "string = '''\n",
    "this is new line\n",
    "second line\n",
    "'''\n",
    "print(string)"
   ]
  },
  {
   "cell_type": "code",
   "execution_count": 5,
   "id": "28d9cf4d-ac0d-40ec-bb78-189939297edd",
   "metadata": {},
   "outputs": [
    {
     "name": "stdout",
     "output_type": "stream",
     "text": [
      "this is new line\n",
      "second line\n"
     ]
    }
   ],
   "source": [
    "string = '''this is new line\n",
    "second line'''\n",
    "print(string)"
   ]
  },
  {
   "cell_type": "markdown",
   "id": "6d2d7af4-57e2-47db-a393-bcb0dbacce40",
   "metadata": {},
   "source": [
    "### Python Identifiers"
   ]
  },
  {
   "cell_type": "code",
   "execution_count": null,
   "id": "c382c644-7dd6-4481-9d76-adbb2db352c3",
   "metadata": {},
   "outputs": [],
   "source": [
    "for, int, float, str, pass, break, continue, if elif, class"
   ]
  },
  {
   "cell_type": "markdown",
   "id": "6de8a74b-07e6-40e3-a6a2-c8322ced83b7",
   "metadata": {},
   "source": [
    "### Lines and Indentation"
   ]
  },
  {
   "cell_type": "code",
   "execution_count": 6,
   "id": "dc0933cc-2992-455c-9f04-0fe3632e3bf7",
   "metadata": {},
   "outputs": [
    {
     "name": "stdout",
     "output_type": "stream",
     "text": [
      "11\n",
      "second line\n",
      "33\n",
      "second line\n",
      "55\n",
      "second line\n",
      "77\n",
      "second line\n",
      "This line is not a part of for loop\n"
     ]
    }
   ],
   "source": [
    "for i in [11,33,55,77]:\n",
    "    print(i, sep = '-')\n",
    "    print('second line')\n",
    "print('This line is not a part of for loop')"
   ]
  },
  {
   "cell_type": "code",
   "execution_count": 7,
   "id": "d9e1fcb7-e489-4db9-8e5d-993b7f91375b",
   "metadata": {},
   "outputs": [
    {
     "name": "stdout",
     "output_type": "stream",
     "text": [
      "11\n",
      "second line\n",
      "This line is not a part of for loop\n",
      "33\n",
      "second line\n",
      "This line is not a part of for loop\n",
      "55\n",
      "second line\n",
      "This line is not a part of for loop\n",
      "77\n",
      "second line\n",
      "This line is not a part of for loop\n"
     ]
    }
   ],
   "source": [
    "for i in [11,33,55,77]:\n",
    "    print(i, sep = '-')\n",
    "    print('second line')\n",
    "    print('This line is not a part of for loop')"
   ]
  },
  {
   "cell_type": "markdown",
   "id": "70706483-6ad7-472c-b896-dae8cf886e45",
   "metadata": {},
   "source": [
    "### Quotations in Python"
   ]
  },
  {
   "cell_type": "code",
   "execution_count": 8,
   "id": "5f102090-b9af-494f-b5cc-61e46d5ca11a",
   "metadata": {},
   "outputs": [
    {
     "name": "stdout",
     "output_type": "stream",
     "text": [
      "cdac silcar\n"
     ]
    }
   ],
   "source": [
    "string = 'cdac silcar'\n",
    "print(string)"
   ]
  },
  {
   "cell_type": "code",
   "execution_count": 9,
   "id": "cc4d2f75-7a88-4c34-a7e9-5f86177ffc8e",
   "metadata": {},
   "outputs": [
    {
     "ename": "SyntaxError",
     "evalue": "unterminated string literal (detected at line 1) (1268970516.py, line 1)",
     "output_type": "error",
     "traceback": [
      "\u001b[0;36m  Cell \u001b[0;32mIn[9], line 1\u001b[0;36m\u001b[0m\n\u001b[0;31m    string = '1. cdac silcar\u001b[0m\n\u001b[0m             ^\u001b[0m\n\u001b[0;31mSyntaxError\u001b[0m\u001b[0;31m:\u001b[0m unterminated string literal (detected at line 1)\n"
     ]
    }
   ],
   "source": [
    "string = '1. cdac silcar\n",
    "          2. cdac silchar'\n",
    "print(string)"
   ]
  },
  {
   "cell_type": "code",
   "execution_count": 10,
   "id": "3b26e532-e718-4724-9b55-14ccdb8d5b67",
   "metadata": {},
   "outputs": [
    {
     "name": "stdout",
     "output_type": "stream",
     "text": [
      "cdac silcar\n"
     ]
    }
   ],
   "source": [
    "string = \"cdac silcar\"\n",
    "print(string)"
   ]
  },
  {
   "cell_type": "code",
   "execution_count": 11,
   "id": "d235e30e-3f68-4de4-a74e-7965c9dd4eea",
   "metadata": {},
   "outputs": [
    {
     "name": "stdout",
     "output_type": "stream",
     "text": [
      "cdac silcar\n"
     ]
    }
   ],
   "source": [
    "string = '''cdac silcar'''\n",
    "print(string)"
   ]
  },
  {
   "cell_type": "code",
   "execution_count": 12,
   "id": "4ad9c56c-5c66-4c61-84f2-21898553874e",
   "metadata": {},
   "outputs": [
    {
     "name": "stdout",
     "output_type": "stream",
     "text": [
      "1. cdac silcar\n",
      "            2. second line\n"
     ]
    }
   ],
   "source": [
    "string = '''1. cdac silcar\n",
    "            2. second line'''\n",
    "print(string)"
   ]
  },
  {
   "cell_type": "code",
   "execution_count": 13,
   "id": "97caf04f-ca2d-4f81-ae57-b6fca8ba5387",
   "metadata": {},
   "outputs": [
    {
     "name": "stdout",
     "output_type": "stream",
     "text": [
      "1. cdac silcar\n",
      "2. second line\n"
     ]
    }
   ],
   "source": [
    "string = '''1. cdac silcar\n",
    "2. second line'''\n",
    "print(string)"
   ]
  },
  {
   "cell_type": "code",
   "execution_count": 14,
   "id": "c688f2f2-ff55-4e7d-94e7-19790afb4c57",
   "metadata": {},
   "outputs": [
    {
     "name": "stdout",
     "output_type": "stream",
     "text": [
      "             *\n",
      "            * *\n",
      "           * * * \n",
      "          * * * *\n"
     ]
    }
   ],
   "source": [
    "string ='''             *\n",
    "            * *\n",
    "           * * * \n",
    "          * * * *'''\n",
    "print(string)"
   ]
  },
  {
   "cell_type": "markdown",
   "id": "bd4e4bd6-955a-40eb-badd-91e136d57f8a",
   "metadata": {},
   "source": [
    "### Multi-Line Statements"
   ]
  },
  {
   "cell_type": "code",
   "execution_count": 15,
   "id": "d73b0510-62ce-4440-b5fa-5b5c7acc2ca8",
   "metadata": {},
   "outputs": [
    {
     "name": "stdout",
     "output_type": "stream",
     "text": [
      "The International Chess Federation or World Chess Federation,commonly referred to by its French acronym FIDE  is an international organizationbased in Switzerland that connects the various national chess federations and actsas the governing body of international chess competition. FIDE was founded in Paris,France, on July 20, 1924\n"
     ]
    }
   ],
   "source": [
    "string = 'The International Chess Federation or World Chess Federation,\\\n",
    "commonly referred to by its French acronym FIDE  is an international organization\\\n",
    "based in Switzerland that connects the various national chess federations and acts\\\n",
    "as the governing body of international chess competition. FIDE was founded in Paris,\\\n",
    "France, on July 20, 1924'\n",
    "print(string)"
   ]
  },
  {
   "cell_type": "code",
   "execution_count": 16,
   "id": "b08ab149-2c9d-4594-bdf3-8a197f25c5ac",
   "metadata": {},
   "outputs": [
    {
     "name": "stdout",
     "output_type": "stream",
     "text": [
      "The International Chess Federation or World Chess Federationcommonly referred to by its French acronym FIDE  is an internationalnational chess federations and actsas the governing body\n"
     ]
    }
   ],
   "source": [
    "print(f'The International Chess Federation or World Chess Federation'\n",
    "     f'commonly referred to by its French acronym FIDE  is an international'\n",
    "     f'national chess federations and actsas the governing body')"
   ]
  },
  {
   "cell_type": "code",
   "execution_count": 17,
   "id": "8807ebad-42ce-4698-b1c7-520f7d03d3a3",
   "metadata": {},
   "outputs": [
    {
     "name": "stdout",
     "output_type": "stream",
     "text": [
      "The International Chess Federation or World Chess Federation commonly referred to by its French acronym FIDE  is an international national chess federations and actsas the governing body\n"
     ]
    }
   ],
   "source": [
    "print('The International Chess Federation or World Chess Federation',\n",
    "      'commonly referred to by its French acronym FIDE  is an international',\n",
    "      'national chess federations and actsas the governing body')"
   ]
  },
  {
   "cell_type": "code",
   "execution_count": 18,
   "id": "c189ee1b-48e4-4eb5-9c66-1dc38bd06e7f",
   "metadata": {},
   "outputs": [
    {
     "name": "stdout",
     "output_type": "stream",
     "text": [
      "[1, 2, 3, 4, 5, 6]\n"
     ]
    }
   ],
   "source": [
    "list1 = [1,2,3,4,5,6]\n",
    "print(list1)"
   ]
  },
  {
   "cell_type": "code",
   "execution_count": 19,
   "id": "b72f8178-d8ad-4de5-bca0-c6d96fb0cc00",
   "metadata": {},
   "outputs": [
    {
     "name": "stdout",
     "output_type": "stream",
     "text": [
      "[1, 2, 3, 4, 5, 6]\n"
     ]
    }
   ],
   "source": [
    "list1 = [\n",
    "    1,2,3,4,5,6\n",
    "]\n",
    "print(list1)"
   ]
  },
  {
   "cell_type": "markdown",
   "id": "48705fac-2c8f-491f-99d0-86c9ed120610",
   "metadata": {},
   "source": [
    "## 1. print"
   ]
  },
  {
   "cell_type": "code",
   "execution_count": null,
   "id": "eab2fe9e-d1d2-4377-95bb-35e4354c4e63",
   "metadata": {},
   "outputs": [],
   "source": [
    "Display message-\n",
    "    print('This is my first program')"
   ]
  },
  {
   "cell_type": "code",
   "execution_count": 20,
   "id": "107736af-a520-456b-9016-314f8d2f733b",
   "metadata": {},
   "outputs": [
    {
     "name": "stdout",
     "output_type": "stream",
     "text": [
      "My First Python Prog\n",
      "This is my second line\n",
      "My third line\n"
     ]
    }
   ],
   "source": [
    "print('My First Python Prog')\n",
    "print('This is my second line')\n",
    "print('My third line')"
   ]
  },
  {
   "cell_type": "code",
   "execution_count": 21,
   "id": "eba3a3a5-486f-465e-bea3-fb61b54d6b84",
   "metadata": {},
   "outputs": [
    {
     "name": "stdout",
     "output_type": "stream",
     "text": [
      "888\n"
     ]
    }
   ],
   "source": [
    "print(888)"
   ]
  },
  {
   "cell_type": "code",
   "execution_count": 22,
   "id": "93132ef5-8d1e-4e2d-89af-bc29f77e12a9",
   "metadata": {},
   "outputs": [
    {
     "name": "stdout",
     "output_type": "stream",
     "text": [
      "123 654\n"
     ]
    }
   ],
   "source": [
    "print(123,654)"
   ]
  },
  {
   "cell_type": "code",
   "execution_count": 23,
   "id": "e98f05e5-a476-41b4-8bea-744a01056182",
   "metadata": {},
   "outputs": [
    {
     "name": "stdout",
     "output_type": "stream",
     "text": [
      "aaa bbb\n"
     ]
    }
   ],
   "source": [
    "print('aaa', 'bbb')"
   ]
  },
  {
   "cell_type": "code",
   "execution_count": 24,
   "id": "879a3915-d0da-45af-a2e0-2627006fa238",
   "metadata": {},
   "outputs": [
    {
     "name": "stdout",
     "output_type": "stream",
     "text": [
      "Abc 89 XYZ\n"
     ]
    }
   ],
   "source": [
    "print('Abc', 89, 'XYZ')"
   ]
  },
  {
   "cell_type": "code",
   "execution_count": 25,
   "id": "6a072081-9384-4703-a0cb-828a53404b60",
   "metadata": {},
   "outputs": [
    {
     "name": "stdout",
     "output_type": "stream",
     "text": [
      "CDAC Silchar\n"
     ]
    }
   ],
   "source": [
    "print('CDAC', 'Silchar')"
   ]
  },
  {
   "cell_type": "code",
   "execution_count": 26,
   "id": "ac5e9150-8366-4ce1-b1f7-a6881809f441",
   "metadata": {},
   "outputs": [
    {
     "name": "stdout",
     "output_type": "stream",
     "text": [
      "CDACSilchar\n"
     ]
    }
   ],
   "source": [
    "print('CDAC', 'Silchar', sep = '')"
   ]
  },
  {
   "cell_type": "code",
   "execution_count": 27,
   "id": "37a1ed93-06a7-4f00-9386-04dd4d350998",
   "metadata": {},
   "outputs": [
    {
     "name": "stdout",
     "output_type": "stream",
     "text": [
      "CDAC-Silchar\n"
     ]
    }
   ],
   "source": [
    "print('CDAC', 'Silchar', sep = '-')"
   ]
  },
  {
   "cell_type": "code",
   "execution_count": 28,
   "id": "c459525f-a306-4bd5-8651-c3cd2b377830",
   "metadata": {},
   "outputs": [
    {
     "name": "stdout",
     "output_type": "stream",
     "text": [
      "CDAC Silchar\n"
     ]
    }
   ],
   "source": [
    "print('CDAC', 'Silchar', sep = ' ')"
   ]
  },
  {
   "cell_type": "code",
   "execution_count": 29,
   "id": "6b13cdab-6a74-4dea-a3fb-08cdccd67bba",
   "metadata": {},
   "outputs": [
    {
     "name": "stdout",
     "output_type": "stream",
     "text": [
      "CDACANYTHINGSilchar\n"
     ]
    }
   ],
   "source": [
    "print('CDAC', 'Silchar', sep = 'ANYTHING')"
   ]
  },
  {
   "cell_type": "code",
   "execution_count": 30,
   "id": "0d130b98-b154-48ea-ac6d-75c95a307d47",
   "metadata": {},
   "outputs": [
    {
     "name": "stdout",
     "output_type": "stream",
     "text": [
      "aaaaaaANYTHINGbbbbbb\n"
     ]
    }
   ],
   "source": [
    "print('aaaaaa', 'bbbbbb', sep = 'ANYTHING')"
   ]
  },
  {
   "cell_type": "code",
   "execution_count": 31,
   "id": "6df44640-1198-4542-91a5-df6a19e71e17",
   "metadata": {},
   "outputs": [
    {
     "name": "stdout",
     "output_type": "stream",
     "text": [
      "aaaaaa ANYTHING bbbbbb\n"
     ]
    }
   ],
   "source": [
    "print('aaaaaa ', ' bbbbbb', sep = 'ANYTHING')"
   ]
  },
  {
   "cell_type": "code",
   "execution_count": 32,
   "id": "44ee5976-9e96-4b71-b68b-39a17a0b5d52",
   "metadata": {},
   "outputs": [
    {
     "name": "stdout",
     "output_type": "stream",
     "text": [
      "abc\n",
      "xyz\n"
     ]
    }
   ],
   "source": [
    "print('abc')\n",
    "print('xyz')"
   ]
  },
  {
   "cell_type": "code",
   "execution_count": 33,
   "id": "bf234847-bd03-48a0-b2a5-d18b6c6360a8",
   "metadata": {},
   "outputs": [
    {
     "name": "stdout",
     "output_type": "stream",
     "text": [
      "CADC Silchar\n"
     ]
    }
   ],
   "source": [
    "print('CADC', 'Silchar')"
   ]
  },
  {
   "cell_type": "code",
   "execution_count": 34,
   "id": "af990c34-cabd-4d99-93ac-c11d9eb5bea0",
   "metadata": {},
   "outputs": [
    {
     "name": "stdout",
     "output_type": "stream",
     "text": [
      "abcxyz\n"
     ]
    }
   ],
   "source": [
    "print('abc', end = '')\n",
    "print('xyz')"
   ]
  },
  {
   "cell_type": "code",
   "execution_count": 35,
   "id": "3239327b-f2ce-4b15-b52d-700d316136b3",
   "metadata": {},
   "outputs": [
    {
     "name": "stdout",
     "output_type": "stream",
     "text": [
      "abc xyz\n"
     ]
    }
   ],
   "source": [
    "print('abc', end = ' ')\n",
    "print('xyz')"
   ]
  },
  {
   "cell_type": "markdown",
   "id": "37c1651f-565c-4886-9877-9e818d918e6f",
   "metadata": {},
   "source": [
    "#### sep specifies things to be added between agrugments of THAT print() function\n",
    "\n",
    "#### end specifies things to be added at the end of THAT print() function"
   ]
  },
  {
   "cell_type": "code",
   "execution_count": 36,
   "id": "99397066-7281-4922-b34b-9655915f0e2d",
   "metadata": {},
   "outputs": [
    {
     "name": "stdout",
     "output_type": "stream",
     "text": [
      "abc***xyz\n"
     ]
    }
   ],
   "source": [
    "print('abc', end = '***')\n",
    "print('xyz')"
   ]
  },
  {
   "cell_type": "code",
   "execution_count": 37,
   "id": "30850e6e-790e-4321-81ab-8d8f618638d8",
   "metadata": {},
   "outputs": [
    {
     "name": "stdout",
     "output_type": "stream",
     "text": [
      "abc xyz pqr\n"
     ]
    }
   ],
   "source": [
    "print('abc', 'xyz', 'pqr')"
   ]
  },
  {
   "cell_type": "code",
   "execution_count": 38,
   "id": "54321667-567b-4869-ab7e-6e065f7df3e8",
   "metadata": {},
   "outputs": [
    {
     "name": "stdout",
     "output_type": "stream",
     "text": [
      "abc-xyz-pqr\n"
     ]
    }
   ],
   "source": [
    "print('abc', 'xyz', 'pqr', sep='-')"
   ]
  },
  {
   "cell_type": "code",
   "execution_count": 39,
   "id": "55f82d77-5a36-4e5c-a5d4-9e64f03d9f2c",
   "metadata": {},
   "outputs": [
    {
     "name": "stdout",
     "output_type": "stream",
     "text": [
      "abc - xyz - pqr\n"
     ]
    }
   ],
   "source": [
    "print('abc', 'xyz', 'pqr', sep=' - ')"
   ]
  },
  {
   "cell_type": "code",
   "execution_count": 40,
   "id": "52a8f542-0966-40ad-97f1-9d8a74292d6d",
   "metadata": {},
   "outputs": [
    {
     "name": "stdout",
     "output_type": "stream",
     "text": [
      "abc - xyz - pqrSTOPNew statement\n"
     ]
    }
   ],
   "source": [
    "print('abc', 'xyz', 'pqr', sep=' - ', end='STOP')\n",
    "print('New statement')"
   ]
  },
  {
   "cell_type": "code",
   "execution_count": 41,
   "id": "9672dbfa-755c-4fda-97e1-6208d50a6673",
   "metadata": {},
   "outputs": [
    {
     "name": "stdout",
     "output_type": "stream",
     "text": [
      "abc - xyz - pqrSTOPNew statement\n"
     ]
    }
   ],
   "source": [
    "print('abc', 'xyz', 'pqr', end='STOP', sep=' - ')\n",
    "print('New statement')"
   ]
  },
  {
   "cell_type": "markdown",
   "id": "b6021057-4a37-4dd6-aec6-4ae6a51c129e",
   "metadata": {},
   "source": [
    "### 2. Variables\n",
    "\n",
    "Rules to declare variable 1. case sensitive 2. variable should not start with number"
   ]
  },
  {
   "cell_type": "code",
   "execution_count": 42,
   "id": "8a86eed5-fc25-422e-8667-fc6495907e59",
   "metadata": {},
   "outputs": [
    {
     "ename": "SyntaxError",
     "evalue": "invalid decimal literal (66753265.py, line 1)",
     "output_type": "error",
     "traceback": [
      "\u001b[0;36m  Cell \u001b[0;32mIn[42], line 1\u001b[0;36m\u001b[0m\n\u001b[0;31m    9var = 'ABC'\u001b[0m\n\u001b[0m    ^\u001b[0m\n\u001b[0;31mSyntaxError\u001b[0m\u001b[0;31m:\u001b[0m invalid decimal literal\n"
     ]
    }
   ],
   "source": [
    "9var = 'ABC'"
   ]
  },
  {
   "cell_type": "code",
   "execution_count": 43,
   "id": "dd751313-ece2-40f0-b0ed-71f928e4ce5c",
   "metadata": {},
   "outputs": [],
   "source": [
    "annual_salary = 11223344"
   ]
  },
  {
   "cell_type": "code",
   "execution_count": 44,
   "id": "ece79510-4c65-4789-9775-7f41ee4cf8c2",
   "metadata": {},
   "outputs": [
    {
     "ename": "SyntaxError",
     "evalue": "cannot assign to expression here. Maybe you meant '==' instead of '='? (1596806327.py, line 1)",
     "output_type": "error",
     "traceback": [
      "\u001b[0;36m  Cell \u001b[0;32mIn[44], line 1\u001b[0;36m\u001b[0m\n\u001b[0;31m    annual-salary = 11223344\u001b[0m\n\u001b[0m    ^\u001b[0m\n\u001b[0;31mSyntaxError\u001b[0m\u001b[0;31m:\u001b[0m cannot assign to expression here. Maybe you meant '==' instead of '='?\n"
     ]
    }
   ],
   "source": [
    "annual-salary = 11223344"
   ]
  },
  {
   "cell_type": "code",
   "execution_count": 45,
   "id": "8e08a2fc-a050-4c27-9d35-29fe8e9d75fc",
   "metadata": {},
   "outputs": [
    {
     "ename": "SyntaxError",
     "evalue": "invalid syntax (963696831.py, line 1)",
     "output_type": "error",
     "traceback": [
      "\u001b[0;36m  Cell \u001b[0;32mIn[45], line 1\u001b[0;36m\u001b[0m\n\u001b[0;31m    annual salary = 11223344\u001b[0m\n\u001b[0m           ^\u001b[0m\n\u001b[0;31mSyntaxError\u001b[0m\u001b[0;31m:\u001b[0m invalid syntax\n"
     ]
    }
   ],
   "source": [
    "annual salary = 11223344"
   ]
  },
  {
   "cell_type": "code",
   "execution_count": 46,
   "id": "88eb34d4-7b0e-4a5c-9c73-757a05f0df04",
   "metadata": {},
   "outputs": [
    {
     "ename": "SyntaxError",
     "evalue": "invalid syntax (1925129841.py, line 2)",
     "output_type": "error",
     "traceback": [
      "\u001b[0;36m  Cell \u001b[0;32mIn[46], line 2\u001b[0;36m\u001b[0m\n\u001b[0;31m    mar ks=34\u001b[0m\n\u001b[0m        ^\u001b[0m\n\u001b[0;31mSyntaxError\u001b[0m\u001b[0;31m:\u001b[0m invalid syntax\n"
     ]
    }
   ],
   "source": [
    "marks=34\n",
    "mar ks=34"
   ]
  },
  {
   "cell_type": "code",
   "execution_count": 47,
   "id": "e7081b2e-ac72-49b1-b4d0-6d881c692639",
   "metadata": {},
   "outputs": [
    {
     "name": "stdout",
     "output_type": "stream",
     "text": [
      "Abc\n"
     ]
    }
   ],
   "source": [
    "var = 'Abc'\n",
    "print(var)"
   ]
  },
  {
   "cell_type": "code",
   "execution_count": 48,
   "id": "eb4e3e8b-55f3-459e-b789-77c2cf8c80f7",
   "metadata": {},
   "outputs": [
    {
     "name": "stdout",
     "output_type": "stream",
     "text": [
      "32\n"
     ]
    }
   ],
   "source": [
    "var  = 32\n",
    "print(var)"
   ]
  },
  {
   "cell_type": "code",
   "execution_count": null,
   "id": "4f25eae0-8682-49d3-8b44-ac99c52307cb",
   "metadata": {},
   "outputs": [],
   "source": [
    "Rules to declare variable\n",
    "    1. case sensitive\n",
    "    2. variable should not start with number\n",
    "    3. variable should not contain special character except (_)\n",
    "    4. variable should not contain any space\n",
    "    5. no need to mention datatype\n",
    "    6. variable name should not be any identifier like for, int, float,\n",
    "       str, pass, break, continue, if elif, "
   ]
  },
  {
   "cell_type": "code",
   "execution_count": 49,
   "id": "4b4c2a27-91a2-49a9-a7c5-1e899161b7b3",
   "metadata": {},
   "outputs": [
    {
     "name": "stdout",
     "output_type": "stream",
     "text": [
      "3.14\n"
     ]
    }
   ],
   "source": [
    "var2 = 3.14\n",
    "print(var2)"
   ]
  },
  {
   "cell_type": "markdown",
   "id": "cdbf9410-24a0-466e-ae00-68ea42eb6cbb",
   "metadata": {},
   "source": [
    "### type()\n",
    "\n",
    "-it displays type of variable"
   ]
  },
  {
   "cell_type": "code",
   "execution_count": 50,
   "id": "932fbe7d-dbfc-4f28-af72-f4f80323ad58",
   "metadata": {},
   "outputs": [
    {
     "name": "stdout",
     "output_type": "stream",
     "text": [
      "45\n",
      "<class 'int'>\n"
     ]
    }
   ],
   "source": [
    "marks = 45\n",
    "print(marks)\n",
    "print(type(marks))"
   ]
  },
  {
   "cell_type": "code",
   "execution_count": 51,
   "id": "f25b8030-a6e9-4ad6-8d34-15aae52a62f4",
   "metadata": {},
   "outputs": [
    {
     "name": "stdout",
     "output_type": "stream",
     "text": [
      "88.46\n",
      "<class 'float'>\n"
     ]
    }
   ],
   "source": [
    "percentage = 88.46\n",
    "print(percentage)\n",
    "print(type(percentage))"
   ]
  },
  {
   "cell_type": "code",
   "execution_count": null,
   "id": "685e4930-e37a-4950-98b1-ee11436be8eb",
   "metadata": {},
   "outputs": [],
   "source": [
    "name = 'CDAC Silchar'\n",
    "print(name)\n",
    "print(type(name))"
   ]
  },
  {
   "cell_type": "code",
   "execution_count": 52,
   "id": "b0e579b1-3c23-4c43-9afb-539668c75df6",
   "metadata": {},
   "outputs": [
    {
     "name": "stdout",
     "output_type": "stream",
     "text": [
      "[11, 22, 33, 44, 55, 66]\n",
      "<class 'list'>\n"
     ]
    }
   ],
   "source": [
    "list1 = [11,22,33,44,55,66]\n",
    "print(list1)\n",
    "print(type(list1))"
   ]
  },
  {
   "cell_type": "markdown",
   "id": "2cce8bc2-5601-4db6-9c91-4bdf82c2790d",
   "metadata": {},
   "source": [
    "### id()"
   ]
  },
  {
   "cell_type": "code",
   "execution_count": 53,
   "id": "7fd69f6c-859d-4cd9-bd37-cc13d920cccd",
   "metadata": {},
   "outputs": [
    {
     "name": "stdout",
     "output_type": "stream",
     "text": [
      "45\n",
      "130575343027824\n"
     ]
    }
   ],
   "source": [
    "marks = 45\n",
    "print(marks)\n",
    "print(id(marks))"
   ]
  },
  {
   "cell_type": "code",
   "execution_count": 54,
   "id": "68b1b4c8-a340-4522-9762-552bc77d41c7",
   "metadata": {},
   "outputs": [
    {
     "name": "stdout",
     "output_type": "stream",
     "text": [
      "88.46\n",
      "130575302471216\n"
     ]
    }
   ],
   "source": [
    "percentage = 88.46\n",
    "print(percentage)\n",
    "print(id(percentage))"
   ]
  },
  {
   "cell_type": "code",
   "execution_count": 55,
   "id": "e3ed97d2-7a02-4176-8b59-ee2e3fcd3546",
   "metadata": {},
   "outputs": [
    {
     "name": "stdin",
     "output_type": "stream",
     "text": [
      " 22\n"
     ]
    },
    {
     "name": "stdout",
     "output_type": "stream",
     "text": [
      "22\n"
     ]
    }
   ],
   "source": [
    "x = input()\n",
    "print(x)"
   ]
  },
  {
   "cell_type": "code",
   "execution_count": 56,
   "id": "5ac7b691-78b4-43b7-88dc-a8e612458915",
   "metadata": {},
   "outputs": [
    {
     "name": "stdin",
     "output_type": "stream",
     "text": [
      " CDAC\n"
     ]
    },
    {
     "name": "stdout",
     "output_type": "stream",
     "text": [
      "CDAC\n"
     ]
    }
   ],
   "source": [
    "x = input()\n",
    "print(x)"
   ]
  },
  {
   "cell_type": "code",
   "execution_count": 57,
   "id": "2e11813f-cc0d-4acf-b009-8849c6853899",
   "metadata": {},
   "outputs": [
    {
     "name": "stdin",
     "output_type": "stream",
     "text": [
      "Enter input Kaushik\n"
     ]
    },
    {
     "name": "stdout",
     "output_type": "stream",
     "text": [
      "Kaushik\n"
     ]
    }
   ],
   "source": [
    "x = input('Enter input')\n",
    "print(x)"
   ]
  },
  {
   "cell_type": "code",
   "execution_count": 58,
   "id": "85703f14-2d4b-44eb-a00e-708a27491884",
   "metadata": {},
   "outputs": [
    {
     "name": "stdin",
     "output_type": "stream",
     "text": [
      "Enter input:  1997\n"
     ]
    },
    {
     "name": "stdout",
     "output_type": "stream",
     "text": [
      "Input is =  1997\n"
     ]
    }
   ],
   "source": [
    "x = input('Enter input: ')\n",
    "print('Input is = ', x)"
   ]
  },
  {
   "cell_type": "code",
   "execution_count": 2,
   "id": "e4449b92-1522-4426-ad5f-69c364670df2",
   "metadata": {},
   "outputs": [
    {
     "name": "stdin",
     "output_type": "stream",
     "text": [
      "Enter input:  Kaushik\n"
     ]
    },
    {
     "name": "stdout",
     "output_type": "stream",
     "text": [
      "Input is =  Kaushik\n"
     ]
    }
   ],
   "source": [
    "x = input('Enter input: ')\n",
    "print('Input is = ', x)"
   ]
  },
  {
   "cell_type": "code",
   "execution_count": 59,
   "id": "a003d1fb-d0c1-45d0-8ddc-a0c4c2b4d41b",
   "metadata": {},
   "outputs": [
    {
     "name": "stdin",
     "output_type": "stream",
     "text": [
      "Enter input:  K A U S H I K\n"
     ]
    },
    {
     "name": "stdout",
     "output_type": "stream",
     "text": [
      "Inpus is =  K A U S H I K\n",
      "Datatype is =  <class 'str'>\n"
     ]
    }
   ],
   "source": [
    "x = input('Enter input: ')\n",
    "print('Inpus is = ', x)\n",
    "print('Datatype is = ', type(x))"
   ]
  },
  {
   "cell_type": "code",
   "execution_count": 60,
   "id": "09e39bf1-ac28-4309-a453-42451c9a6310",
   "metadata": {},
   "outputs": [
    {
     "name": "stdin",
     "output_type": "stream",
     "text": [
      "Enter input:  HELLO\n"
     ]
    },
    {
     "name": "stdout",
     "output_type": "stream",
     "text": [
      "Inpus is =  HELLO\n",
      "Datatype is =  <class 'str'>\n"
     ]
    }
   ],
   "source": [
    "x = input('Enter input: ')\n",
    "print('Inpus is = ', x)\n",
    "print('Datatype is = ', type(x))"
   ]
  },
  {
   "cell_type": "code",
   "execution_count": 61,
   "id": "808588df-b4c5-43d6-a8f3-8137ed40d8da",
   "metadata": {},
   "outputs": [
    {
     "name": "stdin",
     "output_type": "stream",
     "text": [
      "Enter input:  HEY\n"
     ]
    },
    {
     "name": "stdout",
     "output_type": "stream",
     "text": [
      "Inpus is =  HEY\n",
      "Datatype is =  <class 'str'>\n"
     ]
    }
   ],
   "source": [
    "x = input('Enter input: ')\n",
    "print('Inpus is = ', x)\n",
    "print('Datatype is = ', type(x))"
   ]
  },
  {
   "cell_type": "markdown",
   "id": "b10c204c-c1c2-4124-8a1e-c702904a0bd5",
   "metadata": {},
   "source": [
    "### Type Casting"
   ]
  },
  {
   "cell_type": "code",
   "execution_count": 62,
   "id": "46eb58a6-f29e-4586-91be-07c08c78aee8",
   "metadata": {},
   "outputs": [
    {
     "name": "stdin",
     "output_type": "stream",
     "text": [
      "Enter number 22\n"
     ]
    },
    {
     "name": "stdout",
     "output_type": "stream",
     "text": [
      "Inpus is =  22\n",
      "Datatype is =  <class 'int'>\n"
     ]
    }
   ],
   "source": [
    "num = input('Enter number')\n",
    "num2 = int(num)\n",
    "print('Inpus is = ', num2)\n",
    "print('Datatype is = ', type(num2))"
   ]
  },
  {
   "cell_type": "code",
   "execution_count": 63,
   "id": "c6cb4e5d-676e-47d5-8d44-6233e5cb0fc9",
   "metadata": {},
   "outputs": [
    {
     "name": "stdin",
     "output_type": "stream",
     "text": [
      "Enter number 22.5\n"
     ]
    },
    {
     "name": "stdout",
     "output_type": "stream",
     "text": [
      "Inpus is =  22.5\n",
      "Datatype is =  <class 'float'>\n"
     ]
    }
   ],
   "source": [
    "num = input('Enter number')\n",
    "num2 = float(num)\n",
    "print('Inpus is = ', num2)\n",
    "print('Datatype is = ', type(num2))"
   ]
  },
  {
   "cell_type": "code",
   "execution_count": 64,
   "id": "1824e1cd-e682-41cc-baf3-bea43a5e713c",
   "metadata": {},
   "outputs": [
    {
     "name": "stdin",
     "output_type": "stream",
     "text": [
      "Enter number AEC\n"
     ]
    },
    {
     "name": "stdout",
     "output_type": "stream",
     "text": [
      "Inpus is =  AEC\n",
      "Datatype is =  <class 'str'>\n"
     ]
    }
   ],
   "source": [
    "num = input('Enter number')\n",
    "num2 = str(num)\n",
    "print('Inpus is = ', num2)\n",
    "print('Datatype is = ', type(num2))"
   ]
  },
  {
   "cell_type": "code",
   "execution_count": 65,
   "id": "25555465-92f5-4d3f-8ebc-b7751c59080f",
   "metadata": {},
   "outputs": [
    {
     "name": "stdout",
     "output_type": "stream",
     "text": [
      "Abc Xyz\n"
     ]
    }
   ],
   "source": [
    "name = 'Abc Xyz'\n",
    "print(name)"
   ]
  },
  {
   "cell_type": "code",
   "execution_count": 66,
   "id": "41dd2a43-3287-44df-ad30-eead56e87b29",
   "metadata": {},
   "outputs": [
    {
     "name": "stdout",
     "output_type": "stream",
     "text": [
      "Abc Xyz <class 'str'>\n",
      "77777 <class 'int'>\n",
      "77777 <class 'str'>\n"
     ]
    }
   ],
   "source": [
    "name = 'Abc Xyz'\n",
    "print(name, type(name))\n",
    "name = 77777\n",
    "print(name, type(name))\n",
    "name = '77777'\n",
    "print(name, type(name))"
   ]
  },
  {
   "cell_type": "code",
   "execution_count": 67,
   "id": "b38bffed-5ff8-4678-8fa6-497f3b4e20bb",
   "metadata": {},
   "outputs": [
    {
     "name": "stdout",
     "output_type": "stream",
     "text": [
      "33 77\n"
     ]
    }
   ],
   "source": [
    "aa = 33\n",
    "bb = 77\n",
    "print(aa, bb)"
   ]
  },
  {
   "cell_type": "code",
   "execution_count": 68,
   "id": "58cf9b44-e64f-4014-a751-181e539637d5",
   "metadata": {},
   "outputs": [
    {
     "name": "stdout",
     "output_type": "stream",
     "text": [
      "33 77\n"
     ]
    }
   ],
   "source": [
    "aa, bb  = 33, 77\n",
    "print(aa, bb)"
   ]
  },
  {
   "cell_type": "code",
   "execution_count": 69,
   "id": "a064d7a3-2484-4e20-b018-60299733cda3",
   "metadata": {},
   "outputs": [
    {
     "name": "stdout",
     "output_type": "stream",
     "text": [
      "101 cdac silchar 22\n"
     ]
    }
   ],
   "source": [
    "roll = 101\n",
    "name = 'cdac silchar'\n",
    "age = 22\n",
    "print(roll, name, age)"
   ]
  },
  {
   "cell_type": "code",
   "execution_count": 70,
   "id": "e7e1d08f-fd9a-4492-89e0-97b94dee4f45",
   "metadata": {},
   "outputs": [
    {
     "name": "stdout",
     "output_type": "stream",
     "text": [
      "Roll no -  101\n",
      "Name -  cdac silchar\n",
      "Age 22\n"
     ]
    }
   ],
   "source": [
    "roll, name, age = 101, 'cdac silchar', 22\n",
    "print('Roll no - ', roll)\n",
    "print('Name - ', name)\n",
    "print('Age', age)"
   ]
  },
  {
   "cell_type": "code",
   "execution_count": 71,
   "id": "90c5c5f5-82bb-4ee4-8895-c5d9b659d2ae",
   "metadata": {},
   "outputs": [
    {
     "name": "stdout",
     "output_type": "stream",
     "text": [
      "Roll no -  cdac silchar\n",
      "Name -  101\n",
      "Age 22\n"
     ]
    }
   ],
   "source": [
    "roll, name, age = 'cdac silchar', 101, 22\n",
    "print('Roll no - ', roll)\n",
    "print('Name - ', name)\n",
    "print('Age', age)"
   ]
  },
  {
   "cell_type": "markdown",
   "id": "9267b40a-1d18-47de-a24a-b0494607c71c",
   "metadata": {},
   "source": [
    "### Command Line Arguments"
   ]
  },
  {
   "cell_type": "code",
   "execution_count": null,
   "id": "77ed6ce7-834d-4fc9-afa5-13cca17abdbf",
   "metadata": {},
   "outputs": [],
   "source": [
    "import sys\n",
    "sys.argv"
   ]
  },
  {
   "cell_type": "code",
   "execution_count": null,
   "id": "cf4ca501-4e68-43c4-a122-63b1cb25fb9e",
   "metadata": {},
   "outputs": [],
   "source": [
    "# Run this program on terminal like this ''$ python3 commandline.py 11 22 33'\n",
    "\n",
    "import sys\n",
    "print('Total arguments: ', len(sys.argv))\n",
    "print('This file name: ', sys.argv[0])\n",
    "print('Arg 1: ', sys.argv[1])\n",
    "print('Arg 2: ', sys.argv[2])\n",
    "print('Arg 3: ', sys.argv[4])"
   ]
  }
 ],
 "metadata": {
  "kernelspec": {
   "display_name": "Python 3 (ipykernel)",
   "language": "python",
   "name": "python3"
  },
  "language_info": {
   "codemirror_mode": {
    "name": "ipython",
    "version": 3
   },
   "file_extension": ".py",
   "mimetype": "text/x-python",
   "name": "python",
   "nbconvert_exporter": "python",
   "pygments_lexer": "ipython3",
   "version": "3.10.12"
  }
 },
 "nbformat": 4,
 "nbformat_minor": 5
}
