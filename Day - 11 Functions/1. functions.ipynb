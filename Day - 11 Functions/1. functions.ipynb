{
 "cells": [
  {
   "cell_type": "code",
   "execution_count": null,
   "id": "62b35f75-3d02-4ceb-b491-bbdea6f5af17",
   "metadata": {},
   "outputs": [],
   "source": [
    "Functions\n",
    "- Used for wrting subtaks\n",
    "- function can have zero or more return statement\n",
    "- functions can have zero or more parameters"
   ]
  },
  {
   "cell_type": "code",
   "execution_count": 4,
   "id": "2593e98a-cae2-4dd8-ac1f-e547d8c7526c",
   "metadata": {},
   "outputs": [],
   "source": [
    "def funname():\n",
    "    line1\n",
    "    line2\n",
    "    line3\n",
    "    return"
   ]
  },
  {
   "cell_type": "code",
   "execution_count": null,
   "id": "15ad8b64-4a30-4581-a6c9-acba95331c96",
   "metadata": {},
   "outputs": [],
   "source": [
    "syntax\n",
    "\n",
    "def funname():\n",
    "    line1\n",
    "    line2\n",
    "line3"
   ]
  },
  {
   "cell_type": "code",
   "execution_count": 5,
   "id": "10094a42-efac-4fdc-93a9-7fb3e30e30fa",
   "metadata": {},
   "outputs": [],
   "source": [
    "def abc():\n",
    "    pass"
   ]
  },
  {
   "cell_type": "code",
   "execution_count": 6,
   "id": "92b72da0-c981-4524-ba6d-5b2ad5a3c5dc",
   "metadata": {},
   "outputs": [],
   "source": [
    "abc()"
   ]
  },
  {
   "cell_type": "code",
   "execution_count": 7,
   "id": "f04caf76-1f22-46d2-bf48-023c281ac75d",
   "metadata": {},
   "outputs": [],
   "source": [
    "def abc():\n",
    "    print('I am in functions block')"
   ]
  },
  {
   "cell_type": "code",
   "execution_count": 8,
   "id": "b33f6b1c-897e-4f14-b869-d9dbc9f571f8",
   "metadata": {},
   "outputs": [
    {
     "name": "stdout",
     "output_type": "stream",
     "text": [
      "I am in functions block\n"
     ]
    }
   ],
   "source": [
    "abc()"
   ]
  },
  {
   "cell_type": "code",
   "execution_count": 9,
   "id": "443fb725-5b78-48e6-8462-5e5b53274e2b",
   "metadata": {},
   "outputs": [
    {
     "name": "stdout",
     "output_type": "stream",
     "text": [
      "I am in functions block\n"
     ]
    }
   ],
   "source": [
    "def abc():\n",
    "    print('I am in functions block')\n",
    "\n",
    "abc()"
   ]
  },
  {
   "cell_type": "code",
   "execution_count": 10,
   "id": "929813de-f657-4027-892e-e8f0e6edab27",
   "metadata": {},
   "outputs": [
    {
     "ename": "NameError",
     "evalue": "name 'abc123' is not defined",
     "output_type": "error",
     "traceback": [
      "\u001b[0;31m---------------------------------------------------------------------------\u001b[0m",
      "\u001b[0;31mNameError\u001b[0m                                 Traceback (most recent call last)",
      "Cell \u001b[0;32mIn[10], line 1\u001b[0m\n\u001b[0;32m----> 1\u001b[0m \u001b[43mabc123\u001b[49m()\n\u001b[1;32m      3\u001b[0m \u001b[38;5;28;01mdef\u001b[39;00m \u001b[38;5;21mabc123\u001b[39m():\n\u001b[1;32m      4\u001b[0m     \u001b[38;5;28mprint\u001b[39m(\u001b[38;5;124m'\u001b[39m\u001b[38;5;124mI am in functions block\u001b[39m\u001b[38;5;124m'\u001b[39m)\n",
      "\u001b[0;31mNameError\u001b[0m: name 'abc123' is not defined"
     ]
    }
   ],
   "source": [
    "abc123()\n",
    "\n",
    "def abc123():\n",
    "    print('I am in functions block')"
   ]
  },
  {
   "cell_type": "code",
   "execution_count": 11,
   "id": "9865b374-fc8c-4978-8417-7d998adcef18",
   "metadata": {},
   "outputs": [
    {
     "name": "stdout",
     "output_type": "stream",
     "text": [
      "I am in functions block\n"
     ]
    }
   ],
   "source": [
    "def abc123():\n",
    "    print('I am in functions block')\n",
    "    \n",
    "abc123()"
   ]
  },
  {
   "cell_type": "code",
   "execution_count": 12,
   "id": "06040a74-75fe-4806-ac5f-ebafc8312544",
   "metadata": {},
   "outputs": [
    {
     "name": "stdout",
     "output_type": "stream",
     "text": [
      "<function abc123 at 0x779ee86ed900>\n"
     ]
    }
   ],
   "source": [
    "def abc123():\n",
    "    print('I am in functions block')\n",
    "    \n",
    "print(abc123)"
   ]
  },
  {
   "cell_type": "code",
   "execution_count": 13,
   "id": "27efe1cd-6d2a-447d-a0ac-e2a87ca72105",
   "metadata": {},
   "outputs": [
    {
     "name": "stdout",
     "output_type": "stream",
     "text": [
      "I am in functions block\n",
      "None\n"
     ]
    }
   ],
   "source": [
    "def abc123():\n",
    "    print('I am in functions block')\n",
    "    \n",
    "print(abc123())"
   ]
  },
  {
   "cell_type": "code",
   "execution_count": 14,
   "id": "ac6e2c59-8aba-4c22-b4b9-112585cdb4c0",
   "metadata": {},
   "outputs": [
    {
     "name": "stdout",
     "output_type": "stream",
     "text": [
      "I am in functions block\n"
     ]
    },
    {
     "data": {
      "text/plain": [
       "'This is my return statement'"
      ]
     },
     "execution_count": 14,
     "metadata": {},
     "output_type": "execute_result"
    }
   ],
   "source": [
    "def abc123(): # execute this code on terminal using python interpreter\n",
    "    print('I am in functions block')\n",
    "    return \"This is my return statement\"\n",
    "    \n",
    "abc123()"
   ]
  },
  {
   "cell_type": "code",
   "execution_count": 15,
   "id": "e1e7ebfb-4bfc-4196-a004-d6d9952f8fc2",
   "metadata": {},
   "outputs": [
    {
     "name": "stdout",
     "output_type": "stream",
     "text": [
      "I am in functions block\n",
      "This is my return statement\n"
     ]
    }
   ],
   "source": [
    "def abc123(): # execute this code on terminal using python interpreter\n",
    "    print('I am in functions block')\n",
    "    return \"This is my return statement\"\n",
    "    \n",
    "print(abc123())"
   ]
  },
  {
   "cell_type": "code",
   "execution_count": null,
   "id": "47e98744-297a-4dda-b09d-cc765ff40730",
   "metadata": {},
   "outputs": [],
   "source": [
    "def xyz(): # this cell has not been executed\n",
    "    print('in xyz')"
   ]
  },
  {
   "cell_type": "code",
   "execution_count": 16,
   "id": "a393b922-e36a-4fad-9a70-7b6e5aeefef8",
   "metadata": {},
   "outputs": [
    {
     "ename": "NameError",
     "evalue": "name 'xyz' is not defined",
     "output_type": "error",
     "traceback": [
      "\u001b[0;31m---------------------------------------------------------------------------\u001b[0m",
      "\u001b[0;31mNameError\u001b[0m                                 Traceback (most recent call last)",
      "Cell \u001b[0;32mIn[16], line 1\u001b[0m\n\u001b[0;32m----> 1\u001b[0m \u001b[43mxyz\u001b[49m()\n",
      "\u001b[0;31mNameError\u001b[0m: name 'xyz' is not defined"
     ]
    }
   ],
   "source": [
    "xyz()"
   ]
  },
  {
   "cell_type": "code",
   "execution_count": 17,
   "id": "3cf3341e-7d3a-4c10-b8b0-1c5a49ade652",
   "metadata": {},
   "outputs": [],
   "source": [
    "def xyz():\n",
    "    print('in xyz')"
   ]
  },
  {
   "cell_type": "code",
   "execution_count": 18,
   "id": "c097776d-5a83-4431-a9e2-b0d26d367d13",
   "metadata": {},
   "outputs": [
    {
     "name": "stdout",
     "output_type": "stream",
     "text": [
      "in xyz\n"
     ]
    }
   ],
   "source": [
    "xyz()"
   ]
  },
  {
   "cell_type": "code",
   "execution_count": 19,
   "id": "0bae6681-83a5-46c4-88a6-66782ec54093",
   "metadata": {},
   "outputs": [
    {
     "name": "stdout",
     "output_type": "stream",
     "text": [
      "in xyz\n"
     ]
    }
   ],
   "source": [
    "def xyz():\n",
    "    print('in xyz')\n",
    "\n",
    "xyz()"
   ]
  },
  {
   "cell_type": "markdown",
   "id": "894b72b0-3db4-462c-9850-01c2b41a1587",
   "metadata": {},
   "source": [
    "### Function with argument/parameter"
   ]
  },
  {
   "cell_type": "code",
   "execution_count": 20,
   "id": "0646aa8c-881b-435c-b90a-c57511234d33",
   "metadata": {},
   "outputs": [
    {
     "name": "stdout",
     "output_type": "stream",
     "text": [
      "123 <class 'int'>\n"
     ]
    }
   ],
   "source": [
    "def fun1(num):\n",
    "    print(num, type(num))\n",
    "\n",
    "fun1(123)"
   ]
  },
  {
   "cell_type": "code",
   "execution_count": 21,
   "id": "2f5eab2f-973a-4537-aab8-dcc077db1a77",
   "metadata": {},
   "outputs": [
    {
     "name": "stdout",
     "output_type": "stream",
     "text": [
      "123.456 <class 'float'>\n"
     ]
    }
   ],
   "source": [
    "def fun1(num):\n",
    "    print(num, type(num))\n",
    "\n",
    "fun1(123.456)"
   ]
  },
  {
   "cell_type": "code",
   "execution_count": 22,
   "id": "5c61a455-2f65-415b-b5e7-46179de8d620",
   "metadata": {},
   "outputs": [
    {
     "name": "stdout",
     "output_type": "stream",
     "text": [
      "['abc', '123'] <class 'list'>\n"
     ]
    }
   ],
   "source": [
    "def fun1(num):\n",
    "    print(num, type(num))\n",
    "\n",
    "fun1(['abc', '123'])"
   ]
  },
  {
   "cell_type": "code",
   "execution_count": 23,
   "id": "29011e17-fae4-4304-acc7-3c01d6cfaaec",
   "metadata": {},
   "outputs": [
    {
     "name": "stdout",
     "output_type": "stream",
     "text": [
      "string line <class 'str'>\n"
     ]
    }
   ],
   "source": [
    "def fun1(num):\n",
    "    print(num, type(num))\n",
    "\n",
    "fun1('string line')"
   ]
  },
  {
   "cell_type": "code",
   "execution_count": 24,
   "id": "90cfbcbd-3bde-4fbd-9836-4521a7ff924c",
   "metadata": {},
   "outputs": [
    {
     "name": "stdout",
     "output_type": "stream",
     "text": [
      "111\n"
     ]
    }
   ],
   "source": [
    "def divide(divident, divisor):\n",
    "    print(divident// divisor)\n",
    "    \n",
    "divide(444, 4)"
   ]
  },
  {
   "cell_type": "code",
   "execution_count": 25,
   "id": "3482d8ed-3dd8-487d-87a7-deef65b6d1ff",
   "metadata": {},
   "outputs": [
    {
     "name": "stdout",
     "output_type": "stream",
     "text": [
      "111\n"
     ]
    }
   ],
   "source": [
    "def divide(divident, divisor):\n",
    "    print(divident// divisor)\n",
    "    \n",
    "divide(444, 4)"
   ]
  },
  {
   "cell_type": "code",
   "execution_count": 26,
   "id": "dea958f8-62a1-4c8f-8eb3-7dc46400929d",
   "metadata": {},
   "outputs": [
    {
     "ename": "TypeError",
     "evalue": "unsupported operand type(s) for //: 'str' and 'str'",
     "output_type": "error",
     "traceback": [
      "\u001b[0;31m---------------------------------------------------------------------------\u001b[0m",
      "\u001b[0;31mTypeError\u001b[0m                                 Traceback (most recent call last)",
      "Cell \u001b[0;32mIn[26], line 4\u001b[0m\n\u001b[1;32m      1\u001b[0m \u001b[38;5;28;01mdef\u001b[39;00m \u001b[38;5;21mdivide\u001b[39m(divident, divisor):\n\u001b[1;32m      2\u001b[0m     \u001b[38;5;28mprint\u001b[39m(divident \u001b[38;5;241m/\u001b[39m\u001b[38;5;241m/\u001b[39m divisor)\n\u001b[0;32m----> 4\u001b[0m \u001b[43mdivide\u001b[49m\u001b[43m(\u001b[49m\u001b[38;5;124;43m'\u001b[39;49m\u001b[38;5;124;43mabc\u001b[39;49m\u001b[38;5;124;43m'\u001b[39;49m\u001b[43m,\u001b[49m\u001b[43m \u001b[49m\u001b[38;5;124;43m'\u001b[39;49m\u001b[38;5;124;43mxyz\u001b[39;49m\u001b[38;5;124;43m'\u001b[39;49m\u001b[43m)\u001b[49m\n",
      "Cell \u001b[0;32mIn[26], line 2\u001b[0m, in \u001b[0;36mdivide\u001b[0;34m(divident, divisor)\u001b[0m\n\u001b[1;32m      1\u001b[0m \u001b[38;5;28;01mdef\u001b[39;00m \u001b[38;5;21mdivide\u001b[39m(divident, divisor):\n\u001b[0;32m----> 2\u001b[0m     \u001b[38;5;28mprint\u001b[39m(\u001b[43mdivident\u001b[49m\u001b[43m \u001b[49m\u001b[38;5;241;43m/\u001b[39;49m\u001b[38;5;241;43m/\u001b[39;49m\u001b[43m \u001b[49m\u001b[43mdivisor\u001b[49m)\n",
      "\u001b[0;31mTypeError\u001b[0m: unsupported operand type(s) for //: 'str' and 'str'"
     ]
    }
   ],
   "source": [
    "def divide(divident, divisor):\n",
    "    print(divident // divisor)\n",
    "    \n",
    "divide('abc', 'xyz')"
   ]
  },
  {
   "cell_type": "code",
   "execution_count": 27,
   "id": "f560f7c2-33ce-4858-a413-8faf9e927f42",
   "metadata": {},
   "outputs": [
    {
     "ename": "TypeError",
     "evalue": "unsupported operand type(s) for //: 'list' and 'tuple'",
     "output_type": "error",
     "traceback": [
      "\u001b[0;31m---------------------------------------------------------------------------\u001b[0m",
      "\u001b[0;31mTypeError\u001b[0m                                 Traceback (most recent call last)",
      "Cell \u001b[0;32mIn[27], line 4\u001b[0m\n\u001b[1;32m      1\u001b[0m \u001b[38;5;28;01mdef\u001b[39;00m \u001b[38;5;21mdivide\u001b[39m(divident, divisor):\n\u001b[1;32m      2\u001b[0m     \u001b[38;5;28mprint\u001b[39m(divident \u001b[38;5;241m/\u001b[39m\u001b[38;5;241m/\u001b[39m divisor)\n\u001b[0;32m----> 4\u001b[0m \u001b[43mdivide\u001b[49m\u001b[43m(\u001b[49m\u001b[43m[\u001b[49m\u001b[38;5;241;43m1\u001b[39;49m\u001b[43m,\u001b[49m\u001b[38;5;241;43m2\u001b[39;49m\u001b[43m,\u001b[49m\u001b[38;5;241;43m3\u001b[39;49m\u001b[43m]\u001b[49m\u001b[43m,\u001b[49m\u001b[43m \u001b[49m\u001b[43m(\u001b[49m\u001b[38;5;241;43m11\u001b[39;49m\u001b[43m,\u001b[49m\u001b[38;5;241;43m22\u001b[39;49m\u001b[43m,\u001b[49m\u001b[38;5;241;43m33\u001b[39;49m\u001b[43m)\u001b[49m\u001b[43m)\u001b[49m\n",
      "Cell \u001b[0;32mIn[27], line 2\u001b[0m, in \u001b[0;36mdivide\u001b[0;34m(divident, divisor)\u001b[0m\n\u001b[1;32m      1\u001b[0m \u001b[38;5;28;01mdef\u001b[39;00m \u001b[38;5;21mdivide\u001b[39m(divident, divisor):\n\u001b[0;32m----> 2\u001b[0m     \u001b[38;5;28mprint\u001b[39m(\u001b[43mdivident\u001b[49m\u001b[43m \u001b[49m\u001b[38;5;241;43m/\u001b[39;49m\u001b[38;5;241;43m/\u001b[39;49m\u001b[43m \u001b[49m\u001b[43mdivisor\u001b[49m)\n",
      "\u001b[0;31mTypeError\u001b[0m: unsupported operand type(s) for //: 'list' and 'tuple'"
     ]
    }
   ],
   "source": [
    "def divide(divident, divisor):\n",
    "    print(divident // divisor)\n",
    "    \n",
    "divide([1,2,3], (11,22,33))"
   ]
  },
  {
   "cell_type": "code",
   "execution_count": 28,
   "id": "d5b85e89-facf-48f2-bcfe-d34fd9b5c548",
   "metadata": {},
   "outputs": [
    {
     "name": "stdout",
     "output_type": "stream",
     "text": [
      "3\n"
     ]
    }
   ],
   "source": [
    "def sum(num1, num2):\n",
    "    print(num1 + 2)\n",
    "    \n",
    "sum(1,2)"
   ]
  },
  {
   "cell_type": "code",
   "execution_count": 29,
   "id": "7e0d5947-0b11-4741-8cad-8944a75f85cd",
   "metadata": {},
   "outputs": [
    {
     "name": "stdout",
     "output_type": "stream",
     "text": [
      "CdacSilchar\n"
     ]
    }
   ],
   "source": [
    "def sum(num1, num2):\n",
    "    print(num1 + num2)\n",
    "    \n",
    "sum('Cdac','Silchar')"
   ]
  },
  {
   "cell_type": "code",
   "execution_count": 30,
   "id": "04d97e2e-33d7-45d1-a514-c2b084c03414",
   "metadata": {},
   "outputs": [
    {
     "name": "stdout",
     "output_type": "stream",
     "text": [
      "Cdac-Silchar\n"
     ]
    }
   ],
   "source": [
    "def sum(num1, num2):\n",
    "    print(num1 + '-' + num2)\n",
    "    \n",
    "sum('Cdac','Silchar')"
   ]
  },
  {
   "cell_type": "code",
   "execution_count": 31,
   "id": "834b8485-eb11-4f71-a9d6-7ee3f611dc15",
   "metadata": {},
   "outputs": [
    {
     "ename": "TypeError",
     "evalue": "unsupported operand type(s) for +: 'int' and 'str'",
     "output_type": "error",
     "traceback": [
      "\u001b[0;31m---------------------------------------------------------------------------\u001b[0m",
      "\u001b[0;31mTypeError\u001b[0m                                 Traceback (most recent call last)",
      "Cell \u001b[0;32mIn[31], line 4\u001b[0m\n\u001b[1;32m      1\u001b[0m \u001b[38;5;28;01mdef\u001b[39;00m \u001b[38;5;21msum\u001b[39m(num1, num2):\n\u001b[1;32m      2\u001b[0m     \u001b[38;5;28mprint\u001b[39m(num1 \u001b[38;5;241m+\u001b[39m \u001b[38;5;124m'\u001b[39m\u001b[38;5;124m-\u001b[39m\u001b[38;5;124m'\u001b[39m \u001b[38;5;241m+\u001b[39m num2)\n\u001b[0;32m----> 4\u001b[0m \u001b[38;5;28;43msum\u001b[39;49m\u001b[43m(\u001b[49m\u001b[38;5;241;43m11\u001b[39;49m\u001b[43m,\u001b[49m\u001b[38;5;241;43m22\u001b[39;49m\u001b[43m)\u001b[49m\n",
      "Cell \u001b[0;32mIn[31], line 2\u001b[0m, in \u001b[0;36msum\u001b[0;34m(num1, num2)\u001b[0m\n\u001b[1;32m      1\u001b[0m \u001b[38;5;28;01mdef\u001b[39;00m \u001b[38;5;21msum\u001b[39m(num1, num2):\n\u001b[0;32m----> 2\u001b[0m     \u001b[38;5;28mprint\u001b[39m(\u001b[43mnum1\u001b[49m\u001b[43m \u001b[49m\u001b[38;5;241;43m+\u001b[39;49m\u001b[43m \u001b[49m\u001b[38;5;124;43m'\u001b[39;49m\u001b[38;5;124;43m-\u001b[39;49m\u001b[38;5;124;43m'\u001b[39;49m \u001b[38;5;241m+\u001b[39m num2)\n",
      "\u001b[0;31mTypeError\u001b[0m: unsupported operand type(s) for +: 'int' and 'str'"
     ]
    }
   ],
   "source": [
    "def sum(num1, num2):\n",
    "    print(num1 + '-' + num2)\n",
    "    \n",
    "sum(11,22)"
   ]
  },
  {
   "cell_type": "code",
   "execution_count": 32,
   "id": "b6613a39-0524-401f-afbb-bcc1df85680e",
   "metadata": {},
   "outputs": [
    {
     "name": "stdout",
     "output_type": "stream",
     "text": [
      "[11, 22]\n"
     ]
    }
   ],
   "source": [
    "def sum(num1, num2):\n",
    "    print(num1 + num2)\n",
    "    \n",
    "sum([11],[22])"
   ]
  },
  {
   "cell_type": "code",
   "execution_count": 33,
   "id": "aa462fe6-51c0-407c-be5d-ecfc64c33b8c",
   "metadata": {},
   "outputs": [
    {
     "name": "stdout",
     "output_type": "stream",
     "text": [
      "[1, 2, 3, 4, 11, 22, 33, 44]\n"
     ]
    }
   ],
   "source": [
    "def sum(num1, num2):\n",
    "    print(num1 + num2)\n",
    "    \n",
    "sum([1,2,3,4],[11,22,33,44])"
   ]
  },
  {
   "cell_type": "code",
   "execution_count": 35,
   "id": "587a47f9-0266-42b2-b34f-b5764813ed41",
   "metadata": {},
   "outputs": [
    {
     "name": "stdout",
     "output_type": "stream",
     "text": [
      "C -> <class 'str'>\n",
      "d -> <class 'str'>\n",
      "a -> <class 'str'>\n",
      "c -> <class 'str'>\n",
      "- -> <class 'str'>\n",
      "S -> <class 'str'>\n",
      "i -> <class 'str'>\n",
      "l -> <class 'str'>\n",
      "c -> <class 'str'>\n",
      "h -> <class 'str'>\n",
      "a -> <class 'str'>\n",
      "r -> <class 'str'>\n"
     ]
    }
   ],
   "source": [
    "def my_print(variable):\n",
    "    for item in variable:\n",
    "        print(item, '->', type(item))\n",
    "\n",
    "my_print('Cdac-Silchar')"
   ]
  },
  {
   "cell_type": "code",
   "execution_count": 36,
   "id": "a1cc43b1-ef56-48c5-ad95-9cd56d9f47ec",
   "metadata": {},
   "outputs": [
    {
     "name": "stdout",
     "output_type": "stream",
     "text": [
      "1 -> <class 'int'>\n",
      "2 -> <class 'int'>\n",
      "3 -> <class 'int'>\n",
      "4 -> <class 'int'>\n",
      "5 -> <class 'int'>\n",
      "6 -> <class 'int'>\n",
      "7 -> <class 'int'>\n"
     ]
    }
   ],
   "source": [
    "my_print( [1,2,3,4,5,6,7] )"
   ]
  },
  {
   "cell_type": "code",
   "execution_count": 38,
   "id": "fd67e757-e0b4-499c-81ea-71c82642db83",
   "metadata": {},
   "outputs": [
    {
     "name": "stdout",
     "output_type": "stream",
     "text": [
      "Asaam -> <class 'str'>\n",
      "Rajasthan -> <class 'str'>\n",
      "Bangalore -> <class 'str'>\n",
      "Hyderabad -> <class 'str'>\n"
     ]
    }
   ],
   "source": [
    "states = ['Asaam', 'Rajasthan', 'Bangalore', 'Hyderabad']\n",
    "my_print(states)"
   ]
  },
  {
   "cell_type": "code",
   "execution_count": 57,
   "id": "4e54b18d-7b1e-461c-8c47-ebe11796970d",
   "metadata": {},
   "outputs": [
    {
     "name": "stdout",
     "output_type": "stream",
     "text": [
      "11\n",
      "22\n",
      "33\n",
      "44\n"
     ]
    }
   ],
   "source": [
    "list1 = [11,22,33,44]\n",
    "for  i in list1:\n",
    "    print(i)"
   ]
  },
  {
   "cell_type": "code",
   "execution_count": 61,
   "id": "9092ccb2-82be-465b-add3-7c561268f121",
   "metadata": {},
   "outputs": [
    {
     "ename": "TypeError",
     "evalue": "'int' object is not iterable",
     "output_type": "error",
     "traceback": [
      "\u001b[0;31m---------------------------------------------------------------------------\u001b[0m",
      "\u001b[0;31mTypeError\u001b[0m                                 Traceback (most recent call last)",
      "Cell \u001b[0;32mIn[61], line 2\u001b[0m\n\u001b[1;32m      1\u001b[0m list1 \u001b[38;5;241m=\u001b[39m \u001b[38;5;241m2\u001b[39m\n\u001b[0;32m----> 2\u001b[0m \u001b[38;5;28;01mfor\u001b[39;00m i \u001b[38;5;129;01min\u001b[39;00m list1:\n\u001b[1;32m      3\u001b[0m     \u001b[38;5;28mprint\u001b[39m(i)\n",
      "\u001b[0;31mTypeError\u001b[0m: 'int' object is not iterable"
     ]
    }
   ],
   "source": [
    "list1 = 2\n",
    "for i in list1:\n",
    "    print(i)"
   ]
  },
  {
   "cell_type": "code",
   "execution_count": 58,
   "id": "51fdca90-2a57-4070-910e-62a5c64325f4",
   "metadata": {},
   "outputs": [
    {
     "name": "stdout",
     "output_type": "stream",
     "text": [
      "0\n",
      "1\n"
     ]
    },
    {
     "data": {
      "text/plain": [
       "0"
      ]
     },
     "execution_count": 58,
     "metadata": {},
     "output_type": "execute_result"
    }
   ],
   "source": [
    "list1 = 2\n",
    "for i in range(list1):\n",
    "    print(i)\n",
    "\n",
    "0"
   ]
  },
  {
   "cell_type": "code",
   "execution_count": 60,
   "id": "819adf45-3763-4926-91f8-8ec8abc0a603",
   "metadata": {},
   "outputs": [
    {
     "name": "stdout",
     "output_type": "stream",
     "text": [
      "first = 11, second = 77\n"
     ]
    }
   ],
   "source": [
    "def fun_1(num1, num2):\n",
    "    print(f'first = {num1}, second = {num2}')\n",
    "fun_1(11,77)    "
   ]
  },
  {
   "cell_type": "code",
   "execution_count": 62,
   "id": "3d5a8a35-7bf5-4b79-97f4-c89150842846",
   "metadata": {},
   "outputs": [
    {
     "name": "stdout",
     "output_type": "stream",
     "text": [
      "first = [11, 77], second = ['aaa', 'bbb']\n"
     ]
    }
   ],
   "source": [
    "def fun_1(num1, num2):\n",
    "    print(f'first = {num1}, second = {num2}')\n",
    "fun_1([11,77], ['aaa', 'bbb'])"
   ]
  },
  {
   "cell_type": "code",
   "execution_count": null,
   "id": "c762745b-26d6-4ddc-adc2-a3f3cf5d4af5",
   "metadata": {},
   "outputs": [],
   "source": [
    "def fuN-!(num1, num2):\n",
    "\n",
    "    print(f'first = [num!}, second = {num2]')\n",
    "\n",
    "fun_1()"
   ]
  },
  {
   "cell_type": "code",
   "execution_count": 64,
   "id": "ee7f477a-b306-4b9b-accc-4c9ff629c234",
   "metadata": {},
   "outputs": [
    {
     "name": "stdout",
     "output_type": "stream",
     "text": [
      "Before Subrtacting\n",
      "[2909, 7128, 6608, 6263, 2197]\n",
      "After Subtracting\n",
      "[2576, 6795, 6275, 5930, 1864]\n"
     ]
    }
   ],
   "source": [
    "# Write a function which generates 4-digit 5 numbers & substract 333 from all.\n",
    "# Result shud be placed in list. Print the list at the end.\n",
    "\n",
    "import math\n",
    "def task():\n",
    "    list1 = []\n",
    "    for i in range(5):\n",
    "        list1. append(random.randint(1000,9999))\n",
    "\n",
    "    print('Before Subrtacting')\n",
    "    print(list1)\n",
    "    \n",
    "    for i in range(5):\n",
    "        list1[i] = list1[i] - 333\n",
    "\n",
    "    print('After Subtracting')\n",
    "    print(list1)\n",
    "\n",
    "task()"
   ]
  },
  {
   "cell_type": "code",
   "execution_count": 65,
   "id": "e442c677-828e-4665-8533-561066ff00fa",
   "metadata": {},
   "outputs": [
    {
     "data": {
      "text/plain": [
       "[7, 7, 7, 7, 7]"
      ]
     },
     "execution_count": 65,
     "metadata": {},
     "output_type": "execute_result"
    }
   ],
   "source": [
    "list1 = []\n",
    "for i in range(5):\n",
    "    list1.append(7)\n",
    "list1"
   ]
  },
  {
   "cell_type": "code",
   "execution_count": 66,
   "id": "56d86d3d-430d-4b80-8c8c-508a2af26c5b",
   "metadata": {},
   "outputs": [
    {
     "data": {
      "text/plain": [
       "[0, 1, 2, 3, 4]"
      ]
     },
     "execution_count": 66,
     "metadata": {},
     "output_type": "execute_result"
    }
   ],
   "source": [
    "list1 = []\n",
    "for i in range(5):\n",
    "    list1.append(i)\n",
    "list1"
   ]
  },
  {
   "cell_type": "code",
   "execution_count": 67,
   "id": "bd445c1a-87f3-4671-8552-d717f645f5aa",
   "metadata": {},
   "outputs": [
    {
     "data": {
      "text/plain": [
       "['Amarsingh', 'Amarsingh', 'Amarsingh', 'Amarsingh', 'Amarsingh']"
      ]
     },
     "execution_count": 67,
     "metadata": {},
     "output_type": "execute_result"
    }
   ],
   "source": [
    "list1 = []\n",
    "for i in range(5):\n",
    "    list1.append('Amarsingh')\n",
    "list1"
   ]
  },
  {
   "cell_type": "code",
   "execution_count": 68,
   "id": "218499ce-016c-4d78-9e2f-dc345db43375",
   "metadata": {},
   "outputs": [
    {
     "data": {
      "text/plain": [
       "3718"
      ]
     },
     "execution_count": 68,
     "metadata": {},
     "output_type": "execute_result"
    }
   ],
   "source": [
    "import random\n",
    "var = random.randint(1000, 9999)\n",
    "var"
   ]
  },
  {
   "cell_type": "markdown",
   "id": "21d89dfc-ded6-4a29-8901-3af6d9f4de0a",
   "metadata": {},
   "source": [
    "### return\n",
    "\n",
    "    -it shud be last statement\n",
    "    -not complusary to hv return to function\n",
    "    -can return multiple return values\n",
    "    -anyting written after return statement is unereachable code\n",
    "\n"
   ]
  },
  {
   "cell_type": "code",
   "execution_count": 69,
   "id": "b3b6acca-1758-4345-a119-8e679cbe1a90",
   "metadata": {},
   "outputs": [
    {
     "data": {
      "text/plain": [
       "2323"
      ]
     },
     "execution_count": 69,
     "metadata": {},
     "output_type": "execute_result"
    }
   ],
   "source": [
    "def fun_2():\n",
    "    return 2323\n",
    "fun_2()"
   ]
  },
  {
   "cell_type": "code",
   "execution_count": 70,
   "id": "05e74f98-2f43-4337-bcc4-2721ae1134c5",
   "metadata": {},
   "outputs": [
    {
     "data": {
      "text/plain": [
       "2323"
      ]
     },
     "execution_count": 70,
     "metadata": {},
     "output_type": "execute_result"
    }
   ],
   "source": [
    "def fun_2():\n",
    "    return 2323\n",
    "    print('fjhdfdhjk') # unreachbale code\n",
    "fun_2()"
   ]
  },
  {
   "cell_type": "code",
   "execution_count": 71,
   "id": "b4b96d18-b4be-486b-9fa7-50da9de1e935",
   "metadata": {},
   "outputs": [
    {
     "data": {
      "text/plain": [
       "'ABC'"
      ]
     },
     "execution_count": 71,
     "metadata": {},
     "output_type": "execute_result"
    }
   ],
   "source": [
    "def fun_2():\n",
    "   return 'ABC' \n",
    "fun_2()"
   ]
  },
  {
   "cell_type": "code",
   "execution_count": 72,
   "id": "e89f54b2-63ca-4f5c-860d-8ab4527d5dbb",
   "metadata": {},
   "outputs": [
    {
     "data": {
      "text/plain": [
       "['ABC', 'XYZ', 'PQR']"
      ]
     },
     "execution_count": 72,
     "metadata": {},
     "output_type": "execute_result"
    }
   ],
   "source": [
    "def fun_2():\n",
    "   return ['ABC', 'XYZ', 'PQR'] \n",
    "fun_2()"
   ]
  },
  {
   "cell_type": "code",
   "execution_count": 73,
   "id": "30d7d71c-9138-4365-846f-1b64a63323a1",
   "metadata": {},
   "outputs": [
    {
     "data": {
      "text/plain": [
       "999"
      ]
     },
     "execution_count": 73,
     "metadata": {},
     "output_type": "execute_result"
    }
   ],
   "source": [
    "def fun3(num1, num2):\n",
    "    return num1+num2\n",
    "\n",
    "fun3(444,555)"
   ]
  },
  {
   "cell_type": "code",
   "execution_count": 74,
   "id": "055ac253-7191-4698-a80d-9751d13d3887",
   "metadata": {},
   "outputs": [
    {
     "name": "stdout",
     "output_type": "stream",
     "text": [
      "Before substracing\n",
      "[4563, 6687, 5376, 3027, 9084]\n",
      "After substracing\n",
      "[4230, 6354, 5043, 2694, 8751]\n"
     ]
    }
   ],
   "source": [
    "# Write a function which generates 4-digit 5 numbers & substract 333 from all.\n",
    "# Return output in the form of list\n",
    "\n",
    "import random\n",
    "def task():\n",
    "    list1 = []\n",
    "    for i in range(5):\n",
    "        list1.append(random.randint(1000,9999))\n",
    "    \n",
    "    print('Before substracing')\n",
    "    print(list1)\n",
    "    \n",
    "    for i in range(5):\n",
    "        list1[i] = list1[i] - 333\n",
    "    \n",
    "    return list1\n",
    "\n",
    "\n",
    "output = task()\n",
    "print('After substracing')\n",
    "print(output)"
   ]
  },
  {
   "cell_type": "code",
   "execution_count": 75,
   "id": "fdcf35e1-17b8-454b-a48e-134bda6f8ae7",
   "metadata": {},
   "outputs": [
    {
     "name": "stdout",
     "output_type": "stream",
     "text": [
      "Before substracing\n",
      "[6140, 3824, 2895, 2932, 5047]\n",
      "After substracing\n",
      "[6140, 3824, 2895, 2932, 5047]\n"
     ]
    }
   ],
   "source": [
    "# Write a function which generates 4-digit 5 numbers & substract 333 from all.\n",
    "# Return output in the form of list\n",
    "\n",
    "import random\n",
    "def task():\n",
    "    list1 = []\n",
    "    print('Before substracing')\n",
    "    for i in range(5):\n",
    "        list1.append(random.randint(1000,9999) - 333)\n",
    "    \n",
    "\n",
    "    print(list1)\n",
    "    \n",
    "#     for i in range(5):\n",
    "#         list1[i] = list1[i] - 333\n",
    "    \n",
    "    return list1\n",
    "\n",
    "\n",
    "output = task()\n",
    "print('After substracing')\n",
    "print(output)\n"
   ]
  },
  {
   "cell_type": "code",
   "execution_count": 92,
   "id": "feb95a51-29ff-403a-8a14-6a17ae939fe6",
   "metadata": {},
   "outputs": [
    {
     "name": "stdout",
     "output_type": "stream",
     "text": [
      "After substracting\n",
      "[5929, 4731, 3984, 6305, 3195]\n"
     ]
    }
   ],
   "source": [
    "# Write a function which generates 4-digit 5 numbers & substract 333 from all.\n",
    "# Return output in the form of list.\n",
    "\n",
    "import random\n",
    "def task():\n",
    "    return [random.randint(1000,9999)-333 for i in range(5)]\n",
    "           #[random.randint(1000,9999)-333 for i in range(5)]\n",
    "\n",
    "output = task()\n",
    "print('After substracting')\n",
    "print(output)"
   ]
  },
  {
   "cell_type": "code",
   "execution_count": 93,
   "id": "9bd6636d-4d1a-487b-a7c6-1cb0fc42b866",
   "metadata": {},
   "outputs": [
    {
     "data": {
      "text/plain": [
       "[7, 7, 7, 7, 7]"
      ]
     },
     "execution_count": 93,
     "metadata": {},
     "output_type": "execute_result"
    }
   ],
   "source": [
    "[ 7 for i in range(5)]"
   ]
  },
  {
   "cell_type": "code",
   "execution_count": 94,
   "id": "177a3fb3-656e-4493-a545-cb94b0e5ef9d",
   "metadata": {},
   "outputs": [
    {
     "data": {
      "text/plain": [
       "[0, 1, 2, 3, 4]"
      ]
     },
     "execution_count": 94,
     "metadata": {},
     "output_type": "execute_result"
    }
   ],
   "source": [
    "[ i for i in range(5)]"
   ]
  },
  {
   "cell_type": "code",
   "execution_count": 95,
   "id": "c243caee-a659-48f5-a1c4-52acfa115389",
   "metadata": {},
   "outputs": [
    {
     "data": {
      "text/plain": [
       "[8213, 8765, 2536, 9357, 5586]"
      ]
     },
     "execution_count": 95,
     "metadata": {},
     "output_type": "execute_result"
    }
   ],
   "source": [
    "[random.randint(1000,9999) for i in range(5)]"
   ]
  },
  {
   "cell_type": "code",
   "execution_count": 96,
   "id": "a268cf93-cbe6-42c7-8dfb-facca1aa3e37",
   "metadata": {},
   "outputs": [
    {
     "data": {
      "text/plain": [
       "[2409, 8329, 8951, 4305, 7759]"
      ]
     },
     "execution_count": 96,
     "metadata": {},
     "output_type": "execute_result"
    }
   ],
   "source": [
    "[random.randint(1000,9999)-333 for i in range(5)]"
   ]
  },
  {
   "cell_type": "code",
   "execution_count": 97,
   "id": "52113fb6-e7cd-4870-ad68-bfed2cb6ffbc",
   "metadata": {},
   "outputs": [
    {
     "data": {
      "text/plain": [
       "[6, 7, 8, 9, 10, 34, 33, 32, 31, 30]"
      ]
     },
     "execution_count": 97,
     "metadata": {},
     "output_type": "execute_result"
    }
   ],
   "source": [
    "# Write a function which takes 2 arguments start and end (both included).\n",
    "# Return list with first 5 values and last 5 values and substract 1 from them\n",
    "# for the range of numbers start to end.\n",
    "\n",
    "\n",
    "def task2(start, end):\n",
    "    result = []\n",
    "    for i in range(start, start+5):\n",
    "        result.append(i)\n",
    "#     print(result)\n",
    "    for i in range(end, end - 5, -1):\n",
    "        result.append(i)\n",
    "#     print(result)\n",
    "    for i in range(10):\n",
    "        result[i] = result[i] - 1\n",
    "    return result\n",
    "\n",
    "task2(7, 35)\n"
   ]
  },
  {
   "cell_type": "code",
   "execution_count": 98,
   "id": "1be58756-d767-4cdf-ab43-240f6d4174c8",
   "metadata": {},
   "outputs": [
    {
     "data": {
      "text/plain": [
       "[122, 123, 124, 125, 126, 675, 674, 673, 672, 671]"
      ]
     },
     "execution_count": 98,
     "metadata": {},
     "output_type": "execute_result"
    }
   ],
   "source": [
    "task2(123,676)"
   ]
  },
  {
   "cell_type": "code",
   "execution_count": 99,
   "id": "4f05103e-a371-4c04-96ce-656239eca961",
   "metadata": {},
   "outputs": [
    {
     "data": {
      "text/plain": [
       "[6, 7, 8, 9, 10, 34, 33, 32, 31, 30]"
      ]
     },
     "execution_count": 99,
     "metadata": {},
     "output_type": "execute_result"
    }
   ],
   "source": [
    "# Write a function which takes 2 arguments start and end (both included).\n",
    "# Return list with first 5 values and last 5 values and substract 1\n",
    "# from them for the range of numbers start to end.\n",
    "\n",
    "\n",
    "def task2(start, end):\n",
    "    result = []\n",
    "    for i in range(start, start+5):\n",
    "        result.append(i)\n",
    "#     print(result)\n",
    "    for i in range(end, end - 5, -1):\n",
    "        result.append(i)\n",
    "#     print(result)\n",
    "    return [i-1 for i in result]\n",
    "\n",
    "task2(7, 35)            "
   ]
  },
  {
   "cell_type": "code",
   "execution_count": 56,
   "id": "5dbf162e-b083-4cf9-beeb-adcc58356ca5",
   "metadata": {},
   "outputs": [
    {
     "data": {
      "text/plain": [
       "['Madhya Pradesh', 'uttar pradesh', 'Electoral directorate']"
      ]
     },
     "execution_count": 56,
     "metadata": {},
     "output_type": "execute_result"
    }
   ],
   "source": [
    "fullform = ['Madhya Pradesh', 'uttar pradesh', 'Electoral directorate']\n",
    "fullform"
   ]
  },
  {
   "cell_type": "code",
   "execution_count": 100,
   "id": "258ba64a-dd42-4636-b253-0dd5586869a8",
   "metadata": {},
   "outputs": [
    {
     "data": {
      "text/plain": [
       "['Madhya Pradesh',\n",
       " 'uttar pradesh',\n",
       " 'Electoral directorate',\n",
       " 'central bureau Of investigation']"
      ]
     },
     "execution_count": 100,
     "metadata": {},
     "output_type": "execute_result"
    }
   ],
   "source": [
    "fullform = ['Madhya Pradesh', 'uttar pradesh',\n",
    "            'Electoral directorate',\n",
    "            'central bureau Of investigation']\n",
    "fullform"
   ]
  },
  {
   "cell_type": "code",
   "execution_count": 101,
   "id": "63998155-f940-4e07-a691-7452dd2a153f",
   "metadata": {},
   "outputs": [
    {
     "name": "stdout",
     "output_type": "stream",
     "text": [
      "M.P.\n",
      "U.P.\n",
      "E.D.\n",
      "C.B.I.\n"
     ]
    }
   ],
   "source": [
    "def short_form(variable):\n",
    "    for var in variable:\n",
    "        temp_list = var.split()\n",
    "        for i in temp_list:\n",
    "            if i.lower() != 'of':\n",
    "                print(f'{i[0].upper()}.', end = '')\n",
    "        print()\n",
    "            \n",
    "\n",
    "short_form(fullform)"
   ]
  },
  {
   "cell_type": "code",
   "execution_count": 103,
   "id": "ef0a9d0c-bd8f-4e81-b5a9-89ec06bb35bd",
   "metadata": {},
   "outputs": [
    {
     "data": {
      "text/plain": [
       "['Kohima',\n",
       " 'Bhubaneswar',\n",
       " 'Chandigarh',\n",
       " 'Jaipur',\n",
       " 'Gangtok',\n",
       " 'Chennai',\n",
       " 'Hyderabad',\n",
       " 'Agartala',\n",
       " 'Lucknow',\n",
       " 'Dehradun',\n",
       " 'Kolkata']"
      ]
     },
     "execution_count": 103,
     "metadata": {},
     "output_type": "execute_result"
    }
   ],
   "source": [
    "def first_two_letters(cities):\n",
    "    result = []\n",
    "    for i in cities:\n",
    "        result.append(i[0:2])\n",
    "\n",
    "\n",
    "\n",
    "cities = ['Kohima', 'Bhubaneswar', 'Chandigarh', 'Jaipur',\n",
    "          'Gangtok', 'Chennai', 'Hyderabad',\n",
    "          'Agartala', 'Lucknow', 'Dehradun', 'Kolkata']\n",
    "first_two_letters(cities)\n",
    "cities"
   ]
  },
  {
   "cell_type": "code",
   "execution_count": null,
   "id": "54b79b45-91c5-46b2-8664-1ae6f7d97e67",
   "metadata": {},
   "outputs": [],
   "source": [
    "# output = ['Ko', 'Bh', 'Ch', 'Ja', 'Ga', 'Ch', 'Hy', 'Ag', 'Lu', 'De', 'Ko']"
   ]
  },
  {
   "cell_type": "code",
   "execution_count": 111,
   "id": "a406b69b-1bb0-4ca6-9101-f66545741c0d",
   "metadata": {},
   "outputs": [
    {
     "data": {
      "text/plain": [
       "['Ko', 'Bh', 'Ch', 'Ja', 'Ga', 'Ch', 'Hy', 'Ag', 'Lu', 'De', 'Ko']"
      ]
     },
     "execution_count": 111,
     "metadata": {},
     "output_type": "execute_result"
    }
   ],
   "source": [
    "def first_two_letters(cities):\n",
    "    result = []\n",
    "    for i in cities:\n",
    "        result.append(i[0:2])\n",
    "    return result\n",
    "\n",
    "\n",
    "\n",
    "cities = ['Kohima', 'Bhubaneswar', 'Chandigarh', 'Jaipur',\n",
    "          'Gangtok', 'Chennai', 'Hyderabad',\n",
    "          'Agartala', 'Lucknow', 'Dehradun', 'Kolkata']\n",
    "first_two_letters(cities)"
   ]
  },
  {
   "cell_type": "code",
   "execution_count": 112,
   "id": "90b41dfe-d44a-42b9-9eda-bb430646df3f",
   "metadata": {},
   "outputs": [
    {
     "name": "stdout",
     "output_type": "stream",
     "text": [
      "55\n"
     ]
    }
   ],
   "source": [
    "# write a function to return sum of list elements.\n",
    "def my_sum(variable):\n",
    "    sum1 = 0\n",
    "#     print('In my Function', variable)\n",
    "    for i in variable:\n",
    "        sum1 = sum1 + i\n",
    "    print(sum1)\n",
    "    \n",
    "\n",
    "# list1 = [11,22,33,44,55,66,77,88,99]\n",
    "list1 = [i for i in range(1,11)]\n",
    "my_sum(list1)"
   ]
  },
  {
   "cell_type": "code",
   "execution_count": 114,
   "id": "bb1cc778-e52e-44a7-8e50-e2ed43eab27c",
   "metadata": {},
   "outputs": [
    {
     "ename": "TypeError",
     "evalue": "sum() missing 1 required positional argument: 'num2'",
     "output_type": "error",
     "traceback": [
      "\u001b[0;31m---------------------------------------------------------------------------\u001b[0m",
      "\u001b[0;31mTypeError\u001b[0m                                 Traceback (most recent call last)",
      "Cell \u001b[0;32mIn[114], line 7\u001b[0m\n\u001b[1;32m      5\u001b[0m \u001b[38;5;66;03m# list1 = [11,22,33,44,55,66,77,88,99]\u001b[39;00m\n\u001b[1;32m      6\u001b[0m list1 \u001b[38;5;241m=\u001b[39m [i \u001b[38;5;28;01mfor\u001b[39;00m i \u001b[38;5;129;01min\u001b[39;00m \u001b[38;5;28mrange\u001b[39m(\u001b[38;5;241m1\u001b[39m,\u001b[38;5;241m11\u001b[39m)]\n\u001b[0;32m----> 7\u001b[0m \u001b[38;5;28mprint\u001b[39m(\u001b[43mmy_sum\u001b[49m\u001b[43m(\u001b[49m\u001b[43mlist1\u001b[49m\u001b[43m)\u001b[49m)\n",
      "Cell \u001b[0;32mIn[114], line 3\u001b[0m, in \u001b[0;36mmy_sum\u001b[0;34m(variable)\u001b[0m\n\u001b[1;32m      2\u001b[0m \u001b[38;5;28;01mdef\u001b[39;00m \u001b[38;5;21mmy_sum\u001b[39m(variable):\n\u001b[0;32m----> 3\u001b[0m     \u001b[38;5;28;01mreturn\u001b[39;00m \u001b[38;5;28;43msum\u001b[39;49m\u001b[43m(\u001b[49m\u001b[43mvariable\u001b[49m\u001b[43m)\u001b[49m\n",
      "\u001b[0;31mTypeError\u001b[0m: sum() missing 1 required positional argument: 'num2'"
     ]
    }
   ],
   "source": [
    "# write a function to return sum of list elements.\n",
    "def my_sum(variable):\n",
    "    return sum(variable)\n",
    "    \n",
    "# list1 = [11,22,33,44,55,66,77,88,99]\n",
    "list1 = [i for i in range(1,11)]\n",
    "print(my_sum(list1))\n",
    "\n"
   ]
  },
  {
   "cell_type": "code",
   "execution_count": null,
   "id": "6d1b0566-9488-4520-af4f-577d50ed1abe",
   "metadata": {},
   "outputs": [],
   "source": [
    "# list1 = [111,222,333,444,555,666,777,888,999]\n",
    "result = []\n",
    "for i in range(1,10):\n",
    "    result.append(triplet(i))\n",
    "result"
   ]
  },
  {
   "cell_type": "code",
   "execution_count": null,
   "id": "147d91aa-ec69-4b6c-9e9a-6fcfcd39b13c",
   "metadata": {},
   "outputs": [],
   "source": [
    "[var*111 for var in range(1,10)]"
   ]
  },
  {
   "cell_type": "code",
   "execution_count": null,
   "id": "87f920bf-b482-433f-995f-423582e58da2",
   "metadata": {},
   "outputs": [],
   "source": [
    "def hectic_task():\n",
    "    return [var*111 for var in range(1,10)]\n",
    "hectic_task()"
   ]
  },
  {
   "cell_type": "code",
   "execution_count": null,
   "id": "3b3db90c-aa3e-4dde-8d23-bc5fc871c6c4",
   "metadata": {},
   "outputs": [],
   "source": [
    "def hectic_task():\n",
    "    return [triplet(var) for var in range(1,10)]\n",
    "hectic_task()"
   ]
  },
  {
   "cell_type": "code",
   "execution_count": 115,
   "id": "3f8d1d48-aec7-4141-bde6-8be879951623",
   "metadata": {},
   "outputs": [],
   "source": [
    "def triplet(num):\n",
    "    return num*111"
   ]
  },
  {
   "cell_type": "code",
   "execution_count": 116,
   "id": "d0113201-baa4-4102-a356-0e836682913c",
   "metadata": {},
   "outputs": [
    {
     "data": {
      "text/plain": [
       "222"
      ]
     },
     "execution_count": 116,
     "metadata": {},
     "output_type": "execute_result"
    }
   ],
   "source": [
    "triplet(2)"
   ]
  },
  {
   "cell_type": "code",
   "execution_count": 117,
   "id": "f42560a2-fe51-420a-b440-f79ac7dd0f68",
   "metadata": {},
   "outputs": [
    {
     "data": {
      "text/plain": [
       "666"
      ]
     },
     "execution_count": 117,
     "metadata": {},
     "output_type": "execute_result"
    }
   ],
   "source": [
    "triplet(6)"
   ]
  },
  {
   "cell_type": "code",
   "execution_count": 118,
   "id": "58c79ebc-7aef-4411-aa43-7200ad703253",
   "metadata": {},
   "outputs": [
    {
     "data": {
      "text/plain": [
       "[111, 222, 333, 444, 555, 666, 777, 888, 999]"
      ]
     },
     "execution_count": 118,
     "metadata": {},
     "output_type": "execute_result"
    }
   ],
   "source": [
    "def hectic_task_modified():\n",
    "    return [triplet_modified(var) for var in range(1,10)]\n",
    "\n",
    "def triplet_modified(num):\n",
    "    return num*111\n",
    "\n",
    "hectic_task_modified()"
   ]
  },
  {
   "cell_type": "code",
   "execution_count": 119,
   "id": "55126426-509b-43c1-9602-027a61b83062",
   "metadata": {},
   "outputs": [
    {
     "data": {
      "text/plain": [
       "[111, 222, 333, 444, 555, 666, 777, 888, 999]"
      ]
     },
     "execution_count": 119,
     "metadata": {},
     "output_type": "execute_result"
    }
   ],
   "source": [
    "def hectic_task_modified():\n",
    "    return [triplet_modified(var) for var in range(1,10)]\n",
    "\n",
    "def triplet_modified(num):\n",
    "    return num*111\n",
    "\n",
    "hectic_task_modified()"
   ]
  },
  {
   "cell_type": "code",
   "execution_count": 120,
   "id": "13628aa7-d4e9-4665-a48d-05ad81be3da4",
   "metadata": {},
   "outputs": [
    {
     "name": "stdin",
     "output_type": "stream",
     "text": [
      "Enter number 12\n"
     ]
    },
    {
     "name": "stdout",
     "output_type": "stream",
     "text": [
      "12 * 1 = 12\n",
      "12 * 2 = 24\n",
      "12 * 3 = 36\n",
      "12 * 4 = 48\n",
      "12 * 5 = 60\n",
      "12 * 6 = 72\n",
      "12 * 7 = 84\n",
      "12 * 8 = 96\n",
      "12 * 9 = 108\n",
      "12 * 10 = 120\n"
     ]
    }
   ],
   "source": [
    "def table(num):\n",
    "    for i in range(1, 11):\n",
    "        print(f'{num} * {i} = {num*i}')\n",
    "#     print(f'{num} * 2 = {num*2}')\n",
    "#     print(f'{num} * 3 = {num*3}')\n",
    "\n",
    "var = input('Enter number')\n",
    "table(int(var))"
   ]
  },
  {
   "cell_type": "code",
   "execution_count": 105,
   "id": "604a1b85-4a8d-4b85-b4ea-c94e8226ad13",
   "metadata": {},
   "outputs": [
    {
     "name": "stdout",
     "output_type": "stream",
     "text": [
      "4 * 1 = 4\n",
      "4 * 2 = 8\n",
      "4 * 3 = 12\n",
      "4 * 4 = 16\n",
      "4 * 5 = 20\n",
      "4 * 6 = 24\n",
      "4 * 7 = 28\n",
      "4 * 8 = 32\n",
      "4 * 9 = 36\n",
      "4 * 10 = 40\n"
     ]
    }
   ],
   "source": [
    "def table(num):\n",
    "    for i in range(1, 11):\n",
    "        print(f'{num} * {i} = {num*i}')\n",
    "table(4)"
   ]
  },
  {
   "cell_type": "code",
   "execution_count": 106,
   "id": "4a2052eb-ab30-4278-a7f8-5ab317d548b2",
   "metadata": {},
   "outputs": [
    {
     "name": "stdin",
     "output_type": "stream",
     "text": [
      "Enter number 5\n"
     ]
    },
    {
     "name": "stdout",
     "output_type": "stream",
     "text": [
      "5 * 1 = 5\n",
      "5 * 2 = 10\n",
      "5 * 3 = 15\n",
      "5 * 4 = 20\n",
      "5 * 5 = 25\n",
      "5 * 6 = 30\n",
      "5 * 7 = 35\n",
      "5 * 8 = 40\n",
      "5 * 9 = 45\n",
      "5 * 10 = 50\n"
     ]
    }
   ],
   "source": [
    "def table(num):\n",
    "    for i in range(1, 11):\n",
    "        print(f'{num} * {i} = {num*i}')\n",
    "var = input('Enter number')\n",
    "table(int(var))"
   ]
  },
  {
   "cell_type": "code",
   "execution_count": 121,
   "id": "d0ee30f1-ef93-4715-8911-564d8a85280a",
   "metadata": {},
   "outputs": [
    {
     "name": "stdout",
     "output_type": "stream",
     "text": [
      "120\n"
     ]
    }
   ],
   "source": [
    "# write a function to return product of list elements.\n",
    "def my_product(variable):\n",
    "    product1 = 1\n",
    "#     print('In my Function', variable)\n",
    "    for i in variable:\n",
    "        product1 = product1 * i\n",
    "    print(product1)    \n",
    "\n",
    "# list1 = [11,22,33,44,55,66,77,88,99]\n",
    "list1 = [i for i in range(1,6)]\n",
    "# print(list1)\n",
    "my_product(list1)"
   ]
  },
  {
   "cell_type": "code",
   "execution_count": 122,
   "id": "831eaadf-3698-4200-8a80-dc28661fc5a6",
   "metadata": {},
   "outputs": [
    {
     "name": "stdout",
     "output_type": "stream",
     "text": [
      "120\n"
     ]
    }
   ],
   "source": [
    "# write a function to return product of list elements.\n",
    "def factorial(num):\n",
    "    product1 = 1\n",
    "    list1 = [i for i in range(1,num+1)]\n",
    "    for i in list1:\n",
    "        product1 = product1 * i\n",
    "    print(product1)    \n",
    "\n",
    "\n",
    "factorial(5)"
   ]
  },
  {
   "cell_type": "code",
   "execution_count": 110,
   "id": "e8149b47-b5e9-41da-b497-f801d7c90e06",
   "metadata": {},
   "outputs": [
    {
     "name": "stdout",
     "output_type": "stream",
     "text": [
      "11 55\n"
     ]
    }
   ],
   "source": [
    "#swap\n",
    "a,b = 11,55\n",
    "print(a,b)"
   ]
  },
  {
   "cell_type": "code",
   "execution_count": 109,
   "id": "3eae8f59-1d46-4949-b201-ab64aac57d40",
   "metadata": {},
   "outputs": [
    {
     "name": "stdout",
     "output_type": "stream",
     "text": [
      "11 55\n"
     ]
    }
   ],
   "source": [
    "#swap\n",
    "a,b = b,a\n",
    "print(a,b)"
   ]
  },
  {
   "cell_type": "code",
   "execution_count": 123,
   "id": "291cf52f-3ed4-440c-82f8-c9e0c3f42551",
   "metadata": {},
   "outputs": [
    {
     "name": "stdout",
     "output_type": "stream",
     "text": [
      "before swap a = 11, b = 55\n",
      "after swap  a = 55, b = 11\n"
     ]
    }
   ],
   "source": [
    "print(f'before swap a = {a}, b = {b}')\n",
    "a, b = b, a\n",
    "print(f'after swap  a = {a}, b = {b}')"
   ]
  },
  {
   "cell_type": "code",
   "execution_count": 124,
   "id": "589fe403-85ce-44a8-a02f-9425fb031c0c",
   "metadata": {},
   "outputs": [
    {
     "name": "stdout",
     "output_type": "stream",
     "text": [
      "before swap a = 11, b = 55\n",
      "after swap  a = 55, b = 11\n"
     ]
    }
   ],
   "source": [
    "a,b = 11,55\n",
    "print(f'before swap a = {a}, b = {b}')\n",
    "temp = a\n",
    "a, b = b, a\n",
    "print(f'after swap  a = {a}, b = {b}')"
   ]
  },
  {
   "cell_type": "code",
   "execution_count": 125,
   "id": "f0766862-df54-41b1-8f1f-45f86b290d8b",
   "metadata": {},
   "outputs": [
    {
     "name": "stdout",
     "output_type": "stream",
     "text": [
      "before swap a = 11, b = 55\n",
      "after swap  a = 55, b = 11\n"
     ]
    }
   ],
   "source": [
    "a,b = 11,55\n",
    "print(f'before swap a = {a}, b = {b}')\n",
    "temp = a\n",
    "a = b\n",
    "b = temp\n",
    "print(f'after swap  a = {a}, b = {b}')"
   ]
  },
  {
   "cell_type": "code",
   "execution_count": null,
   "id": "5950b7c3-9270-40f4-91cd-a6e5d041f2d8",
   "metadata": {},
   "outputs": [],
   "source": [
    "a,b = 11,55\n",
    "print(f'before swap a = {a}, b = {b}')\n",
    "temp = a\n",
    "a = b\n",
    "b = temp\n",
    "print(f'after swap  a = {a}, b = {b}')"
   ]
  },
  {
   "cell_type": "code",
   "execution_count": 126,
   "id": "d199d4d9-6e1d-421c-9b95-15e5283f1a2d",
   "metadata": {},
   "outputs": [
    {
     "name": "stdout",
     "output_type": "stream",
     "text": [
      "before swap a = 11, b = 55\n",
      "after swap  a = 55, b = 11\n"
     ]
    }
   ],
   "source": [
    "a,b = 11,55\n",
    "print(f'before swap a = {a}, b = {b}')\n",
    "a = a + b\n",
    "b = a - b\n",
    "a = a - b\n",
    "print(f'after swap  a = {a}, b = {b}')"
   ]
  },
  {
   "cell_type": "code",
   "execution_count": 127,
   "id": "07cd3cdd-8566-43c2-8d0a-93dbc5f687a8",
   "metadata": {},
   "outputs": [
    {
     "name": "stdout",
     "output_type": "stream",
     "text": [
      "Abc. xyz.\n",
      "Abc, xyz,\n"
     ]
    }
   ],
   "source": [
    "string = 'Abc, xyz.'\n",
    "string = string.replace(',', '.')\n",
    "print(string)\n",
    "string = string.replace('.',',')\n",
    "print(string)"
   ]
  },
  {
   "cell_type": "code",
   "execution_count": 128,
   "id": "12b61442-531d-43d3-96ab-7ba676309a0d",
   "metadata": {},
   "outputs": [
    {
     "name": "stdout",
     "output_type": "stream",
     "text": [
      "Abc. xyz,\n"
     ]
    }
   ],
   "source": [
    "string = 'Abc, xyz.'\n",
    "strange_string = 'Himalayas'\n",
    "string = string.replace(',', strange_string)\n",
    "# print(string)\n",
    "string = string.replace('.', ',')\n",
    "# print(string)\n",
    "string = string.replace(strange_string, '.')\n",
    "print(string)"
   ]
  },
  {
   "cell_type": "code",
   "execution_count": 129,
   "id": "e10e0955-c7c1-4a0c-88dc-f33be0758b5d",
   "metadata": {},
   "outputs": [
    {
     "name": "stdout",
     "output_type": "stream",
     "text": [
      "before swap-> Abc, xyz.\n",
      "after swap->  Abc. xyz,\n"
     ]
    }
   ],
   "source": [
    "def swap_dot_comma(string):\n",
    "    print('before swap->', string)\n",
    "    strange_string = 'HHH'\n",
    "    string = string.replace(',', strange_string)\n",
    "    # print(string)\n",
    "    string = string.replace('.', ',')\n",
    "    # print(string)\n",
    "    string = string.replace(strange_string, '.')\n",
    "    print('after swap-> ', string)\n",
    "    \n",
    "swap_dot_comma('Abc, xyz.')"
   ]
  },
  {
   "cell_type": "code",
   "execution_count": null,
   "id": "8a3eda54-5975-4d12-a8e5-cafe11f40e55",
   "metadata": {},
   "outputs": [],
   "source": []
  }
 ],
 "metadata": {
  "kernelspec": {
   "display_name": "Python 3 (ipykernel)",
   "language": "python",
   "name": "python3"
  },
  "language_info": {
   "codemirror_mode": {
    "name": "ipython",
    "version": 3
   },
   "file_extension": ".py",
   "mimetype": "text/x-python",
   "name": "python",
   "nbconvert_exporter": "python",
   "pygments_lexer": "ipython3",
   "version": "3.10.12"
  }
 },
 "nbformat": 4,
 "nbformat_minor": 5
}
