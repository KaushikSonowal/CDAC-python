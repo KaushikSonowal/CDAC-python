{
 "cells": [
  {
   "cell_type": "code",
   "execution_count": 1,
   "id": "37e7cfb4-3741-4026-8203-475d9c3c8390",
   "metadata": {},
   "outputs": [
    {
     "name": "stdout",
     "output_type": "stream",
     "text": [
      "131365345706512\n",
      "131365345706832\n"
     ]
    }
   ],
   "source": [
    "a = 10\n",
    "print(id(10))\n",
    "a = 20\n",
    "print(id(a))"
   ]
  },
  {
   "cell_type": "code",
   "execution_count": 2,
   "id": "3abbd6c6-160d-4226-a992-61fd9ede2fb7",
   "metadata": {},
   "outputs": [
    {
     "name": "stdout",
     "output_type": "stream",
     "text": [
      "131365345706512\n",
      "131365345706512\n"
     ]
    }
   ],
   "source": [
    "a = 10\n",
    "print(id(10))\n",
    "b = 10\n",
    "print(id(b))"
   ]
  },
  {
   "cell_type": "markdown",
   "id": "686365b1-db26-4629-80e4-ebdefea1b2b4",
   "metadata": {},
   "source": [
    "### Mutable & Immutable\n"
   ]
  },
  {
   "cell_type": "code",
   "execution_count": null,
   "id": "2c475c62-58d1-45ad-bcff-e635048490d1",
   "metadata": {},
   "outputs": [],
   "source": [
    "Mutable   - can change values in variable\n",
    "Immutable - cannot do changes in variable but can assign\n",
    "            to new values"
   ]
  },
  {
   "cell_type": "code",
   "execution_count": null,
   "id": "09b43c7a-e8ef-4728-b3d0-de941516117f",
   "metadata": {},
   "outputs": [],
   "source": [
    "Mutable\n",
    "    - can edit values\n",
    "    - consumes more memory\n",
    "    - slower than immutable\n",
    "    - contains more functions than immutables\n",
    "    - inefficient"
   ]
  },
  {
   "cell_type": "code",
   "execution_count": null,
   "id": "7cab0263-7b21-45e1-a1fe-649a381be282",
   "metadata": {},
   "outputs": [],
   "source": [
    "Immutable\n",
    "    - can not edit values\n",
    "    - consumes less memory\n",
    "    - faster than mutable\n",
    "    - contains less functions than mutables\n",
    "    - efficient"
   ]
  }
 ],
 "metadata": {
  "kernelspec": {
   "display_name": "Python 3 (ipykernel)",
   "language": "python",
   "name": "python3"
  },
  "language_info": {
   "codemirror_mode": {
    "name": "ipython",
    "version": 3
   },
   "file_extension": ".py",
   "mimetype": "text/x-python",
   "name": "python",
   "nbconvert_exporter": "python",
   "pygments_lexer": "ipython3",
   "version": "3.10.12"
  }
 },
 "nbformat": 4,
 "nbformat_minor": 5
}
