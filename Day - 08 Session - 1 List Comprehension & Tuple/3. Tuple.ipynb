{
 "cells": [
  {
   "cell_type": "code",
   "execution_count": null,
   "id": "15305a84-9ef3-4ce4-8b16-a8368619c483",
   "metadata": {},
   "outputs": [],
   "source": [
    "syntax\n",
    "tup1 = (value1, value2, .........)\n",
    "\n",
    "     - comma separated value\n",
    "     - enclosed within round bracket ()\n",
    "     - Immutable\n",
    "     - Heterogenous\n",
    "     - Ordered\n",
    "     - can contain duplicates\n",
    "     - Iterable"
   ]
  },
  {
   "cell_type": "markdown",
   "id": "421ec666-f96a-46cc-9ec4-2c2e199dc5ac",
   "metadata": {},
   "source": [
    "## Assign values to tuples\n",
    "\n",
    "### empty tuple"
   ]
  },
  {
   "cell_type": "code",
   "execution_count": 4,
   "id": "f6343fdc-ef98-40b1-a808-67358b2fb666",
   "metadata": {},
   "outputs": [
    {
     "data": {
      "text/plain": [
       "()"
      ]
     },
     "execution_count": 4,
     "metadata": {},
     "output_type": "execute_result"
    }
   ],
   "source": [
    "tup1 = ()\n",
    "tup1"
   ]
  },
  {
   "cell_type": "code",
   "execution_count": 5,
   "id": "c7924cb7-2511-4701-80a1-4ef96da8accd",
   "metadata": {},
   "outputs": [
    {
     "data": {
      "text/plain": [
       "()"
      ]
     },
     "execution_count": 5,
     "metadata": {},
     "output_type": "execute_result"
    }
   ],
   "source": [
    "tup2 = tuple()\n",
    "tup2"
   ]
  },
  {
   "cell_type": "markdown",
   "id": "14fa0d65-d6d0-4dc5-a1fa-949189286ffe",
   "metadata": {},
   "source": [
    "### assign values"
   ]
  },
  {
   "cell_type": "code",
   "execution_count": 7,
   "id": "f97d2e20-b41a-49ab-9489-55dc048bff42",
   "metadata": {},
   "outputs": [
    {
     "data": {
      "text/plain": [
       "(1, 2, 3, 4)"
      ]
     },
     "execution_count": 7,
     "metadata": {},
     "output_type": "execute_result"
    }
   ],
   "source": [
    "tup3 = (1, 2, 3, 4)\n",
    "tup3"
   ]
  },
  {
   "cell_type": "code",
   "execution_count": 8,
   "id": "51865d35-991e-47a6-9082-08a0087f9c8c",
   "metadata": {},
   "outputs": [
    {
     "data": {
      "text/plain": [
       "int"
      ]
     },
     "execution_count": 8,
     "metadata": {},
     "output_type": "execute_result"
    }
   ],
   "source": [
    "tup4 = (3)\n",
    "type(tup4)"
   ]
  },
  {
   "cell_type": "code",
   "execution_count": 9,
   "id": "e3ad9b9b-2ae7-4754-8bbd-bbfd167a6bf4",
   "metadata": {},
   "outputs": [
    {
     "data": {
      "text/plain": [
       "(1, 2, 3, 4, 5)"
      ]
     },
     "execution_count": 9,
     "metadata": {},
     "output_type": "execute_result"
    }
   ],
   "source": [
    "tup4 = tuple((1, 2, 3, 4, 5))\n",
    "tup4"
   ]
  },
  {
   "cell_type": "code",
   "execution_count": 12,
   "id": "71b493fc-f7cf-4c80-8777-c33c22bb00af",
   "metadata": {},
   "outputs": [],
   "source": [
    "tup5 = tuple((1,))"
   ]
  },
  {
   "cell_type": "code",
   "execution_count": 13,
   "id": "8153d5ac-eaa2-4824-8af6-0e29a93b6c35",
   "metadata": {},
   "outputs": [
    {
     "data": {
      "text/plain": [
       "int"
      ]
     },
     "execution_count": 13,
     "metadata": {},
     "output_type": "execute_result"
    }
   ],
   "source": [
    "tup4 = (3)\n",
    "type(tup4)"
   ]
  },
  {
   "cell_type": "code",
   "execution_count": 15,
   "id": "088769e3-90f9-45bb-abd3-76298427a5b8",
   "metadata": {},
   "outputs": [
    {
     "data": {
      "text/plain": [
       "tuple"
      ]
     },
     "execution_count": 15,
     "metadata": {},
     "output_type": "execute_result"
    }
   ],
   "source": [
    "tup4 = (3,)\n",
    "type(tup4)"
   ]
  },
  {
   "cell_type": "code",
   "execution_count": 16,
   "id": "ffc8cdd0-5572-476d-b4d8-87856733e10e",
   "metadata": {},
   "outputs": [
    {
     "name": "stdout",
     "output_type": "stream",
     "text": [
      "<class 'int'>\n"
     ]
    },
    {
     "ename": "TypeError",
     "evalue": "'int' object is not iterable",
     "output_type": "error",
     "traceback": [
      "\u001b[0;31m---------------------------------------------------------------------------\u001b[0m",
      "\u001b[0;31mTypeError\u001b[0m                                 Traceback (most recent call last)",
      "Cell \u001b[0;32mIn[16], line 3\u001b[0m\n\u001b[1;32m      1\u001b[0m tup4 \u001b[38;5;241m=\u001b[39m (\u001b[38;5;241m3\u001b[39m)\n\u001b[1;32m      2\u001b[0m \u001b[38;5;28mprint\u001b[39m(\u001b[38;5;28mtype\u001b[39m(tup4))\n\u001b[0;32m----> 3\u001b[0m tup5 \u001b[38;5;241m=\u001b[39m \u001b[38;5;28;43mtuple\u001b[39;49m\u001b[43m(\u001b[49m\u001b[43mtup4\u001b[49m\u001b[43m)\u001b[49m \n\u001b[1;32m      4\u001b[0m \u001b[38;5;28mtype\u001b[39m(tup5)\n",
      "\u001b[0;31mTypeError\u001b[0m: 'int' object is not iterable"
     ]
    }
   ],
   "source": [
    "tup4 = (3)\n",
    "print(type(tup4))\n",
    "tup5 = tuple(tup4) \n",
    "type(tup5)"
   ]
  },
  {
   "cell_type": "code",
   "execution_count": 17,
   "id": "6a593682-8bdd-45c1-aad6-9d0019126cd5",
   "metadata": {},
   "outputs": [
    {
     "ename": "TypeError",
     "evalue": "tuple expected at most 1 argument, got 5",
     "output_type": "error",
     "traceback": [
      "\u001b[0;31m---------------------------------------------------------------------------\u001b[0m",
      "\u001b[0;31mTypeError\u001b[0m                                 Traceback (most recent call last)",
      "Cell \u001b[0;32mIn[17], line 1\u001b[0m\n\u001b[0;32m----> 1\u001b[0m tup6 \u001b[38;5;241m=\u001b[39m \u001b[38;5;28;43mtuple\u001b[39;49m\u001b[43m(\u001b[49m\u001b[38;5;241;43m1\u001b[39;49m\u001b[43m,\u001b[49m\u001b[38;5;241;43m2\u001b[39;49m\u001b[43m,\u001b[49m\u001b[38;5;241;43m3\u001b[39;49m\u001b[43m,\u001b[49m\u001b[38;5;241;43m4\u001b[39;49m\u001b[43m,\u001b[49m\u001b[38;5;241;43m5\u001b[39;49m\u001b[43m)\u001b[49m\n",
      "\u001b[0;31mTypeError\u001b[0m: tuple expected at most 1 argument, got 5"
     ]
    }
   ],
   "source": [
    "tup6 = tuple(1,2,3,4,5)"
   ]
  },
  {
   "cell_type": "code",
   "execution_count": 18,
   "id": "3918a94b-b8da-46b5-9228-046bd1a1f345",
   "metadata": {},
   "outputs": [],
   "source": [
    "tup6 = tuple(   (1,2,3,4,5)    )"
   ]
  },
  {
   "cell_type": "code",
   "execution_count": 19,
   "id": "95efcac0-911b-443a-acb3-ebc1e3c29cd8",
   "metadata": {},
   "outputs": [],
   "source": [
    "tup6 = tuple(   [1,2,3,4,5]    )"
   ]
  },
  {
   "cell_type": "code",
   "execution_count": 20,
   "id": "b9ef64b9-1d3c-4fa3-abc8-1e954afda9d7",
   "metadata": {},
   "outputs": [
    {
     "name": "stdout",
     "output_type": "stream",
     "text": [
      "(1, 2, 3, 4, 5)\n"
     ]
    }
   ],
   "source": [
    "print(tup6)"
   ]
  },
  {
   "cell_type": "code",
   "execution_count": 21,
   "id": "6ca7bc20-939f-4c01-9f3e-7aa78027b630",
   "metadata": {},
   "outputs": [
    {
     "name": "stdout",
     "output_type": "stream",
     "text": [
      "[0, 1, 2, 3, 4, 5, 6, 7, 8]\n",
      "(0, 1, 2, 3, 4, 5, 6, 7, 8)\n"
     ]
    }
   ],
   "source": [
    "list1 = [i for i in range(9)]\n",
    "print(list1)\n",
    "tup1 = tuple(list1)\n",
    "print(tup1)"
   ]
  },
  {
   "cell_type": "code",
   "execution_count": 22,
   "id": "ba3ea8c1-95ff-4bd0-b8d0-02b2aaf2297f",
   "metadata": {},
   "outputs": [
    {
     "data": {
      "text/plain": [
       "tuple"
      ]
     },
     "execution_count": 22,
     "metadata": {},
     "output_type": "execute_result"
    }
   ],
   "source": [
    "##############################################################\n",
    "tup1 = (i for i in range(9))\n",
    "tup1 = tuple(tup1)\n",
    "type(tup1)\n",
    "##############################################################"
   ]
  },
  {
   "cell_type": "code",
   "execution_count": 23,
   "id": "31b532bd-49fe-4eae-b611-19a9880c4a7c",
   "metadata": {},
   "outputs": [
    {
     "name": "stdout",
     "output_type": "stream",
     "text": [
      "<class 'float'>\n"
     ]
    }
   ],
   "source": [
    "f = 3.14\n",
    "print(type(f))"
   ]
  },
  {
   "cell_type": "code",
   "execution_count": 24,
   "id": "45edb935-1ebf-4a55-8683-cb2cd4f40f72",
   "metadata": {},
   "outputs": [
    {
     "name": "stdout",
     "output_type": "stream",
     "text": [
      "<class 'int'>\n"
     ]
    }
   ],
   "source": [
    "z = int(f)\n",
    "print(type(z))"
   ]
  },
  {
   "cell_type": "code",
   "execution_count": 25,
   "id": "cfa57981-c242-4b43-903f-25e05d9cce58",
   "metadata": {},
   "outputs": [
    {
     "name": "stdout",
     "output_type": "stream",
     "text": [
      "<class 'list'>\n"
     ]
    },
    {
     "data": {
      "text/plain": [
       "[0, 1, 2, 3, 4, 5, 6, 7, 8]"
      ]
     },
     "execution_count": 25,
     "metadata": {},
     "output_type": "execute_result"
    }
   ],
   "source": [
    "tuple1 = (0, 1, 2, 3, 4, 5, 6, 7, 8)\n",
    "list1 = list(tuple1)\n",
    "print(type(list1))\n",
    "list1"
   ]
  },
  {
   "cell_type": "code",
   "execution_count": 26,
   "id": "475f20d9-a4e8-4b50-a3c2-2a1cb4af4bdc",
   "metadata": {},
   "outputs": [
    {
     "name": "stdout",
     "output_type": "stream",
     "text": [
      "('Kolkata', 'Chennai', 'Bhopal')\n"
     ]
    }
   ],
   "source": [
    "cities = ('Kolkata', 'Chennai', 'Bhopal')\n",
    "print(cities)"
   ]
  },
  {
   "cell_type": "code",
   "execution_count": 27,
   "id": "ee34d0af-22ef-4973-a597-600ed338ee3e",
   "metadata": {},
   "outputs": [
    {
     "data": {
      "text/plain": [
       "['Kolkata', 'Chennai', 'Bhopal']"
      ]
     },
     "execution_count": 27,
     "metadata": {},
     "output_type": "execute_result"
    }
   ],
   "source": [
    "city_list = list(cities)\n",
    "city_list"
   ]
  },
  {
   "cell_type": "code",
   "execution_count": 28,
   "id": "b9e25b77-d302-41b4-aeea-816c8654a02e",
   "metadata": {},
   "outputs": [],
   "source": [
    "tuple1 = (1, 3.55, 'ABC', 3+4j) # heterogenous data types"
   ]
  },
  {
   "cell_type": "code",
   "execution_count": 29,
   "id": "9ab1345d-e195-4c7b-a08e-1bc2e2fbe886",
   "metadata": {},
   "outputs": [
    {
     "data": {
      "text/plain": [
       "(1, 3.55, 'ABC', (3+4j))"
      ]
     },
     "execution_count": 29,
     "metadata": {},
     "output_type": "execute_result"
    }
   ],
   "source": [
    "tuple1"
   ]
  },
  {
   "cell_type": "code",
   "execution_count": 30,
   "id": "8115afae-59ce-4359-8b4b-849cfb7654e5",
   "metadata": {},
   "outputs": [
    {
     "name": "stdout",
     "output_type": "stream",
     "text": [
      "1\n",
      "3.55\n",
      "ABC\n",
      "(3+4j)\n"
     ]
    }
   ],
   "source": [
    "for i in tuple1:\n",
    "    print(i)"
   ]
  },
  {
   "cell_type": "code",
   "execution_count": 31,
   "id": "50f7f81c-b39d-48f7-835a-db9487c4f957",
   "metadata": {},
   "outputs": [
    {
     "name": "stdout",
     "output_type": "stream",
     "text": [
      "1\n",
      "3.55\n",
      "ABC\n",
      "(3+4j)\n"
     ]
    }
   ],
   "source": [
    "for var in tuple1:\n",
    "    print(var)"
   ]
  },
  {
   "cell_type": "code",
   "execution_count": 32,
   "id": "f06da196-6ba5-48fb-9601-15903aeb9459",
   "metadata": {},
   "outputs": [
    {
     "name": "stdout",
     "output_type": "stream",
     "text": [
      "1 3.55 ABC (3+4j) "
     ]
    }
   ],
   "source": [
    "for i in range(len(tuple1)):\n",
    "    print(tuple1[i], end = ' ')"
   ]
  },
  {
   "cell_type": "code",
   "execution_count": 33,
   "id": "3c69ff6a-2054-4216-8386-5ec18982d76b",
   "metadata": {},
   "outputs": [
    {
     "name": "stdout",
     "output_type": "stream",
     "text": [
      "[1, 2, 3, 4, 5, 6, 7, 8, 9, 10]\n",
      "(1, 2, 3, 4, 5, 6, 7, 8, 9, 10)\n"
     ]
    }
   ],
   "source": [
    "import sys\n",
    "l = [1,2,3,4,5,6,7,8,9,10]\n",
    "t = (1,2,3,4,5,6,7,8,9,10)\n",
    "print(l)\n",
    "print(t)"
   ]
  },
  {
   "cell_type": "code",
   "execution_count": 35,
   "id": "11282dd0-0795-4e0a-a09f-da9f66d621f2",
   "metadata": {},
   "outputs": [
    {
     "name": "stdout",
     "output_type": "stream",
     "text": [
      "list size = 136\n",
      "tuple size = 120\n"
     ]
    }
   ],
   "source": [
    "print('list size =', sys.getsizeof(l))\n",
    "print('tuple size =', sys.getsizeof(t))"
   ]
  },
  {
   "cell_type": "markdown",
   "id": "3ebbbea2-4afb-4460-b25c-174b8558eb0f",
   "metadata": {},
   "source": [
    "## tuple functions\n",
    "### index()"
   ]
  },
  {
   "cell_type": "code",
   "execution_count": null,
   "id": "5ff3b2fb-559c-432e-b8f5-6fb240466ae9",
   "metadata": {},
   "outputs": [],
   "source": [
    "tupleObj.index()"
   ]
  },
  {
   "cell_type": "code",
   "execution_count": 36,
   "id": "d45fe4ab-4001-4cb1-9894-31b42ea64f88",
   "metadata": {},
   "outputs": [
    {
     "data": {
      "text/plain": [
       "2"
      ]
     },
     "execution_count": 36,
     "metadata": {},
     "output_type": "execute_result"
    }
   ],
   "source": [
    "tup = (1,2,3,4,5,6,7)\n",
    "tup.index(3)"
   ]
  },
  {
   "cell_type": "code",
   "execution_count": 37,
   "id": "6334c44c-5de1-455c-8153-8480f5c2aafe",
   "metadata": {},
   "outputs": [
    {
     "data": {
      "text/plain": [
       "1"
      ]
     },
     "execution_count": 37,
     "metadata": {},
     "output_type": "execute_result"
    }
   ],
   "source": [
    "fruits = ('Apple', 'Orange', 'Banana', 'Grapes')\n",
    "fruits.index('Orange')"
   ]
  },
  {
   "cell_type": "markdown",
   "id": "64c9eded-242c-4b62-8477-f798df82a1de",
   "metadata": {},
   "source": [
    "### count()"
   ]
  },
  {
   "cell_type": "code",
   "execution_count": 38,
   "id": "4645bb29-6210-4474-ad0b-3ed57301adee",
   "metadata": {},
   "outputs": [
    {
     "data": {
      "text/plain": [
       "3"
      ]
     },
     "execution_count": 38,
     "metadata": {},
     "output_type": "execute_result"
    }
   ],
   "source": [
    "numbers = [3,7,3,5,3,9,2,7,0,4]\n",
    "numbers.count(3)"
   ]
  },
  {
   "cell_type": "code",
   "execution_count": 39,
   "id": "c4310133-ce28-4a75-9879-ca224b18d19d",
   "metadata": {},
   "outputs": [
    {
     "data": {
      "text/plain": [
       "2"
      ]
     },
     "execution_count": 39,
     "metadata": {},
     "output_type": "execute_result"
    }
   ],
   "source": [
    "numbers.count(7)"
   ]
  },
  {
   "cell_type": "markdown",
   "id": "78da1f17-8178-4c25-ad16-b26f0516fdf1",
   "metadata": {},
   "source": [
    "### len()"
   ]
  },
  {
   "cell_type": "code",
   "execution_count": 40,
   "id": "dc164a37-6723-4b68-a6db-7b2a2b59e8a4",
   "metadata": {},
   "outputs": [
    {
     "data": {
      "text/plain": [
       "10"
      ]
     },
     "execution_count": 40,
     "metadata": {},
     "output_type": "execute_result"
    }
   ],
   "source": [
    "len(numbers)"
   ]
  },
  {
   "cell_type": "markdown",
   "id": "d32a39f6-cb36-4bf9-bf72-937f6a06be13",
   "metadata": {},
   "source": [
    "### sorted"
   ]
  },
  {
   "cell_type": "code",
   "execution_count": 41,
   "id": "e1def95f-ac6a-41ea-b500-f62df00302f0",
   "metadata": {},
   "outputs": [
    {
     "data": {
      "text/plain": [
       "[0, 2, 3, 3, 3, 4, 5, 7, 7, 9]"
      ]
     },
     "execution_count": 41,
     "metadata": {},
     "output_type": "execute_result"
    }
   ],
   "source": [
    "sorted(numbers)"
   ]
  },
  {
   "cell_type": "code",
   "execution_count": 48,
   "id": "f7e1b8cd-6646-4c7b-987d-3893d02741aa",
   "metadata": {},
   "outputs": [
    {
     "ename": "AttributeError",
     "evalue": "'tuple' object has no attribute 'sort'",
     "output_type": "error",
     "traceback": [
      "\u001b[0;31m---------------------------------------------------------------------------\u001b[0m",
      "\u001b[0;31mAttributeError\u001b[0m                            Traceback (most recent call last)",
      "Cell \u001b[0;32mIn[48], line 2\u001b[0m\n\u001b[1;32m      1\u001b[0m numbers \u001b[38;5;241m=\u001b[39m (\u001b[38;5;241m3\u001b[39m,\u001b[38;5;241m7\u001b[39m,\u001b[38;5;241m3\u001b[39m,\u001b[38;5;241m5\u001b[39m,\u001b[38;5;241m3\u001b[39m,\u001b[38;5;241m9\u001b[39m,\u001b[38;5;241m2\u001b[39m,\u001b[38;5;241m7\u001b[39m,\u001b[38;5;241m0\u001b[39m,\u001b[38;5;241m4\u001b[39m)\n\u001b[0;32m----> 2\u001b[0m \u001b[43mnumbers\u001b[49m\u001b[38;5;241;43m.\u001b[39;49m\u001b[43msort\u001b[49m()\n\u001b[1;32m      3\u001b[0m numbers\n",
      "\u001b[0;31mAttributeError\u001b[0m: 'tuple' object has no attribute 'sort'"
     ]
    }
   ],
   "source": [
    "numbers = (3,7,3,5,3,9,2,7,0,4)\n",
    "numbers.sort()\n",
    "numbers"
   ]
  },
  {
   "cell_type": "markdown",
   "id": "71489c60-6539-4b3f-878e-1fca22c75472",
   "metadata": {},
   "source": [
    "### reversed()"
   ]
  },
  {
   "cell_type": "code",
   "execution_count": 44,
   "id": "2281c430-91d9-4c0f-9633-173d217f6199",
   "metadata": {},
   "outputs": [
    {
     "data": {
      "text/plain": [
       "<reversed at 0x7c68d0492170>"
      ]
     },
     "execution_count": 44,
     "metadata": {},
     "output_type": "execute_result"
    }
   ],
   "source": [
    "reversed(numbers)"
   ]
  },
  {
   "cell_type": "code",
   "execution_count": 45,
   "id": "0bd71189-2dea-47ee-b090-4cd5ebb7374e",
   "metadata": {},
   "outputs": [
    {
     "data": {
      "text/plain": [
       "(4, 0, 7, 2, 9, 3, 5, 3, 7, 3)"
      ]
     },
     "execution_count": 45,
     "metadata": {},
     "output_type": "execute_result"
    }
   ],
   "source": [
    "tuple(reversed(numbers))"
   ]
  },
  {
   "cell_type": "markdown",
   "id": "8765750f-c2e7-418d-905e-5ca21d95f9ef",
   "metadata": {},
   "source": [
    "### max()"
   ]
  },
  {
   "cell_type": "code",
   "execution_count": 46,
   "id": "be3d29f7-7e48-4ffe-a63f-5faddb60ed70",
   "metadata": {},
   "outputs": [
    {
     "data": {
      "text/plain": [
       "9"
      ]
     },
     "execution_count": 46,
     "metadata": {},
     "output_type": "execute_result"
    }
   ],
   "source": [
    "max(numbers)"
   ]
  },
  {
   "cell_type": "markdown",
   "id": "fc3399f5-4cd7-4257-9aee-11908d65b79e",
   "metadata": {},
   "source": [
    "### min"
   ]
  },
  {
   "cell_type": "code",
   "execution_count": 47,
   "id": "0fb82a3b-f991-4280-803b-f1441dd746a4",
   "metadata": {},
   "outputs": [
    {
     "data": {
      "text/plain": [
       "0"
      ]
     },
     "execution_count": 47,
     "metadata": {},
     "output_type": "execute_result"
    }
   ],
   "source": [
    "min(numbers)"
   ]
  },
  {
   "cell_type": "markdown",
   "id": "c74d66db-815a-4238-be96-c0fafd6dbb02",
   "metadata": {},
   "source": [
    "### sum()"
   ]
  },
  {
   "cell_type": "code",
   "execution_count": 49,
   "id": "883381ea-1c90-4ce8-a3d2-eb7ae4777cb4",
   "metadata": {},
   "outputs": [
    {
     "data": {
      "text/plain": [
       "43"
      ]
     },
     "execution_count": 49,
     "metadata": {},
     "output_type": "execute_result"
    }
   ],
   "source": [
    "sum(numbers)"
   ]
  },
  {
   "cell_type": "markdown",
   "id": "5478a0a8-02b6-4a97-829c-f53f94e04e54",
   "metadata": {},
   "source": [
    "### list vs tuple time consuming"
   ]
  },
  {
   "cell_type": "code",
   "execution_count": 54,
   "id": "01799fcb-e802-4bb4-b0fa-b36e81cb988f",
   "metadata": {},
   "outputs": [
    {
     "name": "stdout",
     "output_type": "stream",
     "text": [
      "2.6640655994415283\n"
     ]
    }
   ],
   "source": [
    "import time\n",
    "list1 = [i for i in range (10**7)]\n",
    "l1 = list1\n",
    "t1 = tuple(list1)\n",
    "end = time.time()\n",
    "print(end - begin)"
   ]
  },
  {
   "cell_type": "code",
   "execution_count": 1,
   "id": "f1466b97-69ac-41db-9bbe-e562dac9190b",
   "metadata": {},
   "outputs": [
    {
     "name": "stdout",
     "output_type": "stream",
     "text": [
      "list time  0.26628684997558594\n",
      "tuple time 0.2688438892364502\n"
     ]
    }
   ],
   "source": [
    "import time\n",
    "list1 = [i for i in range(10**7)]\n",
    "l1 = list1\n",
    "t1 = tuple(list1)\n",
    "###################################################\n",
    "begin = time.time()\n",
    "for i in l1:\n",
    "    i = 0\n",
    "end = time.time()\n",
    "print('list time ', end - begin)\n",
    "###################################################\n",
    "begin = time.time()\n",
    "for i in t1:\n",
    "    i = 0\n",
    "end = time.time()\n",
    "print('tuple time', end - begin)\n",
    "###################################################"
   ]
  },
  {
   "cell_type": "code",
   "execution_count": null,
   "id": "f8c778c8-81b7-4ce4-a183-75b2b305ea37",
   "metadata": {},
   "outputs": [],
   "source": []
  }
 ],
 "metadata": {
  "kernelspec": {
   "display_name": "Python 3 (ipykernel)",
   "language": "python",
   "name": "python3"
  },
  "language_info": {
   "codemirror_mode": {
    "name": "ipython",
    "version": 3
   },
   "file_extension": ".py",
   "mimetype": "text/x-python",
   "name": "python",
   "nbconvert_exporter": "python",
   "pygments_lexer": "ipython3",
   "version": "3.10.12"
  }
 },
 "nbformat": 4,
 "nbformat_minor": 5
}
