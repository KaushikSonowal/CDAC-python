{
 "cells": [
  {
   "cell_type": "code",
   "execution_count": 2,
   "id": "67693a86-365e-42c9-885d-fdf48dfab194",
   "metadata": {},
   "outputs": [
    {
     "name": "stdout",
     "output_type": "stream",
     "text": [
      "print function\n"
     ]
    }
   ],
   "source": [
    "def abc():\n",
    "    print('print function')\n",
    "\n",
    "abc()"
   ]
  },
  {
   "cell_type": "code",
   "execution_count": 18,
   "id": "bc9c3887-6d8d-427b-9bd3-85ed9e86bcd0",
   "metadata": {},
   "outputs": [],
   "source": [
    "def square(num):\n",
    "    return num*num"
   ]
  },
  {
   "cell_type": "code",
   "execution_count": 4,
   "id": "a26ac985-ad8b-4c30-85e4-d0f4b1d36fdb",
   "metadata": {},
   "outputs": [
    {
     "data": {
      "text/plain": [
       "64"
      ]
     },
     "execution_count": 4,
     "metadata": {},
     "output_type": "execute_result"
    }
   ],
   "source": [
    "square(8)"
   ]
  },
  {
   "cell_type": "code",
   "execution_count": 5,
   "id": "674f3ce3-e6ed-49cf-9bf2-09e6308ed307",
   "metadata": {},
   "outputs": [
    {
     "name": "stdout",
     "output_type": "stream",
     "text": [
      "[1, 4, 9, 16, 25, 36, 49, 64, 81, 100]\n"
     ]
    }
   ],
   "source": [
    "sq_list = []\n",
    "for i in range(1,11):\n",
    "    sq_list.append(i*i)\n",
    "print(sq_list)"
   ]
  },
  {
   "cell_type": "markdown",
   "id": "de3528fa-5e2d-4ab3-96e6-31dde7073d7d",
   "metadata": {},
   "source": [
    "## List Comprehension"
   ]
  },
  {
   "cell_type": "code",
   "execution_count": null,
   "id": "814b18e3-558d-46e1-b435-bdfbaf8208ab",
   "metadata": {},
   "outputs": [],
   "source": [
    "syntax:\n",
    "newlist = [expression(i) for i in Object]\n",
    "\n",
    "Runs faster than traditional for loop"
   ]
  },
  {
   "cell_type": "code",
   "execution_count": 7,
   "id": "a19e8f4e-cbfa-439b-9d60-6462b0335481",
   "metadata": {},
   "outputs": [
    {
     "data": {
      "text/plain": [
       "[0, 1, 2, 3, 4, 5, 6, 7, 8, 9]"
      ]
     },
     "execution_count": 7,
     "metadata": {},
     "output_type": "execute_result"
    }
   ],
   "source": [
    "newlist = [i for i in range(10)]\n",
    "newlist"
   ]
  },
  {
   "cell_type": "code",
   "execution_count": 8,
   "id": "0d3e1e5b-169e-4d9e-b131-6b71bf0f83cf",
   "metadata": {},
   "outputs": [
    {
     "data": {
      "text/plain": [
       "[0, 1, 4, 9, 16, 25, 36, 49, 64, 81]"
      ]
     },
     "execution_count": 8,
     "metadata": {},
     "output_type": "execute_result"
    }
   ],
   "source": [
    "sqlist = [i*i for i in range(10)]\n",
    "sqlist"
   ]
  },
  {
   "cell_type": "code",
   "execution_count": 9,
   "id": "441903b6-fc91-43a1-9b76-30b13afe3c5b",
   "metadata": {},
   "outputs": [
    {
     "name": "stdout",
     "output_type": "stream",
     "text": [
      "[1.0, 1.4142135623730951, 1.7320508075688772, 2.0, 2.23606797749979, 2.449489742783178, 2.6457513110645907, 2.8284271247461903, 3.0, 3.1622776601683795]\n"
     ]
    }
   ],
   "source": [
    "import math\n",
    "sqrtl = [math.sqrt(item) for item in range(1,11)]\n",
    "print(sqrtl)"
   ]
  },
  {
   "cell_type": "code",
   "execution_count": 10,
   "id": "e845cdcb-cd70-4574-818a-6cfde2f228e3",
   "metadata": {},
   "outputs": [],
   "source": [
    "def fun(num):\n",
    "    return num * 100"
   ]
  },
  {
   "cell_type": "code",
   "execution_count": 11,
   "id": "47b708c7-06fa-4f5d-b0df-3b1fb59d04f6",
   "metadata": {},
   "outputs": [
    {
     "name": "stdout",
     "output_type": "stream",
     "text": [
      "[1100, 2200, 3300, 4400, 5500, 6600, 7700, 8800, 9900]\n"
     ]
    }
   ],
   "source": [
    "list1 = [11, 22, 33, 44, 55, 66, 77, 88, 99]\n",
    "nwlist = [ fun(i)  for i in list1]\n",
    "print(nwlist)"
   ]
  },
  {
   "cell_type": "code",
   "execution_count": 12,
   "id": "84a5ef69-a13f-41cf-86e8-fc075ccf86bd",
   "metadata": {},
   "outputs": [
    {
     "name": "stdout",
     "output_type": "stream",
     "text": [
      "[1100, 2200, 3300, 4400, 5500, 6600, 7700, 8800, 9900]\n"
     ]
    }
   ],
   "source": [
    "list1 = [11, 22, 33, 44, 55, 66, 77, 88, 99]\n",
    "print([ fun(i)  for i in list1])"
   ]
  },
  {
   "cell_type": "code",
   "execution_count": 32,
   "id": "2ccbc0a0-c4a8-4a76-aba5-0b808dace88d",
   "metadata": {},
   "outputs": [
    {
     "data": {
      "text/plain": [
       "[4, 5, 6, 7, 8, 9, 10, 11, 12, 13]"
      ]
     },
     "execution_count": 32,
     "metadata": {},
     "output_type": "execute_result"
    }
   ],
   "source": [
    "list1 = [i+4 for i in range(10)]\n",
    "list1"
   ]
  },
  {
   "cell_type": "code",
   "execution_count": 33,
   "id": "75a80670-e8ba-46f5-921b-1b31832df405",
   "metadata": {},
   "outputs": [
    {
     "data": {
      "text/plain": [
       "[-100, -99, -98, -97, -96, -95, -94, -93, -92, -91]"
      ]
     },
     "execution_count": 33,
     "metadata": {},
     "output_type": "execute_result"
    }
   ],
   "source": [
    "list1 = [i-100 for i in range(10)]\n",
    "list1"
   ]
  },
  {
   "cell_type": "markdown",
   "id": "e753401b-328e-4a36-810c-9128f6de8c25",
   "metadata": {},
   "source": [
    "## List Comprehension with if"
   ]
  },
  {
   "cell_type": "code",
   "execution_count": null,
   "id": "8078440e-18c5-41ec-b58b-cda2107f623d",
   "metadata": {},
   "outputs": [],
   "source": [
    "syntax:\n",
    "    \n",
    "nwlist = [expression(variable) for variable in Object if condition ]"
   ]
  },
  {
   "cell_type": "code",
   "execution_count": 14,
   "id": "f6f1fbed-7aa2-4231-813c-8b313973ba42",
   "metadata": {},
   "outputs": [
    {
     "data": {
      "text/plain": [
       "[0, 2, 4, 6, 8]"
      ]
     },
     "execution_count": 14,
     "metadata": {},
     "output_type": "execute_result"
    }
   ],
   "source": [
    "list1 = [0, 1, 2, 3, 4, 5, 6, 7, 8, 9]\n",
    "\n",
    "evenlist = [i for i in list1 if i%2 == 0]\n",
    "evenlist"
   ]
  },
  {
   "cell_type": "code",
   "execution_count": 15,
   "id": "38f54744-6fb4-45f1-9994-70466d962a3b",
   "metadata": {},
   "outputs": [
    {
     "name": "stdout",
     "output_type": "stream",
     "text": [
      "[0, 1, 2, 3, 4, 5, 6, 7, 8, 9, 10, 11, 12, 13, 14, 15, 16, 17, 18, 19, 20, 21, 22, 23, 24, 25, 26, 27, 28, 29, 30]\n"
     ]
    }
   ],
   "source": [
    "list1 = [i for i in range(31)]\n",
    "print(list1)"
   ]
  },
  {
   "cell_type": "code",
   "execution_count": 19,
   "id": "1d5e1c2a-4869-4e66-aac5-0febc412e0c5",
   "metadata": {},
   "outputs": [
    {
     "name": "stdout",
     "output_type": "stream",
     "text": [
      "[0, 2, 4, 6, 8, 10, 12, 14, 16, 18, 20, 22, 24, 26, 28, 30]\n",
      "[1, 3, 5, 7, 9, 11, 13, 15, 17, 19, 21, 23, 25, 27, 29]\n"
     ]
    }
   ],
   "source": [
    "evenlist = []\n",
    "oddlist = []\n",
    "for i in list1:\n",
    "    if i%2 == 0:\n",
    "        evenlist.append(i)\n",
    "    else:\n",
    "        oddlist.append(i)\n",
    "print(evenlist)\n",
    "print(oddlist)"
   ]
  },
  {
   "cell_type": "code",
   "execution_count": 20,
   "id": "9fabbc1f-789b-4beb-9c65-b1c9f4d8f05c",
   "metadata": {},
   "outputs": [
    {
     "data": {
      "text/plain": [
       "[0, 2, 4, 6, 8, 10, 12, 14, 16, 18, 20, 22, 24, 26, 28, 30]"
      ]
     },
     "execution_count": 20,
     "metadata": {},
     "output_type": "execute_result"
    }
   ],
   "source": [
    "evenlist = [i for i in list1 if i%2 == 0]\n",
    "evenlist"
   ]
  },
  {
   "cell_type": "code",
   "execution_count": 21,
   "id": "551f7b52-0130-47ea-97ad-4547ea41e2f1",
   "metadata": {},
   "outputs": [
    {
     "data": {
      "text/plain": [
       "[1, 3, 5, 7, 9, 11, 13, 15, 17, 19, 21, 23, 25, 27, 29]"
      ]
     },
     "execution_count": 21,
     "metadata": {},
     "output_type": "execute_result"
    }
   ],
   "source": [
    "oddlist = [i for i in list1 if i%2 != 0]\n",
    "oddlist"
   ]
  },
  {
   "cell_type": "code",
   "execution_count": 22,
   "id": "42ce0ccb-73f3-4458-a000-79d88b2a8b33",
   "metadata": {},
   "outputs": [
    {
     "data": {
      "text/plain": [
       "['Pune', 'Guwahati', 'Kolkata', 'Trichy']"
      ]
     },
     "execution_count": 22,
     "metadata": {},
     "output_type": "execute_result"
    }
   ],
   "source": [
    "cities = ['Pune', 'Guwahati', 'Kolkata', 'Trichy']\n",
    "newcities = [city for city in cities]\n",
    "newcities"
   ]
  },
  {
   "cell_type": "code",
   "execution_count": 23,
   "id": "ddf5d067-15a3-4895-bd5d-9a5c7d0848ed",
   "metadata": {},
   "outputs": [
    {
     "data": {
      "text/plain": [
       "['Pu', 'Gu', 'Ko', 'Tr']"
      ]
     },
     "execution_count": 23,
     "metadata": {},
     "output_type": "execute_result"
    }
   ],
   "source": [
    "cities = ['Pune', 'Guwahati', 'Kolkata', 'Trichy']\n",
    "newcities = [city[:2] for city in cities]\n",
    "newcities"
   ]
  },
  {
   "cell_type": "code",
   "execution_count": 24,
   "id": "031d9733-1352-42d6-a70b-be5674762479",
   "metadata": {},
   "outputs": [
    {
     "data": {
      "text/plain": [
       "['PUNE', 'GUWAHATI', 'KOLKATA', 'TRICHY']"
      ]
     },
     "execution_count": 24,
     "metadata": {},
     "output_type": "execute_result"
    }
   ],
   "source": [
    "cities = ['Pune', 'Guwahati', 'Kolkata', 'Trichy']\n",
    "newcities = [city.upper() for city in cities]\n",
    "newcities"
   ]
  },
  {
   "cell_type": "markdown",
   "id": "9dd92546-357a-4017-a041-770c3432042c",
   "metadata": {},
   "source": [
    "## List Comprehension with if-else"
   ]
  },
  {
   "cell_type": "code",
   "execution_count": null,
   "id": "fd3a284f-c204-46ca-bbce-04b312ce822e",
   "metadata": {},
   "outputs": [],
   "source": [
    "syntax:\n",
    "    \n",
    "nwlist = [expr1 if cond1 else cond2 expr2  for i in Object]"
   ]
  },
  {
   "cell_type": "code",
   "execution_count": 25,
   "id": "8d338ee9-94d8-46af-b4e4-9287825cf5c9",
   "metadata": {},
   "outputs": [
    {
     "name": "stdout",
     "output_type": "stream",
     "text": [
      "[0, 1, 2, 3, 4, 5, 6, 7, 8, 9, 10, 11, 12, 13, 14, 15, 16, 17, 18, 19, 20, 21, 22, 23, 24, 25, 26, 27, 28, 29, 30]\n"
     ]
    }
   ],
   "source": [
    "list1 = [i for i in range(31)]\n",
    "print(list1)"
   ]
  },
  {
   "cell_type": "code",
   "execution_count": 26,
   "id": "46cc49c6-044f-40e2-a43d-9bfdf8c08a54",
   "metadata": {},
   "outputs": [
    {
     "name": "stdout",
     "output_type": "stream",
     "text": [
      "['Even', 'Odd', 'Even', 'Odd', 'Even', 'Odd', 'Even', 'Odd', 'Even', 'Odd', 'Even', 'Odd', 'Even', 'Odd', 'Even', 'Odd', 'Even', 'Odd', 'Even', 'Odd', 'Even', 'Odd', 'Even', 'Odd', 'Even', 'Odd', 'Even', 'Odd', 'Even', 'Odd', 'Even']\n"
     ]
    }
   ],
   "source": [
    "result = [ 'Even' if i%2 == 0 else 'Odd' for i in list1]\n",
    "print(result)"
   ]
  },
  {
   "cell_type": "code",
   "execution_count": 27,
   "id": "802f2b87-4098-42dd-aed7-823f608199bc",
   "metadata": {},
   "outputs": [
    {
     "name": "stdout",
     "output_type": "stream",
     "text": [
      "[True, False, True, False, True, False, True, False, True, False, True, False, True, False, True, False, True, False, True, False, True, False, True, False, True, False, True, False, True, False, True]\n"
     ]
    }
   ],
   "source": [
    "result = [ True if i%2 == 0 else False for i in list1]\n",
    "print(result)"
   ]
  },
  {
   "cell_type": "markdown",
   "id": "bd101fdc-c6d5-4cc5-882b-9992035c7d70",
   "metadata": {},
   "source": [
    "## Nested List Comprehension"
   ]
  },
  {
   "cell_type": "code",
   "execution_count": 30,
   "id": "f7d2b87d-1782-400f-9221-94a94986a5a0",
   "metadata": {},
   "outputs": [
    {
     "name": "stdout",
     "output_type": "stream",
     "text": [
      "[[0, 1, 4, 9], [0, 1, 4, 9], [0, 1, 4, 9], [0, 1, 4, 9], [0, 1, 4, 9], [0, 1, 4, 9], [0, 1, 4, 9]]\n"
     ]
    }
   ],
   "source": [
    "list1 = [[j**2 for j in range(4)] for i in range(7)]\n",
    "print(list1)"
   ]
  },
  {
   "cell_type": "code",
   "execution_count": 28,
   "id": "af058ace-9e20-4360-bb5b-64ac932972b7",
   "metadata": {},
   "outputs": [
    {
     "data": {
      "text/plain": [
       "[[0, 1, 4, 9],\n",
       " [0, 1, 4, 9],\n",
       " [0, 1, 4, 9],\n",
       " [0, 1, 4, 9],\n",
       " [0, 1, 4, 9],\n",
       " [0, 1, 4, 9],\n",
       " [0, 1, 4, 9]]"
      ]
     },
     "execution_count": 28,
     "metadata": {},
     "output_type": "execute_result"
    }
   ],
   "source": [
    "list1 = [[j**2 for j in range(4)] for i in range(7)]\n",
    "list1"
   ]
  },
  {
   "cell_type": "code",
   "execution_count": 29,
   "id": "b31913cf-1823-4747-9646-a2a85998f93c",
   "metadata": {},
   "outputs": [
    {
     "data": {
      "text/plain": [
       "[[0, 1], [0, 1], [0, 1]]"
      ]
     },
     "execution_count": 29,
     "metadata": {},
     "output_type": "execute_result"
    }
   ],
   "source": [
    "list1 = [[j**2 for j in range(2)] for i in range(3)]\n",
    "list1"
   ]
  },
  {
   "cell_type": "code",
   "execution_count": null,
   "id": "6b35bdb8-96bb-48d7-b278-8de5882bbc9d",
   "metadata": {},
   "outputs": [],
   "source": []
  }
 ],
 "metadata": {
  "kernelspec": {
   "display_name": "Python 3 (ipykernel)",
   "language": "python",
   "name": "python3"
  },
  "language_info": {
   "codemirror_mode": {
    "name": "ipython",
    "version": 3
   },
   "file_extension": ".py",
   "mimetype": "text/x-python",
   "name": "python",
   "nbconvert_exporter": "python",
   "pygments_lexer": "ipython3",
   "version": "3.10.12"
  }
 },
 "nbformat": 4,
 "nbformat_minor": 5
}
