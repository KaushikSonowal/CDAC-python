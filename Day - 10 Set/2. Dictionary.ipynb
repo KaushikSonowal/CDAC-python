{
 "cells": [
  {
   "cell_type": "markdown",
   "id": "50892701-f69c-4a4c-a564-324dc530e7c5",
   "metadata": {},
   "source": [
    "## Dictionary definition"
   ]
  },
  {
   "cell_type": "code",
   "execution_count": null,
   "id": "c538558b-3ce4-412e-9547-8dd56fec8ccb",
   "metadata": {},
   "outputs": [],
   "source": [
    "- set of pair of kay and value\n",
    "- key -> Immutable, value -> Any(Mutable/Immutable)\n",
    "- ordered from Python3.7 onwards\n",
    "- keys are unique\n",
    "- Mutable"
   ]
  },
  {
   "cell_type": "markdown",
   "id": "5087fb33-ab94-4e57-83c0-72cf4dedc7d6",
   "metadata": {},
   "source": [
    "### Initialize"
   ]
  },
  {
   "cell_type": "code",
   "execution_count": 1,
   "id": "97452939-e1b8-466e-8d45-fb4005c2005e",
   "metadata": {},
   "outputs": [
    {
     "name": "stdout",
     "output_type": "stream",
     "text": [
      "<class 'dict'>\n"
     ]
    }
   ],
   "source": [
    "dict1 = {}\n",
    "print(type(dict1))"
   ]
  },
  {
   "cell_type": "code",
   "execution_count": 2,
   "id": "6b169c58-499f-400a-add8-d3ca5a514ef8",
   "metadata": {},
   "outputs": [
    {
     "data": {
      "text/plain": [
       "{1: [1, 2, 3], 2: [2, 4, 6], 3: [3, 6, 9]}"
      ]
     },
     "execution_count": 2,
     "metadata": {},
     "output_type": "execute_result"
    }
   ],
   "source": [
    "dict1 = { 1:[1,2,3], 2:[2,4,6], 3:[3,6,9] }\n",
    "dict1"
   ]
  },
  {
   "cell_type": "code",
   "execution_count": 4,
   "id": "3caad5ca-7f85-42a3-8bed-570939787861",
   "metadata": {},
   "outputs": [
    {
     "data": {
      "text/plain": [
       "{1: [1, 2, 3], 2: [2, 4, 6], 3: [3, 6, 9]}"
      ]
     },
     "execution_count": 4,
     "metadata": {},
     "output_type": "execute_result"
    }
   ],
   "source": [
    "dict1 = { 1:[1,2,3], \n",
    "          2:[2,4,6], \n",
    "          3:[3,6,9] \n",
    "        }\n",
    "dict1"
   ]
  },
  {
   "cell_type": "code",
   "execution_count": 5,
   "id": "14e27f33-f950-4f82-b5a1-87e89e0c0407",
   "metadata": {},
   "outputs": [
    {
     "name": "stdout",
     "output_type": "stream",
     "text": [
      "{1: [1, 2, 3], 2: [2, 4, 6], 3: [3, 6, 9]}\n"
     ]
    }
   ],
   "source": [
    "dict1 = { 1:[1,2,3], 2:[2,4,6], 3:[3,6,9] }\n",
    "print(dict1)"
   ]
  },
  {
   "cell_type": "code",
   "execution_count": 6,
   "id": "47f438b1-c3b6-4057-af9f-e2f2882ad354",
   "metadata": {},
   "outputs": [
    {
     "data": {
      "text/plain": [
       "{'Name': 'John Cena', 'Age': 56, 'Salary': 45000, 'Company': 'TCS'}"
      ]
     },
     "execution_count": 6,
     "metadata": {},
     "output_type": "execute_result"
    }
   ],
   "source": [
    "dict2 = {'Name':'John Cena', 'Age': 56, 'Salary': 45000, 'Company': 'TCS'}\n",
    "dict2"
   ]
  },
  {
   "cell_type": "code",
   "execution_count": 7,
   "id": "4fa4f949-dfb6-40a7-be38-3ffda0eabfdc",
   "metadata": {},
   "outputs": [
    {
     "data": {
      "text/plain": [
       "{'Name': 'John Cena', 'Age': 56, 'Salary': 45000, 'Company': 'TCS'}"
      ]
     },
     "execution_count": 7,
     "metadata": {},
     "output_type": "execute_result"
    }
   ],
   "source": [
    "dict2 = {'Name':'John Cena', \n",
    "         'Age': 56, \n",
    "         'Salary': 45000, \n",
    "         'Company': 'TCS'\n",
    "        }\n",
    "dict2"
   ]
  },
  {
   "cell_type": "code",
   "execution_count": 13,
   "id": "d45458be-3979-46d2-96d9-3c36984dbe83",
   "metadata": {},
   "outputs": [
    {
     "data": {
      "text/plain": [
       "{(1,): [34, 67, 21], (3, 2): ['Abc', 'Xyz'], 'KEY': (11, 22, 33)}"
      ]
     },
     "execution_count": 13,
     "metadata": {},
     "output_type": "execute_result"
    }
   ],
   "source": [
    "dict3 = {(1,) :[34,67,21],\n",
    "         (3,2): ['Abc', 'Xyz'],\n",
    "         'KEY': (11,22,33)\n",
    "        }\n",
    "dict3"
   ]
  },
  {
   "cell_type": "code",
   "execution_count": 14,
   "id": "46caa185-dc86-48f7-9182-786cd03f99e2",
   "metadata": {},
   "outputs": [
    {
     "data": {
      "text/plain": [
       "{1: 1, 2: 2, 3: 3}"
      ]
     },
     "execution_count": 14,
     "metadata": {},
     "output_type": "execute_result"
    }
   ],
   "source": [
    "dict4 = {1:1, 2:2, 3:3}\n",
    "dict4"
   ]
  },
  {
   "cell_type": "code",
   "execution_count": 16,
   "id": "c10da104-483c-49d7-9834-e970b779dd5a",
   "metadata": {},
   "outputs": [
    {
     "data": {
      "text/plain": [
       "{(1, 2): (3, 4), (11, 22): (33, 44)}"
      ]
     },
     "execution_count": 16,
     "metadata": {},
     "output_type": "execute_result"
    }
   ],
   "source": [
    "dict5 = {(1,2):(3,4),(11,22):(33,44)}\n",
    "dict5"
   ]
  },
  {
   "cell_type": "code",
   "execution_count": 1,
   "id": "41a2176f-c07a-4f63-b0ca-212a20202ec5",
   "metadata": {},
   "outputs": [
    {
     "data": {
      "text/plain": [
       "{1: [1, 2, 3], 2: [2, 4, 6], 3: [3, 6, 9]}"
      ]
     },
     "execution_count": 1,
     "metadata": {},
     "output_type": "execute_result"
    }
   ],
   "source": [
    "dict1 = { 1:[1,2,3], 2:[2,4,6], 3:[3,6,9] }\n",
    "dict1"
   ]
  },
  {
   "cell_type": "code",
   "execution_count": 17,
   "id": "8f7e7935-8655-417e-bb54-693586f371fa",
   "metadata": {},
   "outputs": [
    {
     "data": {
      "text/plain": [
       "{1: [1, 2, 3], 2: [2, 4, 6], 3: [3, 6, 9], 4: [4, 8, 12]}"
      ]
     },
     "execution_count": 17,
     "metadata": {},
     "output_type": "execute_result"
    }
   ],
   "source": [
    "dict1 = { 1:[1,2,3], 2:[2,4,6], 3:[3,6,9], 4:[4,8,12] }\n",
    "dict1"
   ]
  },
  {
   "cell_type": "code",
   "execution_count": 2,
   "id": "2da1a152-fb96-45bc-86d9-f3d45d3a1ec5",
   "metadata": {},
   "outputs": [
    {
     "data": {
      "text/plain": [
       "{1: [1, 2, 3], 2: {'A', 'a', 'i', 'l', 'r', 'v'}, 3: [3, 6, 9]}"
      ]
     },
     "execution_count": 2,
     "metadata": {},
     "output_type": "execute_result"
    }
   ],
   "source": [
    "dict1 = { 1:[1,2,3], 2:[2,4,6], 3:[3,6,9] }\n",
    "dict1[2] = {'A', 'r', 'a', 'v', 'a', 'l', 'i'}\n",
    "dict1"
   ]
  },
  {
   "cell_type": "markdown",
   "id": "18146708-cdd3-41dd-91b9-f899b8140665",
   "metadata": {},
   "source": [
    "### update()"
   ]
  },
  {
   "cell_type": "code",
   "execution_count": 3,
   "id": "c6921d64-9799-42ee-a8ca-c434badf35c4",
   "metadata": {},
   "outputs": [
    {
     "data": {
      "text/plain": [
       "{1: 'aaa', 2: 'bbb', 5: 'kkk', 9: 'xyz'}"
      ]
     },
     "execution_count": 3,
     "metadata": {},
     "output_type": "execute_result"
    }
   ],
   "source": [
    "d1 = {1:\"aaa\", 2:'bbb'}\n",
    "d2 = {5:'kkk', 9:'xyz'}\n",
    "d1.update(d2)\n",
    "d1"
   ]
  },
  {
   "cell_type": "code",
   "execution_count": 4,
   "id": "ba4ee144-6116-4384-99be-48c6339baae0",
   "metadata": {},
   "outputs": [
    {
     "data": {
      "text/plain": [
       "{5: 'kkk', 9: 'xyz', 1: 'aaa', 2: 'bbb'}"
      ]
     },
     "execution_count": 4,
     "metadata": {},
     "output_type": "execute_result"
    }
   ],
   "source": [
    "d1 = {1:\"aaa\", 2:'bbb'}\n",
    "d2 = {5:'kkk', 9:'xyz'}\n",
    "d2.update(d1)\n",
    "d2"
   ]
  },
  {
   "cell_type": "markdown",
   "id": "64ed61a3-9cae-4f2b-aa9b-953b1cd51934",
   "metadata": {},
   "source": [
    "### Add key value\n",
    "\n",
    "    -dictionary [ key ] = value\n"
   ]
  },
  {
   "cell_type": "code",
   "execution_count": 5,
   "id": "71f08d64-2ad6-426e-94d5-856f7fead559",
   "metadata": {},
   "outputs": [],
   "source": [
    "dict1[4] = [4, 8, 12]"
   ]
  },
  {
   "cell_type": "code",
   "execution_count": 6,
   "id": "28962911-8888-4a25-9533-57cee6204bb3",
   "metadata": {},
   "outputs": [
    {
     "data": {
      "text/plain": [
       "{1: [1, 2, 3], 2: {'A', 'a', 'i', 'l', 'r', 'v'}, 3: [3, 6, 9], 4: [4, 8, 12]}"
      ]
     },
     "execution_count": 6,
     "metadata": {},
     "output_type": "execute_result"
    }
   ],
   "source": [
    "dict1"
   ]
  },
  {
   "cell_type": "markdown",
   "id": "c3d22098-6c21-45f7-bc73-74d46764cdba",
   "metadata": {},
   "source": [
    "### Access"
   ]
  },
  {
   "cell_type": "code",
   "execution_count": 7,
   "id": "0cc6e912-c8dc-460f-ae62-f3dfd73e5d62",
   "metadata": {},
   "outputs": [],
   "source": [
    "dict3 = {(1,) : [34,67,21],\n",
    "         (3,2): ['Abc', 'Xyz'],\n",
    "         'KEY': (11,22,33)\n",
    "        }"
   ]
  },
  {
   "cell_type": "code",
   "execution_count": 8,
   "id": "80005f43-3768-4b9a-882e-31c4731aae51",
   "metadata": {},
   "outputs": [
    {
     "data": {
      "text/plain": [
       "['Abc', 'Xyz']"
      ]
     },
     "execution_count": 8,
     "metadata": {},
     "output_type": "execute_result"
    }
   ],
   "source": [
    "dict3[(3,2)]"
   ]
  },
  {
   "cell_type": "code",
   "execution_count": 9,
   "id": "ace45b29-f82c-4d52-90ba-54de74075164",
   "metadata": {},
   "outputs": [
    {
     "data": {
      "text/plain": [
       "[34, 67, 21]"
      ]
     },
     "execution_count": 9,
     "metadata": {},
     "output_type": "execute_result"
    }
   ],
   "source": [
    "dict3[(1,)]"
   ]
  },
  {
   "cell_type": "markdown",
   "id": "deb62353-a7cb-4f19-bb88-85a9ea13996f",
   "metadata": {},
   "source": [
    "### Access using get()"
   ]
  },
  {
   "cell_type": "code",
   "execution_count": 10,
   "id": "847bac80-12f8-4b12-9c4c-2377576864ee",
   "metadata": {},
   "outputs": [
    {
     "data": {
      "text/plain": [
       "['Abc', 'Xyz']"
      ]
     },
     "execution_count": 10,
     "metadata": {},
     "output_type": "execute_result"
    }
   ],
   "source": [
    "dict3.get((3,2))"
   ]
  },
  {
   "cell_type": "code",
   "execution_count": 11,
   "id": "ef4eb937-1219-4b90-a8ef-771c1e05bd78",
   "metadata": {},
   "outputs": [
    {
     "data": {
      "text/plain": [
       "{1: [1, 2, 3], 2: [2, 4, 6], 3: [3, 6, 9]}"
      ]
     },
     "execution_count": 11,
     "metadata": {},
     "output_type": "execute_result"
    }
   ],
   "source": [
    "dict1 = { 1:[1,2,3], 2:[2,4,6], 3:[3,6,9] }\n",
    "dict1"
   ]
  },
  {
   "cell_type": "code",
   "execution_count": 12,
   "id": "46bae1fc-fc86-465e-84a8-899693ad9a4d",
   "metadata": {},
   "outputs": [
    {
     "data": {
      "text/plain": [
       "[3, 6, 9]"
      ]
     },
     "execution_count": 12,
     "metadata": {},
     "output_type": "execute_result"
    }
   ],
   "source": [
    "dict1.get(3)"
   ]
  },
  {
   "cell_type": "markdown",
   "id": "2e3f8279-842c-406f-87a2-f4ce89873a38",
   "metadata": {},
   "source": [
    "### Remove Operations\n",
    "#### pop(key)\n",
    "\n",
    "    -returns value of that key which is passed as argument\n",
    "\n"
   ]
  },
  {
   "cell_type": "code",
   "execution_count": 13,
   "id": "2dda261e-654d-4486-825e-eee7ff5c74c6",
   "metadata": {},
   "outputs": [],
   "source": [
    "d = {1: [1, 2, 3], 2: [2, 4, 6], 3: [3, 6, 9], 4: [4, 8, 12]}\n"
   ]
  },
  {
   "cell_type": "code",
   "execution_count": 14,
   "id": "ffc61812-fabe-463d-872d-9e75a9dbda51",
   "metadata": {},
   "outputs": [
    {
     "data": {
      "text/plain": [
       "[2, 4, 6]"
      ]
     },
     "execution_count": 14,
     "metadata": {},
     "output_type": "execute_result"
    }
   ],
   "source": [
    "d.pop(2)"
   ]
  },
  {
   "cell_type": "code",
   "execution_count": 15,
   "id": "4de2fbb7-09aa-4282-8a86-f81f21385523",
   "metadata": {},
   "outputs": [
    {
     "data": {
      "text/plain": [
       "{(1,): [34, 67, 21], (3, 2): ['Abc', 'Xyz']}"
      ]
     },
     "execution_count": 15,
     "metadata": {},
     "output_type": "execute_result"
    }
   ],
   "source": [
    "dict3 = {(1,) : [34,67,21],\n",
    "         (3,2): ['Abc', 'Xyz'],\n",
    "         'KEY': (11,22,33)\n",
    "        }\n",
    "dict3.pop('KEY')\n",
    "dict3"
   ]
  },
  {
   "cell_type": "code",
   "execution_count": 16,
   "id": "eeed2d89-06d9-4e56-94c0-9ddad1db09b0",
   "metadata": {},
   "outputs": [
    {
     "ename": "KeyError",
     "evalue": "'KEy'",
     "output_type": "error",
     "traceback": [
      "\u001b[0;31m---------------------------------------------------------------------------\u001b[0m",
      "\u001b[0;31mKeyError\u001b[0m                                  Traceback (most recent call last)",
      "Cell \u001b[0;32mIn[16], line 5\u001b[0m\n\u001b[1;32m      1\u001b[0m dict3 \u001b[38;5;241m=\u001b[39m {(\u001b[38;5;241m1\u001b[39m,) : [\u001b[38;5;241m34\u001b[39m,\u001b[38;5;241m67\u001b[39m,\u001b[38;5;241m21\u001b[39m],\n\u001b[1;32m      2\u001b[0m          (\u001b[38;5;241m3\u001b[39m,\u001b[38;5;241m2\u001b[39m): [\u001b[38;5;124m'\u001b[39m\u001b[38;5;124mAbc\u001b[39m\u001b[38;5;124m'\u001b[39m, \u001b[38;5;124m'\u001b[39m\u001b[38;5;124mXyz\u001b[39m\u001b[38;5;124m'\u001b[39m],\n\u001b[1;32m      3\u001b[0m          \u001b[38;5;124m'\u001b[39m\u001b[38;5;124mKEY\u001b[39m\u001b[38;5;124m'\u001b[39m: (\u001b[38;5;241m11\u001b[39m,\u001b[38;5;241m22\u001b[39m,\u001b[38;5;241m33\u001b[39m)\n\u001b[1;32m      4\u001b[0m         }\n\u001b[0;32m----> 5\u001b[0m \u001b[43mdict3\u001b[49m\u001b[38;5;241;43m.\u001b[39;49m\u001b[43mpop\u001b[49m\u001b[43m(\u001b[49m\u001b[38;5;124;43m'\u001b[39;49m\u001b[38;5;124;43mKEy\u001b[39;49m\u001b[38;5;124;43m'\u001b[39;49m\u001b[43m)\u001b[49m\n\u001b[1;32m      6\u001b[0m dict3\n",
      "\u001b[0;31mKeyError\u001b[0m: 'KEy'"
     ]
    }
   ],
   "source": [
    "dict3 = {(1,) : [34,67,21],\n",
    "         (3,2): ['Abc', 'Xyz'],\n",
    "         'KEY': (11,22,33)\n",
    "        }\n",
    "dict3.pop('KEy')\n",
    "dict3\n"
   ]
  },
  {
   "cell_type": "code",
   "execution_count": 17,
   "id": "ff638701-f90f-47e5-bb4d-d70719ae2559",
   "metadata": {},
   "outputs": [
    {
     "data": {
      "text/plain": [
       "2"
      ]
     },
     "execution_count": 17,
     "metadata": {},
     "output_type": "execute_result"
    }
   ],
   "source": [
    "dict4 = {1:1, 2:2, 3:3}\n",
    "dict4.pop(2)"
   ]
  },
  {
   "cell_type": "code",
   "execution_count": 18,
   "id": "442e18c7-646f-4ab1-b7ac-68c6d6d7e475",
   "metadata": {},
   "outputs": [
    {
     "ename": "KeyError",
     "evalue": "9",
     "output_type": "error",
     "traceback": [
      "\u001b[0;31m---------------------------------------------------------------------------\u001b[0m",
      "\u001b[0;31mKeyError\u001b[0m                                  Traceback (most recent call last)",
      "Cell \u001b[0;32mIn[18], line 2\u001b[0m\n\u001b[1;32m      1\u001b[0m dict4 \u001b[38;5;241m=\u001b[39m {\u001b[38;5;241m1\u001b[39m:\u001b[38;5;241m1\u001b[39m, \u001b[38;5;241m2\u001b[39m:\u001b[38;5;241m2\u001b[39m, \u001b[38;5;241m3\u001b[39m:\u001b[38;5;241m3\u001b[39m}\n\u001b[0;32m----> 2\u001b[0m \u001b[43mdict4\u001b[49m\u001b[38;5;241;43m.\u001b[39;49m\u001b[43mpop\u001b[49m\u001b[43m(\u001b[49m\u001b[38;5;241;43m9\u001b[39;49m\u001b[43m)\u001b[49m\n",
      "\u001b[0;31mKeyError\u001b[0m: 9"
     ]
    }
   ],
   "source": [
    "dict4 = {1:1, 2:2, 3:3}\n",
    "dict4.pop(9)"
   ]
  },
  {
   "cell_type": "code",
   "execution_count": 19,
   "id": "893a0be7-43fc-43c4-b5dc-fc9943b4b82f",
   "metadata": {},
   "outputs": [
    {
     "ename": "KeyError",
     "evalue": "'ABC'",
     "output_type": "error",
     "traceback": [
      "\u001b[0;31m---------------------------------------------------------------------------\u001b[0m",
      "\u001b[0;31mKeyError\u001b[0m                                  Traceback (most recent call last)",
      "Cell \u001b[0;32mIn[19], line 1\u001b[0m\n\u001b[0;32m----> 1\u001b[0m \u001b[43mdict4\u001b[49m\u001b[38;5;241;43m.\u001b[39;49m\u001b[43mpop\u001b[49m\u001b[43m(\u001b[49m\u001b[38;5;124;43m'\u001b[39;49m\u001b[38;5;124;43mABC\u001b[39;49m\u001b[38;5;124;43m'\u001b[39;49m\u001b[43m)\u001b[49m\n",
      "\u001b[0;31mKeyError\u001b[0m: 'ABC'"
     ]
    }
   ],
   "source": [
    "dict4.pop('ABC')"
   ]
  },
  {
   "cell_type": "markdown",
   "id": "4272ade1-4126-4fa5-a3fc-9cf0d7af2b86",
   "metadata": {},
   "source": [
    "### popitem()\n",
    "\n",
    "    -return key and value pair in tuple format\n",
    "\n"
   ]
  },
  {
   "cell_type": "code",
   "execution_count": 20,
   "id": "8ee1acb0-e653-4b98-92c8-e17d84bd9bd9",
   "metadata": {},
   "outputs": [
    {
     "name": "stdout",
     "output_type": "stream",
     "text": [
      "{1: 'aaa', 2: 'bbb', 3: 'ccc'}\n"
     ]
    }
   ],
   "source": [
    "dict4 = {1:\"aaa\", 2:'bbb', 3:'ccc'}\n",
    "print(dict4)\n",
    "# dict4.pop(2)"
   ]
  },
  {
   "cell_type": "code",
   "execution_count": 21,
   "id": "1c2b9657-bc75-4023-8094-6948b2ae0385",
   "metadata": {},
   "outputs": [
    {
     "data": {
      "text/plain": [
       "{1: 'aaa', 2: 'bbb'}"
      ]
     },
     "execution_count": 21,
     "metadata": {},
     "output_type": "execute_result"
    }
   ],
   "source": [
    "dict4 = {1:\"aaa\", 2:'bbb', 3:'ccc'}\n",
    "dict4.popitem()\n",
    "dict4"
   ]
  },
  {
   "cell_type": "code",
   "execution_count": 22,
   "id": "260997f2-da2b-43f8-8fa2-c41c54b5ccc8",
   "metadata": {},
   "outputs": [
    {
     "data": {
      "text/plain": [
       "(2, 'bbb')"
      ]
     },
     "execution_count": 22,
     "metadata": {},
     "output_type": "execute_result"
    }
   ],
   "source": [
    "dict4.popitem()"
   ]
  },
  {
   "cell_type": "code",
   "execution_count": 23,
   "id": "e9c4c01e-13e3-4bde-8ad2-4dbc652fbad3",
   "metadata": {},
   "outputs": [
    {
     "data": {
      "text/plain": [
       "(1, 'aaa')"
      ]
     },
     "execution_count": 23,
     "metadata": {},
     "output_type": "execute_result"
    }
   ],
   "source": [
    "dict4.popitem()"
   ]
  },
  {
   "cell_type": "code",
   "execution_count": 24,
   "id": "84dda5e5-6adc-4fce-96e2-db408dbeacb8",
   "metadata": {},
   "outputs": [
    {
     "ename": "KeyError",
     "evalue": "'popitem(): dictionary is empty'",
     "output_type": "error",
     "traceback": [
      "\u001b[0;31m---------------------------------------------------------------------------\u001b[0m",
      "\u001b[0;31mKeyError\u001b[0m                                  Traceback (most recent call last)",
      "Cell \u001b[0;32mIn[24], line 1\u001b[0m\n\u001b[0;32m----> 1\u001b[0m \u001b[43mdict4\u001b[49m\u001b[38;5;241;43m.\u001b[39;49m\u001b[43mpopitem\u001b[49m\u001b[43m(\u001b[49m\u001b[43m)\u001b[49m\n",
      "\u001b[0;31mKeyError\u001b[0m: 'popitem(): dictionary is empty'"
     ]
    }
   ],
   "source": [
    "dict4.popitem()"
   ]
  },
  {
   "cell_type": "markdown",
   "id": "27cc46a8-1d66-4f8e-853e-610292130b13",
   "metadata": {},
   "source": [
    "### clear()\n",
    "\n",
    "    clears contents of dict variable\n",
    "\n"
   ]
  },
  {
   "cell_type": "code",
   "execution_count": 25,
   "id": "c05282a3-cc8b-47d3-9566-f113d221b089",
   "metadata": {},
   "outputs": [
    {
     "data": {
      "text/plain": [
       "{}"
      ]
     },
     "execution_count": 25,
     "metadata": {},
     "output_type": "execute_result"
    }
   ],
   "source": [
    "dict4 = {1:\"aaa\", 2:'bbb', 3:'ccc'}\n",
    "dict4.clear()\n",
    "dict4"
   ]
  },
  {
   "cell_type": "markdown",
   "id": "4e1e3fa1-33d8-4ec8-b7d4-1ccc4e503f81",
   "metadata": {},
   "source": [
    "### del"
   ]
  },
  {
   "cell_type": "code",
   "execution_count": 26,
   "id": "683ee270-8d76-41d5-97b2-aaf42e404e00",
   "metadata": {},
   "outputs": [
    {
     "data": {
      "text/plain": [
       "{2: 'bbb', 3: 'ccc'}"
      ]
     },
     "execution_count": 26,
     "metadata": {},
     "output_type": "execute_result"
    }
   ],
   "source": [
    "dict4 = {1:\"aaa\", 2:'bbb', 3:'ccc'}\n",
    "del dict4[1]\n",
    "dict4"
   ]
  },
  {
   "cell_type": "markdown",
   "id": "bcac2fbe-2f7b-443c-8bb4-64f78a58721b",
   "metadata": {},
   "source": [
    "### Access dictionary with for loop using\n",
    "\n",
    "    keys()\n",
    "    values()\n",
    "    items()\n",
    "\n"
   ]
  },
  {
   "cell_type": "code",
   "execution_count": 29,
   "id": "57c0eef0-012f-4cd5-8b7e-a205754edf59",
   "metadata": {},
   "outputs": [
    {
     "name": "stdout",
     "output_type": "stream",
     "text": [
      "1\n",
      "2\n",
      "3\n",
      "4\n",
      "5\n",
      "6\n"
     ]
    }
   ],
   "source": [
    "dict4 = {1:\"111\", 2:'222', 3:'333', 4:'444', 5:'555', 6:'666'}\n",
    "for var in dict4:\n",
    "    print(var)"
   ]
  },
  {
   "cell_type": "code",
   "execution_count": 30,
   "id": "ec437f04-39d3-4c74-8407-c457139b0b08",
   "metadata": {},
   "outputs": [
    {
     "name": "stdout",
     "output_type": "stream",
     "text": [
      "1 -> 111\n",
      "2 -> 222\n",
      "3 -> 333\n",
      "4 -> 444\n",
      "5 -> 555\n",
      "6 -> 666\n"
     ]
    }
   ],
   "source": [
    "dict4 = {1:\"111\", 2:'222', 3:'333', 4:'444', 5:'555', 6:'666'}\n",
    "for var in dict4:\n",
    "    print(var, '->', dict4[var])"
   ]
  },
  {
   "cell_type": "code",
   "execution_count": 31,
   "id": "409be54b-f628-4560-bf8b-f32c448712c7",
   "metadata": {},
   "outputs": [
    {
     "name": "stdout",
     "output_type": "stream",
     "text": [
      "1 -> aaa\n",
      "2 -> bbb\n",
      "3 -> ccc\n",
      "4 -> ddd\n",
      "5 -> eee\n",
      "6 -> fff\n"
     ]
    }
   ],
   "source": [
    "dict4 = {1:\"aaa\", 2:'bbb', 3:'ccc', 4:'ddd', 5:'eee', 6:'fff'}\n",
    "for var in dict4:\n",
    "    print(var, '->', dict4[var])"
   ]
  },
  {
   "cell_type": "markdown",
   "id": "26709961-7b31-44d4-bd0d-7ecdb3b38d3f",
   "metadata": {},
   "source": [
    "### keys()"
   ]
  },
  {
   "cell_type": "code",
   "execution_count": 32,
   "id": "1e899e31-29bb-4b16-8ba7-f2478eed9271",
   "metadata": {},
   "outputs": [
    {
     "name": "stdout",
     "output_type": "stream",
     "text": [
      "1\n",
      "2\n",
      "3\n",
      "4\n",
      "5\n",
      "6\n"
     ]
    }
   ],
   "source": [
    "dict4 = {1:\"aaa\", 2:'bbb', 3:'ccc', 4:'ddd', 5:'eee', 6:'fff'}\n",
    "for key in dict4.keys():\n",
    "    print(key)\n",
    "#     print(var, '->', dict4[var])"
   ]
  },
  {
   "cell_type": "code",
   "execution_count": 33,
   "id": "3e795e00-47b4-4f24-b276-0bb4678dbf08",
   "metadata": {},
   "outputs": [
    {
     "data": {
      "text/plain": [
       "dict_keys([1, 2, 3, 4, 5, 6])"
      ]
     },
     "execution_count": 33,
     "metadata": {},
     "output_type": "execute_result"
    }
   ],
   "source": [
    "dict4.keys()"
   ]
  },
  {
   "cell_type": "code",
   "execution_count": 34,
   "id": "c478a874-e326-438f-83e8-ac74624b2a38",
   "metadata": {},
   "outputs": [
    {
     "data": {
      "text/plain": [
       "dict_keys"
      ]
     },
     "execution_count": 34,
     "metadata": {},
     "output_type": "execute_result"
    }
   ],
   "source": [
    "type(dict4.keys())"
   ]
  },
  {
   "cell_type": "code",
   "execution_count": 35,
   "id": "6fa9a84d-92b1-4ad0-8e0d-fdc9e794ada6",
   "metadata": {},
   "outputs": [
    {
     "data": {
      "text/plain": [
       "[1, 2, 3, 4, 5, 6]"
      ]
     },
     "execution_count": 35,
     "metadata": {},
     "output_type": "execute_result"
    }
   ],
   "source": [
    "list(dict4.keys())"
   ]
  },
  {
   "cell_type": "markdown",
   "id": "da16e54b-c997-4ac6-bf5d-7c9ef00099df",
   "metadata": {},
   "source": [
    "### values()\n"
   ]
  },
  {
   "cell_type": "code",
   "execution_count": 36,
   "id": "ddfbc030-24a3-4d1a-832c-328300d24c0d",
   "metadata": {},
   "outputs": [
    {
     "name": "stdout",
     "output_type": "stream",
     "text": [
      "aaa\n",
      "bbb\n",
      "ccc\n",
      "ddd\n",
      "eee\n",
      "fff\n"
     ]
    }
   ],
   "source": [
    "dict4 = {1:\"aaa\", 2:'bbb', 3:'ccc', 4:'ddd', 5:'eee', 6:'fff'}\n",
    "for value in dict4.values():\n",
    "    print(value)"
   ]
  },
  {
   "cell_type": "code",
   "execution_count": 37,
   "id": "17364461-9d2d-44de-850c-804a632ec4f0",
   "metadata": {},
   "outputs": [
    {
     "data": {
      "text/plain": [
       "dict_values(['aaa', 'bbb', 'ccc', 'ddd', 'eee', 'fff'])"
      ]
     },
     "execution_count": 37,
     "metadata": {},
     "output_type": "execute_result"
    }
   ],
   "source": [
    "dict4.values()"
   ]
  },
  {
   "cell_type": "code",
   "execution_count": 38,
   "id": "f26994aa-ee36-492b-b003-5cf3e2148c54",
   "metadata": {},
   "outputs": [
    {
     "data": {
      "text/plain": [
       "['aaa', 'bbb', 'ccc', 'ddd', 'eee', 'fff']"
      ]
     },
     "execution_count": 38,
     "metadata": {},
     "output_type": "execute_result"
    }
   ],
   "source": [
    "list(dict4.values())"
   ]
  },
  {
   "cell_type": "markdown",
   "id": "17bb056d-08ce-4a62-91bc-012d33ee71a1",
   "metadata": {},
   "source": [
    "### items()\n",
    "\n",
    "    -return key:value pair in tuple format"
   ]
  },
  {
   "cell_type": "code",
   "execution_count": 39,
   "id": "2f093d8f-4d5a-4a96-8bf1-1292a5d7d5db",
   "metadata": {},
   "outputs": [
    {
     "name": "stdout",
     "output_type": "stream",
     "text": [
      "(1, 'aaa')\n",
      "(2, 'bbb')\n",
      "(3, 'ccc')\n",
      "(4, 'ddd')\n",
      "(5, 'eee')\n",
      "(6, 'fff')\n"
     ]
    }
   ],
   "source": [
    "dict4 = {1:\"aaa\", 2:'bbb', 3:'ccc', 4:'ddd', 5:'eee', 6:'fff'}\n",
    "for pair in dict4.items():\n",
    "    print(pair)"
   ]
  },
  {
   "cell_type": "code",
   "execution_count": 40,
   "id": "618067ec-2161-4d30-8c85-605374be74b3",
   "metadata": {},
   "outputs": [
    {
     "name": "stdout",
     "output_type": "stream",
     "text": [
      "1 aaa\n",
      "2 bbb\n",
      "3 ccc\n",
      "4 ddd\n",
      "5 eee\n",
      "6 fff\n"
     ]
    }
   ],
   "source": [
    "dict4 = {1:\"aaa\", 2:'bbb', 3:'ccc', 4:'ddd', 5:'eee', 6:'fff'}\n",
    "for a,b in dict4.items():\n",
    "    print(a,b)"
   ]
  },
  {
   "cell_type": "code",
   "execution_count": 41,
   "id": "27827ca9-5154-45e0-9ef3-7d5297a12683",
   "metadata": {},
   "outputs": [
    {
     "data": {
      "text/plain": [
       "{'f': 3,\n",
       " 'o': 9,\n",
       " 't': 7,\n",
       " 'b': 2,\n",
       " 'a': 10,\n",
       " 'l': 7,\n",
       " ' ': 18,\n",
       " 'i': 6,\n",
       " 's': 5,\n",
       " 'm': 2,\n",
       " 'y': 2,\n",
       " 'e': 6,\n",
       " 'p': 1,\n",
       " 'r': 4,\n",
       " 'h': 1,\n",
       " 'n': 3,\n",
       " 'v': 3,\n",
       " ',': 2,\n",
       " 'g': 4,\n",
       " 'd': 1,\n",
       " 'k': 2,\n",
       " 'c': 2,\n",
       " '.': 1}"
      ]
     },
     "execution_count": 41,
     "metadata": {},
     "output_type": "execute_result"
    }
   ],
   "source": [
    "# Non alpha also included\n",
    "\n",
    "string = 'Football is a family of team sports that involve, to varying degrees, kicking a ball to score a goal.'\n",
    "string = string.lower()\n",
    "char_frequency = {}\n",
    "for char in string:\n",
    "    char_frequency[char] = string.count(char)\n",
    "char_frequency     "
   ]
  },
  {
   "cell_type": "code",
   "execution_count": 42,
   "id": "27933a67-d545-43b9-9766-d019faaff3a8",
   "metadata": {},
   "outputs": [
    {
     "data": {
      "text/plain": [
       "{'f': 3,\n",
       " 'o': 9,\n",
       " 't': 7,\n",
       " 'b': 2,\n",
       " 'a': 10,\n",
       " 'l': 7,\n",
       " 'i': 6,\n",
       " 's': 5,\n",
       " 'm': 2,\n",
       " 'y': 2,\n",
       " 'e': 6,\n",
       " 'p': 1,\n",
       " 'r': 4,\n",
       " 'h': 1,\n",
       " 'n': 3,\n",
       " 'v': 3,\n",
       " 'g': 4,\n",
       " 'd': 1,\n",
       " 'k': 2,\n",
       " 'c': 2}"
      ]
     },
     "execution_count": 42,
     "metadata": {},
     "output_type": "execute_result"
    }
   ],
   "source": [
    "#Count of only alphabets\n",
    "string = 'Football is a family of team sports that involve, to varying degrees, kicking a ball to score a goal.'\n",
    "string = string.lower()\n",
    "char_frequency = {}\n",
    "for char in string:\n",
    "    if char.isalpha():\n",
    "        char_frequency[char] = string.count(char)\n",
    "char_frequency  "
   ]
  },
  {
   "cell_type": "code",
   "execution_count": 43,
   "id": "72dcdf52-ade2-40ba-a781-ca672515e9ba",
   "metadata": {},
   "outputs": [
    {
     "data": {
      "text/plain": [
       "{'i': 6,\n",
       " 'b': 2,\n",
       " 'l': 7,\n",
       " 'o': 9,\n",
       " 'e': 6,\n",
       " 'c': 2,\n",
       " 'g': 4,\n",
       " 's': 5,\n",
       " 'p': 1,\n",
       " 'd': 1,\n",
       " 'h': 1,\n",
       " 'v': 3,\n",
       " 'm': 2,\n",
       " 'n': 3,\n",
       " 't': 7,\n",
       " 'f': 3,\n",
       " 'y': 2,\n",
       " 'r': 4,\n",
       " 'a': 10,\n",
       " 'k': 2}"
      ]
     },
     "execution_count": 43,
     "metadata": {},
     "output_type": "execute_result"
    }
   ],
   "source": [
    "#Count of only alphabets\n",
    "string = 'Football is a family of team sports that involve, to varying degrees, kicking a ball to score a goal.'\n",
    "string = string.lower()\n",
    "set1 = set(string)\n",
    "char_frequency = {}\n",
    "for char in set1:\n",
    "    if char.isalpha():\n",
    "        char_frequency[char] = string.count(char)\n",
    "char_frequency  "
   ]
  },
  {
   "cell_type": "code",
   "execution_count": 44,
   "id": "6a09a688-74b3-4647-9be8-5fc2146a18ba",
   "metadata": {},
   "outputs": [
    {
     "data": {
      "text/plain": [
       "{'  abc ': 123, 'xyz     ': 456, 'abc xyz': 789}"
      ]
     },
     "execution_count": 44,
     "metadata": {},
     "output_type": "execute_result"
    }
   ],
   "source": [
    "# Write a Python program to remove spaces from dictionary keys. \n",
    "\n",
    "d = {'  abc ':123,\n",
    "     'xyz     ':456,\n",
    "     'abc xyz':789}\n",
    "d"
   ]
  },
  {
   "cell_type": "code",
   "execution_count": 45,
   "id": "d0718bcd-dbb6-41df-8d41-6bfdfdf53c57",
   "metadata": {},
   "outputs": [
    {
     "data": {
      "text/plain": [
       "{'abc': 123, 'xyz': 456, 'abcxyz': 789}"
      ]
     },
     "execution_count": 45,
     "metadata": {},
     "output_type": "execute_result"
    }
   ],
   "source": [
    "# Write a Python program to remove spaces from dictionary keys. \n",
    "\n",
    "d1 = {'  abc ':123,\n",
    "     'xyz     ':456,\n",
    "     'abc xyz':789}\n",
    "d2 = {}\n",
    "for key, value in d1.items():\n",
    "    d2[key.replace(' ', '')] = value\n",
    "d2"
   ]
  },
  {
   "cell_type": "code",
   "execution_count": 48,
   "id": "a8e57d7d-33c6-404f-8a6a-5499aa082cf3",
   "metadata": {},
   "outputs": [
    {
     "data": {
      "text/plain": [
       "15"
      ]
     },
     "execution_count": 48,
     "metadata": {},
     "output_type": "execute_result"
    }
   ],
   "source": [
    "table = {\n",
    " 'x': [11, 12, 13, 14, 15, 16, 17, 18, 19],\n",
    " 'y': [21, 22, 23, 24, 25, 26, 27, 28, 29],\n",
    " 'z': [31, 32, 33, 34, 35, 36, 37, 38, 39]\n",
    " }\n",
    "list1 = table['x']\n",
    "list1[4]"
   ]
  },
  {
   "cell_type": "code",
   "execution_count": 49,
   "id": "c86fedf8-bbd5-43ce-bb33-c805309abeb2",
   "metadata": {},
   "outputs": [
    {
     "data": {
      "text/plain": [
       "[15, 25, 35]"
      ]
     },
     "execution_count": 49,
     "metadata": {},
     "output_type": "execute_result"
    }
   ],
   "source": [
    "table = {\n",
    " 'x': [11, 12, 13, 14, 15, 16, 17, 18, 19],\n",
    " 'y': [21, 22, 23, 24, 25, 26, 27, 28, 29],\n",
    " 'z': [31, 32, 33, 34, 35, 36, 37, 38, 39]\n",
    " }\n",
    "result = []\n",
    "for k, v in table.items():\n",
    "    list1 = table[k]\n",
    "    result.append(list1[4])\n",
    "result"
   ]
  },
  {
   "cell_type": "code",
   "execution_count": null,
   "id": "f2a8e1c7-e386-4cde-b165-a5158a936feb",
   "metadata": {},
   "outputs": [],
   "source": []
  }
 ],
 "metadata": {
  "kernelspec": {
   "display_name": "Python 3 (ipykernel)",
   "language": "python",
   "name": "python3"
  },
  "language_info": {
   "codemirror_mode": {
    "name": "ipython",
    "version": 3
   },
   "file_extension": ".py",
   "mimetype": "text/x-python",
   "name": "python",
   "nbconvert_exporter": "python",
   "pygments_lexer": "ipython3",
   "version": "3.10.12"
  }
 },
 "nbformat": 4,
 "nbformat_minor": 5
}
