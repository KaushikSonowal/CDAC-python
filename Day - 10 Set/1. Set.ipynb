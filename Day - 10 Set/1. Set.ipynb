{
 "cells": [
  {
   "cell_type": "markdown",
   "id": "16ab703f-c607-4718-8303-6a4243c88868",
   "metadata": {},
   "source": [
    "## Set"
   ]
  },
  {
   "cell_type": "code",
   "execution_count": null,
   "id": "db41d5cc-0567-4f13-8228-f4a3daf4c1e2",
   "metadata": {},
   "outputs": [],
   "source": [
    "- collection of unique elements\n",
    "- mutable\n",
    "- duplicates not allowed\n",
    "- unordered\n",
    "- heterogenous (only immutables allowed)"
   ]
  },
  {
   "cell_type": "markdown",
   "id": "5906560f-7d76-4793-8091-04fa0bea388c",
   "metadata": {},
   "source": [
    "### Initialize"
   ]
  },
  {
   "cell_type": "code",
   "execution_count": 1,
   "id": "084934db-332c-4ba3-b9c3-38c0562fa9e7",
   "metadata": {},
   "outputs": [
    {
     "name": "stdout",
     "output_type": "stream",
     "text": [
      "<class 'dict'>\n"
     ]
    }
   ],
   "source": [
    "# this created dictionary is not set\n",
    "s = {}\n",
    "print(type(s))"
   ]
  },
  {
   "cell_type": "code",
   "execution_count": 2,
   "id": "45d1fb40-31bd-4d89-89c2-c241796910c5",
   "metadata": {},
   "outputs": [
    {
     "name": "stdout",
     "output_type": "stream",
     "text": [
      "<class 'set'>\n"
     ]
    }
   ],
   "source": [
    "s = set()\n",
    "print(type(s))"
   ]
  },
  {
   "cell_type": "code",
   "execution_count": 3,
   "id": "f7d8f166-143e-45aa-8648-db4a20b84aa2",
   "metadata": {},
   "outputs": [
    {
     "name": "stdout",
     "output_type": "stream",
     "text": [
      "{1, 2, 3, 4}\n"
     ]
    }
   ],
   "source": [
    "s = {1,2,3,4}\n",
    "print(s)"
   ]
  },
  {
   "cell_type": "code",
   "execution_count": 4,
   "id": "809053a8-bd79-4762-8d67-63942d34cd34",
   "metadata": {},
   "outputs": [
    {
     "data": {
      "text/plain": [
       "{1, 2, 3, 4, 'CBP'}"
      ]
     },
     "execution_count": 4,
     "metadata": {},
     "output_type": "execute_result"
    }
   ],
   "source": [
    "s = {1, 2, 3, 4, 'CBP'}\n",
    "s"
   ]
  },
  {
   "cell_type": "code",
   "execution_count": 5,
   "id": "bbb1c4b9-1023-4a7f-b214-dda84ccba5fd",
   "metadata": {},
   "outputs": [
    {
     "ename": "TypeError",
     "evalue": "unhashable type: 'list'",
     "output_type": "error",
     "traceback": [
      "\u001b[0;31m---------------------------------------------------------------------------\u001b[0m",
      "\u001b[0;31mTypeError\u001b[0m                                 Traceback (most recent call last)",
      "Cell \u001b[0;32mIn[5], line 1\u001b[0m\n\u001b[0;32m----> 1\u001b[0m s \u001b[38;5;241m=\u001b[39m {\u001b[38;5;241m1\u001b[39m, \u001b[38;5;241m2\u001b[39m, [\u001b[38;5;241m1\u001b[39m, \u001b[38;5;241m2\u001b[39m, \u001b[38;5;241m3\u001b[39m, \u001b[38;5;241m4\u001b[39m]}\n",
      "\u001b[0;31mTypeError\u001b[0m: unhashable type: 'list'"
     ]
    }
   ],
   "source": [
    "s = {1, 2, [1, 2, 3, 4]}"
   ]
  },
  {
   "cell_type": "code",
   "execution_count": null,
   "id": "7eb4d46b-2bd4-4f72-a2f7-6a9386a42ecd",
   "metadata": {},
   "outputs": [],
   "source": [
    "s = {1,2,{1:'ABC', 2:'XYZ'}}"
   ]
  },
  {
   "cell_type": "code",
   "execution_count": null,
   "id": "fe2dbe72-e4ce-48d5-96d2-c2051782fdb1",
   "metadata": {},
   "outputs": [],
   "source": [
    "s = {1,2,{}} # there is dictionary here"
   ]
  },
  {
   "cell_type": "code",
   "execution_count": null,
   "id": "f0f63099-2467-4e05-b9ca-29f0d0f96b8e",
   "metadata": {},
   "outputs": [],
   "source": [
    "s = {1,2,{'a', 'b'}}"
   ]
  },
  {
   "cell_type": "code",
   "execution_count": null,
   "id": "4de402e9-0cf1-4638-a7f7-a1e4e23426a1",
   "metadata": {},
   "outputs": [],
   "source": [
    "s = {'Delhi', 'Kolkata', 'Pune', 'Mumbai'}"
   ]
  },
  {
   "cell_type": "code",
   "execution_count": 8,
   "id": "ab36ee8e-2d1d-4887-98b2-a0758d6c4b1c",
   "metadata": {},
   "outputs": [
    {
     "data": {
      "text/plain": [
       "{1, 2, 3, 4}"
      ]
     },
     "execution_count": 8,
     "metadata": {},
     "output_type": "execute_result"
    }
   ],
   "source": [
    "s = {1,2,3,4,1,1,1,1,1,1,1,1}\n",
    "s"
   ]
  },
  {
   "cell_type": "code",
   "execution_count": null,
   "id": "3ec35373-7d46-41ee-ac2d-83f13a19f5bd",
   "metadata": {},
   "outputs": [],
   "source": [
    "s = {1, 2, 3, 4, 5, 6, 7, 8, 9}\n",
    "s"
   ]
  },
  {
   "cell_type": "code",
   "execution_count": null,
   "id": "15ba6ff2-79e9-4b90-abd1-f7dafc8242f8",
   "metadata": {},
   "outputs": [],
   "source": [
    "s = {1,2,3,4,5}\n",
    "for i in range(len(s)):\n",
    "    print(s[i])"
   ]
  },
  {
   "cell_type": "code",
   "execution_count": 9,
   "id": "f0515030-fe30-41bb-a783-dc4db9541f88",
   "metadata": {},
   "outputs": [
    {
     "name": "stdout",
     "output_type": "stream",
     "text": [
      "1\n",
      "2\n",
      "3\n",
      "4\n",
      "5\n"
     ]
    }
   ],
   "source": [
    "s = {1,2,3,4,5}\n",
    "for i in s:\n",
    "    print(i)"
   ]
  },
  {
   "cell_type": "markdown",
   "id": "1d1175df-4cdd-48b2-95a3-411233eeedbb",
   "metadata": {},
   "source": [
    "## Set Functions\n",
    "\n",
    "### Delete items from set\n",
    "\n",
    "#### 1. remove()"
   ]
  },
  {
   "cell_type": "code",
   "execution_count": 11,
   "id": "4ee61ac3-9ff0-4acd-a2b6-d0ee67a0e7a0",
   "metadata": {},
   "outputs": [],
   "source": [
    "s = {'Delhi', 'Mumbai', 'Banglore', 'Guwahati'}"
   ]
  },
  {
   "cell_type": "code",
   "execution_count": 12,
   "id": "2b7d8201-1ea4-49fb-aa7d-24078c0b3c3e",
   "metadata": {},
   "outputs": [
    {
     "data": {
      "text/plain": [
       "{'Banglore', 'Guwahati', 'Mumbai'}"
      ]
     },
     "execution_count": 12,
     "metadata": {},
     "output_type": "execute_result"
    }
   ],
   "source": [
    "s.remove('Delhi')\n",
    "s"
   ]
  },
  {
   "cell_type": "code",
   "execution_count": 13,
   "id": "6d36a90a-1334-4d25-8ea9-3be33b282ac4",
   "metadata": {},
   "outputs": [
    {
     "data": {
      "text/plain": [
       "{'Banglore', 'Guwahati', 'Mumbai'}"
      ]
     },
     "execution_count": 13,
     "metadata": {},
     "output_type": "execute_result"
    }
   ],
   "source": [
    "s"
   ]
  },
  {
   "cell_type": "code",
   "execution_count": 1,
   "id": "ce4863a3-3520-4996-9f95-9d32f6e934f6",
   "metadata": {},
   "outputs": [
    {
     "ename": "NameError",
     "evalue": "name 's' is not defined",
     "output_type": "error",
     "traceback": [
      "\u001b[0;31m---------------------------------------------------------------------------\u001b[0m",
      "\u001b[0;31mNameError\u001b[0m                                 Traceback (most recent call last)",
      "Cell \u001b[0;32mIn[1], line 1\u001b[0m\n\u001b[0;32m----> 1\u001b[0m \u001b[43ms\u001b[49m\u001b[38;5;241m.\u001b[39mremove(\u001b[38;5;124m'\u001b[39m\u001b[38;5;124mbhopal\u001b[39m\u001b[38;5;124m'\u001b[39m)\n",
      "\u001b[0;31mNameError\u001b[0m: name 's' is not defined"
     ]
    }
   ],
   "source": [
    "s.remove('bhopal')"
   ]
  },
  {
   "cell_type": "code",
   "execution_count": null,
   "id": "3ca3cca5-18a6-4519-aa0c-37db9c322610",
   "metadata": {},
   "outputs": [],
   "source": [
    "s.remove('mumbai')"
   ]
  },
  {
   "cell_type": "code",
   "execution_count": 14,
   "id": "be6ebfd2-ccaf-47e0-a688-ec0f1dac6b28",
   "metadata": {},
   "outputs": [
    {
     "data": {
      "text/plain": [
       "{'Banglore', 'Guwahati'}"
      ]
     },
     "execution_count": 14,
     "metadata": {},
     "output_type": "execute_result"
    }
   ],
   "source": [
    "s.remove('mumbai'.title())\n",
    "s"
   ]
  },
  {
   "cell_type": "markdown",
   "id": "c9701580-20dd-4667-8ff2-654d3f996b6e",
   "metadata": {},
   "source": [
    "### 2. discard()"
   ]
  },
  {
   "cell_type": "code",
   "execution_count": 15,
   "id": "587f064e-c21f-43ad-9881-0de150b7164b",
   "metadata": {},
   "outputs": [],
   "source": [
    "s = {'Delhi', 'Kolkata', 'Pune', 'Mumbai'}"
   ]
  },
  {
   "cell_type": "code",
   "execution_count": 16,
   "id": "b53ffabc-5f5e-46cb-8fdb-a1e5b96c98a8",
   "metadata": {},
   "outputs": [
    {
     "data": {
      "text/plain": [
       "{'Kolkata', 'Mumbai', 'Pune'}"
      ]
     },
     "execution_count": 16,
     "metadata": {},
     "output_type": "execute_result"
    }
   ],
   "source": [
    "s.discard('Delhi')\n",
    "s"
   ]
  },
  {
   "cell_type": "code",
   "execution_count": 17,
   "id": "6a6bb67b-2f0d-4fcc-9052-c328e857057f",
   "metadata": {},
   "outputs": [
    {
     "data": {
      "text/plain": [
       "{'Kolkata', 'Mumbai', 'Pune'}"
      ]
     },
     "execution_count": 17,
     "metadata": {},
     "output_type": "execute_result"
    }
   ],
   "source": [
    "s.discard('Thane')\n",
    "s"
   ]
  },
  {
   "cell_type": "code",
   "execution_count": 18,
   "id": "5ef0da9e-af61-4605-9e6f-5776ae6f47eb",
   "metadata": {},
   "outputs": [
    {
     "data": {
      "text/plain": [
       "{'Kolkata', 'Mumbai', 'Pune'}"
      ]
     },
     "execution_count": 18,
     "metadata": {},
     "output_type": "execute_result"
    }
   ],
   "source": [
    "s = {'Delhi', 'Kolkata', 'Pune', 'Mumbai'}\n",
    "s.discard('delhi'.title())\n",
    "s"
   ]
  },
  {
   "cell_type": "markdown",
   "id": "c3a1cecb-e475-413d-b2c2-f5bc8482bf67",
   "metadata": {},
   "source": [
    "### 3. pop()"
   ]
  },
  {
   "cell_type": "code",
   "execution_count": 19,
   "id": "c49e00de-bfb5-4f28-ab12-38ae93b9b031",
   "metadata": {},
   "outputs": [
    {
     "data": {
      "text/plain": [
       "[99, 43, 97, 39, 94, 39, 75, 61, 32, 60]"
      ]
     },
     "execution_count": 19,
     "metadata": {},
     "output_type": "execute_result"
    }
   ],
   "source": [
    "import random\n",
    "set1 = [random.randint(10,99) for i in range(10)]\n",
    "set1"
   ]
  },
  {
   "cell_type": "code",
   "execution_count": 20,
   "id": "1da70444-2cdd-48d5-bf4c-e280ff7db63d",
   "metadata": {},
   "outputs": [
    {
     "data": {
      "text/plain": [
       "{13, 18, 26, 43, 50, 53, 54, 55, 83}"
      ]
     },
     "execution_count": 20,
     "metadata": {},
     "output_type": "execute_result"
    }
   ],
   "source": [
    "set1 = set([random.randint(10,99) for i in range(10)])\n",
    "set1"
   ]
  },
  {
   "cell_type": "code",
   "execution_count": 21,
   "id": "afd1f99f-d728-4974-bc9b-832c8730eb06",
   "metadata": {},
   "outputs": [
    {
     "data": {
      "text/plain": [
       "96"
      ]
     },
     "execution_count": 21,
     "metadata": {},
     "output_type": "execute_result"
    }
   ],
   "source": [
    "set1 = {12, 13, 14, 49, 81, 85, 92, 96}\n",
    "set1.pop()"
   ]
  },
  {
   "cell_type": "code",
   "execution_count": 22,
   "id": "e48ae714-4e5d-40b5-ace3-2cb8469cfee5",
   "metadata": {},
   "outputs": [
    {
     "data": {
      "text/plain": [
       "12"
      ]
     },
     "execution_count": 22,
     "metadata": {},
     "output_type": "execute_result"
    }
   ],
   "source": [
    "set1.pop()"
   ]
  },
  {
   "cell_type": "code",
   "execution_count": 23,
   "id": "a31b0427-778e-4938-86cf-ff7e562f7921",
   "metadata": {},
   "outputs": [
    {
     "data": {
      "text/plain": [
       "{13, 14, 49, 81, 85, 92}"
      ]
     },
     "execution_count": 23,
     "metadata": {},
     "output_type": "execute_result"
    }
   ],
   "source": [
    "set1"
   ]
  },
  {
   "cell_type": "markdown",
   "id": "7eec35c3-8097-4152-bd5b-c09ae334cd03",
   "metadata": {},
   "source": [
    "### 4. clear()"
   ]
  },
  {
   "cell_type": "code",
   "execution_count": 24,
   "id": "fdcf6668-1b17-431e-a401-795fba45b32d",
   "metadata": {},
   "outputs": [
    {
     "data": {
      "text/plain": [
       "{1, 2, 3, 4, 5}"
      ]
     },
     "execution_count": 24,
     "metadata": {},
     "output_type": "execute_result"
    }
   ],
   "source": [
    "s = {1,2,3,4,5}\n",
    "s"
   ]
  },
  {
   "cell_type": "code",
   "execution_count": 25,
   "id": "5a1ff04c-6da3-436a-afc5-ae03df314b21",
   "metadata": {},
   "outputs": [
    {
     "data": {
      "text/plain": [
       "set()"
      ]
     },
     "execution_count": 25,
     "metadata": {},
     "output_type": "execute_result"
    }
   ],
   "source": [
    "s.clear()\n",
    "s"
   ]
  },
  {
   "cell_type": "code",
   "execution_count": 26,
   "id": "6c685e7e-f44f-4e1e-a837-3b9809706a51",
   "metadata": {},
   "outputs": [
    {
     "name": "stdout",
     "output_type": "stream",
     "text": [
      "1 -> {2, 3, 4, 5}\n",
      "2 -> {3, 4, 5}\n",
      "3 -> {4, 5}\n",
      "4 -> {5}\n",
      "5 -> set()\n"
     ]
    }
   ],
   "source": [
    "s = {1,2,3,4,5}\n",
    "for i in range(len(s)):\n",
    "    print(s.pop(), '->',s)"
   ]
  },
  {
   "cell_type": "markdown",
   "id": "39100133-4572-4649-8d0d-38843e61a6c8",
   "metadata": {},
   "source": [
    "### 4. del"
   ]
  },
  {
   "cell_type": "code",
   "execution_count": 27,
   "id": "b2a3b7a0-3619-4585-a6ef-272e13bba1e3",
   "metadata": {},
   "outputs": [],
   "source": [
    "s = {1,2,3,4,5}\n",
    "del s"
   ]
  },
  {
   "cell_type": "code",
   "execution_count": 28,
   "id": "0408c9b5-1344-45c9-8b43-e11646986ec3",
   "metadata": {},
   "outputs": [
    {
     "ename": "NameError",
     "evalue": "name 's' is not defined",
     "output_type": "error",
     "traceback": [
      "\u001b[0;31m---------------------------------------------------------------------------\u001b[0m",
      "\u001b[0;31mNameError\u001b[0m                                 Traceback (most recent call last)",
      "Cell \u001b[0;32mIn[28], line 3\u001b[0m\n\u001b[1;32m      1\u001b[0m s \u001b[38;5;241m=\u001b[39m {\u001b[38;5;241m1\u001b[39m,\u001b[38;5;241m2\u001b[39m,\u001b[38;5;241m3\u001b[39m,\u001b[38;5;241m4\u001b[39m,\u001b[38;5;241m5\u001b[39m}\n\u001b[1;32m      2\u001b[0m \u001b[38;5;28;01mdel\u001b[39;00m s\n\u001b[0;32m----> 3\u001b[0m \u001b[43ms\u001b[49m\n",
      "\u001b[0;31mNameError\u001b[0m: name 's' is not defined"
     ]
    }
   ],
   "source": [
    "s = {1,2,3,4,5}\n",
    "del s\n",
    "s"
   ]
  },
  {
   "cell_type": "code",
   "execution_count": 29,
   "id": "b314e485-ba81-4b86-b65a-39b6aeda1c73",
   "metadata": {},
   "outputs": [
    {
     "data": {
      "text/plain": [
       "[1, 2, 4]"
      ]
     },
     "execution_count": 29,
     "metadata": {},
     "output_type": "execute_result"
    }
   ],
   "source": [
    "list1 = [1,2,3,4]\n",
    "del list1[2]\n",
    "list1"
   ]
  },
  {
   "cell_type": "code",
   "execution_count": 30,
   "id": "e639956d-8450-494e-993f-aa714eb3aa51",
   "metadata": {},
   "outputs": [
    {
     "ename": "TypeError",
     "evalue": "'set' object doesn't support item deletion",
     "output_type": "error",
     "traceback": [
      "\u001b[0;31m---------------------------------------------------------------------------\u001b[0m",
      "\u001b[0;31mTypeError\u001b[0m                                 Traceback (most recent call last)",
      "Cell \u001b[0;32mIn[30], line 2\u001b[0m\n\u001b[1;32m      1\u001b[0m s \u001b[38;5;241m=\u001b[39m {\u001b[38;5;241m1\u001b[39m,\u001b[38;5;241m2\u001b[39m,\u001b[38;5;241m3\u001b[39m,\u001b[38;5;241m4\u001b[39m,\u001b[38;5;241m5\u001b[39m}\n\u001b[0;32m----> 2\u001b[0m \u001b[38;5;28;01mdel\u001b[39;00m s[\u001b[38;5;241m1\u001b[39m]\n",
      "\u001b[0;31mTypeError\u001b[0m: 'set' object doesn't support item deletion"
     ]
    }
   ],
   "source": [
    "s = {1,2,3,4,5}\n",
    "del s[1]"
   ]
  },
  {
   "cell_type": "markdown",
   "id": "94e0f0cb-0575-453f-9e41-d50502461ab9",
   "metadata": {},
   "source": [
    "## Add items in set\n",
    "### 5. add()"
   ]
  },
  {
   "cell_type": "code",
   "execution_count": 31,
   "id": "a9720f58-ba05-463b-af2a-3c8cda86eb98",
   "metadata": {},
   "outputs": [
    {
     "data": {
      "text/plain": [
       "set()"
      ]
     },
     "execution_count": 31,
     "metadata": {},
     "output_type": "execute_result"
    }
   ],
   "source": [
    "s = set()\n",
    "s"
   ]
  },
  {
   "cell_type": "code",
   "execution_count": 33,
   "id": "a74812b0-3e4f-4550-bc48-e5aa63fc14e2",
   "metadata": {},
   "outputs": [
    {
     "data": {
      "text/plain": [
       "{33}"
      ]
     },
     "execution_count": 33,
     "metadata": {},
     "output_type": "execute_result"
    }
   ],
   "source": [
    "s.add(33)\n",
    "s"
   ]
  },
  {
   "cell_type": "code",
   "execution_count": 34,
   "id": "34817396-666a-4502-b505-4ed036f57a29",
   "metadata": {},
   "outputs": [
    {
     "data": {
      "text/plain": [
       "{33, 'abc'}"
      ]
     },
     "execution_count": 34,
     "metadata": {},
     "output_type": "execute_result"
    }
   ],
   "source": [
    "s.add('abc')\n",
    "s"
   ]
  },
  {
   "cell_type": "code",
   "execution_count": 35,
   "id": "e672a509-c358-4427-8351-5120cda68fb4",
   "metadata": {},
   "outputs": [
    {
     "data": {
      "text/plain": [
       "{('s1', 's2', 's3'), 33, 'abc'}"
      ]
     },
     "execution_count": 35,
     "metadata": {},
     "output_type": "execute_result"
    }
   ],
   "source": [
    "s.add(('s1', 's2', 's3'))\n",
    "s"
   ]
  },
  {
   "cell_type": "code",
   "execution_count": 36,
   "id": "b7eabc51-d8f5-46c0-8a96-d23d1d8401c6",
   "metadata": {},
   "outputs": [
    {
     "data": {
      "text/plain": [
       "{1, 2, 3, 4, 5}"
      ]
     },
     "execution_count": 36,
     "metadata": {},
     "output_type": "execute_result"
    }
   ],
   "source": [
    "s = {1,2,3,4,5}\n",
    "s.add(1)\n",
    "s"
   ]
  },
  {
   "cell_type": "code",
   "execution_count": 37,
   "id": "b242226e-28ec-495f-a440-12657f3ca364",
   "metadata": {},
   "outputs": [
    {
     "data": {
      "text/plain": [
       "{1, 2, 3, 4, 5}"
      ]
     },
     "execution_count": 37,
     "metadata": {},
     "output_type": "execute_result"
    }
   ],
   "source": [
    "s = {1,2,3,4,5}\n",
    "s.add(5)\n",
    "s"
   ]
  },
  {
   "cell_type": "code",
   "execution_count": 38,
   "id": "d0c10218-6e54-484a-90b9-72c61c6d2f99",
   "metadata": {},
   "outputs": [
    {
     "data": {
      "text/plain": [
       "{1, 2, 3, 4, 5, 9999}"
      ]
     },
     "execution_count": 38,
     "metadata": {},
     "output_type": "execute_result"
    }
   ],
   "source": [
    "s = {1,2,3,4,5}\n",
    "s.add(9999)\n",
    "s"
   ]
  },
  {
   "cell_type": "markdown",
   "id": "c645c265-f81a-4ee8-9f68-91ed659a2d23",
   "metadata": {},
   "source": [
    "### 6. update"
   ]
  },
  {
   "cell_type": "code",
   "execution_count": 39,
   "id": "d680e032-5335-49e3-8ff0-3d274498b2fb",
   "metadata": {},
   "outputs": [
    {
     "name": "stdout",
     "output_type": "stream",
     "text": [
      "s1 -> {1, 2, 3, 'Pu', 'Ko', 'De'}\n",
      "s2 -> {'Ko', 'Pu', 'De'}\n"
     ]
    }
   ],
   "source": [
    "s1 = {1,2,3}\n",
    "s2 = {'De', 'Pu', 'Ko'}\n",
    "s1.update(s2)\n",
    "print('s1 ->', s1)\n",
    "print('s2 ->', s2)"
   ]
  },
  {
   "cell_type": "code",
   "execution_count": 41,
   "id": "ba81ce62-490d-4d16-ab66-83ecea407419",
   "metadata": {},
   "outputs": [
    {
     "name": "stdout",
     "output_type": "stream",
     "text": [
      "s1 -> {1, 2, 3}\n",
      "s2 -> {1, 2, 3, 'Pu', 'Ko', 'De'}\n"
     ]
    }
   ],
   "source": [
    "s1 = {1,2,3}\n",
    "s2 = {'De', 'Pu', 'Ko'}\n",
    "s2.update(s1)\n",
    "print('s1 ->', s1)\n",
    "print('s2 ->', s2)"
   ]
  },
  {
   "cell_type": "code",
   "execution_count": 42,
   "id": "f568c3d2-5001-4041-811f-fbaa5281b47b",
   "metadata": {},
   "outputs": [
    {
     "name": "stdout",
     "output_type": "stream",
     "text": [
      "s1 -> {1, 2, 3}\n"
     ]
    }
   ],
   "source": [
    "s1 = {1,2,3}\n",
    "s1.update(s1)\n",
    "print('s1 ->', s1)"
   ]
  },
  {
   "cell_type": "code",
   "execution_count": 43,
   "id": "00ca08f9-b7a8-427e-8026-62ca53e37979",
   "metadata": {},
   "outputs": [
    {
     "name": "stdout",
     "output_type": "stream",
     "text": [
      "{1, 2, 'c', 5, 7, 'a'}\n",
      "{'c', 2, 1, 6, 9, 'b'}\n"
     ]
    }
   ],
   "source": [
    "s1 = {1, 7, 2, 5, 'a', 'c'}\n",
    "s2 = {2, 6, 1, 9, 'c', 'b'}\n",
    "print(s1)\n",
    "print(s2)"
   ]
  },
  {
   "cell_type": "code",
   "execution_count": 45,
   "id": "c0221a77-5e62-4cf5-9532-a812a7a22cb7",
   "metadata": {},
   "outputs": [
    {
     "name": "stdout",
     "output_type": "stream",
     "text": [
      "s1 -> {1, 2, 'c', 5, 7, 'a'}\n",
      "s2 -> {'c', 2, 1, 6, 9, 'b'}\n",
      "s3 -> {1, 2, 'c', 5, 6, 7, 9, 'b', 'a'}\n"
     ]
    }
   ],
   "source": [
    "s1 = {1, 7, 2, 5, 'a', 'c'}\n",
    "s2 = {2, 6, 1, 9, 'c', 'b'}\n",
    "s3 = s1.union(s2)\n",
    "\n",
    "print('s1 ->', s1)\n",
    "print('s2 ->', s2)\n",
    "print('s3 ->', s3)"
   ]
  },
  {
   "cell_type": "markdown",
   "id": "5160a349-36b2-422d-b790-910c83162b86",
   "metadata": {},
   "source": [
    "### 7. intersection()"
   ]
  },
  {
   "cell_type": "code",
   "execution_count": 46,
   "id": "4c7f366e-8020-4e2d-8ab5-5c830bffa65d",
   "metadata": {},
   "outputs": [
    {
     "name": "stdout",
     "output_type": "stream",
     "text": [
      "s1 -> {1, 2, 'c', 5, 7, 'a'}\n",
      "s2 -> {'c', 2, 1, 6, 9, 'b'}\n",
      "s3 -> {'c', 2, 1}\n"
     ]
    }
   ],
   "source": [
    "s1 = {1, 7, 2, 5, 'a', 'c'}\n",
    "s2 = {2, 6, 1, 9, 'c', 'b'}\n",
    "s3 = s1.intersection(s2)\n",
    "\n",
    "print('s1 ->', s1)\n",
    "print('s2 ->', s2)\n",
    "print('s3 ->', s3)"
   ]
  },
  {
   "cell_type": "code",
   "execution_count": 47,
   "id": "ec17add9-0211-49b6-8e4f-7692c4925e7e",
   "metadata": {},
   "outputs": [
    {
     "name": "stdout",
     "output_type": "stream",
     "text": [
      "s1 -> {1, 2, 'c', 5, 7, 'a'}\n",
      "s2 -> {'c', 2, 1, 6, 9, 'b'}\n",
      "s3 -> {1, 2, 'c'}\n"
     ]
    }
   ],
   "source": [
    "s1 = {1, 7, 2, 5, 'a', 'c'}\n",
    "s2 = {2, 6, 1, 9, 'c', 'b'}\n",
    "s3 = s2.intersection(s1)\n",
    "\n",
    "print('s1 ->', s1)\n",
    "print('s2 ->', s2)\n",
    "print('s3 ->', s3)"
   ]
  },
  {
   "cell_type": "markdown",
   "id": "e76369d4-c1ef-4f4a-8e80-ab830178c3bb",
   "metadata": {},
   "source": [
    "### 7. intersection_update()"
   ]
  },
  {
   "cell_type": "code",
   "execution_count": 48,
   "id": "a9da071d-f64b-4d22-be58-62b8ebab5e4c",
   "metadata": {},
   "outputs": [
    {
     "name": "stdout",
     "output_type": "stream",
     "text": [
      "s1 -> {'c', 2, 1}\n",
      "s2 -> {'c', 2, 1, 6, 9, 'b'}\n",
      "s3 -> None\n"
     ]
    }
   ],
   "source": [
    "s1 = {1, 7, 2, 5, 'a', 'c'}\n",
    "s2 = {2, 6, 1, 9, 'c', 'b'}\n",
    "s3 = s1.intersection_update(s2)\n",
    "\n",
    "print('s1 ->', s1)\n",
    "print('s2 ->', s2)\n",
    "print('s3 ->', s3)"
   ]
  },
  {
   "cell_type": "markdown",
   "id": "2681aff9-416f-4f5b-870a-eb963a5a8c0c",
   "metadata": {},
   "source": [
    "### 8. symmetric_difference()"
   ]
  },
  {
   "cell_type": "code",
   "execution_count": 49,
   "id": "7310ab20-866d-4849-b38c-98a63e02fb90",
   "metadata": {},
   "outputs": [
    {
     "name": "stdout",
     "output_type": "stream",
     "text": [
      "s1 -> {1, 2, 'c', 5, 7, 'a'}\n",
      "s2 -> {'c', 2, 1, 6, 9, 'b'}\n",
      "s3 -> {5, 6, 7, 9, 'b', 'a'}\n"
     ]
    }
   ],
   "source": [
    "s1 = {1, 7, 2, 5, 'a', 'c'}\n",
    "s2 = {2, 6, 1, 9, 'c', 'b'}\n",
    "s3 = s1.symmetric_difference(s2)\n",
    "\n",
    "print('s1 ->', s1)\n",
    "print('s2 ->', s2)\n",
    "print('s3 ->', s3)"
   ]
  },
  {
   "cell_type": "markdown",
   "id": "4f16c3c9-6265-4476-8256-f0cbeabba798",
   "metadata": {},
   "source": [
    "### 9. symmetric_difference_update()"
   ]
  },
  {
   "cell_type": "code",
   "execution_count": 50,
   "id": "dec536d5-ccde-47cc-bb83-fcb29b4eb8a3",
   "metadata": {},
   "outputs": [
    {
     "name": "stdout",
     "output_type": "stream",
     "text": [
      "s1 -> {5, 6, 7, 9, 'b', 'a'}\n",
      "s2 -> {'c', 2, 1, 6, 9, 'b'}\n",
      "s3 -> None\n"
     ]
    }
   ],
   "source": [
    "s1 = {1, 7, 2, 5, 'a', 'c'}\n",
    "s2 = {2, 6, 1, 9, 'c', 'b'}\n",
    "s3 = s1.symmetric_difference_update(s2)\n",
    "\n",
    "print('s1 ->', s1)\n",
    "print('s2 ->', s2)\n",
    "print('s3 ->', s3)"
   ]
  },
  {
   "cell_type": "code",
   "execution_count": 51,
   "id": "fd413c8b-2d11-423d-824f-f0315bd73312",
   "metadata": {},
   "outputs": [
    {
     "name": "stdout",
     "output_type": "stream",
     "text": [
      "s1 -> {1, 2, 'c', 5, 7, 'a'}\n",
      "s2 -> {5, 6, 7, 9, 'b', 'a'}\n",
      "s3 -> None\n"
     ]
    }
   ],
   "source": [
    "s1 = {1, 7, 2, 5, 'a', 'c'}\n",
    "s2 = {2, 6, 1, 9, 'c', 'b'}\n",
    "s3 = s2.symmetric_difference_update(s1)\n",
    "\n",
    "print('s1 ->', s1)\n",
    "print('s2 ->', s2)\n",
    "print('s3 ->', s3)"
   ]
  },
  {
   "cell_type": "markdown",
   "id": "8e12b070-d239-40f2-bb53-c2b87c7904ad",
   "metadata": {},
   "source": [
    "### 10. Set difference using '-' operator"
   ]
  },
  {
   "cell_type": "code",
   "execution_count": 52,
   "id": "2bcdbf15-36cd-4bd0-9e8d-52112b56ef3d",
   "metadata": {},
   "outputs": [
    {
     "name": "stdout",
     "output_type": "stream",
     "text": [
      "s1 -> {1, 2, 'c', 5, 7, 'a'}\n",
      "s2 -> {'c', 2, 1, 6, 9, 'b'}\n",
      "s3 -> {'a', 5, 7}\n"
     ]
    }
   ],
   "source": [
    "s1 = {1, 7, 2, 5, 'a', 'c'}\n",
    "s2 = {2, 6, 1, 9, 'c', 'b'}\n",
    "s3 = s1 - s2\n",
    "\n",
    "print('s1 ->', s1)\n",
    "print('s2 ->', s2)\n",
    "print('s3 ->', s3)"
   ]
  },
  {
   "cell_type": "code",
   "execution_count": 53,
   "id": "f10076b8-6c22-487c-8353-f66850cae239",
   "metadata": {},
   "outputs": [
    {
     "name": "stdout",
     "output_type": "stream",
     "text": [
      "s1 -> {1, 2, 'c', 5, 7, 'a'}\n",
      "s2 -> {'c', 2, 1, 6, 9, 'b'}\n",
      "s3 -> {9, 'b', 6}\n"
     ]
    }
   ],
   "source": [
    "s1 = {1, 7, 2, 5, 'a', 'c'}\n",
    "s2 = {2, 6, 1, 9, 'c', 'b'}\n",
    "s3 = s2 - s1\n",
    "\n",
    "print('s1 ->', s1)\n",
    "print('s2 ->', s2)\n",
    "print('s3 ->', s3)"
   ]
  },
  {
   "cell_type": "code",
   "execution_count": 54,
   "id": "2a777306-1714-43c0-a7f9-dbc10fe9448b",
   "metadata": {},
   "outputs": [
    {
     "name": "stdout",
     "output_type": "stream",
     "text": [
      "s1 -> {1, 2, 3, 4, 5, 6}\n",
      "s2 -> {4, 5, 6, 7, 8, 9}\n",
      "s3 -> {1, 2, 3}\n"
     ]
    }
   ],
   "source": [
    "s1 = {1,2,3,4,5,6}\n",
    "s2 = {4,5,6,7,8,9}\n",
    "s3 = s1 - s2\n",
    "\n",
    "print('s1 ->', s1)\n",
    "print('s2 ->', s2)\n",
    "print('s3 ->', s3)"
   ]
  },
  {
   "cell_type": "code",
   "execution_count": 55,
   "id": "7d05e818-6ea8-4ed3-9796-ec12cb63dac3",
   "metadata": {},
   "outputs": [
    {
     "name": "stdout",
     "output_type": "stream",
     "text": [
      "s1 -> {1, 2, 3, 4, 5, 6}\n",
      "s2 -> {4, 5, 6, 7, 8, 9}\n",
      "s3 -> {8, 9, 7}\n"
     ]
    }
   ],
   "source": [
    "s1 = {1,2,3,4,5,6}\n",
    "s2 = {4,5,6,7,8,9}\n",
    "s3 = s2 - s1\n",
    "\n",
    "print('s1 ->', s1)\n",
    "print('s2 ->', s2)\n",
    "print('s3 ->', s3)"
   ]
  },
  {
   "cell_type": "markdown",
   "id": "81ec8e07-34ee-4085-b875-c7efc1ca0a0f",
   "metadata": {},
   "source": [
    "### 11. isdisjoint()"
   ]
  },
  {
   "cell_type": "code",
   "execution_count": 56,
   "id": "4756e584-a02a-48e5-8f8f-419a0d2d526d",
   "metadata": {},
   "outputs": [
    {
     "data": {
      "text/plain": [
       "True"
      ]
     },
     "execution_count": 56,
     "metadata": {},
     "output_type": "execute_result"
    }
   ],
   "source": [
    "s1 = {1,2,3}\n",
    "s2 = {4,5,6}\n",
    "s1.isdisjoint(s2)"
   ]
  },
  {
   "cell_type": "code",
   "execution_count": 57,
   "id": "a5c74a96-fc52-45fa-8da8-591403f14eab",
   "metadata": {},
   "outputs": [
    {
     "data": {
      "text/plain": [
       "False"
      ]
     },
     "execution_count": 57,
     "metadata": {},
     "output_type": "execute_result"
    }
   ],
   "source": [
    "s1 = {1,2,3, 'Mumbai'}\n",
    "s2 = {'Mumbai', 4,5,6}\n",
    "s1.isdisjoint(s2)"
   ]
  },
  {
   "cell_type": "code",
   "execution_count": 58,
   "id": "a3e6aa9b-b4bb-4b54-910a-1449f60400ad",
   "metadata": {},
   "outputs": [
    {
     "data": {
      "text/plain": [
       "True"
      ]
     },
     "execution_count": 58,
     "metadata": {},
     "output_type": "execute_result"
    }
   ],
   "source": [
    "s1 = {1,2,3, 'Mumbai'}\n",
    "s2 = {'mumbai', 4,5,6}\n",
    "s1.isdisjoint(s2)"
   ]
  },
  {
   "cell_type": "markdown",
   "id": "b71fb6ee-e012-4643-9b4d-3725d5a493ec",
   "metadata": {},
   "source": [
    "### 12. issubset()"
   ]
  },
  {
   "cell_type": "code",
   "execution_count": 59,
   "id": "f77888bf-ebee-4cc4-b80c-0db5a597ca5a",
   "metadata": {},
   "outputs": [
    {
     "data": {
      "text/plain": [
       "True"
      ]
     },
     "execution_count": 59,
     "metadata": {},
     "output_type": "execute_result"
    }
   ],
   "source": [
    "s1 = {1,2}\n",
    "s2 = {1,2,3,4,5}\n",
    "s1.issubset(s2)"
   ]
  },
  {
   "cell_type": "code",
   "execution_count": 60,
   "id": "2cb4eee5-ea32-4a29-83e7-a77cf65aa3d6",
   "metadata": {},
   "outputs": [
    {
     "data": {
      "text/plain": [
       "False"
      ]
     },
     "execution_count": 60,
     "metadata": {},
     "output_type": "execute_result"
    }
   ],
   "source": [
    "s1 = {1,2,7}\n",
    "s2 = {1,2,3,4,5}\n",
    "s1.issubset(s2)"
   ]
  },
  {
   "cell_type": "code",
   "execution_count": 61,
   "id": "d5944630-bff9-40c9-8b03-8d8d884740a0",
   "metadata": {},
   "outputs": [
    {
     "data": {
      "text/plain": [
       "True"
      ]
     },
     "execution_count": 61,
     "metadata": {},
     "output_type": "execute_result"
    }
   ],
   "source": [
    "set().issubset({1,2,3})"
   ]
  },
  {
   "cell_type": "code",
   "execution_count": 62,
   "id": "7b775c71-7fe7-4560-b992-f3f944771cb0",
   "metadata": {},
   "outputs": [
    {
     "data": {
      "text/plain": [
       "True"
      ]
     },
     "execution_count": 62,
     "metadata": {},
     "output_type": "execute_result"
    }
   ],
   "source": [
    "set().issubset(set())"
   ]
  },
  {
   "cell_type": "markdown",
   "id": "1b67a335-3606-41b4-bc41-19dc76c4a550",
   "metadata": {},
   "source": [
    "#### 13. issuperset()"
   ]
  },
  {
   "cell_type": "code",
   "execution_count": 63,
   "id": "953a1e87-a2d6-4772-a048-db476e5fc1f9",
   "metadata": {},
   "outputs": [
    {
     "data": {
      "text/plain": [
       "True"
      ]
     },
     "execution_count": 63,
     "metadata": {},
     "output_type": "execute_result"
    }
   ],
   "source": [
    "s1 = {1,2,3}\n",
    "s2 = {1,2,3,4,5}\n",
    "s2.issuperset(s1)"
   ]
  },
  {
   "cell_type": "code",
   "execution_count": 64,
   "id": "26c162ae-16b1-4c27-a9c4-048736296249",
   "metadata": {},
   "outputs": [
    {
     "data": {
      "text/plain": [
       "False"
      ]
     },
     "execution_count": 64,
     "metadata": {},
     "output_type": "execute_result"
    }
   ],
   "source": [
    "s1 = {1,2,3,7}\n",
    "s2 = {1,2,3,4,5}\n",
    "s2.issuperset(s1)"
   ]
  },
  {
   "cell_type": "code",
   "execution_count": 65,
   "id": "81fa25da-16ae-43aa-b5ec-a1a7b8849ae6",
   "metadata": {},
   "outputs": [
    {
     "data": {
      "text/plain": [
       "True"
      ]
     },
     "execution_count": 65,
     "metadata": {},
     "output_type": "execute_result"
    }
   ],
   "source": [
    "s1.issuperset(s1)"
   ]
  },
  {
   "cell_type": "code",
   "execution_count": null,
   "id": "1dd50757-4a52-4b15-9e58-e987b8448ca3",
   "metadata": {},
   "outputs": [],
   "source": []
  }
 ],
 "metadata": {
  "kernelspec": {
   "display_name": "Python 3 (ipykernel)",
   "language": "python",
   "name": "python3"
  },
  "language_info": {
   "codemirror_mode": {
    "name": "ipython",
    "version": 3
   },
   "file_extension": ".py",
   "mimetype": "text/x-python",
   "name": "python",
   "nbconvert_exporter": "python",
   "pygments_lexer": "ipython3",
   "version": "3.10.12"
  }
 },
 "nbformat": 4,
 "nbformat_minor": 5
}
