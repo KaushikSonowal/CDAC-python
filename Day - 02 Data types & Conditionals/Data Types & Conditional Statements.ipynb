{
 "cells": [
  {
   "cell_type": "code",
   "execution_count": null,
   "id": "38fca0e2-d94c-4c96-bf90-5ffe217e9ffd",
   "metadata": {},
   "outputs": [],
   "source": [
    "number: int, float, complex\n",
    "\n",
    "string: str\n",
    "\n",
    "setDT: set, frozenset\n",
    "\n",
    "sequence: list, tuple, str\n",
    "\n",
    "hashmap: dict(dictionary)\n",
    "\n",
    "boolean: bool (True| False)"
   ]
  },
  {
   "cell_type": "code",
   "execution_count": 1,
   "id": "5a3a4c97-9c55-4cd8-bc31-ec65bff4512d",
   "metadata": {},
   "outputs": [
    {
     "name": "stdout",
     "output_type": "stream",
     "text": [
      "value of a = 23 \n",
      "Data Type is: <class 'int'>\n"
     ]
    }
   ],
   "source": [
    "a = 23\n",
    "print('value of a =', a, '\\nData Type is:', type(a))"
   ]
  },
  {
   "cell_type": "code",
   "execution_count": 2,
   "id": "8c3fd4d6-8318-443b-8bf9-c20f251d6cea",
   "metadata": {},
   "outputs": [
    {
     "name": "stdout",
     "output_type": "stream",
     "text": [
      "value of a = 33.56 \n",
      "Data Type is: <class 'float'>\n"
     ]
    }
   ],
   "source": [
    "a = 33.56\n",
    "print('value of a =', a, '\\nData Type is:', type(a))"
   ]
  },
  {
   "cell_type": "code",
   "execution_count": 3,
   "id": "9ddc387f-feea-411f-ae73-5a358a2767ca",
   "metadata": {},
   "outputs": [
    {
     "name": "stdout",
     "output_type": "stream",
     "text": [
      "value of a = Cdac \n",
      "Data Type is: <class 'str'>\n"
     ]
    }
   ],
   "source": [
    "a = 'Cdac'\n",
    "print('value of a =', a, '\\nData Type is:', type(a))"
   ]
  },
  {
   "cell_type": "code",
   "execution_count": 4,
   "id": "8fb96f09-bada-4047-81e9-e849344fb2b0",
   "metadata": {},
   "outputs": [],
   "source": [
    "var = complex(2,7)"
   ]
  },
  {
   "cell_type": "code",
   "execution_count": 5,
   "id": "f5c83b01-69f2-44dd-a21b-6fbed91e5c8c",
   "metadata": {},
   "outputs": [
    {
     "name": "stdout",
     "output_type": "stream",
     "text": [
      "value of var = (2+7j) \n",
      "Data Type is: <class 'complex'>\n"
     ]
    }
   ],
   "source": [
    "print('value of var =', var, '\\nData Type is:', type(var))"
   ]
  },
  {
   "cell_type": "markdown",
   "id": "736d3e87-2b7c-4f3a-a35b-48ab98c2dd9b",
   "metadata": {},
   "source": [
    "### int to float"
   ]
  },
  {
   "cell_type": "code",
   "execution_count": 6,
   "id": "f36f3d8b-7c78-4cb8-bcdd-259b2c85c0ba",
   "metadata": {},
   "outputs": [
    {
     "name": "stdout",
     "output_type": "stream",
     "text": [
      "23.0\n"
     ]
    }
   ],
   "source": [
    "a = 23\n",
    "b = float(a)\n",
    "print(b)"
   ]
  },
  {
   "cell_type": "markdown",
   "id": "7b8d3aa1-31df-4a39-b7d4-d56d96fb1776",
   "metadata": {},
   "source": [
    "### float to int"
   ]
  },
  {
   "cell_type": "code",
   "execution_count": 7,
   "id": "65b20ebb-86d0-463e-b5ab-19a79b87abe4",
   "metadata": {},
   "outputs": [
    {
     "name": "stdout",
     "output_type": "stream",
     "text": [
      "2\n"
     ]
    }
   ],
   "source": [
    "a = 2.34\n",
    "b = int(a)\n",
    "print(b)"
   ]
  },
  {
   "cell_type": "markdown",
   "id": "6588f8c0-dff3-4e54-b588-963792c22a6d",
   "metadata": {},
   "source": [
    "### string to int"
   ]
  },
  {
   "cell_type": "code",
   "execution_count": 8,
   "id": "703dce06-292f-451a-9161-dd88c01b0570",
   "metadata": {},
   "outputs": [
    {
     "name": "stdout",
     "output_type": "stream",
     "text": [
      "value of marks before typecast = 78 \n",
      "Data Type is: <class 'str'>\n",
      "value of marks after typecast = 78 \n",
      "Data Type is: <class 'int'>\n"
     ]
    }
   ],
   "source": [
    "marks = '78'\n",
    "print('value of marks before typecast =', marks, '\\nData Type is:', type(marks))\n",
    "marks = int(marks)\n",
    "print('value of marks after typecast =', marks, '\\nData Type is:', type(marks))"
   ]
  },
  {
   "cell_type": "markdown",
   "id": "5cf45205-5dbd-4911-8a06-e897664d4b6a",
   "metadata": {},
   "source": [
    "### string to float"
   ]
  },
  {
   "cell_type": "code",
   "execution_count": 9,
   "id": "3664800c-9767-4693-af44-28217c65efbc",
   "metadata": {},
   "outputs": [
    {
     "name": "stdout",
     "output_type": "stream",
     "text": [
      "78.98\n"
     ]
    }
   ],
   "source": [
    "marks = '78.98'\n",
    "marks = float(marks)\n",
    "print(marks)"
   ]
  },
  {
   "cell_type": "code",
   "execution_count": null,
   "id": "964339fb-eacc-49c6-9dbe-efdfdf650bb9",
   "metadata": {},
   "outputs": [],
   "source": [
    "marks = '78.98'\n",
    "marks = int(marks)\n",
    "print(marks)"
   ]
  },
  {
   "cell_type": "code",
   "execution_count": 10,
   "id": "ac740793-9a36-4ccd-ae40-708292808235",
   "metadata": {},
   "outputs": [
    {
     "name": "stdout",
     "output_type": "stream",
     "text": [
      "78\n"
     ]
    }
   ],
   "source": [
    "marks = '78.98'\n",
    "marks = float(marks)\n",
    "marks = int(marks)\n",
    "print(marks)"
   ]
  },
  {
   "cell_type": "code",
   "execution_count": 11,
   "id": "c5b34bc9-4a74-4f05-8c08-7074ff5df903",
   "metadata": {},
   "outputs": [
    {
     "name": "stdout",
     "output_type": "stream",
     "text": [
      "78\n"
     ]
    }
   ],
   "source": [
    "marks = '78.98'\n",
    "marks = int(float(marks))\n",
    "# marks = int(marks)\n",
    "print(marks)"
   ]
  },
  {
   "cell_type": "markdown",
   "id": "14f89390-a130-4bb8-8f32-5f2eed889bff",
   "metadata": {},
   "source": [
    "### boolean"
   ]
  },
  {
   "cell_type": "code",
   "execution_count": 12,
   "id": "cb08b75e-e5a8-4742-8ea7-d3b08f34026b",
   "metadata": {},
   "outputs": [
    {
     "name": "stdout",
     "output_type": "stream",
     "text": [
      "True\n",
      "False\n"
     ]
    }
   ],
   "source": [
    "boolean_var1 = True\n",
    "boolean_var2 = False\n",
    "\n",
    "# boolean_var = true (error: 't' in true should be capital)\n",
    "print(boolean_var1)\n",
    "print(boolean_var2)"
   ]
  },
  {
   "cell_type": "code",
   "execution_count": 13,
   "id": "3374d1f1-e8da-4440-a736-ec0450d4b195",
   "metadata": {},
   "outputs": [
    {
     "name": "stdout",
     "output_type": "stream",
     "text": [
      "True\n"
     ]
    }
   ],
   "source": [
    "print(True)"
   ]
  },
  {
   "cell_type": "markdown",
   "id": "5a26c3d6-61f7-4b5b-a139-12ab68187465",
   "metadata": {},
   "source": [
    "### set"
   ]
  },
  {
   "cell_type": "code",
   "execution_count": 14,
   "id": "57588570-896c-4036-9efb-9de29b4ce499",
   "metadata": {},
   "outputs": [
    {
     "name": "stdout",
     "output_type": "stream",
     "text": [
      "{1, 2, 3, 4, 5}\n",
      "<class 'set'>\n"
     ]
    }
   ],
   "source": [
    "var = {1,2,3,4,5}\n",
    "print(var, type(var), sep = '\\n')"
   ]
  },
  {
   "cell_type": "markdown",
   "id": "0fc85f23-9331-4b02-ab16-d9eb864298ac",
   "metadata": {},
   "source": [
    "### list"
   ]
  },
  {
   "cell_type": "code",
   "execution_count": 15,
   "id": "360cc181-f013-4ba0-be74-27c36a13e995",
   "metadata": {},
   "outputs": [
    {
     "name": "stdout",
     "output_type": "stream",
     "text": [
      "[11, 22, 33, 44, 'abc']\n",
      "<class 'list'>\n"
     ]
    }
   ],
   "source": [
    "var = [11, 22, 33, 44, 'abc']\n",
    "print(var, type(var), sep = '\\n')"
   ]
  },
  {
   "cell_type": "code",
   "execution_count": 16,
   "id": "3a4e239c-9d76-495a-ae95-3125191e2d9c",
   "metadata": {},
   "outputs": [
    {
     "name": "stdout",
     "output_type": "stream",
     "text": [
      "11\n",
      "22\n",
      "33\n",
      "44\n",
      "abc\n"
     ]
    }
   ],
   "source": [
    "for item in var:\n",
    "    print(item)"
   ]
  },
  {
   "cell_type": "code",
   "execution_count": 17,
   "id": "b2d02a92-d995-4831-b691-12a6ef1adcba",
   "metadata": {},
   "outputs": [
    {
     "name": "stdout",
     "output_type": "stream",
     "text": [
      "11 22 33 44 abc "
     ]
    }
   ],
   "source": [
    "for item in var:\n",
    "    print(item, end = ' ')"
   ]
  },
  {
   "cell_type": "markdown",
   "id": "3aa80671-a2f5-4535-8862-a7584b9c23ab",
   "metadata": {},
   "source": [
    "### tuple"
   ]
  },
  {
   "cell_type": "code",
   "execution_count": 18,
   "id": "9a6d1f2c-1182-493f-ac6c-4c5f1292aa91",
   "metadata": {},
   "outputs": [
    {
     "name": "stdout",
     "output_type": "stream",
     "text": [
      "(3, 5, 7, 2)\n",
      "<class 'tuple'>\n"
     ]
    }
   ],
   "source": [
    "tup1 = (3,5,7,2)\n",
    "print(tup1, type(tup1), sep = '\\n')"
   ]
  },
  {
   "cell_type": "markdown",
   "id": "f5404f87-42c1-4992-848b-6c594bf87e77",
   "metadata": {},
   "source": [
    "### dictionary"
   ]
  },
  {
   "cell_type": "code",
   "execution_count": null,
   "id": "05101911-d5dc-4baa-9bc3-cf8d6cc25e1c",
   "metadata": {},
   "outputs": [],
   "source": [
    "dict1 = {key1:value1, key2:value2}"
   ]
  },
  {
   "cell_type": "code",
   "execution_count": 20,
   "id": "920a9791-6a9a-400b-96bb-c0e5f14ea153",
   "metadata": {},
   "outputs": [
    {
     "name": "stdout",
     "output_type": "stream",
     "text": [
      "{'101': 'aaa', '202': 'bbb', '303': 'ccc'}\n"
     ]
    }
   ],
   "source": [
    "dict1 = {\"101\": \"aaa\", \"202\": \"bbb\", \"303\": \"ccc\"}\n",
    "print(dict1)"
   ]
  },
  {
   "cell_type": "code",
   "execution_count": 21,
   "id": "c1784eff-77b1-4229-85fa-c674c343fd62",
   "metadata": {},
   "outputs": [
    {
     "name": "stdout",
     "output_type": "stream",
     "text": [
      "{'101': 'aaa', '202': 'bbb', '303': 'ccc'}\n"
     ]
    }
   ],
   "source": [
    "dict1 = {'101': 'aaa', '202': 'bbb', '303': 'ccc'}\n",
    "print(dict1)"
   ]
  },
  {
   "cell_type": "markdown",
   "id": "0c8d177a-5ca4-4683-a0ee-9a74e88cc3cb",
   "metadata": {},
   "source": [
    "### Conditionals"
   ]
  },
  {
   "cell_type": "code",
   "execution_count": null,
   "id": "a25e1459-2dc2-4793-9ea4-376ff7dced21",
   "metadata": {},
   "outputs": [],
   "source": [
    "syntax:\n",
    "\n",
    "    if condition:\n",
    "        st1\n",
    "        st2\n",
    "        st3\n",
    "    else:\n",
    "        st4\n",
    "        st5"
   ]
  },
  {
   "cell_type": "code",
   "execution_count": 22,
   "id": "4debfa27-1a9b-4a9b-946a-6f3e54093a1b",
   "metadata": {},
   "outputs": [
    {
     "name": "stdout",
     "output_type": "stream",
     "text": [
      "True\n"
     ]
    }
   ],
   "source": [
    "if True:\n",
    "    print('True')"
   ]
  },
  {
   "cell_type": "code",
   "execution_count": 23,
   "id": "71a84f40-3cc9-446f-bdba-e1ade5b3d46f",
   "metadata": {},
   "outputs": [],
   "source": [
    "if False:\n",
    "    print('True')"
   ]
  },
  {
   "cell_type": "code",
   "execution_count": 24,
   "id": "bab55a11-d95e-453f-ab7c-1eb5e2ac41b3",
   "metadata": {},
   "outputs": [
    {
     "name": "stdout",
     "output_type": "stream",
     "text": [
      "You mentioned false in above if\n"
     ]
    }
   ],
   "source": [
    "if False:\n",
    "    print('True')\n",
    "else:\n",
    "    print('You mentioned false in above if')"
   ]
  },
  {
   "cell_type": "code",
   "execution_count": 25,
   "id": "c5da3650-1486-43cc-bf35-7f5c5d747fca",
   "metadata": {},
   "outputs": [
    {
     "name": "stdout",
     "output_type": "stream",
     "text": [
      "pass\n"
     ]
    }
   ],
   "source": [
    "marks = 56\n",
    "if marks > 50:\n",
    "    print('pass')\n",
    "else:\n",
    "    print('fail')"
   ]
  },
  {
   "cell_type": "code",
   "execution_count": 26,
   "id": "a31897fc-85ef-42f7-af60-0809a0a0efe9",
   "metadata": {},
   "outputs": [
    {
     "name": "stdout",
     "output_type": "stream",
     "text": [
      "fail\n"
     ]
    }
   ],
   "source": [
    "marks = 34\n",
    "if marks > 50:\n",
    "    print('pass')\n",
    "else:\n",
    "    print('fail')"
   ]
  },
  {
   "cell_type": "code",
   "execution_count": 27,
   "id": "dd3bb39f-2850-4f09-b9b7-929f7b2627c6",
   "metadata": {},
   "outputs": [
    {
     "name": "stdout",
     "output_type": "stream",
     "text": [
      "AAA\n"
     ]
    }
   ],
   "source": [
    "if 34 > 12: # True\n",
    "    print('AAA')\n",
    "elif 45 < 56: #True\n",
    "    print('BBB')\n",
    "elif 22 > 76:\n",
    "    print('CCC')"
   ]
  },
  {
   "cell_type": "code",
   "execution_count": 28,
   "id": "1c85a20d-41e1-44ee-9669-b8cc9232f890",
   "metadata": {},
   "outputs": [
    {
     "name": "stdout",
     "output_type": "stream",
     "text": [
      "AAA\n",
      "BBB\n"
     ]
    }
   ],
   "source": [
    "if 34 > 12: # True\n",
    "    print('AAA')\n",
    "if 45 < 56: #True\n",
    "    print('BBB')\n",
    "if 22 > 76:\n",
    "    print('CCC')"
   ]
  },
  {
   "cell_type": "code",
   "execution_count": 29,
   "id": "2204de70-ee81-45ea-b25e-8e2145d4ef7b",
   "metadata": {},
   "outputs": [
    {
     "name": "stdout",
     "output_type": "stream",
     "text": [
      "B\n"
     ]
    }
   ],
   "source": [
    "# marks = 45\n",
    "marks = 75\n",
    "if marks <= 100 and marks > 75:\n",
    "    print('A')\n",
    "elif marks <= 75 and marks > 50:\n",
    "    print('B')\n",
    "elif marks <= 50 and marks > 25:\n",
    "    print('C')\n",
    "elif marks <= 25 and marks >= 0:\n",
    "    print('Fail')"
   ]
  },
  {
   "cell_type": "code",
   "execution_count": 30,
   "id": "ae1c0ab1-b5a7-42dc-bcca-de9de81aa76a",
   "metadata": {},
   "outputs": [
    {
     "name": "stdout",
     "output_type": "stream",
     "text": [
      "Fail\n"
     ]
    }
   ],
   "source": [
    "# marks = 22\n",
    "marks = -32\n",
    "if marks <= 100 and marks > 75:\n",
    "    print('A')\n",
    "elif marks <= 75 and marks > 50:\n",
    "    print('B')\n",
    "elif marks <= 50 and marks > 25:\n",
    "    print('C')\n",
    "else:\n",
    "    print('Fail')"
   ]
  },
  {
   "cell_type": "code",
   "execution_count": 31,
   "id": "9014f483-8d64-4b9d-8f38-4c1b3512ef50",
   "metadata": {},
   "outputs": [
    {
     "name": "stdin",
     "output_type": "stream",
     "text": [
      "marks1:  22\n",
      "marks2:  12\n"
     ]
    },
    {
     "name": "stdout",
     "output_type": "stream",
     "text": [
      "FAIL\n"
     ]
    }
   ],
   "source": [
    "# input two numbers from user. if addition is geater than 50\n",
    "# print PASS otherwise print FAIL\n",
    "\n",
    "marks1 = int(input('marks1: '))\n",
    "marks2 = int(input('marks2: '))\n",
    "\n",
    "addition = marks1 + marks2\n",
    "if addition > 50:\n",
    "    print('PASS')\n",
    "else:\n",
    "    print('FAIL')"
   ]
  },
  {
   "cell_type": "code",
   "execution_count": 32,
   "id": "d867b138-e114-4f5b-b062-bdd1ff133a27",
   "metadata": {},
   "outputs": [
    {
     "name": "stdout",
     "output_type": "stream",
     "text": [
      "Yes\n"
     ]
    }
   ],
   "source": [
    "if 33 < 45:\n",
    "    print('Yes')\n",
    "else:\n",
    "    print('No')"
   ]
  },
  {
   "cell_type": "markdown",
   "id": "8fbe68d5-241a-4365-8d45-96a96d8dfc05",
   "metadata": {},
   "source": [
    "### Operators\n",
    "\n",
    "    1.Arithmetic\n",
    "    2.Assignment\n",
    "    3.Comparison\n",
    "    4.Logical\n",
    "    5.Bitwise\n",
    "    6.membership\n",
    "    7.Identity\n",
    "\n"
   ]
  },
  {
   "cell_type": "code",
   "execution_count": null,
   "id": "c7c0e264-bb2f-4110-9fbf-271517ddedfd",
   "metadata": {},
   "outputs": [],
   "source": [
    "1. Arithmetic operators\n",
    "    +\n",
    "    -\n",
    "    /\n",
    "    //\n",
    "    *\n",
    "    %\n",
    "    **"
   ]
  },
  {
   "cell_type": "code",
   "execution_count": 33,
   "id": "3410b52e-a0c2-4be5-ab63-f7af66afa43a",
   "metadata": {},
   "outputs": [
    {
     "name": "stdout",
     "output_type": "stream",
     "text": [
      "11\n"
     ]
    }
   ],
   "source": [
    "print(55-44)"
   ]
  },
  {
   "cell_type": "code",
   "execution_count": 34,
   "id": "21cb04f8-afe2-4d33-a3b3-877973723f9c",
   "metadata": {},
   "outputs": [
    {
     "name": "stdout",
     "output_type": "stream",
     "text": [
      "4.0\n"
     ]
    }
   ],
   "source": [
    "print(8/2)"
   ]
  },
  {
   "cell_type": "code",
   "execution_count": 35,
   "id": "6768c8c2-aebd-40f2-88ab-1646ea6b710d",
   "metadata": {},
   "outputs": [
    {
     "name": "stdout",
     "output_type": "stream",
     "text": [
      "4\n"
     ]
    }
   ],
   "source": [
    "print(8//2)"
   ]
  },
  {
   "cell_type": "code",
   "execution_count": 36,
   "id": "92c43143-3196-43f1-a91d-d06fb5aec181",
   "metadata": {},
   "outputs": [
    {
     "name": "stdout",
     "output_type": "stream",
     "text": [
      "<class 'float'>\n"
     ]
    }
   ],
   "source": [
    "a = 8\n",
    "b = 2\n",
    "c = a/2\n",
    "print(type(c))"
   ]
  },
  {
   "cell_type": "code",
   "execution_count": 37,
   "id": "9f458fe1-b826-498b-86e6-cdd3d3b4a604",
   "metadata": {},
   "outputs": [
    {
     "name": "stdout",
     "output_type": "stream",
     "text": [
      "<class 'int'>\n"
     ]
    }
   ],
   "source": [
    "a = 8\n",
    "b = 2\n",
    "c = a//2\n",
    "print(type(c))"
   ]
  },
  {
   "cell_type": "code",
   "execution_count": 38,
   "id": "b80664a9-4350-4f4a-bce3-dab0f4a14410",
   "metadata": {},
   "outputs": [
    {
     "name": "stdout",
     "output_type": "stream",
     "text": [
      "32\n"
     ]
    }
   ],
   "source": [
    "print(2**5)"
   ]
  },
  {
   "cell_type": "code",
   "execution_count": 39,
   "id": "bc842a8a-0391-4402-9a7a-3c5b9ab9ae9c",
   "metadata": {},
   "outputs": [
    {
     "name": "stdout",
     "output_type": "stream",
     "text": [
      "512\n"
     ]
    }
   ],
   "source": [
    "print(2**9)"
   ]
  },
  {
   "cell_type": "code",
   "execution_count": 40,
   "id": "abd97fcc-6e18-4ef6-bd69-ebbd8e6f23b6",
   "metadata": {},
   "outputs": [
    {
     "name": "stdout",
     "output_type": "stream",
     "text": [
      "64\n"
     ]
    }
   ],
   "source": [
    "print(2**6)"
   ]
  },
  {
   "cell_type": "code",
   "execution_count": null,
   "id": "55f44ad9-6bf5-4f47-a1ae-24a6e3fbe0c8",
   "metadata": {},
   "outputs": [],
   "source": [
    "2. Assignment\n",
    "    =\n",
    "    +=\n",
    "    -=\n",
    "    *=\n",
    "    /=\n",
    "    %="
   ]
  },
  {
   "cell_type": "code",
   "execution_count": null,
   "id": "4f145f50-d1d3-4166-85e6-401005d365da",
   "metadata": {},
   "outputs": [],
   "source": [
    "a = 10\n",
    "a++"
   ]
  },
  {
   "cell_type": "code",
   "execution_count": 41,
   "id": "031bc45b-83a3-4010-afa1-3e6bc3fec3d8",
   "metadata": {},
   "outputs": [],
   "source": [
    "a = 10\n",
    "a += 1 # a = a + 1"
   ]
  },
  {
   "cell_type": "code",
   "execution_count": 42,
   "id": "300e2466-e7ed-4b89-a55d-6d0d78dd2195",
   "metadata": {},
   "outputs": [
    {
     "name": "stdout",
     "output_type": "stream",
     "text": [
      "6\n"
     ]
    }
   ],
   "source": [
    "a = 34\n",
    "a %= 7\n",
    "print(a)"
   ]
  },
  {
   "cell_type": "code",
   "execution_count": null,
   "id": "09119ebe-6ba4-47bb-9590-49fbc787a1dc",
   "metadata": {},
   "outputs": [],
   "source": [
    "3. Comparison\n",
    "    >\n",
    "    >=\n",
    "    <\n",
    "    <=\n",
    "    ==\n",
    "    !="
   ]
  },
  {
   "cell_type": "code",
   "execution_count": 43,
   "id": "47bdd784-fe0f-4f32-9a7c-015d072393da",
   "metadata": {},
   "outputs": [
    {
     "name": "stdout",
     "output_type": "stream",
     "text": [
      "True\n"
     ]
    }
   ],
   "source": [
    "print(55>=54)"
   ]
  },
  {
   "cell_type": "code",
   "execution_count": null,
   "id": "1a33ff41-41c2-4dc2-8437-ea67623e6e32",
   "metadata": {},
   "outputs": [],
   "source": [
    "4. Logical\n",
    "    not\n",
    "    and\n",
    "    or"
   ]
  },
  {
   "cell_type": "code",
   "execution_count": 44,
   "id": "efa6f3a3-2baa-480a-b64e-3ee3393abe4c",
   "metadata": {},
   "outputs": [
    {
     "name": "stdout",
     "output_type": "stream",
     "text": [
      "False\n"
     ]
    }
   ],
   "source": [
    "var1 = True\n",
    "var2 = not var1\n",
    "print(var2)"
   ]
  },
  {
   "cell_type": "code",
   "execution_count": 45,
   "id": "af7e69f3-4d75-4ec5-8358-42f9a8ddf972",
   "metadata": {},
   "outputs": [
    {
     "name": "stdout",
     "output_type": "stream",
     "text": [
      "True\n"
     ]
    }
   ],
   "source": [
    "print(55>=54)"
   ]
  },
  {
   "cell_type": "code",
   "execution_count": 46,
   "id": "b1add724-2c0e-4f75-b5ca-c8ddfb577980",
   "metadata": {},
   "outputs": [
    {
     "name": "stdout",
     "output_type": "stream",
     "text": [
      "False\n"
     ]
    }
   ],
   "source": [
    "print( not 55>=54)"
   ]
  },
  {
   "cell_type": "code",
   "execution_count": 47,
   "id": "e68191e7-44d2-42a8-80e7-155254623027",
   "metadata": {},
   "outputs": [
    {
     "name": "stdout",
     "output_type": "stream",
     "text": [
      "Yes\n"
     ]
    }
   ],
   "source": [
    "marks = 45\n",
    "if marks > 34 and marks < 56:\n",
    "    print('Yes')\n",
    "else:\n",
    "    print('No')"
   ]
  },
  {
   "cell_type": "code",
   "execution_count": 48,
   "id": "03f1a551-d654-43da-8f93-ee0da653fa59",
   "metadata": {},
   "outputs": [
    {
     "name": "stdout",
     "output_type": "stream",
     "text": [
      "True\n"
     ]
    }
   ],
   "source": [
    "print(marks > 34 and marks < 56)"
   ]
  },
  {
   "cell_type": "code",
   "execution_count": 49,
   "id": "ca814849-582f-4fd6-a74c-6305b361d7e5",
   "metadata": {},
   "outputs": [
    {
     "name": "stdout",
     "output_type": "stream",
     "text": [
      "True\n",
      "True\n"
     ]
    }
   ],
   "source": [
    "print(marks > 34)\n",
    "print(marks < 56)"
   ]
  },
  {
   "cell_type": "code",
   "execution_count": 50,
   "id": "9e35231d-ee07-4936-8710-b52fb2a67004",
   "metadata": {},
   "outputs": [
    {
     "name": "stdout",
     "output_type": "stream",
     "text": [
      "False\n"
     ]
    }
   ],
   "source": [
    "print(marks > 34 and marks > 56)"
   ]
  },
  {
   "cell_type": "code",
   "execution_count": 51,
   "id": "a2b02041-1820-4c45-a2ed-10a51dc28f8a",
   "metadata": {},
   "outputs": [
    {
     "name": "stdout",
     "output_type": "stream",
     "text": [
      "True\n"
     ]
    }
   ],
   "source": [
    "print(marks > 34 or marks < 56)"
   ]
  },
  {
   "cell_type": "code",
   "execution_count": 52,
   "id": "998c0b6c-417e-49a5-809e-ea34271447ad",
   "metadata": {},
   "outputs": [
    {
     "name": "stdout",
     "output_type": "stream",
     "text": [
      "True\n"
     ]
    }
   ],
   "source": [
    "print(True and True)"
   ]
  },
  {
   "cell_type": "code",
   "execution_count": 53,
   "id": "e6519009-66af-401f-bf14-2445f9845e76",
   "metadata": {},
   "outputs": [
    {
     "name": "stdout",
     "output_type": "stream",
     "text": [
      "False\n"
     ]
    }
   ],
   "source": [
    "print(True and False)"
   ]
  },
  {
   "cell_type": "code",
   "execution_count": 54,
   "id": "3c23c614-6840-494d-9b1d-7720a0cb590a",
   "metadata": {},
   "outputs": [
    {
     "name": "stdout",
     "output_type": "stream",
     "text": [
      "False\n"
     ]
    }
   ],
   "source": [
    "print(False and True)"
   ]
  },
  {
   "cell_type": "code",
   "execution_count": 55,
   "id": "6f7362c1-974d-4034-98fb-92724457d976",
   "metadata": {},
   "outputs": [
    {
     "name": "stdout",
     "output_type": "stream",
     "text": [
      "False\n"
     ]
    }
   ],
   "source": [
    "print(False and False)"
   ]
  },
  {
   "cell_type": "code",
   "execution_count": 56,
   "id": "ec743e13-7c9d-4bd7-9917-99da217dc4b5",
   "metadata": {},
   "outputs": [
    {
     "name": "stdout",
     "output_type": "stream",
     "text": [
      "True\n"
     ]
    }
   ],
   "source": [
    "print(True or True)"
   ]
  },
  {
   "cell_type": "code",
   "execution_count": 57,
   "id": "44b77235-c1d9-411b-9852-5af3c0d5d79c",
   "metadata": {},
   "outputs": [
    {
     "name": "stdout",
     "output_type": "stream",
     "text": [
      "True\n"
     ]
    }
   ],
   "source": [
    "print(False or True)"
   ]
  },
  {
   "cell_type": "code",
   "execution_count": 58,
   "id": "b82c4005-d543-41e2-a2bf-37318bac3882",
   "metadata": {},
   "outputs": [
    {
     "name": "stdout",
     "output_type": "stream",
     "text": [
      "True\n"
     ]
    }
   ],
   "source": [
    "print(False or True)"
   ]
  },
  {
   "cell_type": "code",
   "execution_count": 59,
   "id": "791616bf-4f06-41eb-9683-ee4c68bdeaac",
   "metadata": {},
   "outputs": [
    {
     "name": "stdout",
     "output_type": "stream",
     "text": [
      "False\n"
     ]
    }
   ],
   "source": [
    "print(False or False)"
   ]
  },
  {
   "cell_type": "code",
   "execution_count": null,
   "id": "01902c96-b510-47e2-a7e3-dd15d65e73c0",
   "metadata": {},
   "outputs": [],
   "source": [
    "5. Bitwise\n",
    "    &\n",
    "    |\n",
    "    ~"
   ]
  },
  {
   "cell_type": "code",
   "execution_count": 60,
   "id": "81d3cec1-12a9-41a1-a936-58588f7d7c81",
   "metadata": {},
   "outputs": [
    {
     "name": "stdout",
     "output_type": "stream",
     "text": [
      "0\n"
     ]
    }
   ],
   "source": [
    "a = 8 & 7\n",
    "print(a)"
   ]
  },
  {
   "cell_type": "code",
   "execution_count": 61,
   "id": "5a8ba0b7-3876-4c73-b826-731b79942d3c",
   "metadata": {},
   "outputs": [
    {
     "name": "stdout",
     "output_type": "stream",
     "text": [
      "15\n"
     ]
    }
   ],
   "source": [
    "a = 8 | 7\n",
    "print(a)"
   ]
  },
  {
   "cell_type": "code",
   "execution_count": 62,
   "id": "2c48b370-8696-4785-9812-1985424b517b",
   "metadata": {},
   "outputs": [
    {
     "name": "stdout",
     "output_type": "stream",
     "text": [
      "-255\n"
     ]
    }
   ],
   "source": [
    "print(~254)"
   ]
  }
 ],
 "metadata": {
  "kernelspec": {
   "display_name": "Python 3 (ipykernel)",
   "language": "python",
   "name": "python3"
  },
  "language_info": {
   "codemirror_mode": {
    "name": "ipython",
    "version": 3
   },
   "file_extension": ".py",
   "mimetype": "text/x-python",
   "name": "python",
   "nbconvert_exporter": "python",
   "pygments_lexer": "ipython3",
   "version": "3.10.12"
  }
 },
 "nbformat": 4,
 "nbformat_minor": 5
}
