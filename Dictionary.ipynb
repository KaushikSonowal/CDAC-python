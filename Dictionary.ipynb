{
 "cells": [
  {
   "cell_type": "markdown",
   "id": "50892701-f69c-4a4c-a564-324dc530e7c5",
   "metadata": {},
   "source": [
    "## Dictionary definition"
   ]
  },
  {
   "cell_type": "code",
   "execution_count": null,
   "id": "c538558b-3ce4-412e-9547-8dd56fec8ccb",
   "metadata": {},
   "outputs": [],
   "source": []
  },
  {
   "cell_type": "markdown",
   "id": "5087fb33-ab94-4e57-83c0-72cf4dedc7d6",
   "metadata": {},
   "source": [
    "### Initialize"
   ]
  },
  {
   "cell_type": "code",
   "execution_count": 1,
   "id": "97452939-e1b8-466e-8d45-fb4005c2005e",
   "metadata": {},
   "outputs": [
    {
     "name": "stdout",
     "output_type": "stream",
     "text": [
      "<class 'dict'>\n"
     ]
    }
   ],
   "source": [
    "dict1 = {}\n",
    "print(type(dict1))"
   ]
  },
  {
   "cell_type": "code",
   "execution_count": 2,
   "id": "6b169c58-499f-400a-add8-d3ca5a514ef8",
   "metadata": {},
   "outputs": [
    {
     "data": {
      "text/plain": [
       "{1: [1, 2, 3], 2: [2, 4, 6], 3: [3, 6, 9]}"
      ]
     },
     "execution_count": 2,
     "metadata": {},
     "output_type": "execute_result"
    }
   ],
   "source": [
    "dict1 = { 1:[1,2,3], 2:[2,4,6], 3:[3,6,9] }\n",
    "dict1"
   ]
  },
  {
   "cell_type": "code",
   "execution_count": 4,
   "id": "3caad5ca-7f85-42a3-8bed-570939787861",
   "metadata": {},
   "outputs": [
    {
     "data": {
      "text/plain": [
       "{1: [1, 2, 3], 2: [2, 4, 6], 3: [3, 6, 9]}"
      ]
     },
     "execution_count": 4,
     "metadata": {},
     "output_type": "execute_result"
    }
   ],
   "source": [
    "dict1 = { 1:[1,2,3], \n",
    "          2:[2,4,6], \n",
    "          3:[3,6,9] \n",
    "        }\n",
    "dict1"
   ]
  },
  {
   "cell_type": "code",
   "execution_count": 5,
   "id": "14e27f33-f950-4f82-b5a1-87e89e0c0407",
   "metadata": {},
   "outputs": [
    {
     "name": "stdout",
     "output_type": "stream",
     "text": [
      "{1: [1, 2, 3], 2: [2, 4, 6], 3: [3, 6, 9]}\n"
     ]
    }
   ],
   "source": [
    "dict1 = { 1:[1,2,3], 2:[2,4,6], 3:[3,6,9] }\n",
    "print(dict1)"
   ]
  },
  {
   "cell_type": "code",
   "execution_count": 6,
   "id": "47f438b1-c3b6-4057-af9f-e2f2882ad354",
   "metadata": {},
   "outputs": [
    {
     "data": {
      "text/plain": [
       "{'Name': 'John Cena', 'Age': 56, 'Salary': 45000, 'Company': 'TCS'}"
      ]
     },
     "execution_count": 6,
     "metadata": {},
     "output_type": "execute_result"
    }
   ],
   "source": [
    "dict2 = {'Name':'John Cena', 'Age': 56, 'Salary': 45000, 'Company': 'TCS'}\n",
    "dict2"
   ]
  },
  {
   "cell_type": "code",
   "execution_count": 7,
   "id": "4fa4f949-dfb6-40a7-be38-3ffda0eabfdc",
   "metadata": {},
   "outputs": [
    {
     "data": {
      "text/plain": [
       "{'Name': 'John Cena', 'Age': 56, 'Salary': 45000, 'Company': 'TCS'}"
      ]
     },
     "execution_count": 7,
     "metadata": {},
     "output_type": "execute_result"
    }
   ],
   "source": [
    "dict2 = {'Name':'John Cena', \n",
    "         'Age': 56, \n",
    "         'Salary': 45000, \n",
    "         'Company': 'TCS'\n",
    "        }\n",
    "dict2"
   ]
  },
  {
   "cell_type": "code",
   "execution_count": 13,
   "id": "d45458be-3979-46d2-96d9-3c36984dbe83",
   "metadata": {},
   "outputs": [
    {
     "data": {
      "text/plain": [
       "{(1,): [34, 67, 21], (3, 2): ['Abc', 'Xyz'], 'KEY': (11, 22, 33)}"
      ]
     },
     "execution_count": 13,
     "metadata": {},
     "output_type": "execute_result"
    }
   ],
   "source": [
    "dict3 = {(1,) :[34,67,21],\n",
    "         (3,2): ['Abc', 'Xyz'],\n",
    "         'KEY': (11,22,33)\n",
    "        }\n",
    "dict3"
   ]
  },
  {
   "cell_type": "code",
   "execution_count": 14,
   "id": "46caa185-dc86-48f7-9182-786cd03f99e2",
   "metadata": {},
   "outputs": [
    {
     "data": {
      "text/plain": [
       "{1: 1, 2: 2, 3: 3}"
      ]
     },
     "execution_count": 14,
     "metadata": {},
     "output_type": "execute_result"
    }
   ],
   "source": [
    "dict4 = {1:1, 2:2, 3:3}\n",
    "dict4"
   ]
  },
  {
   "cell_type": "code",
   "execution_count": 16,
   "id": "c10da104-483c-49d7-9834-e970b779dd5a",
   "metadata": {},
   "outputs": [
    {
     "data": {
      "text/plain": [
       "{(1, 2): (3, 4), (11, 22): (33, 44)}"
      ]
     },
     "execution_count": 16,
     "metadata": {},
     "output_type": "execute_result"
    }
   ],
   "source": [
    "dict5 = {(1,2):(3,4),(11,22):(33,44)}\n",
    "dict5"
   ]
  },
  {
   "cell_type": "code",
   "execution_count": 17,
   "id": "8f7e7935-8655-417e-bb54-693586f371fa",
   "metadata": {},
   "outputs": [
    {
     "data": {
      "text/plain": [
       "{1: [1, 2, 3], 2: [2, 4, 6], 3: [3, 6, 9], 4: [4, 8, 12]}"
      ]
     },
     "execution_count": 17,
     "metadata": {},
     "output_type": "execute_result"
    }
   ],
   "source": [
    "dict1 = { 1:[1,2,3], 2:[2,4,6], 3:[3,6,9], 4:[4,8,12] }\n",
    "dict1"
   ]
  },
  {
   "cell_type": "code",
   "execution_count": null,
   "id": "2da1a152-fb96-45bc-86d9-f3d45d3a1ec5",
   "metadata": {},
   "outputs": [],
   "source": []
  },
  {
   "cell_type": "code",
   "execution_count": null,
   "id": "31ac19be-ce8a-4e9d-ba09-24e9d46e229c",
   "metadata": {},
   "outputs": [],
   "source": []
  },
  {
   "cell_type": "code",
   "execution_count": null,
   "id": "c6921d64-9799-42ee-a8ca-c434badf35c4",
   "metadata": {},
   "outputs": [],
   "source": []
  }
 ],
 "metadata": {
  "kernelspec": {
   "display_name": "Python 3 (ipykernel)",
   "language": "python",
   "name": "python3"
  },
  "language_info": {
   "codemirror_mode": {
    "name": "ipython",
    "version": 3
   },
   "file_extension": ".py",
   "mimetype": "text/x-python",
   "name": "python",
   "nbconvert_exporter": "python",
   "pygments_lexer": "ipython3",
   "version": "3.10.12"
  }
 },
 "nbformat": 4,
 "nbformat_minor": 5
}
