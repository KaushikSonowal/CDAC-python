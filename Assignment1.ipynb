{
 "cells": [
  {
   "cell_type": "markdown",
   "id": "05f998ba-1e0f-417a-8f63-d832ae9cea7a",
   "metadata": {},
   "source": [
    "Q1. What are the key features of Python?"
   ]
  },
  {
   "cell_type": "markdown",
   "id": "1bea60fd-c286-4464-80e4-5f290c723105",
   "metadata": {},
   "source": [
    "Answer. The key features of python are:\n",
    "\n",
    "        1. Case sensitive\n",
    "        2. Free\n",
    "        3. User friendly\n",
    "        4. Dynamically typed language\n",
    "        5. Oject Oriented Programming\n",
    "        6. Vast support of library\n"
   ]
  },
  {
   "cell_type": "markdown",
   "id": "ff9a2096-bc6f-48b2-bfb3-e51744738a6f",
   "metadata": {},
   "source": [
    "Q2. What are the Data Types in Python?"
   ]
  },
  {
   "cell_type": "markdown",
   "id": "81f0bff3-291d-4c0d-8825-01c76b872c74",
   "metadata": {},
   "source": [
    "Answer. The data types in python are:\n",
    "\n",
    "        1. number: int, float, complex\n",
    "        2. string: str\n",
    "        3. setDT: set, frozenset\n",
    "        4. sequence: list, tuple, str\n",
    "        5. hashmap: dict(dictionary)\n",
    "        6. boolean: bool (True| False)\n"
   ]
  },
  {
   "cell_type": "markdown",
   "id": "7ab1fbd9-1331-425d-ae62-1a67a8b92952",
   "metadata": {},
   "source": [
    "Q3. What are local variables and global variables in Python?"
   ]
  },
  {
   "cell_type": "markdown",
   "id": "cd7d865a-2053-4a87-ac6c-2572d21996d4",
   "metadata": {},
   "source": [
    "Answer. The local variables and global variables in python are the followings:\n",
    "\n",
    "        Local variables are as follows:\n",
    "        1. Only accessible within the function.\n",
    "        2. Defined within a function.\n",
    "        3. They have limited scope and are destroyed once the function execution completes.\n",
    "\n",
    "        Global variables are as follows:\n",
    "        1. Accessible from anywhere within the program.\n",
    "        2. Defined outside of any function.\n",
    "        3. They have a broader scope and persist throughout the program's execution unless explicitly modified or deleted."
   ]
  },
  {
   "cell_type": "markdown",
   "id": "672d7759-99d4-45b4-8999-31bf6edcc0a2",
   "metadata": {},
   "source": [
    "Q4. How do you write comments in python? And Why Comments are important?"
   ]
  },
  {
   "cell_type": "markdown",
   "id": "ccf5de0b-cec8-4e94-9282-5f6530ec3b78",
   "metadata": {},
   "source": []
  },
  {
   "cell_type": "markdown",
   "id": "826bc591-95c6-4368-80f2-09a1192e5ea9",
   "metadata": {},
   "source": [
    "Q5. How to comment on multiple lines in python?"
   ]
  },
  {
   "cell_type": "markdown",
   "id": "7c2d7e19-a400-4ed8-9dd9-286426b49f8f",
   "metadata": {},
   "source": []
  },
  {
   "cell_type": "markdown",
   "id": "b1545c96-24f2-4783-9ada-4f7163dd0177",
   "metadata": {},
   "source": [
    "Q6. What do you mean by Python literals?"
   ]
  },
  {
   "cell_type": "markdown",
   "id": "e54e62e7-1e98-467a-a3b4-501af6251556",
   "metadata": {},
   "source": []
  },
  {
   "cell_type": "markdown",
   "id": "e0ab0b77-7b52-4a43-b362-9ba759295e19",
   "metadata": {},
   "source": [
    "Q7. What are different ways to assign value to variables?"
   ]
  },
  {
   "cell_type": "markdown",
   "id": "77d1d774-f4ed-4f90-96b5-f71b8c2dcb8a",
   "metadata": {},
   "source": []
  },
  {
   "cell_type": "markdown",
   "id": "dfe9a316-c1aa-4ece-b4f0-05a253365745",
   "metadata": {},
   "source": [
    "Q8. What are the Escape Characters in python?"
   ]
  },
  {
   "cell_type": "markdown",
   "id": "10162f9e-a97c-4f0a-91b1-4024e525986b",
   "metadata": {},
   "source": []
  },
  {
   "cell_type": "markdown",
   "id": "25ac0f12-29a8-4494-b211-15b23aa589b1",
   "metadata": {},
   "source": [
    "Q9. Write a program to print every character of a string entered by\n",
    "    the user in a new line using a loop."
   ]
  },
  {
   "cell_type": "markdown",
   "id": "e1f6dbd9-91ac-4bf4-bb18-21b0311c7410",
   "metadata": {},
   "source": []
  },
  {
   "cell_type": "markdown",
   "id": "b543cdf2-acbc-42ba-a17f-1d7147e78d7b",
   "metadata": {},
   "source": [
    "Q10. Write a program to find the length of the string\n",
    "    \"System Software\" with and without using len function.\n"
   ]
  },
  {
   "cell_type": "markdown",
   "id": "5fb1bc40-0b99-4649-8e72-87d4b3ecec8a",
   "metadata": {},
   "source": []
  },
  {
   "cell_type": "markdown",
   "id": "eaf8084c-6bad-45ae-a8c6-77b477d0d933",
   "metadata": {},
   "source": [
    "Q12. Write a program to check if the word 'orange' is present\n",
    "    in the \"This is orange juice\"."
   ]
  },
  {
   "cell_type": "markdown",
   "id": "cfb90b0c-5708-43da-b252-c20af7bf9cdd",
   "metadata": {},
   "source": []
  },
  {
   "cell_type": "markdown",
   "id": "f9fa3526-24dc-45a7-933d-2ce5ca649ec5",
   "metadata": {},
   "source": [
    "Q13. Write a program to find the number of vowels, consonants, digits,\n",
    "    and white space characters in a string."
   ]
  },
  {
   "cell_type": "markdown",
   "id": "ae0d2c8e-064a-41d9-b395-d50ecf38b463",
   "metadata": {},
   "source": []
  },
  {
   "cell_type": "markdown",
   "id": "0d54915c-f191-4342-ae18-d1c8284bf1ff",
   "metadata": {},
   "source": [
    "Q14. Write a Python program to count Uppercase, Lowercase,\n",
    "    special character, and numeric values in a given string."
   ]
  },
  {
   "cell_type": "markdown",
   "id": "d7b643be-2a51-4623-97df-1f175130b33f",
   "metadata": {},
   "source": []
  },
  {
   "cell_type": "markdown",
   "id": "a3e23fe3-1338-49e5-a742-7b1345a00409",
   "metadata": {},
   "source": [
    "Q15. List all keywords in python3.x."
   ]
  },
  {
   "cell_type": "markdown",
   "id": "859f5e46-7d1f-487a-9d6e-c12572f6bbcd",
   "metadata": {},
   "source": []
  }
 ],
 "metadata": {
  "kernelspec": {
   "display_name": "Python 3 (ipykernel)",
   "language": "python",
   "name": "python3"
  },
  "language_info": {
   "codemirror_mode": {
    "name": "ipython",
    "version": 3
   },
   "file_extension": ".py",
   "mimetype": "text/x-python",
   "name": "python",
   "nbconvert_exporter": "python",
   "pygments_lexer": "ipython3",
   "version": "3.10.12"
  }
 },
 "nbformat": 4,
 "nbformat_minor": 5
}
