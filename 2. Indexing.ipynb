{
 "cells": [
  {
   "cell_type": "markdown",
   "id": "f7f0038e-4cfa-450e-b104-64f9621a21e1",
   "metadata": {},
   "source": [
    "## Positive Indexing"
   ]
  },
  {
   "cell_type": "code",
   "execution_count": 1,
   "id": "3d4f18a1-81e5-47ef-8db8-4595717e3aed",
   "metadata": {},
   "outputs": [
    {
     "name": "stdout",
     "output_type": "stream",
     "text": [
      "a[0] = 11\n",
      "a[1] = 22\n",
      "a[2] = 33\n",
      "a[3] = 44\n",
      "a[4] = 55\n",
      "a[5] = 66\n"
     ]
    }
   ],
   "source": [
    "a = [ 11, 22, 33, 44, 55, 66]\n",
    "for i in range(len(a)):\n",
    "    print('a[', i, '] = ', a[i], sep = '')"
   ]
  },
  {
   "cell_type": "code",
   "execution_count": 2,
   "id": "c2910f18-82da-4875-9696-d8ec1413aa48",
   "metadata": {},
   "outputs": [
    {
     "data": {
      "text/plain": [
       "44"
      ]
     },
     "execution_count": 2,
     "metadata": {},
     "output_type": "execute_result"
    }
   ],
   "source": [
    "a[3]"
   ]
  },
  {
   "cell_type": "code",
   "execution_count": 6,
   "id": "c27f0976-71a9-4d5c-90b4-23c00a14fbcc",
   "metadata": {},
   "outputs": [
    {
     "data": {
      "text/plain": [
       "66"
      ]
     },
     "execution_count": 6,
     "metadata": {},
     "output_type": "execute_result"
    }
   ],
   "source": [
    "a[5]"
   ]
  },
  {
   "cell_type": "code",
   "execution_count": 7,
   "id": "ce9255ce-44b7-4eb0-83f9-01f87d2eebec",
   "metadata": {},
   "outputs": [
    {
     "data": {
      "text/plain": [
       "22"
      ]
     },
     "execution_count": 7,
     "metadata": {},
     "output_type": "execute_result"
    }
   ],
   "source": [
    "a[1]"
   ]
  },
  {
   "cell_type": "markdown",
   "id": "f3ed293a-47b7-47db-9a0b-279003c0099e",
   "metadata": {},
   "source": [
    "### Negative Indexing"
   ]
  },
  {
   "cell_type": "code",
   "execution_count": 8,
   "id": "2a37c9df-1a4c-4ff9-82f8-2f69c09c6c21",
   "metadata": {},
   "outputs": [
    {
     "data": {
      "text/plain": [
       "66"
      ]
     },
     "execution_count": 8,
     "metadata": {},
     "output_type": "execute_result"
    }
   ],
   "source": [
    "a = [ 11, 22, 33, 44, 55, 66]\n",
    "a[-1]"
   ]
  },
  {
   "cell_type": "code",
   "execution_count": 9,
   "id": "39d42bac-44d4-4755-91af-3a6493b9e655",
   "metadata": {},
   "outputs": [
    {
     "data": {
      "text/plain": [
       "11"
      ]
     },
     "execution_count": 9,
     "metadata": {},
     "output_type": "execute_result"
    }
   ],
   "source": [
    "a[-6]"
   ]
  },
  {
   "cell_type": "code",
   "execution_count": 10,
   "id": "adf7a208-cad4-433b-ba0e-4784faee033c",
   "metadata": {},
   "outputs": [
    {
     "data": {
      "text/plain": [
       "44"
      ]
     },
     "execution_count": 10,
     "metadata": {},
     "output_type": "execute_result"
    }
   ],
   "source": [
    "a[-3]"
   ]
  },
  {
   "cell_type": "code",
   "execution_count": 11,
   "id": "91002678-f96c-43cf-83cf-68459078f61c",
   "metadata": {},
   "outputs": [
    {
     "name": "stdout",
     "output_type": "stream",
     "text": [
      "-1 66 -2 55 -3 44 -4 33 -5 22 -6 11 "
     ]
    }
   ],
   "source": [
    "index = [-1, -2, -3, -4, -5, -6]\n",
    "for i in index:\n",
    "    print(i, end = ' ')\n",
    "    print(a[i], end = ' ')\n"
   ]
  },
  {
   "cell_type": "code",
   "execution_count": 12,
   "id": "6ecf3c3f-74b2-4842-a125-93ef7cd08152",
   "metadata": {},
   "outputs": [
    {
     "name": "stdout",
     "output_type": "stream",
     "text": [
      "66 55 44 33 22 11 "
     ]
    }
   ],
   "source": [
    "index = [-1, -2, -3, -4, -5, -6]\n",
    "for i in index:\n",
    "#     print(i, end = ' ')\n",
    "    print(a[i], end = ' ')"
   ]
  },
  {
   "cell_type": "code",
   "execution_count": 14,
   "id": "12b8d49e-98b5-4169-b399-7c3baf38dca6",
   "metadata": {},
   "outputs": [
    {
     "name": "stdout",
     "output_type": "stream",
     "text": [
      "66 55 44 33 22 11 "
     ]
    }
   ],
   "source": [
    "a = [ 11, 22, 33, 44, 55, 66]\n",
    "index = [-1, -2, -3, -4, -5, -6]\n",
    "\n",
    "for i in range(len(index)):\n",
    "#     print(i, end = ' ')\n",
    "    print(a[index[i]], end = ' ')"
   ]
  },
  {
   "cell_type": "code",
   "execution_count": 15,
   "id": "a4428f5d-4eee-4691-a15d-a29367a14f39",
   "metadata": {},
   "outputs": [
    {
     "name": "stdout",
     "output_type": "stream",
     "text": [
      "66 55 44 33 22 "
     ]
    }
   ],
   "source": [
    "a = [ 11, 22, 33, 44, 55, 66] # last number is missing\n",
    "\n",
    "for i in range(5, 0, -1):\n",
    "\n",
    "    print(a[i], end = ' ')"
   ]
  },
  {
   "cell_type": "code",
   "execution_count": 16,
   "id": "bcda4ac2-a2fd-460e-88f0-d510b0e3ccfd",
   "metadata": {},
   "outputs": [
    {
     "name": "stdout",
     "output_type": "stream",
     "text": [
      "66 55 44 33 22 11 "
     ]
    }
   ],
   "source": [
    "a = [ 11, 22, 33, 44, 55, 66]\n",
    "\n",
    "for i in range(5, -1, -1):\n",
    "\n",
    "    print(a[i], end = ' ')"
   ]
  },
  {
   "cell_type": "code",
   "execution_count": 17,
   "id": "f585036d-0910-4fc6-ab1d-51aeacf84e25",
   "metadata": {},
   "outputs": [
    {
     "data": {
      "text/plain": [
       "66"
      ]
     },
     "execution_count": 17,
     "metadata": {},
     "output_type": "execute_result"
    }
   ],
   "source": [
    "a[-1]"
   ]
  },
  {
   "cell_type": "code",
   "execution_count": 18,
   "id": "1bd35edb-faea-4a03-89d5-9b837ddde7f6",
   "metadata": {},
   "outputs": [
    {
     "data": {
      "text/plain": [
       "66"
      ]
     },
     "execution_count": 18,
     "metadata": {},
     "output_type": "execute_result"
    }
   ],
   "source": [
    "a[len(a) - 1]"
   ]
  },
  {
   "cell_type": "code",
   "execution_count": 19,
   "id": "a9293f3a-566c-43fb-a31f-c79566708351",
   "metadata": {},
   "outputs": [
    {
     "data": {
      "text/plain": [
       "6"
      ]
     },
     "execution_count": 19,
     "metadata": {},
     "output_type": "execute_result"
    }
   ],
   "source": [
    "len(a)"
   ]
  },
  {
   "cell_type": "code",
   "execution_count": 20,
   "id": "386a9096-1e23-467f-af21-61ec52891ac2",
   "metadata": {},
   "outputs": [
    {
     "data": {
      "text/plain": [
       "5"
      ]
     },
     "execution_count": 20,
     "metadata": {},
     "output_type": "execute_result"
    }
   ],
   "source": [
    "len(a) - 1"
   ]
  },
  {
   "cell_type": "code",
   "execution_count": null,
   "id": "a7d28c39-7130-4a8c-a75d-71f7b748f544",
   "metadata": {},
   "outputs": [],
   "source": []
  }
 ],
 "metadata": {
  "kernelspec": {
   "display_name": "Python 3 (ipykernel)",
   "language": "python",
   "name": "python3"
  },
  "language_info": {
   "codemirror_mode": {
    "name": "ipython",
    "version": 3
   },
   "file_extension": ".py",
   "mimetype": "text/x-python",
   "name": "python",
   "nbconvert_exporter": "python",
   "pygments_lexer": "ipython3",
   "version": "3.10.12"
  }
 },
 "nbformat": 4,
 "nbformat_minor": 5
}
